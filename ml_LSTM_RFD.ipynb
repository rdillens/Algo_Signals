{
 "cells": [
  {
   "cell_type": "code",
   "execution_count": 1,
   "source": [
    "import sqlalchemy\r\n",
    "import pandas as pd\r\n"
   ],
   "outputs": [],
   "metadata": {}
  },
  {
   "cell_type": "code",
   "execution_count": 2,
   "source": [
    "db_connection_string = 'sqlite:///./Resources/product.db'\r\n",
    "engine  = sqlalchemy.create_engine(db_connection_string)\r\n",
    "\r\n",
    "inspector = sqlalchemy.inspect(engine)\r\n",
    "table_names = inspector.get_table_names()\r\n",
    "print(table_names)"
   ],
   "outputs": [
    {
     "output_type": "stream",
     "name": "stdout",
     "text": [
      "['AAPL_1_Day_Candles', 'AAPL_1_Min_Candles', 'AAPL_Indicators', 'AAPL_Info']\n"
     ]
    }
   ],
   "metadata": {}
  },
  {
   "cell_type": "code",
   "execution_count": 3,
   "source": [
    "ticker='AAPL'\r\n",
    "\r\n",
    "indicators_df = pd.read_sql_table(ticker + '_Indicators', con=engine, index_col='Datetime')"
   ],
   "outputs": [],
   "metadata": {}
  },
  {
   "cell_type": "code",
   "execution_count": 4,
   "source": [
    "print(indicators_df.head())"
   ],
   "outputs": [
    {
     "output_type": "stream",
     "name": "stdout",
     "text": [
      "                        Open     High      Low    Close  Volume  CDLBELTHOLD  \\\n",
      "Datetime                                                                       \n",
      "2021-09-03 14:26:00  154.355  154.355  154.245  154.250  158378            0   \n",
      "2021-09-03 14:27:00  154.250  154.380  154.250  154.300  239650            0   \n",
      "2021-09-03 14:28:00  154.305  154.310  154.270  154.285   55602            0   \n",
      "2021-09-03 14:29:00  154.280  154.285  154.230  154.245   79606            0   \n",
      "2021-09-03 14:30:00  154.250  154.290  154.240  154.280  100991            0   \n",
      "\n",
      "                     CDLBREAKAWAY  CDLDOJISTAR  CDLLADDERBOTTOM  Trade Signal  \n",
      "Datetime                                                                       \n",
      "2021-09-03 14:26:00             0            0                0           0.0  \n",
      "2021-09-03 14:27:00             0            0                0           0.0  \n",
      "2021-09-03 14:28:00             0            0                0           0.0  \n",
      "2021-09-03 14:29:00             0            0                0           0.0  \n",
      "2021-09-03 14:30:00             0            0                0           0.0  \n"
     ]
    }
   ],
   "metadata": {}
  },
  {
   "cell_type": "code",
   "execution_count": 5,
   "source": [
    "#LSTM Modules to import\r\n",
    "from pathlib import Path\r\n",
    "import numpy as np\r\n",
    "import matplotlib.pyplot as plt\r\n",
    "from sklearn.preprocessing import MinMaxScaler\r\n",
    "from tensorflow.keras.models import Sequential\r\n",
    "from tensorflow.keras.layers import Dense\r\n",
    "from tensorflow.keras.layers import LSTM\r\n",
    "import tensorflow as tf\r\n",
    "import math\r\n",
    "from sklearn.metrics import mean_squared_error\r\n",
    "import matplotlib.pyplot as plt\r\n"
   ],
   "outputs": [],
   "metadata": {}
  },
  {
   "cell_type": "code",
   "execution_count": 6,
   "source": [
    "#Header of the Current Dataframe\r\n",
    "list(indicators_df.columns.values)"
   ],
   "outputs": [
    {
     "output_type": "execute_result",
     "data": {
      "text/plain": [
       "['Open',\n",
       " 'High',\n",
       " 'Low',\n",
       " 'Close',\n",
       " 'Volume',\n",
       " 'CDLBELTHOLD',\n",
       " 'CDLBREAKAWAY',\n",
       " 'CDLDOJISTAR',\n",
       " 'CDLLADDERBOTTOM',\n",
       " 'Trade Signal']"
      ]
     },
     "metadata": {},
     "execution_count": 6
    }
   ],
   "metadata": {}
  },
  {
   "cell_type": "code",
   "execution_count": 7,
   "source": [
    "#LSTM Dataframe creation for specified field for RNN\r\n",
    "# LSTM_df_Open = indicators_df.reset_index()['Open']\r\n",
    "# LSTM_df_High = indicators_df.reset_index()['High']\r\n",
    "# LSTM_df_Low = indicators_df.reset_index()['Low']\r\n",
    "LSTM_df_Close = indicators_df.reset_index()['Close']\r\n",
    "# LSTM_df_Volume = indicators_df.reset_index()['Volume']\r\n",
    "# LSTM_df_CDLDOJI = indicators_df.reset_index()['CDLDOJI']\r\n",
    "# LSTM_df_Trailing_Stop = indicators_df.reset_index()['Trailing Stop']\r\n",
    "# LSTM_df_Trade_Signal = indicators_df.reset_index()['Trade Signal']\r\n",
    "# LSTM_df_PCT_Change = indicators_df.reset_index()['Pct Change']\r\n",
    "# LSTM_df_Stop_Loss = indicators_df.reset_index()['Stop Loss']\r\n",
    "\r\n",
    "Testing_df = LSTM_df_Close"
   ],
   "outputs": [],
   "metadata": {}
  },
  {
   "cell_type": "code",
   "execution_count": 8,
   "source": [
    "#Verify data in testing DF\r\n",
    "Testing_df.tail()"
   ],
   "outputs": [
    {
     "output_type": "execute_result",
     "data": {
      "text/plain": [
       "14832    142.55\n",
       "14833    142.53\n",
       "14834    142.60\n",
       "14835    142.55\n",
       "14836    142.59\n",
       "Name: Close, dtype: float64"
      ]
     },
     "metadata": {},
     "execution_count": 8
    }
   ],
   "metadata": {}
  },
  {
   "cell_type": "code",
   "execution_count": 9,
   "source": [
    "#Plot Verification of DFs, based on selection\r\n",
    "plt.plot(Testing_df)\r\n"
   ],
   "outputs": [
    {
     "output_type": "execute_result",
     "data": {
      "text/plain": [
       "[<matplotlib.lines.Line2D at 0x1af94ba3a48>]"
      ]
     },
     "metadata": {},
     "execution_count": 9
    },
    {
     "output_type": "display_data",
     "data": {
      "image/png": "[encoded data removed]",
      "text/plain": [
       "<Figure size 432x288 with 1 Axes>"
      ]
     },
     "metadata": {
      "needs_background": "light"
     }
    }
   ],
   "metadata": {}
  },
  {
   "cell_type": "code",
   "execution_count": 10,
   "source": [
    "#Transform DF into a scalable form for the value to pull accurate predictions\r\n",
    "scaler=MinMaxScaler(feature_range=(0,1))\r\n",
    "Testing_df=scaler.fit_transform(np.array(Testing_df).reshape(-1,1))\r\n",
    "print(Testing_df)"
   ],
   "outputs": [
    {
     "output_type": "stream",
     "name": "stdout",
     "text": [
      "[[0.83480663]\n",
      " [0.83756906]\n",
      " [0.83674033]\n",
      " ...\n",
      " [0.19116022]\n",
      " [0.18839779]\n",
      " [0.19060773]]\n"
     ]
    }
   ],
   "metadata": {}
  },
  {
   "cell_type": "code",
   "execution_count": 11,
   "source": [
    "#Split the Dataset to training, and testing data, lets do 80/20 for now, but can be updated\r\n",
    "training_pct = 0.80\r\n",
    "\r\n",
    "training_size=int(len(Testing_df)*training_pct) \r\n",
    "test_size=len(Testing_df)-training_size \r\n",
    "train_data,test_data=Testing_df[0:training_size,:],Testing_df[training_size:len(Testing_df),:1]\r\n",
    "\r\n",
    "#verifying the split and calculation\r\n",
    "training_size,test_size"
   ],
   "outputs": [
    {
     "output_type": "execute_result",
     "data": {
      "text/plain": [
       "(11869, 2968)"
      ]
     },
     "metadata": {},
     "execution_count": 11
    }
   ],
   "metadata": {}
  },
  {
   "cell_type": "code",
   "execution_count": 12,
   "source": [
    "#Function create_dataset to set it as an array for LSTM\r\n",
    "def create_dataset(dataset, time_step=1):\r\n",
    "\tdataX, dataY = [], []\r\n",
    "\tfor i in range(len(dataset)-time_step-1):\r\n",
    "\t\ta = dataset[i:(i+time_step), 0]   ###i=0, 0,1,2,3-----99   100 \r\n",
    "\t\tdataX.append(a)\r\n",
    "\t\tdataY.append(dataset[i + time_step, 0])\r\n",
    "\treturn np.array(dataX), np.array(dataY)"
   ],
   "outputs": [],
   "metadata": {}
  },
  {
   "cell_type": "code",
   "execution_count": 13,
   "source": [
    "# Reshaping the training/testing data to properly match the dimensions of LSTM\r\n",
    "time_step = 10\r\n",
    "X_train, y_train = create_dataset(train_data, time_step)\r\n",
    "X_test, ytest = create_dataset(test_data, time_step)\r\n",
    "\r\n",
    "#verify the training data and features to calculate next value\r\n",
    "print(X_train.shape), print(y_train.shape)\r\n",
    "\r\n",
    "#verify the testing data and features to calculate next value\r\n",
    "print(X_test.shape), print(ytest.shape) "
   ],
   "outputs": [
    {
     "output_type": "stream",
     "name": "stdout",
     "text": [
      "(11858, 10)\n",
      "(11858,)\n",
      "(2957, 10)\n",
      "(2957,)\n"
     ]
    },
    {
     "output_type": "execute_result",
     "data": {
      "text/plain": [
       "(None, None)"
      ]
     },
     "metadata": {},
     "execution_count": 13
    }
   ],
   "metadata": {}
  },
  {
   "cell_type": "code",
   "execution_count": 14,
   "source": [
    "#Reshaping the data to pull in and match the dimensions of LSTM for Machine Learning\r\n",
    "X_train =X_train.reshape(X_train.shape[0],X_train.shape[1] , 1)\r\n",
    "X_test = X_test.reshape(X_test.shape[0],X_test.shape[1] , 1)\r\n",
    "\r\n",
    "#Stacked Model LSTM and processing with Layers\r\n",
    "\r\n",
    "#Defining layers and features for the ML model to process the information\r\n",
    "neurons = 50\r\n",
    "timesteps = time_step #referenced above in reshaping block (currently 100)\r\n",
    "data_dimension = 1\r\n",
    "dense_layer = 1\r\n",
    "\r\n",
    "#LSTM Model Call, and pull of different layers to run RNN\r\n",
    "model=Sequential()\r\n",
    "model.add(LSTM(neurons,input_shape=(timesteps, data_dimension),return_sequences=True))\r\n",
    "model.add(LSTM(neurons,return_sequences=True))\r\n",
    "model.add(LSTM(neurons))\r\n",
    "model.add(Dense(dense_layer))\r\n",
    "model.compile(loss='mean_squared_error',optimizer='adam')"
   ],
   "outputs": [],
   "metadata": {}
  },
  {
   "cell_type": "code",
   "execution_count": 15,
   "source": [
    "#Review of Layers\r\n",
    "model.summary()"
   ],
   "outputs": [
    {
     "output_type": "stream",
     "name": "stdout",
     "text": [
      "Model: \"sequential\"\n",
      "_________________________________________________________________\n",
      "Layer (type)                 Output Shape              Param #   \n",
      "=================================================================\n",
      "lstm (LSTM)                  (None, 10, 50)            10400     \n",
      "_________________________________________________________________\n",
      "lstm_1 (LSTM)                (None, 10, 50)            20200     \n",
      "_________________________________________________________________\n",
      "lstm_2 (LSTM)                (None, 50)                20200     \n",
      "_________________________________________________________________\n",
      "dense (Dense)                (None, 1)                 51        \n",
      "=================================================================\n",
      "Total params: 50,851\n",
      "Trainable params: 50,851\n",
      "Non-trainable params: 0\n",
      "_________________________________________________________________\n"
     ]
    }
   ],
   "metadata": {}
  },
  {
   "cell_type": "code",
   "execution_count": 16,
   "source": [
    "#training the model, currently set to silent mode, this will take time to process\r\n",
    "model.fit(X_train,y_train,validation_data=(X_test,ytest),epochs=25,batch_size=64,verbose=1)"
   ],
   "outputs": [
    {
     "output_type": "stream",
     "name": "stdout",
     "text": [
      "Epoch 1/25\n",
      "186/186 [==============================] - 5s 13ms/step - loss: 0.0105 - val_loss: 3.3363e-04\n",
      "Epoch 2/25\n",
      "186/186 [==============================] - 2s 10ms/step - loss: 1.0956e-04 - val_loss: 2.6583e-04\n",
      "Epoch 3/25\n",
      "186/186 [==============================] - 2s 10ms/step - loss: 1.0221e-04 - val_loss: 1.4890e-04\n",
      "Epoch 4/25\n",
      "186/186 [==============================] - 2s 10ms/step - loss: 9.9984e-05 - val_loss: 1.4608e-04\n",
      "Epoch 5/25\n",
      "186/186 [==============================] - 2s 10ms/step - loss: 9.9899e-05 - val_loss: 1.3234e-04\n",
      "Epoch 6/25\n",
      "186/186 [==============================] - 2s 10ms/step - loss: 9.9706e-05 - val_loss: 1.2128e-04\n",
      "Epoch 7/25\n",
      "186/186 [==============================] - 2s 10ms/step - loss: 1.0169e-04 - val_loss: 1.1414e-04\n",
      "Epoch 8/25\n",
      "186/186 [==============================] - 2s 10ms/step - loss: 1.0433e-04 - val_loss: 1.3774e-04\n",
      "Epoch 9/25\n",
      "186/186 [==============================] - 2s 10ms/step - loss: 1.0575e-04 - val_loss: 1.3296e-04\n",
      "Epoch 10/25\n",
      "186/186 [==============================] - 2s 10ms/step - loss: 1.0180e-04 - val_loss: 1.2661e-04\n",
      "Epoch 11/25\n",
      "186/186 [==============================] - 2s 10ms/step - loss: 1.1063e-04 - val_loss: 1.1774e-04\n",
      "Epoch 12/25\n",
      "186/186 [==============================] - 2s 9ms/step - loss: 1.0463e-04 - val_loss: 1.2431e-04\n",
      "Epoch 13/25\n",
      "186/186 [==============================] - 2s 9ms/step - loss: 1.0279e-04 - val_loss: 1.1650e-04\n",
      "Epoch 14/25\n",
      "186/186 [==============================] - 2s 9ms/step - loss: 1.0280e-04 - val_loss: 1.0736e-04\n",
      "Epoch 15/25\n",
      "186/186 [==============================] - 2s 9ms/step - loss: 1.0349e-04 - val_loss: 1.0762e-04\n",
      "Epoch 16/25\n",
      "186/186 [==============================] - 2s 9ms/step - loss: 1.0415e-04 - val_loss: 1.2497e-04\n",
      "Epoch 17/25\n",
      "186/186 [==============================] - 2s 9ms/step - loss: 1.0948e-04 - val_loss: 1.0677e-04\n",
      "Epoch 18/25\n",
      "186/186 [==============================] - 2s 9ms/step - loss: 9.6545e-05 - val_loss: 1.3308e-04\n",
      "Epoch 19/25\n",
      "186/186 [==============================] - 2s 9ms/step - loss: 1.1135e-04 - val_loss: 1.0246e-04\n",
      "Epoch 20/25\n",
      "186/186 [==============================] - 2s 9ms/step - loss: 9.9775e-05 - val_loss: 1.5646e-04\n",
      "Epoch 21/25\n",
      "186/186 [==============================] - 2s 10ms/step - loss: 1.1524e-04 - val_loss: 1.5908e-04\n",
      "Epoch 22/25\n",
      "186/186 [==============================] - 2s 10ms/step - loss: 9.7600e-05 - val_loss: 1.0169e-04\n",
      "Epoch 23/25\n",
      "186/186 [==============================] - 2s 10ms/step - loss: 8.9595e-05 - val_loss: 9.5427e-05\n",
      "Epoch 24/25\n",
      "186/186 [==============================] - 2s 10ms/step - loss: 1.1364e-04 - val_loss: 1.5905e-04\n",
      "Epoch 25/25\n",
      "186/186 [==============================] - 2s 10ms/step - loss: 9.2995e-05 - val_loss: 9.7967e-05\n"
     ]
    },
    {
     "output_type": "execute_result",
     "data": {
      "text/plain": [
       "<keras.callbacks.History at 0x1af9c69ae88>"
      ]
     },
     "metadata": {},
     "execution_count": 16
    }
   ],
   "metadata": {}
  },
  {
   "cell_type": "code",
   "execution_count": 17,
   "source": [
    "# Prediction and Performance Metrics\r\n",
    "train_predict=model.predict(X_train)\r\n",
    "test_predict=model.predict(X_test)\r\n",
    "\r\n",
    "#Transformback to original form\r\n",
    "train_predict=scaler.inverse_transform(train_predict)\r\n",
    "test_predict=scaler.inverse_transform(test_predict)\r\n",
    "\r\n",
    "#Calculate RMSE performance metrics - Root Mean Square Error, this is for the data set comparison\r\n",
    "math.sqrt(mean_squared_error(y_train,train_predict))"
   ],
   "outputs": [
    {
     "output_type": "execute_result",
     "data": {
      "text/plain": [
       "148.16326919703678"
      ]
     },
     "metadata": {},
     "execution_count": 17
    }
   ],
   "metadata": {}
  },
  {
   "cell_type": "code",
   "execution_count": 18,
   "source": [
    "# Plotting \r\n",
    "# shift train predictions for plotting\r\n",
    "look_back= timesteps #this is your timesteps from earlier\r\n",
    "trainPredictPlot = np.empty_like(Testing_df)\r\n",
    "trainPredictPlot[:, :] = np.nan\r\n",
    "trainPredictPlot[look_back:len(train_predict)+look_back, :] = train_predict\r\n",
    "# shift test predictions for plotting\r\n",
    "testPredictPlot = np.empty_like(Testing_df)\r\n",
    "testPredictPlot[:, :] = np.nan\r\n",
    "testPredictPlot[len(train_predict)+(look_back*2)+1:len(Testing_df)-1, :] = test_predict\r\n",
    "# plot baseline and predictions\r\n",
    "plt.plot(scaler.inverse_transform(Testing_df))\r\n",
    "plt.plot(trainPredictPlot)\r\n",
    "plt.plot(testPredictPlot)\r\n",
    "plt.show()\r\n",
    "\r\n",
    "\r\n",
    "#orange is training\r\n",
    "#green is predicting the test data and verifying"
   ],
   "outputs": [
    {
     "output_type": "display_data",
     "data": {
      "image/png": "[encoded data removed]",
      "text/plain": [
       "<Figure size 432x288 with 1 Axes>"
      ]
     },
     "metadata": {
      "needs_background": "light"
     }
    }
   ],
   "metadata": {}
  },
  {
   "cell_type": "code",
   "execution_count": 19,
   "source": [
    "#converting the information to a list that has been scaled from 0 - 1 from earlier\r\n",
    "test_values = test_size - timesteps\r\n",
    "\r\n",
    "x_input=test_data[test_values:].reshape(1,-1)\r\n",
    "temp_input=list(x_input)\r\n",
    "temp_input=temp_input[0].tolist()"
   ],
   "outputs": [],
   "metadata": {}
  },
  {
   "cell_type": "code",
   "execution_count": 20,
   "source": [
    "# demonstrate prediction for next 3\r\n",
    "from numpy import array\r\n",
    "\r\n",
    "lst_output=[]\r\n",
    "n_steps=time_step\r\n",
    "i=0\r\n",
    "prediction_days = 3\r\n",
    "\r\n",
    "while(i<prediction_days): #this predicts the next 30 days\r\n",
    "    \r\n",
    "    if(len(temp_input)>timesteps): \r\n",
    "        #print(temp_input)\r\n",
    "        x_input=np.array(temp_input[1:])\r\n",
    "        print(\"{} price input {}\".format(i,x_input))\r\n",
    "        x_input=x_input.reshape(1,-1)\r\n",
    "        x_input = x_input.reshape((1, n_steps, 1))\r\n",
    "        #print(x_input)\r\n",
    "        yhat = model.predict(x_input, verbose=0)\r\n",
    "        print(\"{} price output {}\".format(i,yhat))\r\n",
    "        temp_input.extend(yhat[0].tolist())\r\n",
    "        temp_input=temp_input[1:]\r\n",
    "        #print(temp_input)\r\n",
    "        lst_output.extend(yhat.tolist())\r\n",
    "        i=i+1\r\n",
    "    else:\r\n",
    "        x_input = x_input.reshape((1, n_steps,1))\r\n",
    "        yhat = model.predict(x_input, verbose=0)\r\n",
    "        print(yhat[0])\r\n",
    "        temp_input.extend(yhat[0].tolist())\r\n",
    "        print(len(temp_input))\r\n",
    "        lst_output.extend(yhat.tolist())\r\n",
    "        i=i+1\r\n",
    "    \r\n",
    "\r\n",
    "print(lst_output)\r\n",
    "\r\n",
    "tick_new=np.arange(1,timesteps + 1)\r\n",
    "tick_pred=np.arange(timesteps + 1,timesteps + 1 + prediction_days)"
   ],
   "outputs": [
    {
     "output_type": "stream",
     "name": "stdout",
     "text": [
      "[0.19072658]\n",
      "11\n",
      "1 price input [0.18729282 0.1878453  0.18950276 0.18839779 0.18839779 0.18729282\n",
      " 0.19116022 0.18839779 0.19060773 0.19072658]\n",
      "1 price output [[0.19110334]]\n",
      "2 price input [0.1878453  0.18950276 0.18839779 0.18839779 0.18729282 0.19116022\n",
      " 0.18839779 0.19060773 0.19072658 0.19110334]\n",
      "2 price output [[0.19144474]]\n",
      "[[0.19072657823562622], [0.19110333919525146], [0.1914447396993637]]\n"
     ]
    }
   ],
   "metadata": {}
  },
  {
   "cell_type": "code",
   "execution_count": 21,
   "source": [
    "#Plotting the informatino with the prediction\r\n",
    "tick_value = len(Testing_df) - timesteps\r\n",
    "\r\n",
    "plt.plot(tick_new,scaler.inverse_transform(Testing_df[tick_value:]))\r\n",
    "plt.plot(tick_pred,scaler.inverse_transform(lst_output)) #this is the predicted data / output (Orange Line)"
   ],
   "outputs": [
    {
     "output_type": "execute_result",
     "data": {
      "text/plain": [
       "[<matplotlib.lines.Line2D at 0x1af94c1af48>]"
      ]
     },
     "metadata": {},
     "execution_count": 21
    },
    {
     "output_type": "display_data",
     "data": {
      "image/png": "[encoded data removed]",
      "text/plain": [
       "<Figure size 432x288 with 1 Axes>"
      ]
     },
     "metadata": {
      "needs_background": "light"
     }
    }
   ],
   "metadata": {}
  },
  {
   "cell_type": "code",
   "execution_count": 22,
   "source": [
    "#Combining the information together for output\r\n",
    "prediction_df = Testing_df.tolist()\r\n",
    "prediction_df.extend(lst_output)\r\n",
    "plt.plot(prediction_df [tick_value:])"
   ],
   "outputs": [
    {
     "output_type": "execute_result",
     "data": {
      "text/plain": [
       "[<matplotlib.lines.Line2D at 0x1afa9c08a48>]"
      ]
     },
     "metadata": {},
     "execution_count": 22
    },
    {
     "output_type": "display_data",
     "data": {
      "image/png": "[encoded data removed]",
      "text/plain": [
       "<Figure size 432x288 with 1 Axes>"
      ]
     },
     "metadata": {
      "needs_background": "light"
     }
    }
   ],
   "metadata": {}
  },
  {
   "cell_type": "code",
   "execution_count": 23,
   "source": [
    "#Inverting the scaler back for actual values, and plotting the information\r\n",
    "prediction_df = scaler.inverse_transform(prediction_df).tolist()\r\n",
    "plt.plot(prediction_df)\r\n"
   ],
   "outputs": [
    {
     "output_type": "execute_result",
     "data": {
      "text/plain": [
       "[<matplotlib.lines.Line2D at 0x1afa11cb748>]"
      ]
     },
     "metadata": {},
     "execution_count": 23
    },
    {
     "output_type": "display_data",
     "data": {
      "image/png": "[encoded data removed]",
      "text/plain": [
       "<Figure size 432x288 with 1 Axes>"
      ]
     },
     "metadata": {
      "needs_background": "light"
     }
    }
   ],
   "metadata": {}
  },
  {
   "cell_type": "code",
   "execution_count": null,
   "source": [],
   "outputs": [],
   "metadata": {}
  }
 ],
 "metadata": {
  "interpreter": {
   "hash": "d4156aaab05991101c6a751683038476f3e64298aad0394e408e9e53044404ee"
  },
  "kernelspec": {
   "name": "python3",
   "display_name": "Python 3.7.10 64-bit ('algo': conda)"
  },
  "language_info": {
   "codemirror_mode": {
    "name": "ipython",
    "version": 3
   },
   "file_extension": ".py",
   "mimetype": "text/x-python",
   "name": "python",
   "nbconvert_exporter": "python",
   "pygments_lexer": "ipython3",
   "version": "3.7.10"
  }
 },
 "nbformat": 4,
 "nbformat_minor": 4
}