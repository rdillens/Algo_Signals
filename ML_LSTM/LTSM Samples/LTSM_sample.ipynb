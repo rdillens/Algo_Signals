{
 "cells": [
  {
   "cell_type": "code",
   "execution_count": 1,
   "id": "83a6acaa",
   "metadata": {},
   "outputs": [],
   "source": [
    "#import necessary models, https://www.youtube.com/watch?v=iMIWee_PXl8 \n",
    "# https://www.youtube.com/watch?v=S0XFd0VMFss&list=PLVBorYCcu-xWahQ0u2_guKSJ-0fc8VKb2&index=6\n",
    "\n",
    "from keras.models import Sequential\n",
    "from keras.layers import Dense\n",
    "from keras.layers import LSTM\n",
    "\n",
    "from sklearn.model_selection import train_test_split\n",
    "import numpy as np\n",
    "import matplotlib.pyplot as plt\n",
    "\n",
    "#RNN - Reconcuring Neural Networks, captures information about the sequences of the time series data\n",
    "# are types of neural networks designed for capturing information from sequences / time series data"
   ]
  },
  {
   "cell_type": "markdown",
   "id": "f709a397",
   "metadata": {},
   "source": [
    "Recursive Formula: St = Fw(St-1,Xt)\n",
    "Xt - Input at time step t\n",
    "St - State at time step t\n",
    "Fw - Recursive function\n",
    "\n",
    "utilizing the the time series information and creates multilayer inputs and outputs with weights and outputs\n",
    "\n",
    "Loss is the % value of the value that you want to converge closer to 0, you want to keep testing to lower the value\n"
   ]
  },
  {
   "cell_type": "code",
   "execution_count": 2,
   "id": "f34e9f37",
   "metadata": {},
   "outputs": [],
   "source": [
    "#everything needs to be in array in regards to the data set\n",
    "Data = [[[(i+j)/100] for i in range(5)] for j in range(100)]\n",
    "\n",
    "#results pulling the informatino through \n",
    "target = [(i+5)/100 for i in range (100)]\n",
    "\n",
    "#may need to normalize data by dividing it by 100"
   ]
  },
  {
   "cell_type": "code",
   "execution_count": 3,
   "id": "8952d1b2",
   "metadata": {},
   "outputs": [],
   "source": [
    "# Setting up the array with the data source\n",
    "data = np.array(Data, dtype=float)\n",
    "target = np.array(target,dtype=float)"
   ]
  },
  {
   "cell_type": "code",
   "execution_count": 4,
   "id": "337d21bd",
   "metadata": {},
   "outputs": [
    {
     "data": {
      "text/plain": [
       "(100, 5, 1)"
      ]
     },
     "execution_count": 4,
     "metadata": {},
     "output_type": "execute_result"
    }
   ],
   "source": [
    "data.shape"
   ]
  },
  {
   "cell_type": "code",
   "execution_count": 5,
   "id": "549b75cf",
   "metadata": {},
   "outputs": [
    {
     "data": {
      "text/plain": [
       "(100,)"
      ]
     },
     "execution_count": 5,
     "metadata": {},
     "output_type": "execute_result"
    }
   ],
   "source": [
    "target.shape"
   ]
  },
  {
   "cell_type": "code",
   "execution_count": 6,
   "id": "f9c663e8",
   "metadata": {},
   "outputs": [],
   "source": [
    "x_train,x_test,y_train,y_test = train_test_split(data,target,test_size=0.2,random_state=4)"
   ]
  },
  {
   "cell_type": "code",
   "execution_count": 7,
   "id": "9059545e",
   "metadata": {},
   "outputs": [],
   "source": [
    "#RNN - using LSTM"
   ]
  },
  {
   "cell_type": "code",
   "execution_count": 8,
   "id": "ff393515",
   "metadata": {},
   "outputs": [],
   "source": [
    "model = Sequential()"
   ]
  },
  {
   "cell_type": "code",
   "execution_count": 9,
   "id": "5743316b",
   "metadata": {},
   "outputs": [],
   "source": [
    "#format for LSTM(# of Inputs), batch_input_shape(Lenght of Each Vector which is based on the Shape function above)\n",
    "#return_sequences = True - returns everything at every node, False - Returns final output only\n",
    "\n",
    "# batch_input_shape(batch_size, timesteps, data_dim) https://stackoverflow.com/questions/46982616/batch-input-shape-tuple-on-keras-lstm/46986190\n",
    "\n",
    "neurons = 1\n",
    "batch_size = None #This will be the size of your data set usually defaulted as none\n",
    "timesteps = 5 # size of yoru temporal dimension or frames each sample sequence has\n",
    "data_dim = 1 # vector of each of the timesteps \n",
    "\n",
    "\n",
    "model.add(LSTM((neurons),batch_input_shape=(batch_size,timesteps,data_dim), return_sequences=False))"
   ]
  },
  {
   "cell_type": "code",
   "execution_count": 10,
   "id": "b229f0e7",
   "metadata": {},
   "outputs": [],
   "source": [
    "model.compile(loss='mean_absolute_error', optimizer='adam', metrics=['accuracy'])"
   ]
  },
  {
   "cell_type": "code",
   "execution_count": 11,
   "id": "d6ffa378",
   "metadata": {},
   "outputs": [
    {
     "name": "stdout",
     "output_type": "stream",
     "text": [
      "Model: \"sequential\"\n",
      "_________________________________________________________________\n",
      "Layer (type)                 Output Shape              Param #   \n",
      "=================================================================\n",
      "lstm (LSTM)                  (None, 1)                 12        \n",
      "=================================================================\n",
      "Total params: 12\n",
      "Trainable params: 12\n",
      "Non-trainable params: 0\n",
      "_________________________________________________________________\n"
     ]
    }
   ],
   "source": [
    "model.summary()"
   ]
  },
  {
   "cell_type": "code",
   "execution_count": 12,
   "id": "011adc77",
   "metadata": {},
   "outputs": [],
   "source": [
    "#if the return_sequences from above = true, then this will error out, need to set as FALSE\n",
    "\n",
    "history = model.fit(x_train,y_train,epochs=800,validation_data=(x_test,y_test), verbose=0)\n",
    "\n",
    "#increasing the # of epochs will allwo the model to have better accuracy to converge"
   ]
  },
  {
   "cell_type": "code",
   "execution_count": 13,
   "id": "ff67645c",
   "metadata": {},
   "outputs": [],
   "source": [
    "#predicting to help plot the information\n",
    "results = model.predict(x_test)"
   ]
  },
  {
   "cell_type": "code",
   "execution_count": 14,
   "id": "d50ff4ca",
   "metadata": {},
   "outputs": [
    {
     "data": {
      "text/plain": [
       "<function matplotlib.pyplot.show(close=None, block=None)>"
      ]
     },
     "execution_count": 14,
     "metadata": {},
     "output_type": "execute_result"
    },
    {
     "data": {
      "image/png": "[encoded data removed]",
      "text/plain": [
       "<Figure size 432x288 with 1 Axes>"
      ]
     },
     "metadata": {
      "needs_background": "light"
     },
     "output_type": "display_data"
    }
   ],
   "source": [
    "#plotting the results\n",
    "plt.scatter(range(20),results,c='red')\n",
    "plt.scatter(range(20),y_test,c='green')\n",
    "plt.show\n",
    "\n",
    "# we want the results on teh scatter to be almost exactly"
   ]
  },
  {
   "cell_type": "code",
   "execution_count": 15,
   "id": "780b5ced",
   "metadata": {},
   "outputs": [
    {
     "data": {
      "image/png": "[encoded data removed]",
      "text/plain": [
       "<Figure size 432x288 with 1 Axes>"
      ]
     },
     "metadata": {
      "needs_background": "light"
     },
     "output_type": "display_data"
    }
   ],
   "source": [
    "plt.plot(history.history['loss'])\n",
    "plt.show()"
   ]
  },
  {
   "cell_type": "code",
   "execution_count": 16,
   "id": "7a3945aa",
   "metadata": {},
   "outputs": [],
   "source": [
    "## variable size inputs - Simple Solution - Padding to make inputs of same size or "
   ]
  }
 ],
 "metadata": {
  "kernelspec": {
   "display_name": "Python (dev)",
   "language": "python",
   "name": "dev"
  },
  "language_info": {
   "codemirror_mode": {
    "name": "ipython",
    "version": 3
   },
   "file_extension": ".py",
   "mimetype": "text/x-python",
   "name": "python",
   "nbconvert_exporter": "python",
   "pygments_lexer": "ipython3",
   "version": "3.7.10"
  }
 },
 "nbformat": 4,
 "nbformat_minor": 5
}
