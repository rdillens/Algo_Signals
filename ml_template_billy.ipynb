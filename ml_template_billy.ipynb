{
 "cells": [
  {
   "cell_type": "code",
   "execution_count": 85,
   "source": [
    "import sqlalchemy\r\n",
    "import pandas as pd\r\n"
   ],
   "outputs": [],
   "metadata": {}
  },
  {
   "cell_type": "code",
   "execution_count": 86,
   "source": [
    "db_connection_string = 'sqlite:///./Resources/products.db'\r\n",
    "engine  = sqlalchemy.create_engine(db_connection_string)\r\n",
    "\r\n",
    "inspector = sqlalchemy.inspect(engine)\r\n",
    "table_names = inspector.get_table_names()\r\n",
    "print(table_names)"
   ],
   "outputs": [
    {
     "output_type": "stream",
     "name": "stdout",
     "text": [
      "['Indicators', 'MARA_1_Day_Candles', 'MARA_1_Min_Candles', 'MARA_Info', 'RIOT_1_Day_Candles', 'RIOT_1_Min_Candles', 'RIOT_Info', 'TSLA_1_Day_Candles', 'TSLA_1_Min_Candles', 'TSLA_Info', 'WHD_1_Day_Candles', 'WHD_1_Min_Candles', 'WHD_Info']\n"
     ]
    }
   ],
   "metadata": {}
  },
  {
   "cell_type": "code",
   "execution_count": 87,
   "source": [
    "indicators_df = pd.read_sql_table('Indicators', con=engine, index_col='Datetime')"
   ],
   "outputs": [],
   "metadata": {}
  },
  {
   "cell_type": "code",
   "execution_count": 88,
   "source": [
    "print(indicators_df.head())"
   ],
   "outputs": [
    {
     "output_type": "stream",
     "name": "stdout",
     "text": [
      "                      Open   High    Low  Close  Volume  CDLDOJI  \\\n",
      "Datetime                                                           \n",
      "2021-09-07 03:22:00  35.65  35.69  35.65  35.69     727        0   \n",
      "2021-09-07 03:23:00  35.69  35.69  35.69  35.69     242      100   \n",
      "2021-09-07 03:24:00  35.60  35.60  35.60  35.60    1500      100   \n",
      "2021-09-07 03:26:00  35.60  35.66  35.60  35.66    1410        0   \n",
      "2021-09-07 03:27:00  35.60  35.60  35.60  35.60     240      100   \n",
      "\n",
      "                     Trailing Stop  Trade Signal  Pct Change  Stop Loss  \\\n",
      "Datetime                                                                  \n",
      "2021-09-07 03:22:00      35.461429           0.0    0.000000   0.000000   \n",
      "2021-09-07 03:23:00      35.477755           0.0    0.000000   0.000000   \n",
      "2021-09-07 03:24:00      35.386844           0.0   -0.002522   0.000000   \n",
      "2021-09-07 03:26:00      35.451355           0.0    0.001685  35.451355   \n",
      "2021-09-07 03:27:00      35.395544           0.0   -0.001683   0.000000   \n",
      "\n",
      "                     CDL2CROWS  \n",
      "Datetime                        \n",
      "2021-09-07 03:22:00          0  \n",
      "2021-09-07 03:23:00          0  \n",
      "2021-09-07 03:24:00          0  \n",
      "2021-09-07 03:26:00          0  \n",
      "2021-09-07 03:27:00          0  \n"
     ]
    }
   ],
   "metadata": {}
  },
  {
   "cell_type": "code",
   "execution_count": 89,
   "source": [
    "import matplotlib.pyplot as plt\r\n",
    "from sklearn.model_selection import train_test_split\r\n",
    "from imblearn.over_sampling import RandomOverSampler\r\n",
    "from sklearn.linear_model import LogisticRegression\r\n",
    "from sklearn.metrics import confusion_matrix\r\n",
    "from sklearn.metrics import balanced_accuracy_score\r\n",
    "from imblearn.metrics import classification_report_imbalanced"
   ],
   "outputs": [],
   "metadata": {}
  },
  {
   "cell_type": "code",
   "execution_count": 90,
   "source": [
    "#Segment features from the trade signal\r\n",
    "df = indicators_df.copy()\r\n",
    "# X = df.drop(columns=['Trade Signal', 'Open', 'High', 'Low', 'Trailing Stop', 'Pct Change'])\r\n",
    "X = df.drop(columns=['Trade Signal'])\r\n",
    "y = df[\"Trade Signal\"]"
   ],
   "outputs": [],
   "metadata": {}
  },
  {
   "cell_type": "code",
   "execution_count": 91,
   "source": [
    "X_train, X_test, y_train, y_test = train_test_split(X, y, random_state=1, stratify=y)"
   ],
   "outputs": [],
   "metadata": {}
  },
  {
   "cell_type": "code",
   "execution_count": 92,
   "source": [
    "# import StandardScaler\r\n",
    "from sklearn.preprocessing import StandardScaler\r\n",
    "\r\n",
    "# Scale the data\r\n",
    "scaler = StandardScaler()\r\n",
    "X_scaler = scaler.fit(X_train)\r\n",
    "X_train_scaled = X_scaler.transform(X_train)\r\n",
    "X_test_scaled = X_scaler.transform(X_test)"
   ],
   "outputs": [],
   "metadata": {}
  },
  {
   "cell_type": "code",
   "execution_count": 93,
   "source": [
    "display(X_train_scaled, y_train)"
   ],
   "outputs": [
    {
     "output_type": "display_data",
     "data": {
      "text/plain": [
       "array([[ 0.84681157,  0.84903809,  0.85687467, ...,  0.14231127,\n",
       "         1.25242134,  0.        ],\n",
       "       [ 1.25673297,  1.24442434,  1.25024479, ..., -0.41218489,\n",
       "        -0.88334066,  0.        ],\n",
       "       [ 1.29486519,  1.28729755,  1.28838978, ..., -0.41073832,\n",
       "        -0.88334066,  0.        ],\n",
       "       ...,\n",
       "       [-1.38392349, -1.37560501, -1.3722227 , ...,  0.33508014,\n",
       "         0.92353336,  0.        ],\n",
       "       [-1.44112183, -1.45182404, -1.43897641, ..., -0.5029742 ,\n",
       "        -0.88334066,  0.        ],\n",
       "       [-1.22186154, -1.23269431, -1.22441089, ...,  0.16605576,\n",
       "         0.94287048,  0.        ]])"
      ]
     },
     "metadata": {}
    },
    {
     "output_type": "display_data",
     "data": {
      "text/plain": [
       "Datetime\n",
       "2021-09-08 14:08:00    0.0\n",
       "2021-09-09 10:41:00    0.0\n",
       "2021-09-09 10:31:00    0.0\n",
       "2021-09-23 03:01:00    0.0\n",
       "2021-09-29 07:19:00    0.0\n",
       "                      ... \n",
       "2021-09-28 10:16:00    0.0\n",
       "2021-09-23 13:18:00    0.0\n",
       "2021-09-30 12:37:00    0.0\n",
       "2021-09-30 09:29:00    0.0\n",
       "2021-10-01 11:11:00    0.0\n",
       "Name: Trade Signal, Length: 7968, dtype: float64"
      ]
     },
     "metadata": {}
    }
   ],
   "metadata": {}
  },
  {
   "cell_type": "code",
   "execution_count": 94,
   "source": [
    "# MODEL\r\n",
    "from sklearn.svm import SVC\r\n",
    "# from sklearn.svm import SVR\r\n",
    "\r\n",
    "# Instantiate a linear SVM model\r\n",
    "model = SVC(kernel='linear')\r\n",
    "# model = LogisticRegression()\r\n",
    "model"
   ],
   "outputs": [
    {
     "output_type": "execute_result",
     "data": {
      "text/plain": [
       "SVC(kernel='linear')"
      ]
     },
     "metadata": {},
     "execution_count": 94
    }
   ],
   "metadata": {}
  },
  {
   "cell_type": "code",
   "execution_count": 95,
   "source": [
    "# FIT\r\n",
    "# Fit the data\r\n",
    "model.fit(X_train_scaled, y_train)"
   ],
   "outputs": [
    {
     "output_type": "error",
     "ename": "ValueError",
     "evalue": "The number of classes has to be greater than one; got 1 class",
     "traceback": [
      "\u001b[1;31m---------------------------------------------------------------------------\u001b[0m",
      "\u001b[1;31mValueError\u001b[0m                                Traceback (most recent call last)",
      "\u001b[1;32m<ipython-input-95-3f34d0c7badb>\u001b[0m in \u001b[0;36m<module>\u001b[1;34m\u001b[0m\n\u001b[0;32m      1\u001b[0m \u001b[1;31m# FIT\u001b[0m\u001b[1;33m\u001b[0m\u001b[1;33m\u001b[0m\u001b[1;33m\u001b[0m\u001b[0m\n\u001b[0;32m      2\u001b[0m \u001b[1;31m# Fit the data\u001b[0m\u001b[1;33m\u001b[0m\u001b[1;33m\u001b[0m\u001b[1;33m\u001b[0m\u001b[0m\n\u001b[1;32m----> 3\u001b[1;33m \u001b[0mmodel\u001b[0m\u001b[1;33m.\u001b[0m\u001b[0mfit\u001b[0m\u001b[1;33m(\u001b[0m\u001b[0mX_train_scaled\u001b[0m\u001b[1;33m,\u001b[0m \u001b[0my_train\u001b[0m\u001b[1;33m)\u001b[0m\u001b[1;33m\u001b[0m\u001b[1;33m\u001b[0m\u001b[0m\n\u001b[0m",
      "\u001b[1;32m~\\anaconda3\\envs\\dev\\lib\\site-packages\\sklearn\\svm\\_base.py\u001b[0m in \u001b[0;36mfit\u001b[1;34m(self, X, y, sample_weight)\u001b[0m\n\u001b[0;32m    171\u001b[0m                                        accept_large_sparse=False)\n\u001b[0;32m    172\u001b[0m \u001b[1;33m\u001b[0m\u001b[0m\n\u001b[1;32m--> 173\u001b[1;33m         \u001b[0my\u001b[0m \u001b[1;33m=\u001b[0m \u001b[0mself\u001b[0m\u001b[1;33m.\u001b[0m\u001b[0m_validate_targets\u001b[0m\u001b[1;33m(\u001b[0m\u001b[0my\u001b[0m\u001b[1;33m)\u001b[0m\u001b[1;33m\u001b[0m\u001b[1;33m\u001b[0m\u001b[0m\n\u001b[0m\u001b[0;32m    174\u001b[0m \u001b[1;33m\u001b[0m\u001b[0m\n\u001b[0;32m    175\u001b[0m         sample_weight = np.asarray([]\n",
      "\u001b[1;32m~\\anaconda3\\envs\\dev\\lib\\site-packages\\sklearn\\svm\\_base.py\u001b[0m in \u001b[0;36m_validate_targets\u001b[1;34m(self, y)\u001b[0m\n\u001b[0;32m    558\u001b[0m             raise ValueError(\n\u001b[0;32m    559\u001b[0m                 \u001b[1;34m\"The number of classes has to be greater than one; got %d\"\u001b[0m\u001b[1;33m\u001b[0m\u001b[1;33m\u001b[0m\u001b[0m\n\u001b[1;32m--> 560\u001b[1;33m                 \" class\" % len(cls))\n\u001b[0m\u001b[0;32m    561\u001b[0m \u001b[1;33m\u001b[0m\u001b[0m\n\u001b[0;32m    562\u001b[0m         \u001b[0mself\u001b[0m\u001b[1;33m.\u001b[0m\u001b[0mclasses_\u001b[0m \u001b[1;33m=\u001b[0m \u001b[0mcls\u001b[0m\u001b[1;33m\u001b[0m\u001b[1;33m\u001b[0m\u001b[0m\n",
      "\u001b[1;31mValueError\u001b[0m: The number of classes has to be greater than one; got 1 class"
     ]
    }
   ],
   "metadata": {}
  },
  {
   "cell_type": "code",
   "execution_count": null,
   "source": [
    "# PREDICT\r\n",
    "# Make predictions using the test data\r\n",
    "y_pred = model.predict(X_test_scaled)\r\n",
    "\r\n",
    "results = pd.DataFrame(\r\n",
    "    {\r\n",
    "        \"Predictions\": y_pred,\r\n",
    "        \"Actual\":y_test\r\n",
    "    }\r\n",
    ")\r\n",
    "results"
   ],
   "outputs": [
    {
     "output_type": "execute_result",
     "data": {
      "text/html": [
       "<div>\n",
       "<style scoped>\n",
       "    .dataframe tbody tr th:only-of-type {\n",
       "        vertical-align: middle;\n",
       "    }\n",
       "\n",
       "    .dataframe tbody tr th {\n",
       "        vertical-align: top;\n",
       "    }\n",
       "\n",
       "    .dataframe thead th {\n",
       "        text-align: right;\n",
       "    }\n",
       "</style>\n",
       "<table border=\"1\" class=\"dataframe\">\n",
       "  <thead>\n",
       "    <tr style=\"text-align: right;\">\n",
       "      <th></th>\n",
       "      <th>Predictions</th>\n",
       "      <th>Actual</th>\n",
       "    </tr>\n",
       "    <tr>\n",
       "      <th>Datetime</th>\n",
       "      <th></th>\n",
       "      <th></th>\n",
       "    </tr>\n",
       "  </thead>\n",
       "  <tbody>\n",
       "    <tr>\n",
       "      <th>2021-09-23 12:12:00</th>\n",
       "      <td>1.0</td>\n",
       "      <td>1.0</td>\n",
       "    </tr>\n",
       "    <tr>\n",
       "      <th>2021-10-01 14:56:00</th>\n",
       "      <td>0.0</td>\n",
       "      <td>0.0</td>\n",
       "    </tr>\n",
       "    <tr>\n",
       "      <th>2021-09-09 13:58:00</th>\n",
       "      <td>0.0</td>\n",
       "      <td>1.0</td>\n",
       "    </tr>\n",
       "    <tr>\n",
       "      <th>2021-09-28 13:23:00</th>\n",
       "      <td>0.0</td>\n",
       "      <td>0.0</td>\n",
       "    </tr>\n",
       "    <tr>\n",
       "      <th>2021-09-27 08:37:00</th>\n",
       "      <td>1.0</td>\n",
       "      <td>1.0</td>\n",
       "    </tr>\n",
       "    <tr>\n",
       "      <th>...</th>\n",
       "      <td>...</td>\n",
       "      <td>...</td>\n",
       "    </tr>\n",
       "    <tr>\n",
       "      <th>2021-09-23 08:37:00</th>\n",
       "      <td>1.0</td>\n",
       "      <td>1.0</td>\n",
       "    </tr>\n",
       "    <tr>\n",
       "      <th>2021-09-09 15:27:00</th>\n",
       "      <td>1.0</td>\n",
       "      <td>1.0</td>\n",
       "    </tr>\n",
       "    <tr>\n",
       "      <th>2021-10-01 13:45:00</th>\n",
       "      <td>1.0</td>\n",
       "      <td>1.0</td>\n",
       "    </tr>\n",
       "    <tr>\n",
       "      <th>2021-09-15 08:11:00</th>\n",
       "      <td>1.0</td>\n",
       "      <td>1.0</td>\n",
       "    </tr>\n",
       "    <tr>\n",
       "      <th>2021-09-10 18:24:00</th>\n",
       "      <td>1.0</td>\n",
       "      <td>1.0</td>\n",
       "    </tr>\n",
       "  </tbody>\n",
       "</table>\n",
       "<p>2655 rows × 2 columns</p>\n",
       "</div>"
      ],
      "text/plain": [
       "                     Predictions  Actual\n",
       "Datetime                                \n",
       "2021-09-23 12:12:00          1.0     1.0\n",
       "2021-10-01 14:56:00          0.0     0.0\n",
       "2021-09-09 13:58:00          0.0     1.0\n",
       "2021-09-28 13:23:00          0.0     0.0\n",
       "2021-09-27 08:37:00          1.0     1.0\n",
       "...                          ...     ...\n",
       "2021-09-23 08:37:00          1.0     1.0\n",
       "2021-09-09 15:27:00          1.0     1.0\n",
       "2021-10-01 13:45:00          1.0     1.0\n",
       "2021-09-15 08:11:00          1.0     1.0\n",
       "2021-09-10 18:24:00          1.0     1.0\n",
       "\n",
       "[2655 rows x 2 columns]"
      ]
     },
     "metadata": {},
     "execution_count": 49
    }
   ],
   "metadata": {}
  },
  {
   "cell_type": "code",
   "execution_count": null,
   "source": [
    "# EVALUATE\r\n",
    "# Generate confusion matrix\r\n",
    "print(confusion_matrix(y_test, y_pred))"
   ],
   "outputs": [
    {
     "output_type": "stream",
     "name": "stdout",
     "text": [
      "[[ 802  292]\n",
      " [ 236 1325]]\n"
     ]
    }
   ],
   "metadata": {}
  },
  {
   "cell_type": "code",
   "execution_count": null,
   "source": [
    "# Generate Classification Report\r\n",
    "from sklearn.metrics import classification_report\r\n",
    "print(classification_report(y_test, y_pred))"
   ],
   "outputs": [
    {
     "output_type": "stream",
     "name": "stdout",
     "text": [
      "              precision    recall  f1-score   support\n",
      "\n",
      "         0.0       0.77      0.73      0.75      1094\n",
      "         1.0       0.82      0.85      0.83      1561\n",
      "\n",
      "    accuracy                           0.80      2655\n",
      "   macro avg       0.80      0.79      0.79      2655\n",
      "weighted avg       0.80      0.80      0.80      2655\n",
      "\n"
     ]
    }
   ],
   "metadata": {}
  },
  {
   "cell_type": "code",
   "execution_count": null,
   "source": [],
   "outputs": [],
   "metadata": {}
  },
  {
   "cell_type": "code",
   "execution_count": null,
   "source": [],
   "outputs": [],
   "metadata": {}
  },
  {
   "cell_type": "code",
   "execution_count": null,
   "source": [],
   "outputs": [],
   "metadata": {}
  }
 ],
 "metadata": {
  "orig_nbformat": 4,
  "language_info": {
   "name": "python",
   "version": "3.7.10",
   "mimetype": "text/x-python",
   "codemirror_mode": {
    "name": "ipython",
    "version": 3
   },
   "pygments_lexer": "ipython3",
   "nbconvert_exporter": "python",
   "file_extension": ".py"
  },
  "kernelspec": {
   "name": "python3",
   "display_name": "Python 3.7.10 64-bit ('dev': conda)"
  },
  "interpreter": {
   "hash": "0bc772866a3affdc5803be489598f529b0192fa171585f2d09392617c9a5b224"
  }
 },
 "nbformat": 4,
 "nbformat_minor": 2
}