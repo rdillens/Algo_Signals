{
 "cells": [
  {
   "cell_type": "code",
   "execution_count": 15,
   "source": [
    "import sqlalchemy\r\n",
    "import pandas as pd\r\n"
   ],
   "outputs": [],
   "metadata": {}
  },
  {
   "cell_type": "code",
   "execution_count": 16,
   "source": [
    "db_connection_string = 'sqlite:///./Resources/products.db'\r\n",
    "engine  = sqlalchemy.create_engine(db_connection_string)\r\n",
    "\r\n",
    "inspector = sqlalchemy.inspect(engine)\r\n",
    "table_names = inspector.get_table_names()\r\n",
    "print(table_names)"
   ],
   "outputs": [
    {
     "output_type": "stream",
     "name": "stdout",
     "text": [
      "['AAPL_1_Day_Candles', 'AAPL_1_Min_Candles', 'AAPL_Info', 'Indicators', 'MARA_1_Day_Candles', 'MARA_1_Min_Candles', 'MARA_Info', 'RIOT_1_Day_Candles', 'RIOT_1_Min_Candles', 'RIOT_Info', 'TSLA_1_Day_Candles', 'TSLA_1_Min_Candles', 'TSLA_Info', 'WHD_1_Day_Candles', 'WHD_1_Min_Candles', 'WHD_Info']\n"
     ]
    }
   ],
   "metadata": {}
  },
  {
   "cell_type": "code",
   "execution_count": 17,
   "source": [
    "indicators_df = pd.read_sql_table('Indicators', con=engine, index_col='Datetime')"
   ],
   "outputs": [],
   "metadata": {}
  },
  {
   "cell_type": "code",
   "execution_count": 18,
   "source": [
    "print(indicators_df.head())"
   ],
   "outputs": [
    {
     "output_type": "stream",
     "name": "stdout",
     "text": [
      "                       Open    High     Low   Close  Volume  CDLDOJI  \\\n",
      "Datetime                                                               \n",
      "2021-09-07 03:21:00  154.59  154.59  154.59  154.59     717      100   \n",
      "2021-09-07 03:22:00  154.59  154.60  154.59  154.60    3021        0   \n",
      "2021-09-07 03:24:00  154.60  154.63  154.60  154.60    2700      100   \n",
      "2021-09-07 03:25:00  154.61  154.61  154.61  154.61     607      100   \n",
      "2021-09-07 03:26:00  154.61  154.61  154.61  154.61     340      100   \n",
      "\n",
      "                     Trailing Stop  Trade Signal  Pct Change   Stop Loss  \\\n",
      "Datetime                                                                   \n",
      "2021-09-07 03:21:00     154.456071           0.0   -0.000065    0.000000   \n",
      "2021-09-07 03:22:00     154.473852           0.0    0.000065  154.473852   \n",
      "2021-09-07 03:24:00     154.477505           0.0    0.000000    0.000000   \n",
      "2021-09-07 03:25:00     154.494469           0.0    0.000065  154.494469   \n",
      "2021-09-07 03:26:00     154.502722           0.0    0.000000    0.000000   \n",
      "\n",
      "                     CDLENGULFING  \n",
      "Datetime                           \n",
      "2021-09-07 03:21:00             0  \n",
      "2021-09-07 03:22:00             0  \n",
      "2021-09-07 03:24:00             0  \n",
      "2021-09-07 03:25:00             0  \n",
      "2021-09-07 03:26:00             0  \n"
     ]
    }
   ],
   "metadata": {}
  },
  {
   "cell_type": "code",
   "execution_count": 19,
   "source": [
    "import matplotlib.pyplot as plt\r\n",
    "from sklearn.model_selection import train_test_split\r\n",
    "from imblearn.over_sampling import RandomOverSampler\r\n",
    "from sklearn.linear_model import LogisticRegression\r\n",
    "from sklearn.metrics import confusion_matrix\r\n",
    "from sklearn.metrics import balanced_accuracy_score\r\n",
    "from imblearn.metrics import classification_report_imbalanced"
   ],
   "outputs": [],
   "metadata": {}
  },
  {
   "cell_type": "code",
   "execution_count": 20,
   "source": [
    "#Segment features from the trade signal\r\n",
    "df = indicators_df.copy()\r\n",
    "# X = df.drop(columns=['Trade Signal', 'Open', 'High', 'Low', 'Trailing Stop', 'Pct Change'])\r\n",
    "X = df.drop(columns=['Trade Signal'])\r\n",
    "y = df[\"Trade Signal\"]"
   ],
   "outputs": [],
   "metadata": {}
  },
  {
   "cell_type": "code",
   "execution_count": 21,
   "source": [
    "X_train, X_test, y_train, y_test = train_test_split(X, y, random_state=1, stratify=y)"
   ],
   "outputs": [],
   "metadata": {}
  },
  {
   "cell_type": "code",
   "execution_count": 22,
   "source": [
    "# import StandardScaler\r\n",
    "from sklearn.preprocessing import StandardScaler\r\n",
    "\r\n",
    "# Scale the data\r\n",
    "scaler = StandardScaler()\r\n",
    "X_scaler = scaler.fit(X_train)\r\n",
    "X_train_scaled = X_scaler.transform(X_train)\r\n",
    "X_test_scaled = X_scaler.transform(X_test)"
   ],
   "outputs": [],
   "metadata": {}
  },
  {
   "cell_type": "code",
   "execution_count": 23,
   "source": [
    "display(X_train_scaled, y_train)"
   ],
   "outputs": [
    {
     "output_type": "display_data",
     "data": {
      "text/plain": [
       "array([[-0.93400999, -0.94297031, -0.92729185, ...,  0.00586607,\n",
       "        -0.89491042,  0.03137472],\n",
       "       [-0.31993049, -0.32076796, -0.31360535, ...,  0.13124981,\n",
       "         1.09586276,  0.03137472],\n",
       "       [ 0.18010567,  0.17853023,  0.17317955, ..., -0.84595021,\n",
       "        -0.89491042,  0.03137472],\n",
       "       ...,\n",
       "       [-0.1817626 , -0.19018228, -0.17990936, ...,  0.75539024,\n",
       "         1.10386225,  0.03137472],\n",
       "       [-0.95045854, -0.94735975, -0.94372988, ...,  0.38960355,\n",
       "         1.05472727,  0.03137472],\n",
       "       [-0.26071568, -0.26699738, -0.26538713, ..., -0.11931145,\n",
       "        -0.89491042,  0.03137472]])"
      ]
     },
     "metadata": {}
    },
    {
     "output_type": "display_data",
     "data": {
      "text/plain": [
       "Datetime\n",
       "2021-09-20 18:01:00    0.0\n",
       "2021-09-27 14:17:00    0.0\n",
       "2021-09-16 12:30:00    0.0\n",
       "2021-09-10 07:20:00    0.0\n",
       "2021-09-16 10:37:00    0.0\n",
       "                      ... \n",
       "2021-09-17 04:04:00    0.0\n",
       "2021-09-17 12:08:00    0.0\n",
       "2021-09-27 05:09:00    0.0\n",
       "2021-09-28 14:12:00    0.0\n",
       "2021-09-22 15:05:00    0.0\n",
       "Name: Trade Signal, Length: 11376, dtype: float64"
      ]
     },
     "metadata": {}
    }
   ],
   "metadata": {}
  },
  {
   "cell_type": "code",
   "execution_count": 24,
   "source": [
    "# MODEL\r\n",
    "from sklearn.svm import SVC\r\n",
    "# from sklearn.svm import SVR\r\n",
    "\r\n",
    "# Instantiate a linear SVM model\r\n",
    "model = SVC(kernel='linear')\r\n",
    "# model = LogisticRegression()\r\n",
    "model"
   ],
   "outputs": [
    {
     "output_type": "execute_result",
     "data": {
      "text/plain": [
       "SVC(kernel='linear')"
      ]
     },
     "metadata": {},
     "execution_count": 24
    }
   ],
   "metadata": {}
  },
  {
   "cell_type": "code",
   "execution_count": 25,
   "source": [
    "# FIT\r\n",
    "# Fit the data\r\n",
    "model.fit(X_train_scaled, y_train)"
   ],
   "outputs": [
    {
     "output_type": "execute_result",
     "data": {
      "text/plain": [
       "SVC(kernel='linear')"
      ]
     },
     "metadata": {},
     "execution_count": 25
    }
   ],
   "metadata": {}
  },
  {
   "cell_type": "code",
   "execution_count": 26,
   "source": [
    "# PREDICT\r\n",
    "# Make predictions using the test data\r\n",
    "y_pred = model.predict(X_test_scaled)\r\n",
    "\r\n",
    "results = pd.DataFrame(\r\n",
    "    {\r\n",
    "        \"Predictions\": y_pred,\r\n",
    "        \"Actual\":y_test\r\n",
    "    }\r\n",
    ")\r\n",
    "results"
   ],
   "outputs": [
    {
     "output_type": "execute_result",
     "data": {
      "text/html": [
       "<div>\n",
       "<style scoped>\n",
       "    .dataframe tbody tr th:only-of-type {\n",
       "        vertical-align: middle;\n",
       "    }\n",
       "\n",
       "    .dataframe tbody tr th {\n",
       "        vertical-align: top;\n",
       "    }\n",
       "\n",
       "    .dataframe thead th {\n",
       "        text-align: right;\n",
       "    }\n",
       "</style>\n",
       "<table border=\"1\" class=\"dataframe\">\n",
       "  <thead>\n",
       "    <tr style=\"text-align: right;\">\n",
       "      <th></th>\n",
       "      <th>Predictions</th>\n",
       "      <th>Actual</th>\n",
       "    </tr>\n",
       "    <tr>\n",
       "      <th>Datetime</th>\n",
       "      <th></th>\n",
       "      <th></th>\n",
       "    </tr>\n",
       "  </thead>\n",
       "  <tbody>\n",
       "    <tr>\n",
       "      <th>2021-09-23 09:13:00</th>\n",
       "      <td>0.0</td>\n",
       "      <td>0.0</td>\n",
       "    </tr>\n",
       "    <tr>\n",
       "      <th>2021-09-08 03:05:00</th>\n",
       "      <td>0.0</td>\n",
       "      <td>0.0</td>\n",
       "    </tr>\n",
       "    <tr>\n",
       "      <th>2021-09-14 07:55:00</th>\n",
       "      <td>0.0</td>\n",
       "      <td>0.0</td>\n",
       "    </tr>\n",
       "    <tr>\n",
       "      <th>2021-09-08 12:43:00</th>\n",
       "      <td>0.0</td>\n",
       "      <td>0.0</td>\n",
       "    </tr>\n",
       "    <tr>\n",
       "      <th>2021-09-23 13:32:00</th>\n",
       "      <td>0.0</td>\n",
       "      <td>0.0</td>\n",
       "    </tr>\n",
       "    <tr>\n",
       "      <th>...</th>\n",
       "      <td>...</td>\n",
       "      <td>...</td>\n",
       "    </tr>\n",
       "    <tr>\n",
       "      <th>2021-09-15 15:09:00</th>\n",
       "      <td>0.0</td>\n",
       "      <td>0.0</td>\n",
       "    </tr>\n",
       "    <tr>\n",
       "      <th>2021-09-08 13:19:00</th>\n",
       "      <td>0.0</td>\n",
       "      <td>0.0</td>\n",
       "    </tr>\n",
       "    <tr>\n",
       "      <th>2021-09-14 05:19:00</th>\n",
       "      <td>0.0</td>\n",
       "      <td>0.0</td>\n",
       "    </tr>\n",
       "    <tr>\n",
       "      <th>2021-09-07 06:18:00</th>\n",
       "      <td>0.0</td>\n",
       "      <td>0.0</td>\n",
       "    </tr>\n",
       "    <tr>\n",
       "      <th>2021-09-20 14:34:00</th>\n",
       "      <td>0.0</td>\n",
       "      <td>0.0</td>\n",
       "    </tr>\n",
       "  </tbody>\n",
       "</table>\n",
       "<p>3793 rows × 2 columns</p>\n",
       "</div>"
      ],
      "text/plain": [
       "                     Predictions  Actual\n",
       "Datetime                                \n",
       "2021-09-23 09:13:00          0.0     0.0\n",
       "2021-09-08 03:05:00          0.0     0.0\n",
       "2021-09-14 07:55:00          0.0     0.0\n",
       "2021-09-08 12:43:00          0.0     0.0\n",
       "2021-09-23 13:32:00          0.0     0.0\n",
       "...                          ...     ...\n",
       "2021-09-15 15:09:00          0.0     0.0\n",
       "2021-09-08 13:19:00          0.0     0.0\n",
       "2021-09-14 05:19:00          0.0     0.0\n",
       "2021-09-07 06:18:00          0.0     0.0\n",
       "2021-09-20 14:34:00          0.0     0.0\n",
       "\n",
       "[3793 rows x 2 columns]"
      ]
     },
     "metadata": {},
     "execution_count": 26
    }
   ],
   "metadata": {}
  },
  {
   "cell_type": "code",
   "execution_count": 27,
   "source": [
    "# EVALUATE\r\n",
    "# Generate confusion matrix\r\n",
    "print(confusion_matrix(y_test, y_pred))"
   ],
   "outputs": [
    {
     "output_type": "stream",
     "name": "stdout",
     "text": [
      "[[  85    0    0]\n",
      " [   0 3647    0]\n",
      " [   0    0   61]]\n"
     ]
    }
   ],
   "metadata": {}
  },
  {
   "cell_type": "code",
   "execution_count": 28,
   "source": [
    "# Generate Classification Report\r\n",
    "from sklearn.metrics import classification_report\r\n",
    "print(classification_report(y_test, y_pred))"
   ],
   "outputs": [
    {
     "output_type": "stream",
     "name": "stdout",
     "text": [
      "              precision    recall  f1-score   support\n",
      "\n",
      "        -1.0       1.00      1.00      1.00        85\n",
      "         0.0       1.00      1.00      1.00      3647\n",
      "         1.0       1.00      1.00      1.00        61\n",
      "\n",
      "    accuracy                           1.00      3793\n",
      "   macro avg       1.00      1.00      1.00      3793\n",
      "weighted avg       1.00      1.00      1.00      3793\n",
      "\n"
     ]
    }
   ],
   "metadata": {}
  },
  {
   "cell_type": "code",
   "execution_count": null,
   "source": [],
   "outputs": [],
   "metadata": {}
  },
  {
   "cell_type": "code",
   "execution_count": null,
   "source": [],
   "outputs": [],
   "metadata": {}
  },
  {
   "cell_type": "code",
   "execution_count": null,
   "source": [],
   "outputs": [],
   "metadata": {}
  }
 ],
 "metadata": {
  "orig_nbformat": 4,
  "language_info": {
   "name": "python",
   "version": "3.7.10",
   "mimetype": "text/x-python",
   "codemirror_mode": {
    "name": "ipython",
    "version": 3
   },
   "pygments_lexer": "ipython3",
   "nbconvert_exporter": "python",
   "file_extension": ".py"
  },
  "kernelspec": {
   "name": "python3",
   "display_name": "Python 3.7.10 64-bit ('dev': conda)"
  },
  "interpreter": {
   "hash": "0bc772866a3affdc5803be489598f529b0192fa171585f2d09392617c9a5b224"
  }
 },
 "nbformat": 4,
 "nbformat_minor": 2
}