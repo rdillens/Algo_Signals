{
 "cells": [
  {
   "cell_type": "code",
   "execution_count": 163,
   "source": [
    "import sqlalchemy\r\n",
    "import pandas as pd\r\n"
   ],
   "outputs": [],
   "metadata": {}
  },
  {
   "cell_type": "code",
   "execution_count": 164,
   "source": [
    "db_connection_string = 'sqlite:///./Resources/products.db'\r\n",
    "engine  = sqlalchemy.create_engine(db_connection_string)\r\n",
    "\r\n",
    "inspector = sqlalchemy.inspect(engine)\r\n",
    "table_names = inspector.get_table_names()\r\n",
    "print(table_names)"
   ],
   "outputs": [
    {
     "output_type": "stream",
     "name": "stdout",
     "text": [
      "['Indicators', 'MARA_1_Day_Candles', 'MARA_1_Min_Candles', 'MARA_Info', 'RIOT_1_Day_Candles', 'RIOT_1_Min_Candles', 'RIOT_Info', 'TSLA_1_Day_Candles', 'TSLA_1_Min_Candles', 'TSLA_Info', 'WHD_1_Day_Candles', 'WHD_1_Min_Candles', 'WHD_Info']\n"
     ]
    }
   ],
   "metadata": {}
  },
  {
   "cell_type": "code",
   "execution_count": 165,
   "source": [
    "indicators_df = pd.read_sql_table('Indicators', con=engine, index_col='Datetime')"
   ],
   "outputs": [],
   "metadata": {}
  },
  {
   "cell_type": "code",
   "execution_count": 166,
   "source": [
    "print(indicators_df.head())"
   ],
   "outputs": [
    {
     "output_type": "stream",
     "name": "stdout",
     "text": [
      "                      Open   High    Low  Close  Volume  CDLDOJI  \\\n",
      "Datetime                                                           \n",
      "2021-09-02 16:45:00  42.62  42.62  42.62  42.62     120      100   \n",
      "2021-09-02 16:52:00  42.60  42.60  42.60  42.60     150      100   \n",
      "2021-09-02 16:55:00  42.58  42.58  42.58  42.58     169      100   \n",
      "2021-09-02 16:57:00  42.59  42.60  42.59  42.60     334        0   \n",
      "2021-09-02 17:00:00  42.60  42.60  42.60  42.60     337      100   \n",
      "\n",
      "                     Trailing Stop  Trade Signal  Pct Change  Stop Loss  \n",
      "Datetime                                                                 \n",
      "2021-09-02 16:45:00      42.528291           1.0    0.000939  42.528291  \n",
      "2021-09-02 16:52:00      42.511270           1.0   -0.000469  42.528291  \n",
      "2021-09-02 16:55:00      42.494036           1.0   -0.000469  42.511270  \n",
      "2021-09-02 16:57:00      42.516605           0.0    0.000470  42.516605  \n",
      "2021-09-02 17:00:00      42.522562           1.0    0.000000   0.000000  \n"
     ]
    }
   ],
   "metadata": {}
  },
  {
   "cell_type": "code",
   "execution_count": 167,
   "source": [
    "import matplotlib.pyplot as plt\r\n",
    "from sklearn.model_selection import train_test_split\r\n",
    "from imblearn.over_sampling import RandomOverSampler\r\n",
    "from sklearn.linear_model import LogisticRegression\r\n",
    "from sklearn.metrics import confusion_matrix\r\n",
    "from sklearn.metrics import balanced_accuracy_score\r\n",
    "from imblearn.metrics import classification_report_imbalanced"
   ],
   "outputs": [],
   "metadata": {}
  },
  {
   "cell_type": "code",
   "execution_count": 186,
   "source": [
    "#Segment features from the trade signal\r\n",
    "df = indicators_df.copy()\r\n",
    "# X = df.drop(columns=['Trade Signal', 'Open', 'High', 'Low', 'Trailing Stop', 'Pct Change'])\r\n",
    "X = df.drop(columns=['Trade Signal'])\r\n",
    "y = df[\"Trade Signal\"]"
   ],
   "outputs": [],
   "metadata": {}
  },
  {
   "cell_type": "code",
   "execution_count": 187,
   "source": [
    "X_train, X_test, y_train, y_test = train_test_split(X, y, random_state=1, stratify=y)"
   ],
   "outputs": [],
   "metadata": {}
  },
  {
   "cell_type": "code",
   "execution_count": 188,
   "source": [
    "# import StandardScaler\r\n",
    "from sklearn.preprocessing import StandardScaler\r\n",
    "\r\n",
    "# Scale the data\r\n",
    "scaler = StandardScaler()\r\n",
    "X_scaler = scaler.fit(X_train)\r\n",
    "X_train_scaled = X_scaler.transform(X_train)\r\n",
    "X_test_scaled = X_scaler.transform(X_test)"
   ],
   "outputs": [],
   "metadata": {}
  },
  {
   "cell_type": "code",
   "execution_count": 189,
   "source": [
    "X_train"
   ],
   "outputs": [
    {
     "output_type": "execute_result",
     "data": {
      "text/html": [
       "<div>\n",
       "<style scoped>\n",
       "    .dataframe tbody tr th:only-of-type {\n",
       "        vertical-align: middle;\n",
       "    }\n",
       "\n",
       "    .dataframe tbody tr th {\n",
       "        vertical-align: top;\n",
       "    }\n",
       "\n",
       "    .dataframe thead th {\n",
       "        text-align: right;\n",
       "    }\n",
       "</style>\n",
       "<table border=\"1\" class=\"dataframe\">\n",
       "  <thead>\n",
       "    <tr style=\"text-align: right;\">\n",
       "      <th></th>\n",
       "      <th>Open</th>\n",
       "      <th>High</th>\n",
       "      <th>Low</th>\n",
       "      <th>Close</th>\n",
       "      <th>Volume</th>\n",
       "      <th>CDLDOJI</th>\n",
       "      <th>Trailing Stop</th>\n",
       "      <th>Pct Change</th>\n",
       "      <th>Stop Loss</th>\n",
       "    </tr>\n",
       "    <tr>\n",
       "      <th>Datetime</th>\n",
       "      <th></th>\n",
       "      <th></th>\n",
       "      <th></th>\n",
       "      <th></th>\n",
       "      <th></th>\n",
       "      <th></th>\n",
       "      <th></th>\n",
       "      <th></th>\n",
       "      <th></th>\n",
       "    </tr>\n",
       "  </thead>\n",
       "  <tbody>\n",
       "    <tr>\n",
       "      <th>2021-09-28 14:43:00</th>\n",
       "      <td>32.965</td>\n",
       "      <td>33.00</td>\n",
       "      <td>32.900</td>\n",
       "      <td>32.91</td>\n",
       "      <td>15366</td>\n",
       "      <td>0</td>\n",
       "      <td>32.741181</td>\n",
       "      <td>-0.001820</td>\n",
       "      <td>0.000000</td>\n",
       "    </tr>\n",
       "    <tr>\n",
       "      <th>2021-09-15 13:12:00</th>\n",
       "      <td>36.330</td>\n",
       "      <td>36.38</td>\n",
       "      <td>36.320</td>\n",
       "      <td>36.38</td>\n",
       "      <td>7812</td>\n",
       "      <td>0</td>\n",
       "      <td>36.204083</td>\n",
       "      <td>0.002204</td>\n",
       "      <td>36.204083</td>\n",
       "    </tr>\n",
       "    <tr>\n",
       "      <th>2021-09-16 08:21:00</th>\n",
       "      <td>36.820</td>\n",
       "      <td>36.82</td>\n",
       "      <td>36.800</td>\n",
       "      <td>36.80</td>\n",
       "      <td>4793</td>\n",
       "      <td>0</td>\n",
       "      <td>36.693991</td>\n",
       "      <td>0.000000</td>\n",
       "      <td>0.000000</td>\n",
       "    </tr>\n",
       "    <tr>\n",
       "      <th>2021-09-30 12:58:00</th>\n",
       "      <td>31.630</td>\n",
       "      <td>31.63</td>\n",
       "      <td>31.600</td>\n",
       "      <td>31.62</td>\n",
       "      <td>10787</td>\n",
       "      <td>0</td>\n",
       "      <td>31.492420</td>\n",
       "      <td>-0.000316</td>\n",
       "      <td>31.498375</td>\n",
       "    </tr>\n",
       "    <tr>\n",
       "      <th>2021-09-13 09:03:00</th>\n",
       "      <td>35.260</td>\n",
       "      <td>35.29</td>\n",
       "      <td>34.770</td>\n",
       "      <td>34.83</td>\n",
       "      <td>162095</td>\n",
       "      <td>0</td>\n",
       "      <td>34.123845</td>\n",
       "      <td>-0.012195</td>\n",
       "      <td>0.000000</td>\n",
       "    </tr>\n",
       "    <tr>\n",
       "      <th>...</th>\n",
       "      <td>...</td>\n",
       "      <td>...</td>\n",
       "      <td>...</td>\n",
       "      <td>...</td>\n",
       "      <td>...</td>\n",
       "      <td>...</td>\n",
       "      <td>...</td>\n",
       "      <td>...</td>\n",
       "      <td>...</td>\n",
       "    </tr>\n",
       "    <tr>\n",
       "      <th>2021-09-08 03:09:00</th>\n",
       "      <td>38.250</td>\n",
       "      <td>38.25</td>\n",
       "      <td>38.200</td>\n",
       "      <td>38.20</td>\n",
       "      <td>3196</td>\n",
       "      <td>0</td>\n",
       "      <td>37.875909</td>\n",
       "      <td>-0.000262</td>\n",
       "      <td>37.870595</td>\n",
       "    </tr>\n",
       "    <tr>\n",
       "      <th>2021-09-24 08:19:00</th>\n",
       "      <td>34.950</td>\n",
       "      <td>34.95</td>\n",
       "      <td>34.950</td>\n",
       "      <td>34.95</td>\n",
       "      <td>534</td>\n",
       "      <td>100</td>\n",
       "      <td>34.836358</td>\n",
       "      <td>-0.001429</td>\n",
       "      <td>0.000000</td>\n",
       "    </tr>\n",
       "    <tr>\n",
       "      <th>2021-09-28 13:44:00</th>\n",
       "      <td>33.490</td>\n",
       "      <td>33.50</td>\n",
       "      <td>33.485</td>\n",
       "      <td>33.50</td>\n",
       "      <td>5733</td>\n",
       "      <td>0</td>\n",
       "      <td>33.349050</td>\n",
       "      <td>0.001195</td>\n",
       "      <td>33.349050</td>\n",
       "    </tr>\n",
       "    <tr>\n",
       "      <th>2021-09-13 11:32:00</th>\n",
       "      <td>35.610</td>\n",
       "      <td>35.62</td>\n",
       "      <td>35.560</td>\n",
       "      <td>35.61</td>\n",
       "      <td>9455</td>\n",
       "      <td>100</td>\n",
       "      <td>35.426963</td>\n",
       "      <td>-0.001122</td>\n",
       "      <td>0.000000</td>\n",
       "    </tr>\n",
       "    <tr>\n",
       "      <th>2021-09-20 18:01:00</th>\n",
       "      <td>33.320</td>\n",
       "      <td>33.32</td>\n",
       "      <td>33.320</td>\n",
       "      <td>33.32</td>\n",
       "      <td>450</td>\n",
       "      <td>100</td>\n",
       "      <td>33.113396</td>\n",
       "      <td>0.000000</td>\n",
       "      <td>33.097504</td>\n",
       "    </tr>\n",
       "  </tbody>\n",
       "</table>\n",
       "<p>8724 rows × 9 columns</p>\n",
       "</div>"
      ],
      "text/plain": [
       "                       Open   High     Low  Close  Volume  CDLDOJI  \\\n",
       "Datetime                                                             \n",
       "2021-09-28 14:43:00  32.965  33.00  32.900  32.91   15366        0   \n",
       "2021-09-15 13:12:00  36.330  36.38  36.320  36.38    7812        0   \n",
       "2021-09-16 08:21:00  36.820  36.82  36.800  36.80    4793        0   \n",
       "2021-09-30 12:58:00  31.630  31.63  31.600  31.62   10787        0   \n",
       "2021-09-13 09:03:00  35.260  35.29  34.770  34.83  162095        0   \n",
       "...                     ...    ...     ...    ...     ...      ...   \n",
       "2021-09-08 03:09:00  38.250  38.25  38.200  38.20    3196        0   \n",
       "2021-09-24 08:19:00  34.950  34.95  34.950  34.95     534      100   \n",
       "2021-09-28 13:44:00  33.490  33.50  33.485  33.50    5733        0   \n",
       "2021-09-13 11:32:00  35.610  35.62  35.560  35.61    9455      100   \n",
       "2021-09-20 18:01:00  33.320  33.32  33.320  33.32     450      100   \n",
       "\n",
       "                     Trailing Stop  Pct Change  Stop Loss  \n",
       "Datetime                                                   \n",
       "2021-09-28 14:43:00      32.741181   -0.001820   0.000000  \n",
       "2021-09-15 13:12:00      36.204083    0.002204  36.204083  \n",
       "2021-09-16 08:21:00      36.693991    0.000000   0.000000  \n",
       "2021-09-30 12:58:00      31.492420   -0.000316  31.498375  \n",
       "2021-09-13 09:03:00      34.123845   -0.012195   0.000000  \n",
       "...                            ...         ...        ...  \n",
       "2021-09-08 03:09:00      37.875909   -0.000262  37.870595  \n",
       "2021-09-24 08:19:00      34.836358   -0.001429   0.000000  \n",
       "2021-09-28 13:44:00      33.349050    0.001195  33.349050  \n",
       "2021-09-13 11:32:00      35.426963   -0.001122   0.000000  \n",
       "2021-09-20 18:01:00      33.113396    0.000000  33.097504  \n",
       "\n",
       "[8724 rows x 9 columns]"
      ]
     },
     "metadata": {},
     "execution_count": 189
    }
   ],
   "metadata": {}
  },
  {
   "cell_type": "code",
   "execution_count": 190,
   "source": [
    "# MODEL\r\n",
    "from sklearn.svm import SVC\r\n",
    "\r\n",
    "# Instantiate a linear SVM model\r\n",
    "svm_model = SVC(kernel='linear')\r\n",
    "svm_model"
   ],
   "outputs": [
    {
     "output_type": "execute_result",
     "data": {
      "text/plain": [
       "SVC(kernel='linear')"
      ]
     },
     "metadata": {},
     "execution_count": 190
    }
   ],
   "metadata": {}
  },
  {
   "cell_type": "code",
   "execution_count": 191,
   "source": [
    "# FIT\r\n",
    "# Fit the data\r\n",
    "svm_model.fit(X_train_scaled, y_train)"
   ],
   "outputs": [
    {
     "output_type": "execute_result",
     "data": {
      "text/plain": [
       "SVC(kernel='linear')"
      ]
     },
     "metadata": {},
     "execution_count": 191
    }
   ],
   "metadata": {}
  },
  {
   "cell_type": "code",
   "execution_count": 192,
   "source": [
    "# PREDICT\r\n",
    "# Make predictions using the test data\r\n",
    "y_pred = svm_model.predict(X_test_scaled)\r\n",
    "\r\n",
    "results = pd.DataFrame(\r\n",
    "    {\r\n",
    "        \"Predictions\": y_pred,\r\n",
    "        \"Actual\":y_test\r\n",
    "    }\r\n",
    ")\r\n",
    "results"
   ],
   "outputs": [
    {
     "output_type": "execute_result",
     "data": {
      "text/html": [
       "<div>\n",
       "<style scoped>\n",
       "    .dataframe tbody tr th:only-of-type {\n",
       "        vertical-align: middle;\n",
       "    }\n",
       "\n",
       "    .dataframe tbody tr th {\n",
       "        vertical-align: top;\n",
       "    }\n",
       "\n",
       "    .dataframe thead th {\n",
       "        text-align: right;\n",
       "    }\n",
       "</style>\n",
       "<table border=\"1\" class=\"dataframe\">\n",
       "  <thead>\n",
       "    <tr style=\"text-align: right;\">\n",
       "      <th></th>\n",
       "      <th>Predictions</th>\n",
       "      <th>Actual</th>\n",
       "    </tr>\n",
       "    <tr>\n",
       "      <th>Datetime</th>\n",
       "      <th></th>\n",
       "      <th></th>\n",
       "    </tr>\n",
       "  </thead>\n",
       "  <tbody>\n",
       "    <tr>\n",
       "      <th>2021-09-29 10:36:00</th>\n",
       "      <td>0.0</td>\n",
       "      <td>0.0</td>\n",
       "    </tr>\n",
       "    <tr>\n",
       "      <th>2021-09-13 13:30:00</th>\n",
       "      <td>0.0</td>\n",
       "      <td>0.0</td>\n",
       "    </tr>\n",
       "    <tr>\n",
       "      <th>2021-09-29 08:21:00</th>\n",
       "      <td>0.0</td>\n",
       "      <td>0.0</td>\n",
       "    </tr>\n",
       "    <tr>\n",
       "      <th>2021-09-29 11:09:00</th>\n",
       "      <td>0.0</td>\n",
       "      <td>0.0</td>\n",
       "    </tr>\n",
       "    <tr>\n",
       "      <th>2021-09-27 18:23:00</th>\n",
       "      <td>1.0</td>\n",
       "      <td>1.0</td>\n",
       "    </tr>\n",
       "    <tr>\n",
       "      <th>...</th>\n",
       "      <td>...</td>\n",
       "      <td>...</td>\n",
       "    </tr>\n",
       "    <tr>\n",
       "      <th>2021-09-28 05:16:00</th>\n",
       "      <td>1.0</td>\n",
       "      <td>1.0</td>\n",
       "    </tr>\n",
       "    <tr>\n",
       "      <th>2021-09-20 10:47:00</th>\n",
       "      <td>0.0</td>\n",
       "      <td>0.0</td>\n",
       "    </tr>\n",
       "    <tr>\n",
       "      <th>2021-09-09 10:24:00</th>\n",
       "      <td>1.0</td>\n",
       "      <td>1.0</td>\n",
       "    </tr>\n",
       "    <tr>\n",
       "      <th>2021-09-10 15:47:00</th>\n",
       "      <td>1.0</td>\n",
       "      <td>1.0</td>\n",
       "    </tr>\n",
       "    <tr>\n",
       "      <th>2021-09-24 08:48:00</th>\n",
       "      <td>0.0</td>\n",
       "      <td>0.0</td>\n",
       "    </tr>\n",
       "  </tbody>\n",
       "</table>\n",
       "<p>2908 rows × 2 columns</p>\n",
       "</div>"
      ],
      "text/plain": [
       "                     Predictions  Actual\n",
       "Datetime                                \n",
       "2021-09-29 10:36:00          0.0     0.0\n",
       "2021-09-13 13:30:00          0.0     0.0\n",
       "2021-09-29 08:21:00          0.0     0.0\n",
       "2021-09-29 11:09:00          0.0     0.0\n",
       "2021-09-27 18:23:00          1.0     1.0\n",
       "...                          ...     ...\n",
       "2021-09-28 05:16:00          1.0     1.0\n",
       "2021-09-20 10:47:00          0.0     0.0\n",
       "2021-09-09 10:24:00          1.0     1.0\n",
       "2021-09-10 15:47:00          1.0     1.0\n",
       "2021-09-24 08:48:00          0.0     0.0\n",
       "\n",
       "[2908 rows x 2 columns]"
      ]
     },
     "metadata": {},
     "execution_count": 192
    }
   ],
   "metadata": {}
  },
  {
   "cell_type": "code",
   "execution_count": 193,
   "source": [
    "# EVALUATE\r\n",
    "# Generate confusion matrix\r\n",
    "print(confusion_matrix(y_test, y_pred))"
   ],
   "outputs": [
    {
     "output_type": "stream",
     "name": "stdout",
     "text": [
      "[[2157    0]\n",
      " [   0  751]]\n"
     ]
    }
   ],
   "metadata": {}
  },
  {
   "cell_type": "code",
   "execution_count": 194,
   "source": [
    "# Generate Classification Report\r\n",
    "from sklearn.metrics import classification_report\r\n",
    "print(classification_report(y_test, y_pred))"
   ],
   "outputs": [
    {
     "output_type": "stream",
     "name": "stdout",
     "text": [
      "              precision    recall  f1-score   support\n",
      "\n",
      "         0.0       1.00      1.00      1.00      2157\n",
      "         1.0       1.00      1.00      1.00       751\n",
      "\n",
      "    accuracy                           1.00      2908\n",
      "   macro avg       1.00      1.00      1.00      2908\n",
      "weighted avg       1.00      1.00      1.00      2908\n",
      "\n"
     ]
    }
   ],
   "metadata": {}
  },
  {
   "cell_type": "code",
   "execution_count": null,
   "source": [],
   "outputs": [],
   "metadata": {}
  }
 ],
 "metadata": {
  "orig_nbformat": 4,
  "language_info": {
   "name": "python",
   "version": "3.7.10",
   "mimetype": "text/x-python",
   "codemirror_mode": {
    "name": "ipython",
    "version": 3
   },
   "pygments_lexer": "ipython3",
   "nbconvert_exporter": "python",
   "file_extension": ".py"
  },
  "kernelspec": {
   "name": "python3",
   "display_name": "Python 3.7.10 64-bit ('dev': conda)"
  },
  "interpreter": {
   "hash": "0bc772866a3affdc5803be489598f529b0192fa171585f2d09392617c9a5b224"
  }
 },
 "nbformat": 4,
 "nbformat_minor": 2
}