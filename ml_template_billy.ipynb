{
 "cells": [
  {
   "cell_type": "code",
   "execution_count": 17,
   "source": [
    "import sqlalchemy\r\n",
    "import pandas as pd\r\n"
   ],
   "outputs": [],
   "metadata": {}
  },
  {
   "cell_type": "code",
   "execution_count": 18,
   "source": [
    "db_connection_string = 'sqlite:///./Resources/product.db'\r\n",
    "engine  = sqlalchemy.create_engine(db_connection_string)\r\n",
    "\r\n",
    "inspector = sqlalchemy.inspect(engine)\r\n",
    "table_names = inspector.get_table_names()\r\n",
    "print(table_names)"
   ],
   "outputs": [
    {
     "output_type": "stream",
     "name": "stdout",
     "text": [
      "['CLOV_1_Day_Candles', 'CLOV_1_Min_Candles', 'CLOV_Indicators', 'CLOV_Info', 'FB_1_Day_Candles', 'FB_1_Min_Candles', 'FB_Indicators', 'FB_Info', 'Indicators', 'TSLA_1_Day_Candles', 'TSLA_1_Min_Candles', 'TSLA_Indicators', 'TSLA_Info']\n"
     ]
    }
   ],
   "metadata": {}
  },
  {
   "cell_type": "code",
   "execution_count": 19,
   "source": [
    "ticker = 'TSLA'\r\n",
    "df = pd.read_sql_table(ticker + '_Indicators', con=engine, index_col='Datetime')"
   ],
   "outputs": [],
   "metadata": {}
  },
  {
   "cell_type": "code",
   "execution_count": 20,
   "source": [
    "print(df.tail())"
   ],
   "outputs": [
    {
     "output_type": "stream",
     "name": "stdout",
     "text": [
      "                         Open      High       Low     Close  Volume  \\\n",
      "Datetime                                                              \n",
      "2021-10-05 15:06:00  780.1900  780.3500  780.1900  780.3500     981   \n",
      "2021-10-05 15:07:00  780.5900  780.5900  780.3500  780.3600    1212   \n",
      "2021-10-05 15:09:00  780.4000  780.4000  780.4000  780.4000    1006   \n",
      "2021-10-05 15:10:00  780.3900  780.3900  780.2500  780.2500     858   \n",
      "2021-10-05 15:12:00  780.2001  780.2001  780.2001  780.2001     221   \n",
      "\n",
      "                     Trade Signal  \n",
      "Datetime                           \n",
      "2021-10-05 15:06:00           0.0  \n",
      "2021-10-05 15:07:00           0.0  \n",
      "2021-10-05 15:09:00           1.0  \n",
      "2021-10-05 15:10:00           0.0  \n",
      "2021-10-05 15:12:00           1.0  \n"
     ]
    }
   ],
   "metadata": {}
  },
  {
   "cell_type": "code",
   "execution_count": 21,
   "source": [
    "import matplotlib.pyplot as plt\r\n",
    "from sklearn.model_selection import train_test_split\r\n",
    "from imblearn.over_sampling import RandomOverSampler\r\n",
    "from sklearn.linear_model import LogisticRegression\r\n",
    "from sklearn.metrics import confusion_matrix\r\n",
    "from sklearn.metrics import balanced_accuracy_score\r\n",
    "from sklearn.metrics import classification_report\r\n",
    "from sklearn.preprocessing import StandardScaler\r\n",
    "from sklearn.svm import SVC"
   ],
   "outputs": [],
   "metadata": {}
  },
  {
   "cell_type": "code",
   "execution_count": 22,
   "source": [
    "print(df['Trade Signal'].value_counts())\r\n",
    "\r\n",
    "df = df.copy()\r\n",
    "X = df.drop(columns=['Trade Signal'])\r\n",
    "y = df[\"Trade Signal\"]\r\n",
    "\r\n",
    "X_train, X_test, y_train, y_test = train_test_split(X, y, random_state=1, stratify=y)\r\n",
    "\r\n",
    "scaler = StandardScaler()\r\n",
    "X_scaler = scaler.fit(X_train)\r\n",
    "X_train_scaled = X_scaler.transform(X_train)\r\n",
    "X_test_scaled = X_scaler.transform(X_test)\r\n",
    "\r\n",
    "model = SVC(kernel='linear')\r\n",
    "model.fit(X_train_scaled, y_train)\r\n",
    "y_pred = model.predict(X_test_scaled)\r\n",
    "results = pd.DataFrame({\"Predictions\": y_pred, \"Actual\":y_test})\r\n",
    "\r\n",
    "print(results)\r\n",
    "print(confusion_matrix(y_test, y_pred))\r\n",
    "print(classification_report(y_test, y_pred))"
   ],
   "outputs": [
    {
     "output_type": "stream",
     "name": "stdout",
     "text": [
      "0.0    9479\n",
      "1.0    3468\n",
      "Name: Trade Signal, dtype: int64\n",
      "                     Predictions  Actual\n",
      "Datetime                                \n",
      "2021-09-24 10:13:00          0.0     1.0\n",
      "2021-09-17 15:05:00          0.0     0.0\n",
      "2021-09-30 14:36:00          0.0     0.0\n",
      "2021-10-01 10:38:00          0.0     0.0\n",
      "2021-09-14 11:47:00          0.0     0.0\n",
      "...                          ...     ...\n",
      "2021-10-05 04:06:00          0.0     1.0\n",
      "2021-09-21 03:29:00          0.0     1.0\n",
      "2021-09-30 15:12:00          0.0     0.0\n",
      "2021-09-14 14:04:00          0.0     1.0\n",
      "2021-09-08 08:55:00          0.0     0.0\n",
      "\n",
      "[3237 rows x 2 columns]\n",
      "[[2370    0]\n",
      " [ 867    0]]\n",
      "              precision    recall  f1-score   support\n",
      "\n",
      "         0.0       0.73      1.00      0.85      2370\n",
      "         1.0       0.00      0.00      0.00       867\n",
      "\n",
      "    accuracy                           0.73      3237\n",
      "   macro avg       0.37      0.50      0.42      3237\n",
      "weighted avg       0.54      0.73      0.62      3237\n",
      "\n"
     ]
    },
    {
     "output_type": "stream",
     "name": "stderr",
     "text": [
      "C:\\Users\\bbish\\anaconda3\\envs\\dev\\lib\\site-packages\\sklearn\\metrics\\_classification.py:1248: UndefinedMetricWarning: Precision and F-score are ill-defined and being set to 0.0 in labels with no predicted samples. Use `zero_division` parameter to control this behavior.\n",
      "  _warn_prf(average, modifier, msg_start, len(result))\n",
      "C:\\Users\\bbish\\anaconda3\\envs\\dev\\lib\\site-packages\\sklearn\\metrics\\_classification.py:1248: UndefinedMetricWarning: Precision and F-score are ill-defined and being set to 0.0 in labels with no predicted samples. Use `zero_division` parameter to control this behavior.\n",
      "  _warn_prf(average, modifier, msg_start, len(result))\n",
      "C:\\Users\\bbish\\anaconda3\\envs\\dev\\lib\\site-packages\\sklearn\\metrics\\_classification.py:1248: UndefinedMetricWarning: Precision and F-score are ill-defined and being set to 0.0 in labels with no predicted samples. Use `zero_division` parameter to control this behavior.\n",
      "  _warn_prf(average, modifier, msg_start, len(result))\n"
     ]
    }
   ],
   "metadata": {}
  },
  {
   "cell_type": "code",
   "execution_count": 23,
   "source": [
    "X.head()"
   ],
   "outputs": [
    {
     "output_type": "execute_result",
     "data": {
      "text/html": [
       "<div>\n",
       "<style scoped>\n",
       "    .dataframe tbody tr th:only-of-type {\n",
       "        vertical-align: middle;\n",
       "    }\n",
       "\n",
       "    .dataframe tbody tr th {\n",
       "        vertical-align: top;\n",
       "    }\n",
       "\n",
       "    .dataframe thead th {\n",
       "        text-align: right;\n",
       "    }\n",
       "</style>\n",
       "<table border=\"1\" class=\"dataframe\">\n",
       "  <thead>\n",
       "    <tr style=\"text-align: right;\">\n",
       "      <th></th>\n",
       "      <th>Open</th>\n",
       "      <th>High</th>\n",
       "      <th>Low</th>\n",
       "      <th>Close</th>\n",
       "      <th>Volume</th>\n",
       "    </tr>\n",
       "    <tr>\n",
       "      <th>Datetime</th>\n",
       "      <th></th>\n",
       "      <th></th>\n",
       "      <th></th>\n",
       "      <th></th>\n",
       "      <th></th>\n",
       "    </tr>\n",
       "  </thead>\n",
       "  <tbody>\n",
       "    <tr>\n",
       "      <th>2021-09-07 03:00:00</th>\n",
       "      <td>735.36</td>\n",
       "      <td>737.20</td>\n",
       "      <td>735.36</td>\n",
       "      <td>737.20</td>\n",
       "      <td>2627</td>\n",
       "    </tr>\n",
       "    <tr>\n",
       "      <th>2021-09-07 03:01:00</th>\n",
       "      <td>739.00</td>\n",
       "      <td>739.00</td>\n",
       "      <td>739.00</td>\n",
       "      <td>739.00</td>\n",
       "      <td>1299</td>\n",
       "    </tr>\n",
       "    <tr>\n",
       "      <th>2021-09-07 03:02:00</th>\n",
       "      <td>738.50</td>\n",
       "      <td>738.50</td>\n",
       "      <td>736.65</td>\n",
       "      <td>736.65</td>\n",
       "      <td>2558</td>\n",
       "    </tr>\n",
       "    <tr>\n",
       "      <th>2021-09-07 03:03:00</th>\n",
       "      <td>736.45</td>\n",
       "      <td>736.45</td>\n",
       "      <td>736.45</td>\n",
       "      <td>736.45</td>\n",
       "      <td>544</td>\n",
       "    </tr>\n",
       "    <tr>\n",
       "      <th>2021-09-07 03:04:00</th>\n",
       "      <td>737.50</td>\n",
       "      <td>737.50</td>\n",
       "      <td>737.34</td>\n",
       "      <td>737.34</td>\n",
       "      <td>1151</td>\n",
       "    </tr>\n",
       "  </tbody>\n",
       "</table>\n",
       "</div>"
      ],
      "text/plain": [
       "                       Open    High     Low   Close  Volume\n",
       "Datetime                                                   \n",
       "2021-09-07 03:00:00  735.36  737.20  735.36  737.20    2627\n",
       "2021-09-07 03:01:00  739.00  739.00  739.00  739.00    1299\n",
       "2021-09-07 03:02:00  738.50  738.50  736.65  736.65    2558\n",
       "2021-09-07 03:03:00  736.45  736.45  736.45  736.45     544\n",
       "2021-09-07 03:04:00  737.50  737.50  737.34  737.34    1151"
      ]
     },
     "metadata": {},
     "execution_count": 23
    }
   ],
   "metadata": {}
  },
  {
   "cell_type": "code",
   "execution_count": 24,
   "source": [
    "df.tail()"
   ],
   "outputs": [
    {
     "output_type": "execute_result",
     "data": {
      "text/html": [
       "<div>\n",
       "<style scoped>\n",
       "    .dataframe tbody tr th:only-of-type {\n",
       "        vertical-align: middle;\n",
       "    }\n",
       "\n",
       "    .dataframe tbody tr th {\n",
       "        vertical-align: top;\n",
       "    }\n",
       "\n",
       "    .dataframe thead th {\n",
       "        text-align: right;\n",
       "    }\n",
       "</style>\n",
       "<table border=\"1\" class=\"dataframe\">\n",
       "  <thead>\n",
       "    <tr style=\"text-align: right;\">\n",
       "      <th></th>\n",
       "      <th>Open</th>\n",
       "      <th>High</th>\n",
       "      <th>Low</th>\n",
       "      <th>Close</th>\n",
       "      <th>Volume</th>\n",
       "      <th>Trade Signal</th>\n",
       "    </tr>\n",
       "    <tr>\n",
       "      <th>Datetime</th>\n",
       "      <th></th>\n",
       "      <th></th>\n",
       "      <th></th>\n",
       "      <th></th>\n",
       "      <th></th>\n",
       "      <th></th>\n",
       "    </tr>\n",
       "  </thead>\n",
       "  <tbody>\n",
       "    <tr>\n",
       "      <th>2021-10-05 15:06:00</th>\n",
       "      <td>780.1900</td>\n",
       "      <td>780.3500</td>\n",
       "      <td>780.1900</td>\n",
       "      <td>780.3500</td>\n",
       "      <td>981</td>\n",
       "      <td>0.0</td>\n",
       "    </tr>\n",
       "    <tr>\n",
       "      <th>2021-10-05 15:07:00</th>\n",
       "      <td>780.5900</td>\n",
       "      <td>780.5900</td>\n",
       "      <td>780.3500</td>\n",
       "      <td>780.3600</td>\n",
       "      <td>1212</td>\n",
       "      <td>0.0</td>\n",
       "    </tr>\n",
       "    <tr>\n",
       "      <th>2021-10-05 15:09:00</th>\n",
       "      <td>780.4000</td>\n",
       "      <td>780.4000</td>\n",
       "      <td>780.4000</td>\n",
       "      <td>780.4000</td>\n",
       "      <td>1006</td>\n",
       "      <td>1.0</td>\n",
       "    </tr>\n",
       "    <tr>\n",
       "      <th>2021-10-05 15:10:00</th>\n",
       "      <td>780.3900</td>\n",
       "      <td>780.3900</td>\n",
       "      <td>780.2500</td>\n",
       "      <td>780.2500</td>\n",
       "      <td>858</td>\n",
       "      <td>0.0</td>\n",
       "    </tr>\n",
       "    <tr>\n",
       "      <th>2021-10-05 15:12:00</th>\n",
       "      <td>780.2001</td>\n",
       "      <td>780.2001</td>\n",
       "      <td>780.2001</td>\n",
       "      <td>780.2001</td>\n",
       "      <td>221</td>\n",
       "      <td>1.0</td>\n",
       "    </tr>\n",
       "  </tbody>\n",
       "</table>\n",
       "</div>"
      ],
      "text/plain": [
       "                         Open      High       Low     Close  Volume  \\\n",
       "Datetime                                                              \n",
       "2021-10-05 15:06:00  780.1900  780.3500  780.1900  780.3500     981   \n",
       "2021-10-05 15:07:00  780.5900  780.5900  780.3500  780.3600    1212   \n",
       "2021-10-05 15:09:00  780.4000  780.4000  780.4000  780.4000    1006   \n",
       "2021-10-05 15:10:00  780.3900  780.3900  780.2500  780.2500     858   \n",
       "2021-10-05 15:12:00  780.2001  780.2001  780.2001  780.2001     221   \n",
       "\n",
       "                     Trade Signal  \n",
       "Datetime                           \n",
       "2021-10-05 15:06:00           0.0  \n",
       "2021-10-05 15:07:00           0.0  \n",
       "2021-10-05 15:09:00           1.0  \n",
       "2021-10-05 15:10:00           0.0  \n",
       "2021-10-05 15:12:00           1.0  "
      ]
     },
     "metadata": {},
     "execution_count": 24
    }
   ],
   "metadata": {}
  },
  {
   "cell_type": "code",
   "execution_count": null,
   "source": [],
   "outputs": [],
   "metadata": {}
  }
 ],
 "metadata": {
  "orig_nbformat": 4,
  "language_info": {
   "name": "python",
   "version": "3.7.10",
   "mimetype": "text/x-python",
   "codemirror_mode": {
    "name": "ipython",
    "version": 3
   },
   "pygments_lexer": "ipython3",
   "nbconvert_exporter": "python",
   "file_extension": ".py"
  },
  "kernelspec": {
   "name": "python3",
   "display_name": "Python 3.7.10 64-bit ('dev': conda)"
  },
  "interpreter": {
   "hash": "0bc772866a3affdc5803be489598f529b0192fa171585f2d09392617c9a5b224"
  }
 },
 "nbformat": 4,
 "nbformat_minor": 2
}