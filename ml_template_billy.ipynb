{
 "cells": [
  {
   "cell_type": "code",
   "execution_count": 43,
   "source": [
    "import sqlalchemy\r\n",
    "import pandas as pd\r\n"
   ],
   "outputs": [],
   "metadata": {}
  },
  {
   "cell_type": "code",
   "execution_count": 44,
   "source": [
    "db_connection_string = 'sqlite:///./Resources/products.db'\r\n",
    "engine  = sqlalchemy.create_engine(db_connection_string)\r\n",
    "\r\n",
    "inspector = sqlalchemy.inspect(engine)\r\n",
    "table_names = inspector.get_table_names()\r\n",
    "print(table_names)"
   ],
   "outputs": [
    {
     "output_type": "stream",
     "name": "stdout",
     "text": [
      "['AAPL_1_Day_Candles', 'AAPL_1_Min_Candles', 'AAPL_Info', 'CLOV_1_Day_Candles', 'CLOV_1_Min_Candles', 'CLOV_Info', 'Indicators', 'MARA_1_Day_Candles', 'MARA_1_Min_Candles', 'MARA_Info', 'RIOT_1_Day_Candles', 'RIOT_1_Min_Candles', 'RIOT_Info', 'TSLA_1_Day_Candles', 'TSLA_1_Min_Candles', 'TSLA_Info', 'WHD_1_Day_Candles', 'WHD_1_Min_Candles', 'WHD_Info']\n"
     ]
    }
   ],
   "metadata": {}
  },
  {
   "cell_type": "code",
   "execution_count": 45,
   "source": [
    "indicators_df = pd.read_sql_table('Indicators', con=engine, index_col='Datetime')"
   ],
   "outputs": [],
   "metadata": {}
  },
  {
   "cell_type": "code",
   "execution_count": 46,
   "source": [
    "print(indicators_df.head())"
   ],
   "outputs": [
    {
     "output_type": "stream",
     "name": "stdout",
     "text": [
      "                     Open  High   Low  Close  Volume  CDLDOJI  Trailing Stop  \\\n",
      "Datetime                                                                       \n",
      "2021-09-07 03:16:00  9.09  9.10  9.07   9.09    3340      100       9.003265   \n",
      "2021-09-07 03:17:00  9.10  9.13  9.10   9.13    1720        0       9.042318   \n",
      "2021-09-07 03:18:00  9.13  9.13  9.13   9.13     570      100       9.048581   \n",
      "2021-09-07 03:19:00  9.13  9.13  9.13   9.13     412      100       9.054396   \n",
      "2021-09-07 03:20:00  9.13  9.13  9.13   9.13     277      100       9.059797   \n",
      "\n",
      "                     Trade Signal  Pct Change  Stop Loss  \n",
      "Datetime                                                  \n",
      "2021-09-07 03:16:00           1.0    0.003311   9.003265  \n",
      "2021-09-07 03:17:00           0.0    0.004400   9.042318  \n",
      "2021-09-07 03:18:00           1.0    0.000000   0.000000  \n",
      "2021-09-07 03:19:00           1.0    0.000000   9.048581  \n",
      "2021-09-07 03:20:00           1.0    0.000000   9.054396  \n"
     ]
    }
   ],
   "metadata": {}
  },
  {
   "cell_type": "code",
   "execution_count": 47,
   "source": [
    "import matplotlib.pyplot as plt\r\n",
    "from sklearn.model_selection import train_test_split\r\n",
    "from imblearn.over_sampling import RandomOverSampler\r\n",
    "from sklearn.linear_model import LogisticRegression\r\n",
    "from sklearn.metrics import confusion_matrix\r\n",
    "from sklearn.metrics import balanced_accuracy_score\r\n",
    "from imblearn.metrics import classification_report_imbalanced"
   ],
   "outputs": [],
   "metadata": {}
  },
  {
   "cell_type": "code",
   "execution_count": 48,
   "source": [
    "#Segment features from the trade signal\r\n",
    "df = indicators_df.copy()\r\n",
    "# X = df.drop(columns=['Trade Signal', 'Open', 'High', 'Low', 'Trailing Stop', 'Pct Change'])\r\n",
    "X = df.drop(columns=['Trade Signal'])\r\n",
    "y = df[\"Trade Signal\"]"
   ],
   "outputs": [],
   "metadata": {}
  },
  {
   "cell_type": "code",
   "execution_count": 49,
   "source": [
    "X_train, X_test, y_train, y_test = train_test_split(X, y, random_state=1, stratify=y)"
   ],
   "outputs": [],
   "metadata": {}
  },
  {
   "cell_type": "code",
   "execution_count": 50,
   "source": [
    "# import StandardScaler\r\n",
    "from sklearn.preprocessing import StandardScaler\r\n",
    "\r\n",
    "# Scale the data\r\n",
    "scaler = StandardScaler()\r\n",
    "X_scaler = scaler.fit(X_train)\r\n",
    "X_train_scaled = X_scaler.transform(X_train)\r\n",
    "X_test_scaled = X_scaler.transform(X_test)"
   ],
   "outputs": [],
   "metadata": {}
  },
  {
   "cell_type": "code",
   "execution_count": 51,
   "source": [
    "display(X_train_scaled, y_train)"
   ],
   "outputs": [
    {
     "output_type": "display_data",
     "data": {
      "text/plain": [
       "array([[-0.64931867, -0.65531826, -0.64308122, ..., -0.65566221,\n",
       "        -1.09223895, -1.32695589],\n",
       "       [-0.47225855, -0.47905315, -0.46516667, ..., -0.45404394,\n",
       "         0.00640027, -1.32695589],\n",
       "       [ 0.01322887,  0.00425439,  0.02266355, ...,  0.02929321,\n",
       "         0.51958043,  0.74277269],\n",
       "       ...,\n",
       "       [-0.58077927, -0.57571466, -0.57421107, ..., -0.58816083,\n",
       "         0.00640027, -1.32695589],\n",
       "       [-0.72356968, -0.72923588, -0.71769055, ..., -0.71634568,\n",
       "        -0.27110207, -1.32695589],\n",
       "       [-0.5922025 , -0.5870866 , -0.58568943, ..., -0.55367353,\n",
       "         0.00640027,  0.61914632]])"
      ]
     },
     "metadata": {}
    },
    {
     "output_type": "display_data",
     "data": {
      "text/plain": [
       "Datetime\n",
       "2021-09-27 06:03:00    1.0\n",
       "2021-09-23 11:32:00    1.0\n",
       "2021-09-14 06:55:00    1.0\n",
       "2021-09-09 13:16:00    0.0\n",
       "2021-09-15 12:15:00    1.0\n",
       "                      ... \n",
       "2021-09-09 05:24:00    0.0\n",
       "2021-09-20 14:48:00    0.0\n",
       "2021-09-28 14:52:00    1.0\n",
       "2021-09-24 10:57:00    1.0\n",
       "2021-09-24 07:55:00    0.0\n",
       "Name: Trade Signal, Length: 9391, dtype: float64"
      ]
     },
     "metadata": {}
    }
   ],
   "metadata": {}
  },
  {
   "cell_type": "code",
   "execution_count": 52,
   "source": [
    "# MODEL\r\n",
    "from sklearn.svm import SVC\r\n",
    "# from sklearn.svm import SVR\r\n",
    "\r\n",
    "# Instantiate a linear SVM model\r\n",
    "model = SVC(kernel='linear')\r\n",
    "# model = LogisticRegression()\r\n",
    "model"
   ],
   "outputs": [
    {
     "output_type": "execute_result",
     "data": {
      "text/plain": [
       "SVC(kernel='linear')"
      ]
     },
     "metadata": {},
     "execution_count": 52
    }
   ],
   "metadata": {}
  },
  {
   "cell_type": "code",
   "execution_count": 53,
   "source": [
    "# FIT\r\n",
    "# Fit the data\r\n",
    "model.fit(X_train_scaled, y_train)"
   ],
   "outputs": [
    {
     "output_type": "execute_result",
     "data": {
      "text/plain": [
       "SVC(kernel='linear')"
      ]
     },
     "metadata": {},
     "execution_count": 53
    }
   ],
   "metadata": {}
  },
  {
   "cell_type": "code",
   "execution_count": 54,
   "source": [
    "# PREDICT\r\n",
    "# Make predictions using the test data\r\n",
    "y_pred = model.predict(X_test_scaled)\r\n",
    "\r\n",
    "results = pd.DataFrame(\r\n",
    "    {\r\n",
    "        \"Predictions\": y_pred,\r\n",
    "        \"Actual\":y_test\r\n",
    "    }\r\n",
    ")\r\n",
    "results"
   ],
   "outputs": [
    {
     "output_type": "execute_result",
     "data": {
      "text/html": [
       "<div>\n",
       "<style scoped>\n",
       "    .dataframe tbody tr th:only-of-type {\n",
       "        vertical-align: middle;\n",
       "    }\n",
       "\n",
       "    .dataframe tbody tr th {\n",
       "        vertical-align: top;\n",
       "    }\n",
       "\n",
       "    .dataframe thead th {\n",
       "        text-align: right;\n",
       "    }\n",
       "</style>\n",
       "<table border=\"1\" class=\"dataframe\">\n",
       "  <thead>\n",
       "    <tr style=\"text-align: right;\">\n",
       "      <th></th>\n",
       "      <th>Predictions</th>\n",
       "      <th>Actual</th>\n",
       "    </tr>\n",
       "    <tr>\n",
       "      <th>Datetime</th>\n",
       "      <th></th>\n",
       "      <th></th>\n",
       "    </tr>\n",
       "  </thead>\n",
       "  <tbody>\n",
       "    <tr>\n",
       "      <th>2021-09-08 06:31:00</th>\n",
       "      <td>0.0</td>\n",
       "      <td>0.0</td>\n",
       "    </tr>\n",
       "    <tr>\n",
       "      <th>2021-09-08 09:32:00</th>\n",
       "      <td>0.0</td>\n",
       "      <td>0.0</td>\n",
       "    </tr>\n",
       "    <tr>\n",
       "      <th>2021-09-27 05:30:00</th>\n",
       "      <td>1.0</td>\n",
       "      <td>1.0</td>\n",
       "    </tr>\n",
       "    <tr>\n",
       "      <th>2021-09-29 12:08:00</th>\n",
       "      <td>0.0</td>\n",
       "      <td>0.0</td>\n",
       "    </tr>\n",
       "    <tr>\n",
       "      <th>2021-09-20 03:31:00</th>\n",
       "      <td>1.0</td>\n",
       "      <td>1.0</td>\n",
       "    </tr>\n",
       "    <tr>\n",
       "      <th>...</th>\n",
       "      <td>...</td>\n",
       "      <td>...</td>\n",
       "    </tr>\n",
       "    <tr>\n",
       "      <th>2021-09-29 18:46:00</th>\n",
       "      <td>1.0</td>\n",
       "      <td>1.0</td>\n",
       "    </tr>\n",
       "    <tr>\n",
       "      <th>2021-09-24 10:50:00</th>\n",
       "      <td>0.0</td>\n",
       "      <td>0.0</td>\n",
       "    </tr>\n",
       "    <tr>\n",
       "      <th>2021-09-13 11:20:00</th>\n",
       "      <td>1.0</td>\n",
       "      <td>1.0</td>\n",
       "    </tr>\n",
       "    <tr>\n",
       "      <th>2021-09-30 09:00:00</th>\n",
       "      <td>1.0</td>\n",
       "      <td>1.0</td>\n",
       "    </tr>\n",
       "    <tr>\n",
       "      <th>2021-09-14 08:31:00</th>\n",
       "      <td>0.0</td>\n",
       "      <td>0.0</td>\n",
       "    </tr>\n",
       "  </tbody>\n",
       "</table>\n",
       "<p>3131 rows × 2 columns</p>\n",
       "</div>"
      ],
      "text/plain": [
       "                     Predictions  Actual\n",
       "Datetime                                \n",
       "2021-09-08 06:31:00          0.0     0.0\n",
       "2021-09-08 09:32:00          0.0     0.0\n",
       "2021-09-27 05:30:00          1.0     1.0\n",
       "2021-09-29 12:08:00          0.0     0.0\n",
       "2021-09-20 03:31:00          1.0     1.0\n",
       "...                          ...     ...\n",
       "2021-09-29 18:46:00          1.0     1.0\n",
       "2021-09-24 10:50:00          0.0     0.0\n",
       "2021-09-13 11:20:00          1.0     1.0\n",
       "2021-09-30 09:00:00          1.0     1.0\n",
       "2021-09-14 08:31:00          0.0     0.0\n",
       "\n",
       "[3131 rows x 2 columns]"
      ]
     },
     "metadata": {},
     "execution_count": 54
    }
   ],
   "metadata": {}
  },
  {
   "cell_type": "code",
   "execution_count": 55,
   "source": [
    "# EVALUATE\r\n",
    "# Generate confusion matrix\r\n",
    "print(confusion_matrix(y_test, y_pred))"
   ],
   "outputs": [
    {
     "output_type": "stream",
     "name": "stdout",
     "text": [
      "[[1845    0]\n",
      " [   0 1286]]\n"
     ]
    }
   ],
   "metadata": {}
  },
  {
   "cell_type": "code",
   "execution_count": 56,
   "source": [
    "# Generate Classification Report\r\n",
    "from sklearn.metrics import classification_report\r\n",
    "print(classification_report(y_test, y_pred))"
   ],
   "outputs": [
    {
     "output_type": "stream",
     "name": "stdout",
     "text": [
      "              precision    recall  f1-score   support\n",
      "\n",
      "         0.0       1.00      1.00      1.00      1845\n",
      "         1.0       1.00      1.00      1.00      1286\n",
      "\n",
      "    accuracy                           1.00      3131\n",
      "   macro avg       1.00      1.00      1.00      3131\n",
      "weighted avg       1.00      1.00      1.00      3131\n",
      "\n"
     ]
    }
   ],
   "metadata": {}
  },
  {
   "cell_type": "code",
   "execution_count": null,
   "source": [],
   "outputs": [],
   "metadata": {}
  },
  {
   "cell_type": "code",
   "execution_count": null,
   "source": [],
   "outputs": [],
   "metadata": {}
  },
  {
   "cell_type": "code",
   "execution_count": null,
   "source": [],
   "outputs": [],
   "metadata": {}
  }
 ],
 "metadata": {
  "orig_nbformat": 4,
  "language_info": {
   "name": "python",
   "version": "3.7.10",
   "mimetype": "text/x-python",
   "codemirror_mode": {
    "name": "ipython",
    "version": 3
   },
   "pygments_lexer": "ipython3",
   "nbconvert_exporter": "python",
   "file_extension": ".py"
  },
  "kernelspec": {
   "name": "python3",
   "display_name": "Python 3.7.10 64-bit ('dev': conda)"
  },
  "interpreter": {
   "hash": "0bc772866a3affdc5803be489598f529b0192fa171585f2d09392617c9a5b224"
  }
 },
 "nbformat": 4,
 "nbformat_minor": 2
}