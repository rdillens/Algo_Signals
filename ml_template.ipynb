{
 "cells": [
  {
   "cell_type": "code",
   "execution_count": 1,
   "source": [
    "import sqlalchemy\r\n",
    "import pandas as pd\r\n"
   ],
   "outputs": [],
   "metadata": {}
  },
  {
   "cell_type": "code",
   "execution_count": 2,
   "source": [
    "db_connection_string = 'sqlite:///./Resources/products.db'\r\n",
    "engine  = sqlalchemy.create_engine(db_connection_string)\r\n",
    "\r\n",
    "inspector = sqlalchemy.inspect(engine)\r\n",
    "table_names = inspector.get_table_names()\r\n",
    "print(table_names)"
   ],
   "outputs": [
    {
     "output_type": "stream",
     "name": "stdout",
     "text": [
      "['Indicators', 'TSLA_1_Day_Candles', 'TSLA_1_Min_Candles', 'TSLA_Info']\n"
     ]
    }
   ],
   "metadata": {}
  },
  {
   "cell_type": "code",
   "execution_count": 3,
   "source": [
    "indicators_df = pd.read_sql_table('Indicators', con=engine, index_col='Datetime')"
   ],
   "outputs": [],
   "metadata": {}
  },
  {
   "cell_type": "code",
   "execution_count": 4,
   "source": [
    "print(indicators_df.head())"
   ],
   "outputs": [
    {
     "output_type": "stream",
     "name": "stdout",
     "text": [
      "                       Open    High     Low   Close  Volume  CDLDOJI  \\\n",
      "Datetime                                                               \n",
      "2021-09-02 12:42:00  736.10  736.19  735.72  735.73   10329        0   \n",
      "2021-09-02 12:43:00  735.72  735.84  735.39  735.51   16975        0   \n",
      "2021-09-02 12:44:00  735.50  735.50  735.24  735.40   21540        0   \n",
      "2021-09-02 12:45:00  735.35  735.58  735.17  735.41   32560        0   \n",
      "2021-09-02 12:46:00  735.39  735.43  734.80  734.83   52841        0   \n",
      "\n",
      "                     Trailing Stop  Trade Signal  Pct Change  Stop Loss  \n",
      "Datetime                                                                 \n",
      "2021-09-02 12:42:00            NaN           0.0         NaN        0.0  \n",
      "2021-09-02 12:43:00            NaN           0.0   -0.000299        0.0  \n",
      "2021-09-02 12:44:00            NaN           0.0   -0.000150        0.0  \n",
      "2021-09-02 12:45:00            NaN           0.0    0.000014        0.0  \n",
      "2021-09-02 12:46:00            NaN           0.0   -0.000789        0.0  \n"
     ]
    }
   ],
   "metadata": {}
  }
 ],
 "metadata": {
  "orig_nbformat": 4,
  "language_info": {
   "name": "python",
   "version": "3.7.10",
   "mimetype": "text/x-python",
   "codemirror_mode": {
    "name": "ipython",
    "version": 3
   },
   "pygments_lexer": "ipython3",
   "nbconvert_exporter": "python",
   "file_extension": ".py"
  },
  "kernelspec": {
   "name": "python3",
   "display_name": "Python 3.7.10 64-bit ('algo': conda)"
  },
  "interpreter": {
   "hash": "d4156aaab05991101c6a751683038476f3e64298aad0394e408e9e53044404ee"
  }
 },
 "nbformat": 4,
 "nbformat_minor": 2
}