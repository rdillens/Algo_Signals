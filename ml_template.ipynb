{
 "cells": [
  {
   "cell_type": "code",
   "execution_count": 1,
   "source": [
    "import sqlalchemy\r\n",
    "import pandas as pd\r\n"
   ],
   "outputs": [],
   "metadata": {}
  },
  {
   "cell_type": "code",
   "execution_count": 2,
   "source": [
    "db_connection_string = 'sqlite:///./Resources/product.db'\r\n",
    "engine  = sqlalchemy.create_engine(db_connection_string)\r\n",
    "\r\n",
    "inspector = sqlalchemy.inspect(engine)\r\n",
    "table_names = inspector.get_table_names()\r\n",
    "print(table_names)"
   ],
   "outputs": [
    {
     "output_type": "stream",
     "name": "stdout",
     "text": [
      "['AAPL_1_Day_Candles', 'AAPL_1_Min_Candles', 'AAPL_Indicators', 'AAPL_Info', 'MSFT_1_Day_Candles', 'MSFT_1_Min_Candles', 'MSFT_Indicators', 'MSFT_Info', 'TSLA_1_Day_Candles', 'TSLA_1_Min_Candles', 'TSLA_Indicators', 'TSLA_Info']\n"
     ]
    }
   ],
   "metadata": {}
  },
  {
   "cell_type": "code",
   "execution_count": 11,
   "source": [
    "ticker = 'MSFT'\r\n",
    "indicators_df = pd.read_sql_table(ticker + '_Indicators', con=engine, index_col='Datetime')"
   ],
   "outputs": [],
   "metadata": {}
  },
  {
   "cell_type": "code",
   "execution_count": 12,
   "source": [
    "print(indicators_df.head())"
   ],
   "outputs": [
    {
     "output_type": "stream",
     "name": "stdout",
     "text": [
      "                       Open    High      Low   Close  Volume  CDLDOJI  \\\n",
      "Datetime                                                                \n",
      "2021-09-02 12:56:00  733.89  734.31  733.750  734.21   28796        0   \n",
      "2021-09-02 12:57:00  734.29  734.64  734.219  734.41   34903        0   \n",
      "2021-09-02 12:58:00  734.35  734.63  734.260  734.50   19890        0   \n",
      "2021-09-02 12:59:00  734.60  734.77  734.510  734.56    9812      100   \n",
      "2021-09-02 13:00:00  734.35  734.66  734.290  734.50   23069        0   \n",
      "\n",
      "                     Trailing Stop  Trade Signal  Pct Change   Stop Loss  ...  \\\n",
      "Datetime                                                                  ...   \n",
      "2021-09-02 12:56:00     732.988571           0.0    0.000463  732.988571  ...   \n",
      "2021-09-02 12:57:00     733.199031           1.0    0.000272  733.199031  ...   \n",
      "2021-09-02 12:58:00     733.309457           1.0    0.000123  733.309457  ...   \n",
      "2021-09-02 12:59:00     733.406281           1.0    0.000082  733.406281  ...   \n",
      "2021-09-02 13:00:00     733.362619           1.0   -0.000082  733.406281  ...   \n",
      "\n",
      "                     CDL3STARSINSOUTH  CDL3WHITESOLDIERS  CDLABANDONEDBABY  \\\n",
      "Datetime                                                                     \n",
      "2021-09-02 12:56:00                 0                  0                 0   \n",
      "2021-09-02 12:57:00                 0                  0                 0   \n",
      "2021-09-02 12:58:00                 0                  0                 0   \n",
      "2021-09-02 12:59:00                 0                  0                 0   \n",
      "2021-09-02 13:00:00                 0                  0                 0   \n",
      "\n",
      "                     CDLADVANCEBLOCK  CDLBELTHOLD  CDLBREAKAWAY  \\\n",
      "Datetime                                                          \n",
      "2021-09-02 12:56:00                0            0             0   \n",
      "2021-09-02 12:57:00                0            0             0   \n",
      "2021-09-02 12:58:00                0            0             0   \n",
      "2021-09-02 12:59:00                0            0             0   \n",
      "2021-09-02 13:00:00                0            0             0   \n",
      "\n",
      "                     CDLCLOSINGMARUBOZU  CDLCONCEALBABYSWALL  \\\n",
      "Datetime                                                       \n",
      "2021-09-02 12:56:00                   0                    0   \n",
      "2021-09-02 12:57:00                   0                    0   \n",
      "2021-09-02 12:58:00                   0                    0   \n",
      "2021-09-02 12:59:00                   0                    0   \n",
      "2021-09-02 13:00:00                   0                    0   \n",
      "\n",
      "                     CDLCOUNTERATTACK  CDLDARKCLOUDCOVER  \n",
      "Datetime                                                  \n",
      "2021-09-02 12:56:00                 0                  0  \n",
      "2021-09-02 12:57:00                 0                  0  \n",
      "2021-09-02 12:58:00                 0                  0  \n",
      "2021-09-02 12:59:00                 0                  0  \n",
      "2021-09-02 13:00:00                 0                  0  \n",
      "\n",
      "[5 rows x 22 columns]\n"
     ]
    }
   ],
   "metadata": {}
  }
 ],
 "metadata": {
  "orig_nbformat": 4,
  "language_info": {
   "name": "python",
   "version": "3.7.10",
   "mimetype": "text/x-python",
   "codemirror_mode": {
    "name": "ipython",
    "version": 3
   },
   "pygments_lexer": "ipython3",
   "nbconvert_exporter": "python",
   "file_extension": ".py"
  },
  "kernelspec": {
   "name": "python3",
   "display_name": "Python 3.7.10 64-bit ('algo': conda)"
  },
  "interpreter": {
   "hash": "d4156aaab05991101c6a751683038476f3e64298aad0394e408e9e53044404ee"
  }
 },
 "nbformat": 4,
 "nbformat_minor": 2
}