{
 "cells": [
  {
   "cell_type": "code",
   "execution_count": 1,
   "source": [
    "import pandas as pd\r\n",
    "from pathlib import Path\r\n",
    "import tensorflow as tf\r\n",
    "from tensorflow.keras.layers import Dense\r\n",
    "from tensorflow.keras.models import Sequential\r\n",
    "from sklearn.model_selection import train_test_split\r\n",
    "from sklearn.preprocessing import StandardScaler,OneHotEncoder\r\n",
    "import sqlalchemy\r\n",
    "# import h5py"
   ],
   "outputs": [],
   "metadata": {}
  },
  {
   "cell_type": "code",
   "execution_count": 2,
   "source": [
    "db_connection_string = 'sqlite:///./Resources/products.db'\r\n",
    "engine  = sqlalchemy.create_engine(db_connection_string)\r\n",
    "\r\n",
    "inspector = sqlalchemy.inspect(engine)\r\n",
    "table_names = inspector.get_table_names()\r\n",
    "print(table_names)"
   ],
   "outputs": [
    {
     "output_type": "stream",
     "name": "stdout",
     "text": [
      "['HSFT_1_Day_Candles', 'HSFT_Info', 'Indicators', 'MSFT_1_Day_Candles', 'MSFT_1_Min_Candles', 'MSFT_Info', 'TSLA_1_Day_Candles', 'TSLA_1_Min_Candles', 'TSLA_Info']\n"
     ]
    }
   ],
   "metadata": {}
  },
  {
   "cell_type": "code",
   "execution_count": 3,
   "source": [
    "indicators_df = pd.read_sql_table('Indicators', con=engine, index_col='Datetime')"
   ],
   "outputs": [],
   "metadata": {}
  },
  {
   "cell_type": "markdown",
   "source": [
    "---\n",
    "\n",
    "## Prepare the data to be used on a neural network model"
   ],
   "metadata": {}
  },
  {
   "cell_type": "code",
   "execution_count": 4,
   "source": [
    "print(indicators_df.head())"
   ],
   "outputs": [
    {
     "output_type": "stream",
     "name": "stdout",
     "text": [
      "                       Open    High      Low   Close  Volume  CDLDOJI  \\\n",
      "Datetime                                                                \n",
      "2021-09-02 12:56:00  733.89  734.31  733.750  734.21   28796        0   \n",
      "2021-09-02 12:57:00  734.29  734.64  734.219  734.41   34903        0   \n",
      "2021-09-02 12:58:00  734.35  734.63  734.260  734.50   19890        0   \n",
      "2021-09-02 12:59:00  734.60  734.77  734.510  734.56    9812      100   \n",
      "2021-09-02 13:00:00  734.35  734.66  734.290  734.50   23069        0   \n",
      "\n",
      "                     Trailing Stop  Trade Signal  Pct Change   Stop Loss  \\\n",
      "Datetime                                                                   \n",
      "2021-09-02 12:56:00     732.988571           1.0    0.000463  732.988571   \n",
      "2021-09-02 12:57:00     733.199031           1.0    0.000272  733.199031   \n",
      "2021-09-02 12:58:00     733.309457           1.0    0.000123  733.309457   \n",
      "2021-09-02 12:59:00     733.406281           1.0    0.000082  733.406281   \n",
      "2021-09-02 13:00:00     733.362619           1.0   -0.000082  733.406281   \n",
      "\n",
      "                     CDL3WHITESOLDIERS  CDLABANDONEDBABY  CDLADVANCEBLOCK  \\\n",
      "Datetime                                                                    \n",
      "2021-09-02 12:56:00                  0                 0                0   \n",
      "2021-09-02 12:57:00                  0                 0                0   \n",
      "2021-09-02 12:58:00                  0                 0                0   \n",
      "2021-09-02 12:59:00                  0                 0                0   \n",
      "2021-09-02 13:00:00                  0                 0                0   \n",
      "\n",
      "                     CDLBELTHOLD  CDLBREAKAWAY  CDLCLOSINGMARUBOZU  \\\n",
      "Datetime                                                             \n",
      "2021-09-02 12:56:00            0             0                   0   \n",
      "2021-09-02 12:57:00            0             0                   0   \n",
      "2021-09-02 12:58:00            0             0                   0   \n",
      "2021-09-02 12:59:00            0             0                   0   \n",
      "2021-09-02 13:00:00            0             0                   0   \n",
      "\n",
      "                     CDLCONCEALBABYSWALL  CDLCOUNTERATTACK  CDLDARKCLOUDCOVER  \n",
      "Datetime                                                                       \n",
      "2021-09-02 12:56:00                    0                 0                  0  \n",
      "2021-09-02 12:57:00                    0                 0                  0  \n",
      "2021-09-02 12:58:00                    0                 0                  0  \n",
      "2021-09-02 12:59:00                    0                 0                  0  \n",
      "2021-09-02 13:00:00                    0                 0                  0  \n"
     ]
    }
   ],
   "metadata": {}
  },
  {
   "cell_type": "code",
   "execution_count": 5,
   "source": [
    "# Review the data types associated with the columns\r\n",
    "indicators_df.dtypes"
   ],
   "outputs": [
    {
     "output_type": "execute_result",
     "data": {
      "text/plain": [
       "Open                   float64\n",
       "High                   float64\n",
       "Low                    float64\n",
       "Close                  float64\n",
       "Volume                   int64\n",
       "CDLDOJI                  int64\n",
       "Trailing Stop          float64\n",
       "Trade Signal           float64\n",
       "Pct Change             float64\n",
       "Stop Loss              float64\n",
       "CDL3WHITESOLDIERS        int64\n",
       "CDLABANDONEDBABY         int64\n",
       "CDLADVANCEBLOCK          int64\n",
       "CDLBELTHOLD              int64\n",
       "CDLBREAKAWAY             int64\n",
       "CDLCLOSINGMARUBOZU       int64\n",
       "CDLCONCEALBABYSWALL      int64\n",
       "CDLCOUNTERATTACK         int64\n",
       "CDLDARKCLOUDCOVER        int64\n",
       "dtype: object"
      ]
     },
     "metadata": {},
     "execution_count": 5
    }
   ],
   "metadata": {}
  },
  {
   "cell_type": "code",
   "execution_count": 6,
   "source": [
    "display(indicators_df['Trade Signal'].value_counts())"
   ],
   "outputs": [
    {
     "output_type": "display_data",
     "data": {
      "text/plain": [
       " 1.0    11282\n",
       " 0.0      843\n",
       "-1.0      350\n",
       "Name: Trade Signal, dtype: int64"
      ]
     },
     "metadata": {}
    }
   ],
   "metadata": {}
  },
  {
   "cell_type": "markdown",
   "source": [
    "### Step 5: Using the preprocessed data, create the features (`X`) and target (`y`) datasets. The target dataset should be defined by the preprocessed DataFrame column “IS_SUCCESSFUL”. The remaining columns should define the features dataset. \n",
    "\n"
   ],
   "metadata": {}
  },
  {
   "cell_type": "code",
   "execution_count": 7,
   "source": [
    "# Define the target set y using the IS_SUCCESSFUL column\r\n",
    "y = indicators_df['Trade Signal']\r\n",
    "\r\n",
    "# Display a sample of y\r\n",
    "display(y.head())"
   ],
   "outputs": [
    {
     "output_type": "display_data",
     "data": {
      "text/plain": [
       "Datetime\n",
       "2021-09-02 12:56:00    1.0\n",
       "2021-09-02 12:57:00    1.0\n",
       "2021-09-02 12:58:00    1.0\n",
       "2021-09-02 12:59:00    1.0\n",
       "2021-09-02 13:00:00    1.0\n",
       "Name: Trade Signal, dtype: float64"
      ]
     },
     "metadata": {}
    }
   ],
   "metadata": {}
  },
  {
   "cell_type": "code",
   "execution_count": 8,
   "source": [
    "# Define features set X by selecting all columns but IS_SUCCESSFUL\r\n",
    "X = indicators_df.drop(columns=['Trade Signal'])\r\n",
    "\r\n",
    "# Review the features DataFrame\r\n",
    "display(X.head())"
   ],
   "outputs": [
    {
     "output_type": "display_data",
     "data": {
      "text/html": [
       "<div>\n",
       "<style scoped>\n",
       "    .dataframe tbody tr th:only-of-type {\n",
       "        vertical-align: middle;\n",
       "    }\n",
       "\n",
       "    .dataframe tbody tr th {\n",
       "        vertical-align: top;\n",
       "    }\n",
       "\n",
       "    .dataframe thead th {\n",
       "        text-align: right;\n",
       "    }\n",
       "</style>\n",
       "<table border=\"1\" class=\"dataframe\">\n",
       "  <thead>\n",
       "    <tr style=\"text-align: right;\">\n",
       "      <th></th>\n",
       "      <th>Open</th>\n",
       "      <th>High</th>\n",
       "      <th>Low</th>\n",
       "      <th>Close</th>\n",
       "      <th>Volume</th>\n",
       "      <th>CDLDOJI</th>\n",
       "      <th>Trailing Stop</th>\n",
       "      <th>Pct Change</th>\n",
       "      <th>Stop Loss</th>\n",
       "      <th>CDL3WHITESOLDIERS</th>\n",
       "      <th>CDLABANDONEDBABY</th>\n",
       "      <th>CDLADVANCEBLOCK</th>\n",
       "      <th>CDLBELTHOLD</th>\n",
       "      <th>CDLBREAKAWAY</th>\n",
       "      <th>CDLCLOSINGMARUBOZU</th>\n",
       "      <th>CDLCONCEALBABYSWALL</th>\n",
       "      <th>CDLCOUNTERATTACK</th>\n",
       "      <th>CDLDARKCLOUDCOVER</th>\n",
       "    </tr>\n",
       "    <tr>\n",
       "      <th>Datetime</th>\n",
       "      <th></th>\n",
       "      <th></th>\n",
       "      <th></th>\n",
       "      <th></th>\n",
       "      <th></th>\n",
       "      <th></th>\n",
       "      <th></th>\n",
       "      <th></th>\n",
       "      <th></th>\n",
       "      <th></th>\n",
       "      <th></th>\n",
       "      <th></th>\n",
       "      <th></th>\n",
       "      <th></th>\n",
       "      <th></th>\n",
       "      <th></th>\n",
       "      <th></th>\n",
       "      <th></th>\n",
       "    </tr>\n",
       "  </thead>\n",
       "  <tbody>\n",
       "    <tr>\n",
       "      <th>2021-09-02 12:56:00</th>\n",
       "      <td>733.89</td>\n",
       "      <td>734.31</td>\n",
       "      <td>733.750</td>\n",
       "      <td>734.21</td>\n",
       "      <td>28796</td>\n",
       "      <td>0</td>\n",
       "      <td>732.988571</td>\n",
       "      <td>0.000463</td>\n",
       "      <td>732.988571</td>\n",
       "      <td>0</td>\n",
       "      <td>0</td>\n",
       "      <td>0</td>\n",
       "      <td>0</td>\n",
       "      <td>0</td>\n",
       "      <td>0</td>\n",
       "      <td>0</td>\n",
       "      <td>0</td>\n",
       "      <td>0</td>\n",
       "    </tr>\n",
       "    <tr>\n",
       "      <th>2021-09-02 12:57:00</th>\n",
       "      <td>734.29</td>\n",
       "      <td>734.64</td>\n",
       "      <td>734.219</td>\n",
       "      <td>734.41</td>\n",
       "      <td>34903</td>\n",
       "      <td>0</td>\n",
       "      <td>733.199031</td>\n",
       "      <td>0.000272</td>\n",
       "      <td>733.199031</td>\n",
       "      <td>0</td>\n",
       "      <td>0</td>\n",
       "      <td>0</td>\n",
       "      <td>0</td>\n",
       "      <td>0</td>\n",
       "      <td>0</td>\n",
       "      <td>0</td>\n",
       "      <td>0</td>\n",
       "      <td>0</td>\n",
       "    </tr>\n",
       "    <tr>\n",
       "      <th>2021-09-02 12:58:00</th>\n",
       "      <td>734.35</td>\n",
       "      <td>734.63</td>\n",
       "      <td>734.260</td>\n",
       "      <td>734.50</td>\n",
       "      <td>19890</td>\n",
       "      <td>0</td>\n",
       "      <td>733.309457</td>\n",
       "      <td>0.000123</td>\n",
       "      <td>733.309457</td>\n",
       "      <td>0</td>\n",
       "      <td>0</td>\n",
       "      <td>0</td>\n",
       "      <td>0</td>\n",
       "      <td>0</td>\n",
       "      <td>0</td>\n",
       "      <td>0</td>\n",
       "      <td>0</td>\n",
       "      <td>0</td>\n",
       "    </tr>\n",
       "    <tr>\n",
       "      <th>2021-09-02 12:59:00</th>\n",
       "      <td>734.60</td>\n",
       "      <td>734.77</td>\n",
       "      <td>734.510</td>\n",
       "      <td>734.56</td>\n",
       "      <td>9812</td>\n",
       "      <td>100</td>\n",
       "      <td>733.406281</td>\n",
       "      <td>0.000082</td>\n",
       "      <td>733.406281</td>\n",
       "      <td>0</td>\n",
       "      <td>0</td>\n",
       "      <td>0</td>\n",
       "      <td>0</td>\n",
       "      <td>0</td>\n",
       "      <td>0</td>\n",
       "      <td>0</td>\n",
       "      <td>0</td>\n",
       "      <td>0</td>\n",
       "    </tr>\n",
       "    <tr>\n",
       "      <th>2021-09-02 13:00:00</th>\n",
       "      <td>734.35</td>\n",
       "      <td>734.66</td>\n",
       "      <td>734.290</td>\n",
       "      <td>734.50</td>\n",
       "      <td>23069</td>\n",
       "      <td>0</td>\n",
       "      <td>733.362619</td>\n",
       "      <td>-0.000082</td>\n",
       "      <td>733.406281</td>\n",
       "      <td>0</td>\n",
       "      <td>0</td>\n",
       "      <td>0</td>\n",
       "      <td>0</td>\n",
       "      <td>0</td>\n",
       "      <td>0</td>\n",
       "      <td>0</td>\n",
       "      <td>0</td>\n",
       "      <td>0</td>\n",
       "    </tr>\n",
       "  </tbody>\n",
       "</table>\n",
       "</div>"
      ],
      "text/plain": [
       "                       Open    High      Low   Close  Volume  CDLDOJI  \\\n",
       "Datetime                                                                \n",
       "2021-09-02 12:56:00  733.89  734.31  733.750  734.21   28796        0   \n",
       "2021-09-02 12:57:00  734.29  734.64  734.219  734.41   34903        0   \n",
       "2021-09-02 12:58:00  734.35  734.63  734.260  734.50   19890        0   \n",
       "2021-09-02 12:59:00  734.60  734.77  734.510  734.56    9812      100   \n",
       "2021-09-02 13:00:00  734.35  734.66  734.290  734.50   23069        0   \n",
       "\n",
       "                     Trailing Stop  Pct Change   Stop Loss  CDL3WHITESOLDIERS  \\\n",
       "Datetime                                                                        \n",
       "2021-09-02 12:56:00     732.988571    0.000463  732.988571                  0   \n",
       "2021-09-02 12:57:00     733.199031    0.000272  733.199031                  0   \n",
       "2021-09-02 12:58:00     733.309457    0.000123  733.309457                  0   \n",
       "2021-09-02 12:59:00     733.406281    0.000082  733.406281                  0   \n",
       "2021-09-02 13:00:00     733.362619   -0.000082  733.406281                  0   \n",
       "\n",
       "                     CDLABANDONEDBABY  CDLADVANCEBLOCK  CDLBELTHOLD  \\\n",
       "Datetime                                                              \n",
       "2021-09-02 12:56:00                 0                0            0   \n",
       "2021-09-02 12:57:00                 0                0            0   \n",
       "2021-09-02 12:58:00                 0                0            0   \n",
       "2021-09-02 12:59:00                 0                0            0   \n",
       "2021-09-02 13:00:00                 0                0            0   \n",
       "\n",
       "                     CDLBREAKAWAY  CDLCLOSINGMARUBOZU  CDLCONCEALBABYSWALL  \\\n",
       "Datetime                                                                     \n",
       "2021-09-02 12:56:00             0                   0                    0   \n",
       "2021-09-02 12:57:00             0                   0                    0   \n",
       "2021-09-02 12:58:00             0                   0                    0   \n",
       "2021-09-02 12:59:00             0                   0                    0   \n",
       "2021-09-02 13:00:00             0                   0                    0   \n",
       "\n",
       "                     CDLCOUNTERATTACK  CDLDARKCLOUDCOVER  \n",
       "Datetime                                                  \n",
       "2021-09-02 12:56:00                 0                  0  \n",
       "2021-09-02 12:57:00                 0                  0  \n",
       "2021-09-02 12:58:00                 0                  0  \n",
       "2021-09-02 12:59:00                 0                  0  \n",
       "2021-09-02 13:00:00                 0                  0  "
      ]
     },
     "metadata": {}
    }
   ],
   "metadata": {}
  },
  {
   "cell_type": "markdown",
   "source": [
    "### Step 6: Split the features and target sets into training and testing datasets.\n"
   ],
   "metadata": {}
  },
  {
   "cell_type": "code",
   "execution_count": 9,
   "source": [
    "# Split the preprocessed data into a training and testing dataset\r\n",
    "# Assign the function a random_state equal to 1\r\n",
    "X_train, X_test, y_train, y_test = train_test_split(X, y, random_state=1)"
   ],
   "outputs": [],
   "metadata": {}
  },
  {
   "cell_type": "markdown",
   "source": [
    "### Step 7: Use scikit-learn's `StandardScaler` to scale the features data."
   ],
   "metadata": {}
  },
  {
   "cell_type": "code",
   "execution_count": 10,
   "source": [
    "# Create a StandardScaler instance\r\n",
    "scaler = StandardScaler()\r\n",
    "\r\n",
    "# Fit the scaler to the features training dataset\r\n",
    "X_scaler = scaler.fit(X_train)\r\n",
    "\r\n",
    "# Fit the scaler to the features training dataset\r\n",
    "X_train_scaled = X_scaler.transform(X_train)\r\n",
    "X_test_scaled = X_scaler.transform(X_test)\r\n"
   ],
   "outputs": [],
   "metadata": {}
  },
  {
   "cell_type": "markdown",
   "source": [
    "---\n",
    "\n",
    "## Compile and Evaluate a Binary Classification Model Using a Neural Network"
   ],
   "metadata": {}
  },
  {
   "cell_type": "markdown",
   "source": [
    "### Step 1: Create a deep neural network by assigning the number of input features, the number of layers, and the number of neurons on each layer using Tensorflow’s Keras.\n",
    "\n",
    "> **Hint** You can start with a two-layer deep neural network model that uses the `relu` activation function for both layers.\n"
   ],
   "metadata": {}
  },
  {
   "cell_type": "code",
   "execution_count": 11,
   "source": [
    "# Define the the number of inputs (features) to the model\r\n",
    "number_input_features = len(list(X.columns))\r\n",
    "# Review the number of features\r\n",
    "number_input_features\r\n"
   ],
   "outputs": [
    {
     "output_type": "execute_result",
     "data": {
      "text/plain": [
       "18"
      ]
     },
     "metadata": {},
     "execution_count": 11
    }
   ],
   "metadata": {}
  },
  {
   "cell_type": "code",
   "execution_count": 12,
   "source": [
    "# Define the number of neurons in the output layer\r\n",
    "number_output_neurons = 1"
   ],
   "outputs": [],
   "metadata": {}
  },
  {
   "cell_type": "code",
   "execution_count": 13,
   "source": [
    "# Define the number of hidden nodes for the first hidden layer\r\n",
    "hidden_nodes_layer1 =  int(round((number_input_features + number_output_neurons)/2, 0))\r\n",
    "# Review the number hidden nodes in the first layer\r\n",
    "hidden_nodes_layer1\r\n"
   ],
   "outputs": [
    {
     "output_type": "execute_result",
     "data": {
      "text/plain": [
       "10"
      ]
     },
     "metadata": {},
     "execution_count": 13
    }
   ],
   "metadata": {}
  },
  {
   "cell_type": "code",
   "execution_count": 14,
   "source": [
    "# Define the number of hidden nodes for the second hidden layer\r\n",
    "hidden_nodes_layer2 =  int(round((hidden_nodes_layer1 + number_output_neurons)/2, 0))\r\n",
    "\r\n",
    "# Review the number hidden nodes in the second layer\r\n",
    "hidden_nodes_layer2\r\n"
   ],
   "outputs": [
    {
     "output_type": "execute_result",
     "data": {
      "text/plain": [
       "6"
      ]
     },
     "metadata": {},
     "execution_count": 14
    }
   ],
   "metadata": {}
  },
  {
   "cell_type": "code",
   "execution_count": 15,
   "source": [
    "# Create the Sequential model instance\r\n",
    "nn = Sequential()\r\n"
   ],
   "outputs": [],
   "metadata": {}
  },
  {
   "cell_type": "code",
   "execution_count": 16,
   "source": [
    "# Add the first hidden layer\r\n",
    "nn.add(Dense(units=hidden_nodes_layer1, activation=\"relu\", input_dim=number_input_features))\r\n"
   ],
   "outputs": [],
   "metadata": {}
  },
  {
   "cell_type": "code",
   "execution_count": 17,
   "source": [
    "# Add the second hidden layer\r\n",
    "nn.add(Dense(units=hidden_nodes_layer2, activation=\"relu\"))\r\n"
   ],
   "outputs": [],
   "metadata": {}
  },
  {
   "cell_type": "code",
   "execution_count": 18,
   "source": [
    "# Add the output layer to the model specifying the number of output neurons and activation function\r\n",
    "nn.add(Dense(units=number_output_neurons, activation=\"sigmoid\"))\r\n"
   ],
   "outputs": [],
   "metadata": {}
  },
  {
   "cell_type": "code",
   "execution_count": 19,
   "source": [
    "# Display the Sequential model summary\r\n",
    "nn.summary()"
   ],
   "outputs": [
    {
     "output_type": "stream",
     "name": "stdout",
     "text": [
      "Model: \"sequential\"\n",
      "_________________________________________________________________\n",
      "Layer (type)                 Output Shape              Param #   \n",
      "=================================================================\n",
      "dense (Dense)                (None, 10)                190       \n",
      "_________________________________________________________________\n",
      "dense_1 (Dense)              (None, 6)                 66        \n",
      "_________________________________________________________________\n",
      "dense_2 (Dense)              (None, 1)                 7         \n",
      "=================================================================\n",
      "Total params: 263\n",
      "Trainable params: 263\n",
      "Non-trainable params: 0\n",
      "_________________________________________________________________\n"
     ]
    }
   ],
   "metadata": {}
  },
  {
   "cell_type": "markdown",
   "source": [
    "### Step 2: Compile and fit the model using the `binary_crossentropy` loss function, the `adam` optimizer, and the `accuracy` evaluation metric.\n"
   ],
   "metadata": {}
  },
  {
   "cell_type": "code",
   "execution_count": 20,
   "source": [
    "# Compile the Sequential model\r\n",
    "nn.compile(loss=\"binary_crossentropy\", optimizer=\"adam\", metrics=[\"accuracy\"])\r\n"
   ],
   "outputs": [],
   "metadata": {}
  },
  {
   "cell_type": "code",
   "execution_count": 21,
   "source": [
    "# Fit the model using 50 epochs and the training data\r\n",
    "model = nn.fit(X_train_scaled, y_train, epochs=50, verbose=0)\r\n"
   ],
   "outputs": [],
   "metadata": {}
  },
  {
   "cell_type": "markdown",
   "source": [
    "### Step 3: Evaluate the model using the test data to determine the model’s loss and accuracy.\n"
   ],
   "metadata": {}
  },
  {
   "cell_type": "code",
   "execution_count": 22,
   "source": [
    "# Evaluate the model loss and accuracy metrics using the evaluate method and the test data\r\n",
    "model_loss, model_accuracy = nn.evaluate(X_test_scaled, y_test, verbose=True)\r\n",
    "\r\n",
    "# Display the model loss and accuracy results\r\n",
    "print(f\"Loss: {model_loss}, Accuracy: {model_accuracy}\")"
   ],
   "outputs": [
    {
     "output_type": "stream",
     "name": "stdout",
     "text": [
      "98/98 [==============================] - 0s 535us/step - loss: -9.7683 - accuracy: 0.8743\n",
      "Loss: -9.768328666687012, Accuracy: 0.8743187189102173\n"
     ]
    }
   ],
   "metadata": {}
  },
  {
   "cell_type": "markdown",
   "source": [
    "### Step 4: Save and export your model to an HDF5 file, and name the file `AlphabetSoup.h5`. \n"
   ],
   "metadata": {}
  },
  {
   "cell_type": "code",
   "execution_count": 24,
   "source": [
    "# Set the model's file path\r\n",
    "file_path = Path('Resources/AlphabetSoup.h5')\r\n",
    "\r\n",
    "# Export your model to a HDF5 file\r\n",
    "# nn.save(file_path)\r\n"
   ],
   "outputs": [],
   "metadata": {}
  },
  {
   "cell_type": "markdown",
   "source": [
    "---\n",
    "\n",
    "## Optimize the neural network model\n"
   ],
   "metadata": {}
  },
  {
   "cell_type": "markdown",
   "source": [
    "### Step 1: Define at least three new deep neural network models (resulting in the original plus 3 optimization attempts). With each, try to improve on your first model’s predictive accuracy.\n",
    "\n",
    "> **Rewind** Recall that perfect accuracy has a value of 1, so accuracy improves as its value moves closer to 1. To optimize your model for a predictive accuracy as close to 1 as possible, you can use any or all of the following techniques:\n",
    ">\n",
    "> * Adjust the input data by dropping different features columns to ensure that no variables or outliers confuse the model.\n",
    ">\n",
    "> * Add more neurons (nodes) to a hidden layer.\n",
    ">\n",
    "> * Add more hidden layers.\n",
    ">\n",
    "> * Use different activation functions for the hidden layers.\n",
    ">\n",
    "> * Add to or reduce the number of epochs in the training regimen.\n"
   ],
   "metadata": {}
  },
  {
   "cell_type": "markdown",
   "source": [
    "### Alternative Model 1 - Deep learning model with 2 hidden layers"
   ],
   "metadata": {}
  },
  {
   "cell_type": "code",
   "execution_count": 25,
   "source": [
    "# Define the the number of inputs (features) to the model\r\n",
    "number_input_features = len(X_train.iloc[0])\r\n",
    "print(number_input_features)\r\n"
   ],
   "outputs": [
    {
     "output_type": "stream",
     "name": "stdout",
     "text": [
      "18\n"
     ]
    }
   ],
   "metadata": {}
  },
  {
   "cell_type": "code",
   "execution_count": 26,
   "source": [
    "# Review the number of features\r\n",
    "number_input_features"
   ],
   "outputs": [
    {
     "output_type": "execute_result",
     "data": {
      "text/plain": [
       "18"
      ]
     },
     "metadata": {},
     "execution_count": 26
    }
   ],
   "metadata": {}
  },
  {
   "cell_type": "code",
   "execution_count": 27,
   "source": [
    "# Define the number of neurons in the output layer\r\n",
    "number_output_neurons_A1 = 1"
   ],
   "outputs": [],
   "metadata": {}
  },
  {
   "cell_type": "code",
   "execution_count": 28,
   "source": [
    "# Define the number of hidden nodes for the first hidden layer\r\n",
    "hidden_nodes_layer1_A1 =  int(round((number_input_features + number_output_neurons_A1)/2, 0))\r\n",
    "# Review the number hidden nodes in the first layer\r\n",
    "hidden_nodes_layer1_A1\r\n"
   ],
   "outputs": [
    {
     "output_type": "execute_result",
     "data": {
      "text/plain": [
       "10"
      ]
     },
     "metadata": {},
     "execution_count": 28
    }
   ],
   "metadata": {}
  },
  {
   "cell_type": "code",
   "execution_count": 29,
   "source": [
    "# Define the number of hidden nodes for the second hidden layer\r\n",
    "hidden_nodes_layer2_A1 =  int(round((hidden_nodes_layer1_A1 + number_output_neurons_A1)/2, 0))\r\n",
    "\r\n",
    "# Review the number hidden nodes in the second layer\r\n",
    "hidden_nodes_layer2_A1\r\n"
   ],
   "outputs": [
    {
     "output_type": "execute_result",
     "data": {
      "text/plain": [
       "6"
      ]
     },
     "metadata": {},
     "execution_count": 29
    }
   ],
   "metadata": {}
  },
  {
   "cell_type": "code",
   "execution_count": 30,
   "source": [
    "# Define the number of hidden nodes for the second hidden layer\r\n",
    "hidden_nodes_layer3_A1 =  int(round((hidden_nodes_layer2_A1 + number_output_neurons_A1)/2, 0))\r\n",
    "\r\n",
    "# Review the number hidden nodes in the second layer\r\n",
    "hidden_nodes_layer3_A1\r\n"
   ],
   "outputs": [
    {
     "output_type": "execute_result",
     "data": {
      "text/plain": [
       "4"
      ]
     },
     "metadata": {},
     "execution_count": 30
    }
   ],
   "metadata": {}
  },
  {
   "cell_type": "code",
   "execution_count": 31,
   "source": [
    "# Create the Sequential model instance\r\n",
    "nn_A1 = Sequential()"
   ],
   "outputs": [],
   "metadata": {}
  },
  {
   "cell_type": "code",
   "execution_count": 32,
   "source": [
    "# Add the first hidden layer\r\n",
    "nn_A1.add(Dense(units=hidden_nodes_layer1_A1, activation=\"relu\", input_dim=number_input_features))\r\n"
   ],
   "outputs": [],
   "metadata": {}
  },
  {
   "cell_type": "code",
   "execution_count": 33,
   "source": [
    "# Add the second hidden layer\r\n",
    "nn_A1.add(Dense(units=hidden_nodes_layer2_A1, activation=\"relu\"))\r\n"
   ],
   "outputs": [],
   "metadata": {}
  },
  {
   "cell_type": "code",
   "execution_count": 34,
   "source": [
    "# Add the second hidden layer\r\n",
    "nn_A1.add(Dense(units=hidden_nodes_layer3_A1, activation=\"relu\"))\r\n"
   ],
   "outputs": [],
   "metadata": {}
  },
  {
   "cell_type": "code",
   "execution_count": 35,
   "source": [
    "# Add the output layer to the model specifying the number of output neurons and activation function\r\n",
    "nn_A1.add(Dense(units=number_output_neurons_A1, activation=\"sigmoid\"))\r\n"
   ],
   "outputs": [],
   "metadata": {}
  },
  {
   "cell_type": "code",
   "execution_count": 36,
   "source": [
    "# Display the Sequential model summary\r\n",
    "nn_A1.summary()"
   ],
   "outputs": [
    {
     "output_type": "stream",
     "name": "stdout",
     "text": [
      "Model: \"sequential_1\"\n",
      "_________________________________________________________________\n",
      "Layer (type)                 Output Shape              Param #   \n",
      "=================================================================\n",
      "dense_3 (Dense)              (None, 10)                190       \n",
      "_________________________________________________________________\n",
      "dense_4 (Dense)              (None, 6)                 66        \n",
      "_________________________________________________________________\n",
      "dense_5 (Dense)              (None, 4)                 28        \n",
      "_________________________________________________________________\n",
      "dense_6 (Dense)              (None, 1)                 5         \n",
      "=================================================================\n",
      "Total params: 289\n",
      "Trainable params: 289\n",
      "Non-trainable params: 0\n",
      "_________________________________________________________________\n"
     ]
    }
   ],
   "metadata": {}
  },
  {
   "cell_type": "code",
   "execution_count": 37,
   "source": [
    "# Compile the Sequential model\r\n",
    "nn_A1.compile(loss=\"binary_crossentropy\", optimizer=\"adam\", metrics=[\"accuracy\"])\r\n"
   ],
   "outputs": [],
   "metadata": {}
  },
  {
   "cell_type": "code",
   "execution_count": 38,
   "source": [
    "# Fit the model using 50 epochs and the training data\r\n",
    "model_A1 = nn_A1.fit(X_train_scaled, y_train, epochs=50, verbose=0)\r\n"
   ],
   "outputs": [],
   "metadata": {}
  },
  {
   "cell_type": "markdown",
   "source": [
    "### Alternative Model 2 - Deep learning model with 3 hidden layers"
   ],
   "metadata": {}
  },
  {
   "cell_type": "code",
   "execution_count": 39,
   "source": [
    "# Define the the number of inputs (features) to the model\r\n",
    "number_input_features = len(X_train.iloc[0])\r\n",
    "print(number_input_features)\r\n"
   ],
   "outputs": [
    {
     "output_type": "stream",
     "name": "stdout",
     "text": [
      "18\n"
     ]
    }
   ],
   "metadata": {}
  },
  {
   "cell_type": "code",
   "execution_count": 40,
   "source": [
    "# Review the number of features\r\n",
    "number_input_features"
   ],
   "outputs": [
    {
     "output_type": "execute_result",
     "data": {
      "text/plain": [
       "18"
      ]
     },
     "metadata": {},
     "execution_count": 40
    }
   ],
   "metadata": {}
  },
  {
   "cell_type": "code",
   "execution_count": 41,
   "source": [
    "# Define the number of neurons in the output layer\r\n",
    "number_output_neurons_A2 = 1"
   ],
   "outputs": [],
   "metadata": {}
  },
  {
   "cell_type": "code",
   "execution_count": 42,
   "source": [
    "# Define the number of hidden nodes for the first hidden layer\r\n",
    "hidden_nodes_layer1_A2 =  int(round((number_input_features + number_output_neurons_A2)/2, 0))\r\n",
    "# Review the number hidden nodes in the first layer\r\n",
    "hidden_nodes_layer1_A2\r\n"
   ],
   "outputs": [
    {
     "output_type": "execute_result",
     "data": {
      "text/plain": [
       "10"
      ]
     },
     "metadata": {},
     "execution_count": 42
    }
   ],
   "metadata": {}
  },
  {
   "cell_type": "code",
   "execution_count": 43,
   "source": [
    "# Define the number of hidden nodes for the second hidden layer\r\n",
    "hidden_nodes_layer2_A2 =  int(round((hidden_nodes_layer1_A2 + number_output_neurons_A2)/2, 0))\r\n",
    "\r\n",
    "# Review the number hidden nodes in the second layer\r\n",
    "hidden_nodes_layer2_A2\r\n"
   ],
   "outputs": [
    {
     "output_type": "execute_result",
     "data": {
      "text/plain": [
       "6"
      ]
     },
     "metadata": {},
     "execution_count": 43
    }
   ],
   "metadata": {}
  },
  {
   "cell_type": "code",
   "execution_count": 44,
   "source": [
    "# Define the number of hidden nodes for the second hidden layer\r\n",
    "hidden_nodes_layer3_A2 =  int(round((hidden_nodes_layer2_A1 + number_output_neurons_A2)/2, 0))\r\n",
    "\r\n",
    "# Review the number hidden nodes in the second layer\r\n",
    "hidden_nodes_layer3_A2\r\n"
   ],
   "outputs": [
    {
     "output_type": "execute_result",
     "data": {
      "text/plain": [
       "4"
      ]
     },
     "metadata": {},
     "execution_count": 44
    }
   ],
   "metadata": {}
  },
  {
   "cell_type": "code",
   "execution_count": 45,
   "source": [
    "# Define the number of hidden nodes for the second hidden layer\r\n",
    "hidden_nodes_layer4_A2 =  int(round((hidden_nodes_layer3_A1 + number_output_neurons_A2)/2, 0))\r\n",
    "\r\n",
    "# Review the number hidden nodes in the second layer\r\n",
    "hidden_nodes_layer4_A2\r\n"
   ],
   "outputs": [
    {
     "output_type": "execute_result",
     "data": {
      "text/plain": [
       "2"
      ]
     },
     "metadata": {},
     "execution_count": 45
    }
   ],
   "metadata": {}
  },
  {
   "cell_type": "code",
   "execution_count": 46,
   "source": [
    "# Create the Sequential model instance\r\n",
    "nn_A2 = Sequential()"
   ],
   "outputs": [],
   "metadata": {}
  },
  {
   "cell_type": "code",
   "execution_count": 47,
   "source": [
    "# Add the first hidden layer\r\n",
    "nn_A2.add(Dense(units=hidden_nodes_layer1_A2, activation=\"relu\", input_dim=number_input_features))\r\n"
   ],
   "outputs": [],
   "metadata": {}
  },
  {
   "cell_type": "code",
   "execution_count": 48,
   "source": [
    "# Add the second hidden layer\r\n",
    "nn_A2.add(Dense(units=hidden_nodes_layer2_A2, activation=\"relu\"))\r\n"
   ],
   "outputs": [],
   "metadata": {}
  },
  {
   "cell_type": "code",
   "execution_count": 49,
   "source": [
    "# Add the second hidden layer\r\n",
    "nn_A2.add(Dense(units=hidden_nodes_layer3_A2, activation=\"relu\"))\r\n"
   ],
   "outputs": [],
   "metadata": {}
  },
  {
   "cell_type": "code",
   "execution_count": 50,
   "source": [
    "# Add the second hidden layer\r\n",
    "nn_A2.add(Dense(units=hidden_nodes_layer4_A2, activation=\"relu\"))\r\n"
   ],
   "outputs": [],
   "metadata": {}
  },
  {
   "cell_type": "code",
   "execution_count": 51,
   "source": [
    "# Add the output layer to the model specifying the number of output neurons and activation function\r\n",
    "nn_A2.add(Dense(units=number_output_neurons_A2, activation=\"sigmoid\"))\r\n"
   ],
   "outputs": [],
   "metadata": {}
  },
  {
   "cell_type": "code",
   "execution_count": 52,
   "source": [
    "# Display the Sequential model summary\r\n",
    "nn_A2.summary()"
   ],
   "outputs": [
    {
     "output_type": "stream",
     "name": "stdout",
     "text": [
      "Model: \"sequential_2\"\n",
      "_________________________________________________________________\n",
      "Layer (type)                 Output Shape              Param #   \n",
      "=================================================================\n",
      "dense_7 (Dense)              (None, 10)                190       \n",
      "_________________________________________________________________\n",
      "dense_8 (Dense)              (None, 6)                 66        \n",
      "_________________________________________________________________\n",
      "dense_9 (Dense)              (None, 4)                 28        \n",
      "_________________________________________________________________\n",
      "dense_10 (Dense)             (None, 2)                 10        \n",
      "_________________________________________________________________\n",
      "dense_11 (Dense)             (None, 1)                 3         \n",
      "=================================================================\n",
      "Total params: 297\n",
      "Trainable params: 297\n",
      "Non-trainable params: 0\n",
      "_________________________________________________________________\n"
     ]
    }
   ],
   "metadata": {}
  },
  {
   "cell_type": "code",
   "execution_count": 53,
   "source": [
    "# Compile the Sequential model\r\n",
    "nn_A2.compile(loss=\"binary_crossentropy\", optimizer=\"adam\", metrics=[\"accuracy\"])\r\n"
   ],
   "outputs": [],
   "metadata": {}
  },
  {
   "cell_type": "code",
   "execution_count": 54,
   "source": [
    "# Fit the model using 50 epochs and the training data\r\n",
    "model_A2 = nn_A2.fit(X_train_scaled, y_train, epochs=50, verbose=0)\r\n"
   ],
   "outputs": [],
   "metadata": {}
  },
  {
   "cell_type": "markdown",
   "source": [
    "#### Alternative Model 3 - Principal Component Analysis"
   ],
   "metadata": {}
  },
  {
   "cell_type": "code",
   "execution_count": 55,
   "source": [
    "from sklearn.decomposition import PCA\r\n"
   ],
   "outputs": [],
   "metadata": {}
  },
  {
   "cell_type": "code",
   "execution_count": 56,
   "source": [
    "# Create a StandardScaler instance\r\n",
    "pca_scaler = StandardScaler()\r\n",
    "\r\n",
    "# Fit the scaler to the features\r\n",
    "X_pca_scaler = pca_scaler.fit(X)\r\n",
    "\r\n",
    "# Fit the scaler to the features\r\n",
    "X_pca_scaled = X_pca_scaler.transform(X)\r\n"
   ],
   "outputs": [],
   "metadata": {}
  },
  {
   "cell_type": "code",
   "execution_count": 57,
   "source": [
    "for n in range(2, number_input_features):\r\n",
    "    pca = PCA(n_components=n, random_state=1)\r\n",
    "    X_pca = pca.fit_transform(X_pca_scaled)\r\n",
    "    exp_var = pca.explained_variance_ratio_\r\n",
    "#     print(f'{exp_var}')\r\n",
    "    print(f'N = {n:3}: Total explained variance: {100*exp_var.sum():.4f}%')"
   ],
   "outputs": [
    {
     "output_type": "stream",
     "name": "stdout",
     "text": [
      "N =   2: Total explained variance: 41.8793%\n",
      "N =   3: Total explained variance: 49.4176%\n",
      "N =   4: Total explained variance: 56.1540%\n",
      "N =   5: Total explained variance: 62.2239%\n",
      "N =   6: Total explained variance: 68.1662%\n",
      "N =   7: Total explained variance: 74.0366%\n",
      "N =   8: Total explained variance: 79.8494%\n",
      "N =   9: Total explained variance: 85.1969%\n",
      "N =  10: Total explained variance: 90.2461%\n",
      "N =  11: Total explained variance: 94.4264%\n",
      "N =  12: Total explained variance: 97.7982%\n",
      "N =  13: Total explained variance: 99.9872%\n",
      "N =  14: Total explained variance: 99.9980%\n",
      "N =  15: Total explained variance: 99.9992%\n",
      "N =  16: Total explained variance: 99.9998%\n",
      "N =  17: Total explained variance: 100.0000%\n"
     ]
    }
   ],
   "metadata": {
    "collapsed": true,
    "jupyter": {
     "outputs_hidden": true
    }
   }
  },
  {
   "cell_type": "code",
   "execution_count": 59,
   "source": [
    "best_n = 13\r\n",
    "pca = PCA(n_components=best_n, random_state=1)\r\n",
    "X_pca = pca.fit_transform(X_pca_scaled)\r\n",
    "exp_var = pca.explained_variance_ratio_\r\n",
    "print(f'N = {best_n:3}: Total explained variance: {100*exp_var.sum():.4f}%')\r\n"
   ],
   "outputs": [
    {
     "output_type": "stream",
     "name": "stdout",
     "text": [
      "N =  13: Total explained variance: 99.9872%\n"
     ]
    }
   ],
   "metadata": {}
  },
  {
   "cell_type": "code",
   "execution_count": 60,
   "source": [
    "X_pca_train, X_pca_test, y_pca_train, y_pca_test = train_test_split(X_pca, y, random_state=1)"
   ],
   "outputs": [],
   "metadata": {}
  },
  {
   "cell_type": "code",
   "execution_count": 61,
   "source": [
    "# Define the the number of inputs (features) to the model\r\n",
    "number_input_features = best_n\r\n",
    "print(number_input_features)\r\n"
   ],
   "outputs": [
    {
     "output_type": "stream",
     "name": "stdout",
     "text": [
      "13\n"
     ]
    }
   ],
   "metadata": {}
  },
  {
   "cell_type": "code",
   "execution_count": 62,
   "source": [
    "# Define the number of neurons in the output layer\r\n",
    "number_output_neurons_A3 = 1"
   ],
   "outputs": [],
   "metadata": {}
  },
  {
   "cell_type": "code",
   "execution_count": 63,
   "source": [
    "# Define the number of hidden nodes for the first hidden layer\r\n",
    "hidden_nodes_layer1_A3 =  int(round((number_input_features + number_output_neurons_A3)/2, 0))\r\n",
    "# Review the number hidden nodes in the first layer\r\n",
    "hidden_nodes_layer1_A3\r\n"
   ],
   "outputs": [
    {
     "output_type": "execute_result",
     "data": {
      "text/plain": [
       "7"
      ]
     },
     "metadata": {},
     "execution_count": 63
    }
   ],
   "metadata": {}
  },
  {
   "cell_type": "code",
   "execution_count": 64,
   "source": [
    "# Define the number of hidden nodes for the second hidden layer\r\n",
    "hidden_nodes_layer2_A3 =  int(round((hidden_nodes_layer1_A3 + number_output_neurons_A3)/2, 0))\r\n",
    "\r\n",
    "# Review the number hidden nodes in the second layer\r\n",
    "hidden_nodes_layer2_A3\r\n"
   ],
   "outputs": [
    {
     "output_type": "execute_result",
     "data": {
      "text/plain": [
       "4"
      ]
     },
     "metadata": {},
     "execution_count": 64
    }
   ],
   "metadata": {}
  },
  {
   "cell_type": "code",
   "execution_count": 65,
   "source": [
    "# Define the number of hidden nodes for the third hidden layer\r\n",
    "hidden_nodes_layer3_A3 =  int(round((hidden_nodes_layer2_A3 + number_output_neurons_A3)/2, 0))\r\n",
    "\r\n",
    "# Review the number hidden nodes in the third layer\r\n",
    "hidden_nodes_layer3_A3\r\n"
   ],
   "outputs": [
    {
     "output_type": "execute_result",
     "data": {
      "text/plain": [
       "2"
      ]
     },
     "metadata": {},
     "execution_count": 65
    }
   ],
   "metadata": {}
  },
  {
   "cell_type": "code",
   "execution_count": 66,
   "source": [
    "# Create the Sequential model instance\r\n",
    "nn_A3 = Sequential()"
   ],
   "outputs": [],
   "metadata": {}
  },
  {
   "cell_type": "code",
   "execution_count": 67,
   "source": [
    "# Add the first hidden layer\r\n",
    "nn_A3.add(Dense(units=hidden_nodes_layer1_A3, activation=\"relu\", input_dim=number_input_features))\r\n"
   ],
   "outputs": [],
   "metadata": {}
  },
  {
   "cell_type": "code",
   "execution_count": 68,
   "source": [
    "# Add the second hidden layer\r\n",
    "nn_A3.add(Dense(units=hidden_nodes_layer2_A3, activation=\"relu\"))\r\n"
   ],
   "outputs": [],
   "metadata": {}
  },
  {
   "cell_type": "code",
   "execution_count": 69,
   "source": [
    "# Add the third hidden layer\r\n",
    "nn_A3.add(Dense(units=hidden_nodes_layer3_A3, activation=\"relu\"))\r\n"
   ],
   "outputs": [],
   "metadata": {}
  },
  {
   "cell_type": "code",
   "execution_count": 70,
   "source": [
    "# Add the output layer to the model specifying the number of output neurons and activation function\r\n",
    "nn_A3.add(Dense(units=number_output_neurons_A3, activation=\"sigmoid\"))\r\n"
   ],
   "outputs": [],
   "metadata": {}
  },
  {
   "cell_type": "code",
   "execution_count": 71,
   "source": [
    "# Display the Sequential model summary\r\n",
    "nn_A3.summary()"
   ],
   "outputs": [
    {
     "output_type": "stream",
     "name": "stdout",
     "text": [
      "Model: \"sequential_3\"\n",
      "_________________________________________________________________\n",
      "Layer (type)                 Output Shape              Param #   \n",
      "=================================================================\n",
      "dense_12 (Dense)             (None, 7)                 98        \n",
      "_________________________________________________________________\n",
      "dense_13 (Dense)             (None, 4)                 32        \n",
      "_________________________________________________________________\n",
      "dense_14 (Dense)             (None, 2)                 10        \n",
      "_________________________________________________________________\n",
      "dense_15 (Dense)             (None, 1)                 3         \n",
      "=================================================================\n",
      "Total params: 143\n",
      "Trainable params: 143\n",
      "Non-trainable params: 0\n",
      "_________________________________________________________________\n"
     ]
    }
   ],
   "metadata": {}
  },
  {
   "cell_type": "code",
   "execution_count": 72,
   "source": [
    "# Compile the Sequential model\r\n",
    "nn_A3.compile(loss=\"binary_crossentropy\", optimizer=\"adam\", metrics=[\"accuracy\"])\r\n"
   ],
   "outputs": [],
   "metadata": {}
  },
  {
   "cell_type": "code",
   "execution_count": 73,
   "source": [
    "# Fit the model using 50 epochs and the training data\r\n",
    "model_A3 = nn_A3.fit(X_pca_train, y_pca_train, epochs=50, verbose=1)\r\n"
   ],
   "outputs": [
    {
     "output_type": "stream",
     "name": "stdout",
     "text": [
      "Epoch 1/50\n",
      "293/293 [==============================] - 0s 492us/step - loss: 0.6710 - accuracy: 0.7680\n",
      "Epoch 2/50\n",
      "293/293 [==============================] - 0s 479us/step - loss: 0.5582 - accuracy: 0.9105\n",
      "Epoch 3/50\n",
      "293/293 [==============================] - 0s 492us/step - loss: 0.4704 - accuracy: 0.9158\n",
      "Epoch 4/50\n",
      "293/293 [==============================] - 0s 492us/step - loss: 0.4065 - accuracy: 0.9162\n",
      "Epoch 5/50\n",
      "293/293 [==============================] - 0s 479us/step - loss: 0.3592 - accuracy: 0.9166\n",
      "Epoch 6/50\n",
      "293/293 [==============================] - 0s 479us/step - loss: 0.3167 - accuracy: 0.9163\n",
      "Epoch 7/50\n",
      "293/293 [==============================] - 0s 479us/step - loss: 0.2775 - accuracy: 0.9164\n",
      "Epoch 8/50\n",
      "293/293 [==============================] - 0s 479us/step - loss: 0.2381 - accuracy: 0.9140\n",
      "Epoch 9/50\n",
      "293/293 [==============================] - 0s 479us/step - loss: 0.1870 - accuracy: 0.9141\n",
      "Epoch 10/50\n",
      "293/293 [==============================] - 0s 479us/step - loss: 0.1318 - accuracy: 0.9114\n",
      "Epoch 11/50\n",
      "293/293 [==============================] - 0s 479us/step - loss: 0.0522 - accuracy: 0.9100\n",
      "Epoch 12/50\n",
      "293/293 [==============================] - 0s 479us/step - loss: -0.0409 - accuracy: 0.9096\n",
      "Epoch 13/50\n",
      "293/293 [==============================] - 0s 492us/step - loss: -0.1745 - accuracy: 0.9074\n",
      "Epoch 14/50\n",
      "293/293 [==============================] - 0s 479us/step - loss: -0.3387 - accuracy: 0.9059\n",
      "Epoch 15/50\n",
      "293/293 [==============================] - 0s 479us/step - loss: -0.5372 - accuracy: 0.9057\n",
      "Epoch 16/50\n",
      "293/293 [==============================] - 0s 479us/step - loss: -0.8039 - accuracy: 0.9051\n",
      "Epoch 17/50\n",
      "293/293 [==============================] - 0s 492us/step - loss: -1.1172 - accuracy: 0.9041\n",
      "Epoch 18/50\n",
      "293/293 [==============================] - 0s 479us/step - loss: -1.5249 - accuracy: 0.9034\n",
      "Epoch 19/50\n",
      "293/293 [==============================] - 0s 479us/step - loss: -2.0068 - accuracy: 0.9012\n",
      "Epoch 20/50\n",
      "293/293 [==============================] - 0s 479us/step - loss: -2.5927 - accuracy: 0.8985\n",
      "Epoch 21/50\n",
      "293/293 [==============================] - 0s 492us/step - loss: -3.2423 - accuracy: 0.9013\n",
      "Epoch 22/50\n",
      "293/293 [==============================] - 0s 492us/step - loss: -4.0073 - accuracy: 0.9009\n",
      "Epoch 23/50\n",
      "293/293 [==============================] - 0s 479us/step - loss: -4.8891 - accuracy: 0.9012\n",
      "Epoch 24/50\n",
      "293/293 [==============================] - 0s 492us/step - loss: -5.8541 - accuracy: 0.9012\n",
      "Epoch 25/50\n",
      "293/293 [==============================] - 0s 492us/step - loss: -6.9406 - accuracy: 0.9011\n",
      "Epoch 26/50\n",
      "293/293 [==============================] - 0s 492us/step - loss: -8.2080 - accuracy: 0.9042\n",
      "Epoch 27/50\n",
      "293/293 [==============================] - 0s 479us/step - loss: -9.6088 - accuracy: 0.9053\n",
      "Epoch 28/50\n",
      "293/293 [==============================] - 0s 506us/step - loss: -11.2002 - accuracy: 0.9087\n",
      "Epoch 29/50\n",
      "293/293 [==============================] - 0s 492us/step - loss: -13.0573 - accuracy: 0.9068\n",
      "Epoch 30/50\n",
      "293/293 [==============================] - 0s 520us/step - loss: -15.0883 - accuracy: 0.9069\n",
      "Epoch 31/50\n",
      "293/293 [==============================] - 0s 506us/step - loss: -17.2443 - accuracy: 0.9090\n",
      "Epoch 32/50\n",
      "293/293 [==============================] - 0s 479us/step - loss: -19.6001 - accuracy: 0.9097\n",
      "Epoch 33/50\n",
      "293/293 [==============================] - 0s 479us/step - loss: -22.2810 - accuracy: 0.9060\n",
      "Epoch 34/50\n",
      "293/293 [==============================] - 0s 479us/step - loss: -25.2124 - accuracy: 0.9112\n",
      "Epoch 35/50\n",
      "293/293 [==============================] - 0s 479us/step - loss: -28.4038 - accuracy: 0.9088\n",
      "Epoch 36/50\n",
      "293/293 [==============================] - 0s 492us/step - loss: -31.9712 - accuracy: 0.9120\n",
      "Epoch 37/50\n",
      "293/293 [==============================] - 0s 561us/step - loss: -35.8586 - accuracy: 0.9124\n",
      "Epoch 38/50\n",
      "293/293 [==============================] - 0s 547us/step - loss: -39.9457 - accuracy: 0.9125\n",
      "Epoch 39/50\n",
      "293/293 [==============================] - 0s 492us/step - loss: -44.5698 - accuracy: 0.9111\n",
      "Epoch 40/50\n",
      "293/293 [==============================] - 0s 479us/step - loss: -49.5290 - accuracy: 0.9121\n",
      "Epoch 41/50\n",
      "293/293 [==============================] - 0s 479us/step - loss: -54.9040 - accuracy: 0.9112\n",
      "Epoch 42/50\n",
      "293/293 [==============================] - 0s 492us/step - loss: -60.4796 - accuracy: 0.9118\n",
      "Epoch 43/50\n",
      "293/293 [==============================] - 0s 492us/step - loss: -66.4758 - accuracy: 0.9126\n",
      "Epoch 44/50\n",
      "293/293 [==============================] - 0s 479us/step - loss: -72.5536 - accuracy: 0.9117\n",
      "Epoch 45/50\n",
      "293/293 [==============================] - 0s 479us/step - loss: -79.4797 - accuracy: 0.9116\n",
      "Epoch 46/50\n",
      "293/293 [==============================] - 0s 479us/step - loss: -86.6953 - accuracy: 0.9128\n",
      "Epoch 47/50\n",
      "293/293 [==============================] - 0s 479us/step - loss: -94.3224 - accuracy: 0.9118\n",
      "Epoch 48/50\n",
      "293/293 [==============================] - 0s 465us/step - loss: -102.4909 - accuracy: 0.9119\n",
      "Epoch 49/50\n",
      "293/293 [==============================] - 0s 492us/step - loss: -111.3499 - accuracy: 0.9120\n",
      "Epoch 50/50\n",
      "293/293 [==============================] - 0s 492us/step - loss: -120.3614 - accuracy: 0.9121\n"
     ]
    }
   ],
   "metadata": {}
  },
  {
   "cell_type": "markdown",
   "source": [
    "### Step 2: After finishing your models, display the accuracy scores achieved by each model, and compare the results."
   ],
   "metadata": {}
  },
  {
   "cell_type": "code",
   "execution_count": 74,
   "source": [
    "print(\"Original Model Results\")\r\n",
    "\r\n",
    "# Evaluate the model loss and accuracy metrics using the evaluate method and the test data\r\n",
    "model_loss, model_accuracy = nn.evaluate(X_test_scaled, y_test, verbose=True)\r\n",
    "\r\n",
    "# Display the model loss and accuracy results\r\n",
    "print(f\"Loss: {model_loss}, Accuracy: {model_accuracy}\")"
   ],
   "outputs": [
    {
     "output_type": "stream",
     "name": "stdout",
     "text": [
      "Original Model Results\n",
      "98/98 [==============================] - 0s 577us/step - loss: -9.7683 - accuracy: 0.8743\n",
      "Loss: -9.768328666687012, Accuracy: 0.8743187189102173\n"
     ]
    }
   ],
   "metadata": {}
  },
  {
   "cell_type": "code",
   "execution_count": 75,
   "source": [
    "print(\"Alternative Model 1 Results\")\r\n",
    "\r\n",
    "# Evaluate the model loss and accuracy metrics using the evaluate method and the test data\r\n",
    "model_loss, model_accuracy = nn_A1.evaluate(X_test_scaled, y_test, verbose=True)\r\n",
    "\r\n",
    "# Display the model loss and accuracy results\r\n",
    "print(f\"Loss: {model_loss}, Accuracy: {model_accuracy}\")"
   ],
   "outputs": [
    {
     "output_type": "stream",
     "name": "stdout",
     "text": [
      "Alternative Model 1 Results\n",
      "98/98 [==============================] - 0s 412us/step - loss: -66.4234 - accuracy: 0.8798\n",
      "Loss: -66.42341613769531, Accuracy: 0.8797691464424133\n"
     ]
    }
   ],
   "metadata": {}
  },
  {
   "cell_type": "code",
   "execution_count": 76,
   "source": [
    "print(\"Alternative Model 2 Results\")\r\n",
    "\r\n",
    "# Evaluate the model loss and accuracy metrics using the evaluate method and the test data\r\n",
    "model_loss, model_accuracy = nn_A2.evaluate(X_test_scaled, y_test, verbose=True)\r\n",
    "\r\n",
    "# Display the model loss and accuracy results\r\n",
    "print(f\"Loss: {model_loss}, Accuracy: {model_accuracy}\")"
   ],
   "outputs": [
    {
     "output_type": "stream",
     "name": "stdout",
     "text": [
      "Alternative Model 2 Results\n",
      "98/98 [==============================] - 0s 494us/step - loss: -2303.7139 - accuracy: 0.9186\n",
      "Loss: -2303.7138671875, Accuracy: 0.9185636639595032\n"
     ]
    }
   ],
   "metadata": {}
  },
  {
   "cell_type": "code",
   "execution_count": 77,
   "source": [
    "print(\"Alternative Model 3 Results\")\r\n",
    "\r\n",
    "# Evaluate the model loss and accuracy metrics using the evaluate method and the test data\r\n",
    "model_loss, model_accuracy = nn_A3.evaluate(X_pca_test, y_pca_test, verbose=True)\r\n",
    "\r\n",
    "# Display the model loss and accuracy results\r\n",
    "print(f\"Loss: {model_loss}, Accuracy: {model_accuracy}\")"
   ],
   "outputs": [
    {
     "output_type": "stream",
     "name": "stdout",
     "text": [
      "Alternative Model 3 Results\n",
      "98/98 [==============================] - 0s 412us/step - loss: -83.9455 - accuracy: 0.9179\n",
      "Loss: -83.94551849365234, Accuracy: 0.9179224371910095\n"
     ]
    }
   ],
   "metadata": {}
  },
  {
   "cell_type": "markdown",
   "source": [
    "### Run different numbers of epochs on best model"
   ],
   "metadata": {}
  },
  {
   "cell_type": "code",
   "execution_count": 78,
   "source": [
    "# Fit the model using the training data with different numbers of epochs\r\n",
    "model_list = []\r\n",
    "for n in range(50, 151, 20):\r\n",
    "    print(f'Fitting model, epochs: {n}')\r\n",
    "    model_list.append(nn_A1.fit(X_train_scaled, y_train, epochs=50, verbose=False))\r\n",
    "#     model_A1 = nn_A1.fit(X_train_scaled, y_train, epochs=50, verbose=False)\r\n",
    "\r\n",
    "    # Evaluate the model loss and accuracy metrics using the evaluate method and the test data\r\n",
    "    model_loss, model_accuracy = nn_A1.evaluate(X_test_scaled, y_test, verbose=True)\r\n",
    "    # Display the model loss and accuracy results\r\n",
    "    print(f\"Loss: {model_loss}, Accuracy: {model_accuracy}\")    "
   ],
   "outputs": [
    {
     "output_type": "stream",
     "name": "stdout",
     "text": [
      "Fitting model, epochs: 50\n",
      "98/98 [==============================] - 0s 370us/step - loss: -766.6809 - accuracy: 0.9170\n",
      "Loss: -766.680908203125, Accuracy: 0.9169605374336243\n",
      "Fitting model, epochs: 70\n",
      "98/98 [==============================] - 0s 494us/step - loss: -3267.9072 - accuracy: 0.8221\n",
      "Loss: -3267.9072265625, Accuracy: 0.822058379650116\n",
      "Fitting model, epochs: 90\n",
      "98/98 [==============================] - 0s 494us/step - loss: -9308.6787 - accuracy: 0.8958\n",
      "Loss: -9308.6787109375, Accuracy: 0.8957999348640442\n",
      "Fitting model, epochs: 110\n",
      "98/98 [==============================] - 0s 494us/step - loss: -21311.8750 - accuracy: 0.8987\n",
      "Loss: -21311.875, Accuracy: 0.8986854553222656\n",
      "Fitting model, epochs: 130\n",
      "98/98 [==============================] - 0s 495us/step - loss: -41968.5234 - accuracy: 0.9118\n",
      "Loss: -41968.5234375, Accuracy: 0.911830723285675\n",
      "Fitting model, epochs: 150\n",
      "98/98 [==============================] - 0s 535us/step - loss: -74977.5312 - accuracy: 0.8817\n",
      "Loss: -74977.53125, Accuracy: 0.8816928267478943\n"
     ]
    }
   ],
   "metadata": {}
  },
  {
   "cell_type": "code",
   "execution_count": 79,
   "source": [
    "# for model in model_list:\r\n",
    "#     pass\r\n",
    "#     print(model.history)\r\n",
    "    # Evaluate the model loss and accuracy metrics using the evaluate method and the test data\r\n",
    "#     model_loss, model_accuracy = nn.evaluate(X_test_scaled, y_test, verbose=True)\r\n",
    "    # Display the model loss and accuracy results\r\n",
    "#     print(f\"Loss: {model_loss}, Accuracy: {model_accuracy}\")    "
   ],
   "outputs": [],
   "metadata": {}
  },
  {
   "cell_type": "markdown",
   "source": [
    "### Step 3: Save each of your alternative models as an HDF5 file.\n"
   ],
   "metadata": {}
  },
  {
   "cell_type": "code",
   "execution_count": 81,
   "source": [
    "# Set the file path for the first alternative model\r\n",
    "file_path_A1 = Path('Resources/AlphabetSoup_A1.h5')\r\n",
    "\r\n",
    "# Export your model to a HDF5 file\r\n",
    "# nn_A1.save(file_path_A1)\r\n"
   ],
   "outputs": [],
   "metadata": {}
  },
  {
   "cell_type": "code",
   "execution_count": 82,
   "source": [
    "# Set the file path for the second alternative model\r\n",
    "file_path_A2 = Path('Resources/AlphabetSoup_A2.h5')\r\n",
    "\r\n",
    "# Export your model to a HDF5 file\r\n",
    "# nn_A2.save(file_path_A2)\r\n"
   ],
   "outputs": [],
   "metadata": {}
  },
  {
   "cell_type": "code",
   "execution_count": 83,
   "source": [
    "# # Set the file path for the third alternative model\r\n",
    "file_path_A3 = Path('Resources/AlphabetSoup_A3.h5')\r\n",
    "\r\n",
    "# # Export your model to a HDF5 file\r\n",
    "# nn_A3.save(file_path_A3)\r\n"
   ],
   "outputs": [],
   "metadata": {}
  }
 ],
 "metadata": {
  "kernelspec": {
   "name": "python3",
   "display_name": "Python 3.7.10 64-bit ('algo': conda)"
  },
  "language_info": {
   "codemirror_mode": {
    "name": "ipython",
    "version": 3
   },
   "file_extension": ".py",
   "mimetype": "text/x-python",
   "name": "python",
   "nbconvert_exporter": "python",
   "pygments_lexer": "ipython3",
   "version": "3.7.10"
  },
  "interpreter": {
   "hash": "d4156aaab05991101c6a751683038476f3e64298aad0394e408e9e53044404ee"
  }
 },
 "nbformat": 4,
 "nbformat_minor": 4
}