{
 "cells": [
  {
   "cell_type": "code",
   "execution_count": 11,
   "source": [
    "import sqlalchemy\r\n",
    "import pandas as pd\r\n"
   ],
   "outputs": [],
   "metadata": {}
  },
  {
   "cell_type": "code",
   "execution_count": 12,
   "source": [
    "db_connection_string = 'sqlite:///./Resources/products.db'\r\n",
    "engine  = sqlalchemy.create_engine(db_connection_string)\r\n",
    "\r\n",
    "inspector = sqlalchemy.inspect(engine)\r\n",
    "table_names = inspector.get_table_names()\r\n",
    "print(table_names)"
   ],
   "outputs": [
    {
     "output_type": "stream",
     "name": "stdout",
     "text": [
      "['Indicators', 'TSLA_1_Day_Candles', 'TSLA_1_Min_Candles', 'TSLA_Info']\n"
     ]
    }
   ],
   "metadata": {}
  },
  {
   "cell_type": "code",
   "execution_count": 13,
   "source": [
    "indicators_df = pd.read_sql_table('Indicators', con=engine, index_col='Datetime')"
   ],
   "outputs": [],
   "metadata": {}
  },
  {
   "cell_type": "code",
   "execution_count": 14,
   "source": [
    "print(indicators_df.head())"
   ],
   "outputs": [
    {
     "output_type": "stream",
     "name": "stdout",
     "text": [
      "                       Open    High     Low  Close  Volume  CDLDOJI  \\\n",
      "Datetime                                                              \n",
      "2021-09-03 03:52:00  730.53  730.60  730.50  730.6    2273        0   \n",
      "2021-09-03 03:53:00  730.51  730.51  729.99  730.0    7418        0   \n",
      "2021-09-03 03:54:00  731.48  731.80  729.80  729.8    3327        0   \n",
      "2021-09-03 03:55:00  729.12  730.00  729.00  729.9    2946        0   \n",
      "2021-09-03 03:56:00  730.00  730.50  730.00  730.5    1065        0   \n",
      "\n",
      "                     Trailing Stop  Trade Signal  Pct Change   Stop Loss  \n",
      "Datetime                                                                  \n",
      "2021-09-03 03:52:00     728.544643           0.0   -0.000547    0.000000  \n",
      "2021-09-03 03:53:00     727.982526           0.0   -0.000821    0.000000  \n",
      "2021-09-03 03:54:00     727.569488           0.0   -0.000274    0.000000  \n",
      "2021-09-03 03:55:00     727.650239           0.0    0.000137  727.650239  \n",
      "2021-09-03 03:56:00     728.303793           0.0    0.000822  728.303793  \n"
     ]
    }
   ],
   "metadata": {}
  },
  {
   "cell_type": "code",
   "execution_count": 29,
   "source": [
    "#LSTM Modules to import\r\n",
    "from pathlib import Path\r\n",
    "import numpy as np\r\n",
    "import matplotlib.pyplot as plt\r\n",
    "from sklearn.preprocessing import MinMaxScaler\r\n",
    "from tensorflow.keras.models import Sequential\r\n",
    "from tensorflow.keras.layers import Dense\r\n",
    "from tensorflow.keras.layers import LSTM\r\n",
    "import tensorflow as tf\r\n",
    "import math\r\n",
    "from sklearn.metrics import mean_squared_error\r\n",
    "import matplotlib.pyplot as plt\r\n",
    "\r\n"
   ],
   "outputs": [],
   "metadata": {}
  },
  {
   "cell_type": "code",
   "execution_count": 17,
   "source": [
    "#Header of the Current Dataframe\r\n",
    "list(indicators_df.columns.values)"
   ],
   "outputs": [
    {
     "output_type": "execute_result",
     "data": {
      "text/plain": [
       "['Open',\n",
       " 'High',\n",
       " 'Low',\n",
       " 'Close',\n",
       " 'Volume',\n",
       " 'CDLDOJI',\n",
       " 'Trailing Stop',\n",
       " 'Trade Signal',\n",
       " 'Pct Change',\n",
       " 'Stop Loss']"
      ]
     },
     "metadata": {},
     "execution_count": 17
    }
   ],
   "metadata": {}
  },
  {
   "cell_type": "code",
   "execution_count": 18,
   "source": [
    "#LSTM Dataframe creation for specified field for RNN\r\n",
    "LSTM_df_Open = indicators_df.reset_index()['Open']\r\n",
    "LSTM_df_High = indicators_df.reset_index()['High']\r\n",
    "LSTM_df_Low = indicators_df.reset_index()['Low']\r\n",
    "LSTM_df_Close = indicators_df.reset_index()['Close']\r\n",
    "LSTM_df_Volume = indicators_df.reset_index()['Volume']\r\n",
    "LSTM_df_CDLDOJI = indicators_df.reset_index()['CDLDOJI']\r\n",
    "LSTM_df_Trailing_Stop = indicators_df.reset_index()['Trailing Stop']\r\n",
    "LSTM_df_Trade_Signal = indicators_df.reset_index()['Trade Signal']\r\n",
    "LSTM_df_PCT_Change = indicators_df.reset_index()['Pct Change']\r\n",
    "LSTM_df_Stop_Loss = indicators_df.reset_index()['Stop Loss']\r\n",
    "\r\n",
    "Testing_df = LSTM_df_Open"
   ],
   "outputs": [],
   "metadata": {}
  },
  {
   "cell_type": "code",
   "execution_count": 19,
   "source": [
    "#Plot Verification of DFs, based on selection\r\n",
    "plt.plot(Testing_df)"
   ],
   "outputs": [
    {
     "output_type": "execute_result",
     "data": {
      "text/plain": [
       "[<matplotlib.lines.Line2D at 0x1ed69076b88>]"
      ]
     },
     "metadata": {},
     "execution_count": 19
    },
    {
     "output_type": "display_data",
     "data": {
      "image/png": "[encoded data removed]",
      "text/plain": [
       "<Figure size 432x288 with 1 Axes>"
      ]
     },
     "metadata": {
      "needs_background": "light"
     }
    }
   ],
   "metadata": {}
  },
  {
   "cell_type": "code",
   "execution_count": 20,
   "source": [
    "#Transform DF into a scalable form for the value to pull accurate predictions\r\n",
    "scaler=MinMaxScaler(feature_range=(0,1))\r\n",
    "Testing_df=scaler.fit_transform(np.array(Testing_df).reshape(-1,1))\r\n",
    "print(Testing_df)"
   ],
   "outputs": [
    {
     "output_type": "stream",
     "name": "stdout",
     "text": [
      "[[0.23643106]\n",
      " [0.23620632]\n",
      " [0.24710642]\n",
      " ...\n",
      " [0.7382852 ]\n",
      " [0.73839757]\n",
      " [0.73615013]]\n"
     ]
    }
   ],
   "metadata": {}
  },
  {
   "cell_type": "code",
   "execution_count": 21,
   "source": [
    "#Split the Dataset to training, and testing data, lets do 80/20 for now, but can be updated\r\n",
    "training_pct = 0.80\r\n",
    "\r\n",
    "training_size=int(len(LSTM_df_Open)*training_pct) \r\n",
    "test_size=len(LSTM_df_Open)-training_size \r\n",
    "train_data,test_data=LSTM_df_Open[0:training_size,:],LSTM_df_Open[training_size:len(LSTM_df_Open),:1]\r\n",
    "\r\n",
    "#verifying the split and calculation\r\n",
    "training_size,test_size"
   ],
   "outputs": [
    {
     "output_type": "execute_result",
     "data": {
      "text/plain": [
       "(9811, 2453)"
      ]
     },
     "metadata": {},
     "execution_count": 21
    }
   ],
   "metadata": {}
  },
  {
   "cell_type": "code",
   "execution_count": 22,
   "source": [
    "#Function create_dataset to set it as an array for LSTM\r\n",
    "def create_dataset(dataset, time_step=1):\r\n",
    "\tdataX, dataY = [], []\r\n",
    "\tfor i in range(len(dataset)-time_step-1):\r\n",
    "\t\ta = dataset[i:(i+time_step), 0]   ###i=0, 0,1,2,3-----99   100 \r\n",
    "\t\tdataX.append(a)\r\n",
    "\t\tdataY.append(dataset[i + time_step, 0])\r\n",
    "\treturn np.array(dataX), np.array(dataY)"
   ],
   "outputs": [],
   "metadata": {}
  },
  {
   "cell_type": "code",
   "execution_count": 23,
   "source": [
    "# Reshaping the training/testing data to properly match the dimensions of LSTM\r\n",
    "time_step = 100\r\n",
    "X_train, y_train = create_dataset(train_data, time_step)\r\n",
    "X_test, ytest = create_dataset(test_data, time_step)\r\n",
    "\r\n",
    "#verify the training data and features to calculate next value\r\n",
    "print(X_train.shape), print(y_train.shape)\r\n",
    "\r\n",
    "#verify the testing data and features to calculate next value\r\n",
    "print(X_test.shape), print(ytest.shape) "
   ],
   "outputs": [
    {
     "output_type": "stream",
     "name": "stdout",
     "text": [
      "(9710, 100)\n",
      "(9710,)\n",
      "(2352, 100)\n",
      "(2352,)\n"
     ]
    },
    {
     "output_type": "execute_result",
     "data": {
      "text/plain": [
       "(None, None)"
      ]
     },
     "metadata": {},
     "execution_count": 23
    }
   ],
   "metadata": {}
  },
  {
   "cell_type": "code",
   "execution_count": 24,
   "source": [
    "#Reshaping the data to pull in and match the dimensions of LSTM for Machine Learning\r\n",
    "X_train =X_train.reshape(X_train.shape[0],X_train.shape[1] , 1)\r\n",
    "X_test = X_test.reshape(X_test.shape[0],X_test.shape[1] , 1)\r\n",
    "\r\n",
    "#Stacked Model LSTM and processing with Layers\r\n",
    "\r\n",
    "#Defining layers and features for the ML model to process the information\r\n",
    "neurons = 50\r\n",
    "timesteps = time_step #referenced above in reshaping block (currently 100)\r\n",
    "data_dimension = 1\r\n",
    "dense_layer = 1\r\n",
    "\r\n",
    "#LSTM Model Call, and pull of different layers to run RNN\r\n",
    "model=Sequential()\r\n",
    "model.add(LSTM(neurons,input_shape=(timesteps, data_dimension),return_sequences=True))\r\n",
    "model.add(LSTM(neurons,return_sequences=True))\r\n",
    "model.add(LSTM(neurons))\r\n",
    "model.add(Dense(dense_layer))\r\n",
    "model.compile(loss='mean_squared_error',optimizer='adam')"
   ],
   "outputs": [],
   "metadata": {}
  },
  {
   "cell_type": "code",
   "execution_count": 25,
   "source": [
    "#Review of Layers\r\n",
    "model.summary()"
   ],
   "outputs": [
    {
     "output_type": "stream",
     "name": "stdout",
     "text": [
      "Model: \"sequential\"\n",
      "_________________________________________________________________\n",
      "Layer (type)                 Output Shape              Param #   \n",
      "=================================================================\n",
      "lstm (LSTM)                  (None, 100, 50)           10400     \n",
      "_________________________________________________________________\n",
      "lstm_1 (LSTM)                (None, 100, 50)           20200     \n",
      "_________________________________________________________________\n",
      "lstm_2 (LSTM)                (None, 50)                20200     \n",
      "_________________________________________________________________\n",
      "dense (Dense)                (None, 1)                 51        \n",
      "=================================================================\n",
      "Total params: 50,851\n",
      "Trainable params: 50,851\n",
      "Non-trainable params: 0\n",
      "_________________________________________________________________\n"
     ]
    }
   ],
   "metadata": {}
  },
  {
   "cell_type": "code",
   "execution_count": 30,
   "source": [
    "#training the model, currently set to silent mode, this will take time to process\r\n",
    "model.fit(X_train,y_train,validation_data=(X_test,ytest),epochs=100,batch_size=64,verbose=1)"
   ],
   "outputs": [
    {
     "output_type": "stream",
     "name": "stdout",
     "text": [
      "Epoch 1/100\n",
      "152/152 [==============================] - 15s 98ms/step - loss: 7.4518e-05 - val_loss: 1.9457e-04\n",
      "Epoch 2/100\n",
      "152/152 [==============================] - 15s 97ms/step - loss: 7.5047e-05 - val_loss: 8.7952e-05\n",
      "Epoch 3/100\n",
      "152/152 [==============================] - 15s 98ms/step - loss: 8.2752e-05 - val_loss: 1.9047e-04\n",
      "Epoch 4/100\n",
      "152/152 [==============================] - 15s 100ms/step - loss: 6.9296e-05 - val_loss: 8.1171e-05\n",
      "Epoch 5/100\n",
      "152/152 [==============================] - 15s 98ms/step - loss: 7.4075e-05 - val_loss: 1.0085e-04\n",
      "Epoch 6/100\n",
      "152/152 [==============================] - 15s 99ms/step - loss: 6.2700e-05 - val_loss: 2.6407e-04\n",
      "Epoch 7/100\n",
      "152/152 [==============================] - 15s 99ms/step - loss: 6.9479e-05 - val_loss: 9.5153e-05\n",
      "Epoch 8/100\n",
      "152/152 [==============================] - 15s 101ms/step - loss: 8.0718e-05 - val_loss: 8.0491e-05\n",
      "Epoch 9/100\n",
      "152/152 [==============================] - 15s 97ms/step - loss: 6.5408e-05 - val_loss: 1.0650e-04\n",
      "Epoch 10/100\n",
      "152/152 [==============================] - 15s 97ms/step - loss: 6.8967e-05 - val_loss: 1.3328e-04\n",
      "Epoch 11/100\n",
      "152/152 [==============================] - 15s 98ms/step - loss: 6.0007e-05 - val_loss: 9.5512e-05\n",
      "Epoch 12/100\n",
      "152/152 [==============================] - 15s 97ms/step - loss: 6.0231e-05 - val_loss: 1.3492e-04\n",
      "Epoch 13/100\n",
      "152/152 [==============================] - 15s 98ms/step - loss: 5.8085e-05 - val_loss: 8.1845e-05\n",
      "Epoch 14/100\n",
      "152/152 [==============================] - 15s 97ms/step - loss: 5.6972e-05 - val_loss: 1.4935e-04\n",
      "Epoch 15/100\n",
      "152/152 [==============================] - 15s 98ms/step - loss: 5.7475e-05 - val_loss: 3.2866e-04\n",
      "Epoch 16/100\n",
      "152/152 [==============================] - 15s 97ms/step - loss: 5.8279e-05 - val_loss: 7.7267e-05\n",
      "Epoch 17/100\n",
      "152/152 [==============================] - 15s 97ms/step - loss: 6.2286e-05 - val_loss: 7.3399e-05\n",
      "Epoch 18/100\n",
      "152/152 [==============================] - 15s 99ms/step - loss: 6.1559e-05 - val_loss: 1.1076e-04\n",
      "Epoch 19/100\n",
      "152/152 [==============================] - 15s 99ms/step - loss: 5.2814e-05 - val_loss: 1.2888e-04\n",
      "Epoch 20/100\n",
      "152/152 [==============================] - 15s 98ms/step - loss: 5.6526e-05 - val_loss: 9.0161e-05\n",
      "Epoch 21/100\n",
      "152/152 [==============================] - 15s 98ms/step - loss: 5.6818e-05 - val_loss: 1.0051e-04\n",
      "Epoch 22/100\n",
      "152/152 [==============================] - 15s 98ms/step - loss: 5.4921e-05 - val_loss: 7.9872e-05\n",
      "Epoch 23/100\n",
      "152/152 [==============================] - 15s 97ms/step - loss: 5.7080e-05 - val_loss: 7.3973e-05\n",
      "Epoch 24/100\n",
      "152/152 [==============================] - 15s 98ms/step - loss: 5.4472e-05 - val_loss: 7.4216e-05\n",
      "Epoch 25/100\n",
      "152/152 [==============================] - 15s 100ms/step - loss: 5.3417e-05 - val_loss: 1.2808e-04\n",
      "Epoch 26/100\n",
      "152/152 [==============================] - 15s 100ms/step - loss: 5.2719e-05 - val_loss: 1.6280e-04\n",
      "Epoch 27/100\n",
      "152/152 [==============================] - 16s 103ms/step - loss: 4.9170e-05 - val_loss: 1.4088e-04\n",
      "Epoch 28/100\n",
      "152/152 [==============================] - 16s 103ms/step - loss: 5.0178e-05 - val_loss: 1.4684e-04\n",
      "Epoch 29/100\n",
      "152/152 [==============================] - 16s 105ms/step - loss: 6.1202e-05 - val_loss: 7.7661e-05\n",
      "Epoch 30/100\n",
      "152/152 [==============================] - 16s 108ms/step - loss: 5.5740e-05 - val_loss: 7.5474e-05\n",
      "Epoch 31/100\n",
      "152/152 [==============================] - 15s 101ms/step - loss: 4.9955e-05 - val_loss: 8.4621e-05\n",
      "Epoch 32/100\n",
      "152/152 [==============================] - 15s 96ms/step - loss: 5.2128e-05 - val_loss: 7.4661e-05\n",
      "Epoch 33/100\n",
      "152/152 [==============================] - 15s 99ms/step - loss: 5.1958e-05 - val_loss: 1.6146e-04\n",
      "Epoch 34/100\n",
      "152/152 [==============================] - 15s 99ms/step - loss: 5.5205e-05 - val_loss: 9.3817e-05\n",
      "Epoch 35/100\n",
      "152/152 [==============================] - 15s 97ms/step - loss: 5.0064e-05 - val_loss: 1.1652e-04\n",
      "Epoch 36/100\n",
      "152/152 [==============================] - 15s 97ms/step - loss: 5.0536e-05 - val_loss: 7.5147e-05\n",
      "Epoch 37/100\n",
      "152/152 [==============================] - 16s 103ms/step - loss: 5.1509e-05 - val_loss: 7.8307e-05\n",
      "Epoch 38/100\n",
      "152/152 [==============================] - 16s 106ms/step - loss: 4.8252e-05 - val_loss: 1.0775e-04\n",
      "Epoch 39/100\n",
      "152/152 [==============================] - 16s 103ms/step - loss: 5.0427e-05 - val_loss: 8.3970e-05\n",
      "Epoch 40/100\n",
      "152/152 [==============================] - 15s 100ms/step - loss: 4.9176e-05 - val_loss: 7.6602e-05\n",
      "Epoch 41/100\n",
      "152/152 [==============================] - 15s 102ms/step - loss: 5.1001e-05 - val_loss: 9.0389e-05\n",
      "Epoch 42/100\n",
      "152/152 [==============================] - 15s 100ms/step - loss: 4.9482e-05 - val_loss: 1.0327e-04\n",
      "Epoch 43/100\n",
      "152/152 [==============================] - 15s 100ms/step - loss: 4.9231e-05 - val_loss: 7.9220e-05\n",
      "Epoch 44/100\n",
      "152/152 [==============================] - 15s 101ms/step - loss: 4.9381e-05 - val_loss: 8.6622e-05\n",
      "Epoch 45/100\n",
      "152/152 [==============================] - 15s 101ms/step - loss: 5.6475e-05 - val_loss: 1.1719e-04\n",
      "Epoch 46/100\n",
      "152/152 [==============================] - 15s 100ms/step - loss: 5.5244e-05 - val_loss: 1.5084e-04\n",
      "Epoch 47/100\n",
      "152/152 [==============================] - 16s 104ms/step - loss: 4.9842e-05 - val_loss: 1.2915e-04\n",
      "Epoch 48/100\n",
      "152/152 [==============================] - 16s 105ms/step - loss: 4.9332e-05 - val_loss: 9.9417e-05\n",
      "Epoch 49/100\n",
      "152/152 [==============================] - 15s 101ms/step - loss: 4.8786e-05 - val_loss: 7.9076e-05\n",
      "Epoch 50/100\n",
      "152/152 [==============================] - 16s 102ms/step - loss: 4.6197e-05 - val_loss: 7.7818e-05\n",
      "Epoch 51/100\n",
      "152/152 [==============================] - 16s 106ms/step - loss: 4.6024e-05 - val_loss: 7.4083e-05\n",
      "Epoch 52/100\n",
      "152/152 [==============================] - 16s 106ms/step - loss: 5.0823e-05 - val_loss: 7.8485e-05\n",
      "Epoch 53/100\n",
      "152/152 [==============================] - 16s 104ms/step - loss: 5.1200e-05 - val_loss: 7.4496e-05\n",
      "Epoch 54/100\n",
      "152/152 [==============================] - 15s 99ms/step - loss: 5.1172e-05 - val_loss: 8.2360e-05\n",
      "Epoch 55/100\n",
      "152/152 [==============================] - 15s 98ms/step - loss: 4.5310e-05 - val_loss: 7.9825e-05\n",
      "Epoch 56/100\n",
      "152/152 [==============================] - 15s 99ms/step - loss: 5.1668e-05 - val_loss: 7.4418e-05\n",
      "Epoch 57/100\n",
      "152/152 [==============================] - 15s 98ms/step - loss: 4.5056e-05 - val_loss: 1.0226e-04\n",
      "Epoch 58/100\n",
      "152/152 [==============================] - 15s 99ms/step - loss: 4.8517e-05 - val_loss: 9.7583e-05\n",
      "Epoch 59/100\n",
      "152/152 [==============================] - 15s 100ms/step - loss: 5.2414e-05 - val_loss: 7.4025e-05\n",
      "Epoch 60/100\n",
      "152/152 [==============================] - 15s 98ms/step - loss: 5.2087e-05 - val_loss: 8.4234e-05\n",
      "Epoch 61/100\n",
      "152/152 [==============================] - 15s 99ms/step - loss: 4.8415e-05 - val_loss: 7.5143e-05\n",
      "Epoch 62/100\n",
      "152/152 [==============================] - 15s 99ms/step - loss: 4.7700e-05 - val_loss: 1.2147e-04\n",
      "Epoch 63/100\n",
      "152/152 [==============================] - 15s 98ms/step - loss: 4.5670e-05 - val_loss: 7.8619e-05\n",
      "Epoch 64/100\n",
      "152/152 [==============================] - 15s 98ms/step - loss: 4.6451e-05 - val_loss: 7.3798e-05\n",
      "Epoch 65/100\n",
      "152/152 [==============================] - 15s 98ms/step - loss: 4.8329e-05 - val_loss: 8.0525e-05\n",
      "Epoch 66/100\n",
      "152/152 [==============================] - 15s 98ms/step - loss: 4.6218e-05 - val_loss: 1.0820e-04\n",
      "Epoch 67/100\n",
      "152/152 [==============================] - 15s 97ms/step - loss: 4.5455e-05 - val_loss: 1.0430e-04\n",
      "Epoch 68/100\n",
      "152/152 [==============================] - 15s 101ms/step - loss: 4.6573e-05 - val_loss: 7.5248e-05\n",
      "Epoch 69/100\n",
      "152/152 [==============================] - 15s 98ms/step - loss: 4.5743e-05 - val_loss: 7.4549e-05\n",
      "Epoch 70/100\n",
      "152/152 [==============================] - 15s 99ms/step - loss: 4.7305e-05 - val_loss: 7.5143e-05\n",
      "Epoch 71/100\n",
      "152/152 [==============================] - 15s 101ms/step - loss: 4.5432e-05 - val_loss: 8.8183e-05\n",
      "Epoch 72/100\n",
      "152/152 [==============================] - 15s 101ms/step - loss: 4.6928e-05 - val_loss: 7.3562e-05\n",
      "Epoch 73/100\n",
      "152/152 [==============================] - 15s 100ms/step - loss: 5.3214e-05 - val_loss: 7.3127e-05\n",
      "Epoch 74/100\n",
      "152/152 [==============================] - 15s 100ms/step - loss: 4.6457e-05 - val_loss: 7.2321e-05\n",
      "Epoch 75/100\n",
      "152/152 [==============================] - 15s 100ms/step - loss: 4.6490e-05 - val_loss: 7.8682e-05\n",
      "Epoch 76/100\n",
      "152/152 [==============================] - 15s 97ms/step - loss: 4.7509e-05 - val_loss: 7.2637e-05\n",
      "Epoch 77/100\n",
      "152/152 [==============================] - 15s 97ms/step - loss: 4.5472e-05 - val_loss: 7.1650e-05\n",
      "Epoch 78/100\n",
      "152/152 [==============================] - 15s 96ms/step - loss: 4.5886e-05 - val_loss: 7.5388e-05\n",
      "Epoch 79/100\n",
      "152/152 [==============================] - 15s 98ms/step - loss: 4.4278e-05 - val_loss: 1.8915e-04\n",
      "Epoch 80/100\n",
      "152/152 [==============================] - 15s 102ms/step - loss: 4.5665e-05 - val_loss: 1.2648e-04\n",
      "Epoch 81/100\n",
      "152/152 [==============================] - 15s 101ms/step - loss: 4.7144e-05 - val_loss: 7.4124e-05\n",
      "Epoch 82/100\n",
      "152/152 [==============================] - 15s 100ms/step - loss: 4.8490e-05 - val_loss: 1.3274e-04\n",
      "Epoch 83/100\n",
      "152/152 [==============================] - 15s 99ms/step - loss: 4.5541e-05 - val_loss: 9.2484e-05\n",
      "Epoch 84/100\n",
      "152/152 [==============================] - 15s 100ms/step - loss: 4.4718e-05 - val_loss: 8.8105e-05\n",
      "Epoch 85/100\n",
      "152/152 [==============================] - 15s 100ms/step - loss: 5.1389e-05 - val_loss: 7.0925e-05\n",
      "Epoch 86/100\n",
      "152/152 [==============================] - 15s 99ms/step - loss: 4.5454e-05 - val_loss: 7.1603e-05\n",
      "Epoch 87/100\n",
      "152/152 [==============================] - 15s 98ms/step - loss: 4.5235e-05 - val_loss: 9.9569e-05\n",
      "Epoch 88/100\n",
      "152/152 [==============================] - 15s 98ms/step - loss: 4.4729e-05 - val_loss: 7.1924e-05\n",
      "Epoch 89/100\n",
      "152/152 [==============================] - 15s 96ms/step - loss: 4.6879e-05 - val_loss: 7.1859e-05\n",
      "Epoch 90/100\n",
      "152/152 [==============================] - 15s 99ms/step - loss: 4.7305e-05 - val_loss: 7.8259e-05\n",
      "Epoch 91/100\n",
      "152/152 [==============================] - 15s 97ms/step - loss: 4.3543e-05 - val_loss: 1.1667e-04\n",
      "Epoch 92/100\n",
      "152/152 [==============================] - 15s 98ms/step - loss: 4.8137e-05 - val_loss: 7.2315e-05\n",
      "Epoch 93/100\n",
      "152/152 [==============================] - 15s 100ms/step - loss: 4.6551e-05 - val_loss: 7.2700e-05\n",
      "Epoch 94/100\n",
      "152/152 [==============================] - 15s 98ms/step - loss: 4.3532e-05 - val_loss: 7.1841e-05\n",
      "Epoch 95/100\n",
      "152/152 [==============================] - 15s 97ms/step - loss: 4.4982e-05 - val_loss: 7.5606e-05\n",
      "Epoch 96/100\n",
      "152/152 [==============================] - 15s 97ms/step - loss: 4.8270e-05 - val_loss: 7.4396e-05\n",
      "Epoch 97/100\n",
      "152/152 [==============================] - 15s 97ms/step - loss: 4.6633e-05 - val_loss: 8.5315e-05\n",
      "Epoch 98/100\n",
      "152/152 [==============================] - 15s 97ms/step - loss: 4.5872e-05 - val_loss: 7.9302e-05\n",
      "Epoch 99/100\n",
      "152/152 [==============================] - 15s 96ms/step - loss: 4.4307e-05 - val_loss: 8.4316e-05\n",
      "Epoch 100/100\n",
      "152/152 [==============================] - 15s 99ms/step - loss: 4.2750e-05 - val_loss: 7.9301e-05\n"
     ]
    },
    {
     "output_type": "execute_result",
     "data": {
      "text/plain": [
       "<keras.callbacks.History at 0x1ed7aca3e08>"
      ]
     },
     "metadata": {},
     "execution_count": 30
    }
   ],
   "metadata": {}
  },
  {
   "cell_type": "code",
   "execution_count": 31,
   "source": [
    "# Prediction and Performance Metrics\r\n",
    "train_predict=model.predict(X_train)\r\n",
    "test_predict=model.predict(X_test)\r\n",
    "\r\n",
    "#Transformback to original form\r\n",
    "train_predict=scaler.inverse_transform(train_predict)\r\n",
    "test_predict=scaler.inverse_transform(test_predict)\r\n",
    "\r\n",
    "#Calculate RMSE performance metrics - Root Mean Square Error, this is for the data set comparison\r\n",
    "math.sqrt(mean_squared_error(y_train,train_predict))"
   ],
   "outputs": [
    {
     "output_type": "execute_result",
     "data": {
      "text/plain": [
       "750.1384368533301"
      ]
     },
     "metadata": {},
     "execution_count": 31
    }
   ],
   "metadata": {}
  },
  {
   "cell_type": "code",
   "execution_count": 33,
   "source": [
    "# Plotting \r\n",
    "# shift train predictions for plotting\r\n",
    "look_back= timesteps #this is your timesteps from earlier\r\n",
    "trainPredictPlot = np.empty_like(Testing_df)\r\n",
    "trainPredictPlot[:, :] = np.nan\r\n",
    "trainPredictPlot[look_back:len(train_predict)+look_back, :] = train_predict\r\n",
    "# shift test predictions for plotting\r\n",
    "testPredictPlot = np.empty_like(Testing_df)\r\n",
    "testPredictPlot[:, :] = np.nan\r\n",
    "testPredictPlot[len(train_predict)+(look_back*2)+1:len(Testing_df)-1, :] = test_predict\r\n",
    "# plot baseline and predictions\r\n",
    "plt.plot(scaler.inverse_transform(Testing_df))\r\n",
    "plt.plot(trainPredictPlot)\r\n",
    "plt.plot(testPredictPlot)\r\n",
    "plt.show()\r\n",
    "\r\n",
    "#orange is training\r\n",
    "#green is predicting the test data and verifying"
   ],
   "outputs": [
    {
     "output_type": "display_data",
     "data": {
      "image/png": "[encoded data removed]",
      "text/plain": [
       "<Figure size 432x288 with 1 Axes>"
      ]
     },
     "metadata": {
      "needs_background": "light"
     }
    }
   ],
   "metadata": {}
  },
  {
   "cell_type": "code",
   "execution_count": 34,
   "source": [
    "#converting the information to a list that has been scaled from 0 - 1 from earlier\r\n",
    "test_values = test_size - timesteps\r\n",
    "\r\n",
    "x_input=test_data[test_values:].reshape(1,-1)\r\n",
    "temp_input=list(x_input)\r\n",
    "temp_input=temp_input[0].tolist()"
   ],
   "outputs": [],
   "metadata": {}
  },
  {
   "cell_type": "code",
   "execution_count": 35,
   "source": [
    "# demonstrate prediction for next 3\r\n",
    "from numpy import array\r\n",
    "\r\n",
    "lst_output=[]\r\n",
    "n_steps=time_step\r\n",
    "i=0\r\n",
    "prediction_days = 3\r\n",
    "\r\n",
    "while(i<prediction_days): #this predicts the next 30 days\r\n",
    "    \r\n",
    "    if(len(temp_input)>timesteps): \r\n",
    "        #print(temp_input)\r\n",
    "        x_input=np.array(temp_input[1:])\r\n",
    "        print(\"{} price input {}\".format(i,x_input))\r\n",
    "        x_input=x_input.reshape(1,-1)\r\n",
    "        x_input = x_input.reshape((1, n_steps, 1))\r\n",
    "        #print(x_input)\r\n",
    "        yhat = model.predict(x_input, verbose=0)\r\n",
    "        print(\"{} price output {}\".format(i,yhat))\r\n",
    "        temp_input.extend(yhat[0].tolist())\r\n",
    "        temp_input=temp_input[1:]\r\n",
    "        #print(temp_input)\r\n",
    "        lst_output.extend(yhat.tolist())\r\n",
    "        i=i+1\r\n",
    "    else:\r\n",
    "        x_input = x_input.reshape((1, n_steps,1))\r\n",
    "        yhat = model.predict(x_input, verbose=0)\r\n",
    "        print(yhat[0])\r\n",
    "        temp_input.extend(yhat[0].tolist())\r\n",
    "        print(len(temp_input))\r\n",
    "        lst_output.extend(yhat.tolist())\r\n",
    "        i=i+1\r\n",
    "    \r\n",
    "\r\n",
    "print(lst_output)\r\n",
    "\r\n",
    "tick_new=np.arange(1,timesteps + 1)\r\n",
    "tick_pred=np.arange(timesteps + 1,timesteps + 1 + prediction_days)"
   ],
   "outputs": [
    {
     "output_type": "stream",
     "name": "stdout",
     "text": [
      "[0.7391406]\n",
      "101\n",
      "1 day input [0.74131925 0.74289246 0.72345207 0.72446342 0.72210361 0.72435105\n",
      " 0.7225531  0.72569952 0.73727385 0.74424093 0.7423306  0.73581301\n",
      " 0.73783571 0.74367907 0.73199236 0.73862232 0.73862232 0.73952129\n",
      " 0.73615013 0.72907068 0.72839645 0.73053152 0.72974492 0.72828408\n",
      " 0.72839645 0.73053152 0.7301944  0.73277896 0.73334082 0.73199236\n",
      " 0.73165524 0.73232948 0.73255422 0.73379031 0.73311608 0.73502641\n",
      " 0.73446455 0.73232948 0.73232948 0.73379031 0.73277896 0.73232948\n",
      " 0.73300371 0.73322845 0.73311608 0.73255422 0.73255422 0.73232948\n",
      " 0.7322171  0.73154287 0.73176761 0.73187999 0.73187999 0.73210473\n",
      " 0.7322171  0.73165524 0.73379031 0.73435217 0.73491404 0.73502641\n",
      " 0.73502641 0.73525115 0.73558827 0.73603776 0.73592538 0.73615013\n",
      " 0.73615013 0.73592538 0.73615013 0.73615013 0.73266659 0.73457692\n",
      " 0.73480166 0.73603776 0.73210473 0.73536352 0.7342398  0.73435217\n",
      " 0.73536352 0.73356557 0.73525115 0.73536352 0.73558827 0.73558827\n",
      " 0.73615013 0.73513878 0.73603776 0.73603776 0.73558827 0.73525115\n",
      " 0.73603776 0.73727385 0.7374986  0.73895943 0.74064502 0.74042027\n",
      " 0.7382852  0.73839757 0.73615013 0.73914063]\n",
      "1 day output [[0.74240685]]\n",
      "2 day input [0.74289246 0.72345207 0.72446342 0.72210361 0.72435105 0.7225531\n",
      " 0.72569952 0.73727385 0.74424093 0.7423306  0.73581301 0.73783571\n",
      " 0.74367907 0.73199236 0.73862232 0.73862232 0.73952129 0.73615013\n",
      " 0.72907068 0.72839645 0.73053152 0.72974492 0.72828408 0.72839645\n",
      " 0.73053152 0.7301944  0.73277896 0.73334082 0.73199236 0.73165524\n",
      " 0.73232948 0.73255422 0.73379031 0.73311608 0.73502641 0.73446455\n",
      " 0.73232948 0.73232948 0.73379031 0.73277896 0.73232948 0.73300371\n",
      " 0.73322845 0.73311608 0.73255422 0.73255422 0.73232948 0.7322171\n",
      " 0.73154287 0.73176761 0.73187999 0.73187999 0.73210473 0.7322171\n",
      " 0.73165524 0.73379031 0.73435217 0.73491404 0.73502641 0.73502641\n",
      " 0.73525115 0.73558827 0.73603776 0.73592538 0.73615013 0.73615013\n",
      " 0.73592538 0.73615013 0.73615013 0.73266659 0.73457692 0.73480166\n",
      " 0.73603776 0.73210473 0.73536352 0.7342398  0.73435217 0.73536352\n",
      " 0.73356557 0.73525115 0.73536352 0.73558827 0.73558827 0.73615013\n",
      " 0.73513878 0.73603776 0.73603776 0.73558827 0.73525115 0.73603776\n",
      " 0.73727385 0.7374986  0.73895943 0.74064502 0.74042027 0.7382852\n",
      " 0.73839757 0.73615013 0.73914063 0.74240685]\n",
      "2 day output [[0.74544615]]\n",
      "[[0.7391406297683716], [0.7424068450927734], [0.7454461455345154]]\n"
     ]
    }
   ],
   "metadata": {}
  },
  {
   "cell_type": "code",
   "execution_count": 36,
   "source": [
    "#Plotting the informatino with the prediction\r\n",
    "tick_value = len(Testing_df) - timesteps\r\n",
    "\r\n",
    "plt.plot(tick_new,scaler.inverse_transform(Testing_df[tick_value:]))\r\n",
    "plt.plot(tick_pred,scaler.inverse_transform(lst_output)) #this is the predicted data / output (Orange Line)"
   ],
   "outputs": [
    {
     "output_type": "execute_result",
     "data": {
      "text/plain": [
       "[<matplotlib.lines.Line2D at 0x1ed01560308>]"
      ]
     },
     "metadata": {},
     "execution_count": 36
    },
    {
     "output_type": "display_data",
     "data": {
      "image/png": "[encoded data removed]",
      "text/plain": [
       "<Figure size 432x288 with 1 Axes>"
      ]
     },
     "metadata": {
      "needs_background": "light"
     }
    }
   ],
   "metadata": {}
  },
  {
   "cell_type": "code",
   "execution_count": 37,
   "source": [
    "#Combining the information together for output\r\n",
    "prediction_df = Testing_df.tolist()\r\n",
    "prediction_df.extend(lst_output)\r\n",
    "plt.plot(prediction_df [tick_value:])"
   ],
   "outputs": [
    {
     "output_type": "execute_result",
     "data": {
      "text/plain": [
       "[<matplotlib.lines.Line2D at 0x1ed0184e508>]"
      ]
     },
     "metadata": {},
     "execution_count": 37
    },
    {
     "output_type": "display_data",
     "data": {
      "image/png": "[encoded data removed]",
      "text/plain": [
       "<Figure size 432x288 with 1 Axes>"
      ]
     },
     "metadata": {
      "needs_background": "light"
     }
    }
   ],
   "metadata": {}
  },
  {
   "cell_type": "code",
   "execution_count": 38,
   "source": [
    "#Inverting the scaler back for actual values, and plotting the information\r\n",
    "prediction_df = scaler.inverse_transform(prediction_df).tolist()\r\n",
    "plt.plot(prediction_df)"
   ],
   "outputs": [
    {
     "output_type": "execute_result",
     "data": {
      "text/plain": [
       "[<matplotlib.lines.Line2D at 0x1ed0156ce08>]"
      ]
     },
     "metadata": {},
     "execution_count": 38
    },
    {
     "output_type": "display_data",
     "data": {
      "image/png": "[encoded data removed]",
      "text/plain": [
       "<Figure size 432x288 with 1 Axes>"
      ]
     },
     "metadata": {
      "needs_background": "light"
     }
    }
   ],
   "metadata": {}
  }
 ],
 "metadata": {
  "interpreter": {
   "hash": "d4156aaab05991101c6a751683038476f3e64298aad0394e408e9e53044404ee"
  },
  "kernelspec": {
   "display_name": "Python 3 (ipykernel)",
   "language": "python",
   "name": "python3"
  },
  "language_info": {
   "codemirror_mode": {
    "name": "ipython",
    "version": 3
   },
   "file_extension": ".py",
   "mimetype": "text/x-python",
   "name": "python",
   "nbconvert_exporter": "python",
   "pygments_lexer": "ipython3",
   "version": "3.7.10"
  }
 },
 "nbformat": 4,
 "nbformat_minor": 4
}