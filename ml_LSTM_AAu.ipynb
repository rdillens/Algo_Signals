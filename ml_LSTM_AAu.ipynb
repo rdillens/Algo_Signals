{
 "cells": [
  {
   "cell_type": "code",
   "execution_count": 138,
   "source": [
    "import sqlalchemy\r\n",
    "import pandas as pd\r\n"
   ],
   "outputs": [],
   "metadata": {}
  },
  {
   "cell_type": "code",
   "execution_count": 139,
   "source": [
    "db_connection_string = 'sqlite:///./Resources/products.db'\r\n",
    "engine  = sqlalchemy.create_engine(db_connection_string)\r\n",
    "\r\n",
    "inspector = sqlalchemy.inspect(engine)\r\n",
    "table_names = inspector.get_table_names()\r\n",
    "print(table_names)"
   ],
   "outputs": [
    {
     "output_type": "stream",
     "name": "stdout",
     "text": [
      "['Indicators', 'TSLA_1_Day_Candles', 'TSLA_1_Min_Candles', 'TSLA_Info']\n"
     ]
    }
   ],
   "metadata": {}
  },
  {
   "cell_type": "code",
   "execution_count": 140,
   "source": [
    "indicators_df = pd.read_sql_table('Indicators', con=engine, index_col='Datetime')"
   ],
   "outputs": [],
   "metadata": {}
  },
  {
   "cell_type": "code",
   "execution_count": 141,
   "source": [
    "print(indicators_df.head())"
   ],
   "outputs": [
    {
     "output_type": "stream",
     "name": "stdout",
     "text": [
      "                       Open    High      Low   Close  Volume  CDLDOJI  \\\n",
      "Datetime                                                                \n",
      "2021-09-03 12:28:00  728.36  728.44  728.360  728.43    8380        0   \n",
      "2021-09-03 12:29:00  728.37  729.23  728.235  728.87   26188        0   \n",
      "2021-09-03 12:30:00  728.82  728.90  728.630  728.66   20906        0   \n",
      "2021-09-03 12:31:00  728.74  728.74  728.610  728.74    6903      100   \n",
      "2021-09-03 12:32:00  728.71  728.99  728.120  728.12   56214        0   \n",
      "\n",
      "                     Trailing Stop  Trade Signal  Pct Change   Stop Loss  \n",
      "Datetime                                                                  \n",
      "2021-09-03 12:28:00     727.574643           0.0    0.000137  727.574643  \n",
      "2021-09-03 12:29:00     727.898061           0.0    0.000604  727.898061  \n",
      "2021-09-03 12:30:00     727.709271           0.0   -0.000288    0.000000  \n",
      "2021-09-03 12:31:00     727.833966           1.0    0.000110  727.833966  \n",
      "2021-09-03 12:32:00     727.123326           0.0   -0.000851  727.833966  \n"
     ]
    }
   ],
   "metadata": {}
  },
  {
   "cell_type": "code",
   "execution_count": 142,
   "source": [
    "#LSTM Modules to import\r\n",
    "from pathlib import Path\r\n",
    "import numpy as np\r\n",
    "import matplotlib.pyplot as plt\r\n",
    "from sklearn.preprocessing import MinMaxScaler\r\n",
    "from tensorflow.keras.models import Sequential\r\n",
    "from tensorflow.keras.layers import Dense\r\n",
    "from tensorflow.keras.layers import LSTM\r\n",
    "import tensorflow as tf\r\n",
    "import math\r\n",
    "from sklearn.metrics import mean_squared_error\r\n",
    "import matplotlib.pyplot as plt\r\n"
   ],
   "outputs": [],
   "metadata": {}
  },
  {
   "cell_type": "code",
   "execution_count": 143,
   "source": [
    "#Header of the Current Dataframe\r\n",
    "list(indicators_df.columns.values)"
   ],
   "outputs": [
    {
     "output_type": "execute_result",
     "data": {
      "text/plain": [
       "['Open',\n",
       " 'High',\n",
       " 'Low',\n",
       " 'Close',\n",
       " 'Volume',\n",
       " 'CDLDOJI',\n",
       " 'Trailing Stop',\n",
       " 'Trade Signal',\n",
       " 'Pct Change',\n",
       " 'Stop Loss']"
      ]
     },
     "metadata": {},
     "execution_count": 143
    }
   ],
   "metadata": {}
  },
  {
   "cell_type": "code",
   "execution_count": 144,
   "source": [
    "#LSTM Dataframe creation for specified field for RNN\r\n",
    "LSTM_df_Open = indicators_df.reset_index()['Open']\r\n",
    "LSTM_df_High = indicators_df.reset_index()['High']\r\n",
    "LSTM_df_Low = indicators_df.reset_index()['Low']\r\n",
    "LSTM_df_Close = indicators_df.reset_index()['Close']\r\n",
    "LSTM_df_Volume = indicators_df.reset_index()['Volume']\r\n",
    "LSTM_df_CDLDOJI = indicators_df.reset_index()['CDLDOJI']\r\n",
    "LSTM_df_Trailing_Stop = indicators_df.reset_index()['Trailing Stop']\r\n",
    "LSTM_df_Trade_Signal = indicators_df.reset_index()['Trade Signal']\r\n",
    "LSTM_df_PCT_Change = indicators_df.reset_index()['Pct Change']\r\n",
    "LSTM_df_Stop_Loss = indicators_df.reset_index()['Stop Loss']\r\n",
    "\r\n",
    "Testing_df = LSTM_df_Close"
   ],
   "outputs": [],
   "metadata": {}
  },
  {
   "cell_type": "code",
   "execution_count": 145,
   "source": [
    "#Verify data in testing DF\r\n",
    "Testing_df.tail()"
   ],
   "outputs": [
    {
     "output_type": "execute_result",
     "data": {
      "text/plain": [
       "11899    775.40\n",
       "11900    775.38\n",
       "11901    775.19\n",
       "11902    775.20\n",
       "11903    775.00\n",
       "Name: Close, dtype: float64"
      ]
     },
     "metadata": {},
     "execution_count": 145
    }
   ],
   "metadata": {}
  },
  {
   "cell_type": "code",
   "execution_count": 146,
   "source": [
    "#Plot Verification of DFs, based on selection\r\n",
    "plt.plot(Testing_df)\r\n"
   ],
   "outputs": [
    {
     "output_type": "execute_result",
     "data": {
      "text/plain": [
       "[<matplotlib.lines.Line2D at 0x2157fd01648>]"
      ]
     },
     "metadata": {},
     "execution_count": 146
    },
    {
     "output_type": "display_data",
     "data": {
      "image/png": "[encoded data removed]",
      "text/plain": [
       "<Figure size 432x288 with 1 Axes>"
      ]
     },
     "metadata": {
      "needs_background": "light"
     }
    }
   ],
   "metadata": {}
  },
  {
   "cell_type": "code",
   "execution_count": 147,
   "source": [
    "#Transform DF into a scalable form for the value to pull accurate predictions\r\n",
    "scaler=MinMaxScaler(feature_range=(0,1))\r\n",
    "Testing_df=scaler.fit_transform(np.array(Testing_df).reshape(-1,1))\r\n",
    "print(Testing_df)"
   ],
   "outputs": [
    {
     "output_type": "stream",
     "name": "stdout",
     "text": [
      "[[0.21438202]\n",
      " [0.21932584]\n",
      " [0.21696629]\n",
      " ...\n",
      " [0.73977528]\n",
      " [0.73988764]\n",
      " [0.73764045]]\n"
     ]
    }
   ],
   "metadata": {}
  },
  {
   "cell_type": "code",
   "execution_count": 148,
   "source": [
    "#Split the Dataset to training, and testing data, lets do 80/20 for now, but can be updated\r\n",
    "training_pct = 0.80\r\n",
    "\r\n",
    "training_size=int(len(Testing_df)*training_pct) \r\n",
    "test_size=len(Testing_df)-training_size \r\n",
    "train_data,test_data=Testing_df[0:training_size,:],Testing_df[training_size:len(Testing_df),:1]\r\n",
    "\r\n",
    "#verifying the split and calculation\r\n",
    "training_size,test_size"
   ],
   "outputs": [
    {
     "output_type": "execute_result",
     "data": {
      "text/plain": [
       "(9523, 2381)"
      ]
     },
     "metadata": {},
     "execution_count": 148
    }
   ],
   "metadata": {}
  },
  {
   "cell_type": "code",
   "execution_count": 149,
   "source": [
    "#Function create_dataset to set it as an array for LSTM\r\n",
    "def create_dataset(dataset, time_step=1):\r\n",
    "\tdataX, dataY = [], []\r\n",
    "\tfor i in range(len(dataset)-time_step-1):\r\n",
    "\t\ta = dataset[i:(i+time_step), 0]   ###i=0, 0,1,2,3-----99   100 \r\n",
    "\t\tdataX.append(a)\r\n",
    "\t\tdataY.append(dataset[i + time_step, 0])\r\n",
    "\treturn np.array(dataX), np.array(dataY)"
   ],
   "outputs": [],
   "metadata": {}
  },
  {
   "cell_type": "code",
   "execution_count": 150,
   "source": [
    "# Reshaping the training/testing data to properly match the dimensions of LSTM\r\n",
    "time_step = 10\r\n",
    "X_train, y_train = create_dataset(train_data, time_step)\r\n",
    "X_test, ytest = create_dataset(test_data, time_step)\r\n",
    "\r\n",
    "#verify the training data and features to calculate next value\r\n",
    "print(X_train.shape), print(y_train.shape)\r\n",
    "\r\n",
    "#verify the testing data and features to calculate next value\r\n",
    "print(X_test.shape), print(ytest.shape) "
   ],
   "outputs": [
    {
     "output_type": "stream",
     "name": "stdout",
     "text": [
      "(9512, 10)\n",
      "(9512,)\n",
      "(2370, 10)\n",
      "(2370,)\n"
     ]
    },
    {
     "output_type": "execute_result",
     "data": {
      "text/plain": [
       "(None, None)"
      ]
     },
     "metadata": {},
     "execution_count": 150
    }
   ],
   "metadata": {}
  },
  {
   "cell_type": "code",
   "execution_count": 151,
   "source": [
    "#Reshaping the data to pull in and match the dimensions of LSTM for Machine Learning\r\n",
    "X_train =X_train.reshape(X_train.shape[0],X_train.shape[1] , 1)\r\n",
    "X_test = X_test.reshape(X_test.shape[0],X_test.shape[1] , 1)\r\n",
    "\r\n",
    "#Stacked Model LSTM and processing with Layers\r\n",
    "\r\n",
    "#Defining layers and features for the ML model to process the information\r\n",
    "neurons = 50\r\n",
    "timesteps = time_step #referenced above in reshaping block (currently 100)\r\n",
    "data_dimension = 1\r\n",
    "dense_layer = 1\r\n",
    "\r\n",
    "#LSTM Model Call, and pull of different layers to run RNN\r\n",
    "model=Sequential()\r\n",
    "model.add(LSTM(neurons,input_shape=(timesteps, data_dimension),return_sequences=True))\r\n",
    "model.add(LSTM(neurons,return_sequences=True))\r\n",
    "model.add(LSTM(neurons))\r\n",
    "model.add(Dense(dense_layer))\r\n",
    "model.compile(loss='mean_squared_error',optimizer='adam')"
   ],
   "outputs": [],
   "metadata": {}
  },
  {
   "cell_type": "code",
   "execution_count": 152,
   "source": [
    "#Review of Layers\r\n",
    "model.summary()"
   ],
   "outputs": [
    {
     "output_type": "stream",
     "name": "stdout",
     "text": [
      "Model: \"sequential_6\"\n",
      "_________________________________________________________________\n",
      "Layer (type)                 Output Shape              Param #   \n",
      "=================================================================\n",
      "lstm_14 (LSTM)               (None, 10, 50)            10400     \n",
      "_________________________________________________________________\n",
      "lstm_15 (LSTM)               (None, 10, 50)            20200     \n",
      "_________________________________________________________________\n",
      "lstm_16 (LSTM)               (None, 50)                20200     \n",
      "_________________________________________________________________\n",
      "dense_5 (Dense)              (None, 1)                 51        \n",
      "=================================================================\n",
      "Total params: 50,851\n",
      "Trainable params: 50,851\n",
      "Non-trainable params: 0\n",
      "_________________________________________________________________\n"
     ]
    }
   ],
   "metadata": {}
  },
  {
   "cell_type": "code",
   "execution_count": 153,
   "source": [
    "#training the model, currently set to silent mode, this will take time to process\r\n",
    "model.fit(X_train,y_train,validation_data=(X_test,ytest),epochs=25,batch_size=64,verbose=1)"
   ],
   "outputs": [
    {
     "output_type": "stream",
     "name": "stdout",
     "text": [
      "Epoch 1/25\n",
      "149/149 [==============================] - 5s 16ms/step - loss: 0.0095 - val_loss: 4.2855e-04\n",
      "Epoch 2/25\n",
      "149/149 [==============================] - 2s 11ms/step - loss: 2.4610e-04 - val_loss: 4.7353e-04\n",
      "Epoch 3/25\n",
      "149/149 [==============================] - 2s 11ms/step - loss: 2.4106e-04 - val_loss: 4.7576e-04\n",
      "Epoch 4/25\n",
      "149/149 [==============================] - 2s 12ms/step - loss: 2.3746e-04 - val_loss: 3.6635e-04\n",
      "Epoch 5/25\n",
      "149/149 [==============================] - 2s 11ms/step - loss: 2.4196e-04 - val_loss: 3.8736e-04\n",
      "Epoch 6/25\n",
      "149/149 [==============================] - 2s 11ms/step - loss: 2.2889e-04 - val_loss: 3.7977e-04\n",
      "Epoch 7/25\n",
      "149/149 [==============================] - 2s 11ms/step - loss: 2.2752e-04 - val_loss: 3.8131e-04\n",
      "Epoch 8/25\n",
      "149/149 [==============================] - 2s 12ms/step - loss: 2.2985e-04 - val_loss: 4.1265e-04\n",
      "Epoch 9/25\n",
      "149/149 [==============================] - 2s 11ms/step - loss: 2.3473e-04 - val_loss: 5.0625e-04\n",
      "Epoch 10/25\n",
      "149/149 [==============================] - 2s 12ms/step - loss: 2.2425e-04 - val_loss: 3.2723e-04\n",
      "Epoch 11/25\n",
      "149/149 [==============================] - 2s 12ms/step - loss: 2.4541e-04 - val_loss: 3.2472e-04\n",
      "Epoch 12/25\n",
      "149/149 [==============================] - 2s 12ms/step - loss: 2.1870e-04 - val_loss: 3.2131e-04\n",
      "Epoch 13/25\n",
      "149/149 [==============================] - 2s 12ms/step - loss: 2.3081e-04 - val_loss: 3.0719e-04\n",
      "Epoch 14/25\n",
      "149/149 [==============================] - 2s 12ms/step - loss: 2.2008e-04 - val_loss: 3.1169e-04\n",
      "Epoch 15/25\n",
      "149/149 [==============================] - 2s 12ms/step - loss: 2.2993e-04 - val_loss: 3.8712e-04\n",
      "Epoch 16/25\n",
      "149/149 [==============================] - 2s 13ms/step - loss: 2.1541e-04 - val_loss: 3.1057e-04\n",
      "Epoch 17/25\n",
      "149/149 [==============================] - 2s 12ms/step - loss: 2.0522e-04 - val_loss: 4.3040e-04\n",
      "Epoch 18/25\n",
      "149/149 [==============================] - 2s 11ms/step - loss: 1.9535e-04 - val_loss: 2.8496e-04\n",
      "Epoch 19/25\n",
      "149/149 [==============================] - 2s 12ms/step - loss: 2.0226e-04 - val_loss: 2.4967e-04\n",
      "Epoch 20/25\n",
      "149/149 [==============================] - 2s 11ms/step - loss: 1.8999e-04 - val_loss: 5.7991e-04\n",
      "Epoch 21/25\n",
      "149/149 [==============================] - 2s 11ms/step - loss: 1.8574e-04 - val_loss: 2.1999e-04\n",
      "Epoch 22/25\n",
      "149/149 [==============================] - 2s 11ms/step - loss: 1.7941e-04 - val_loss: 3.5938e-04\n",
      "Epoch 23/25\n",
      "149/149 [==============================] - 2s 11ms/step - loss: 1.8784e-04 - val_loss: 2.0424e-04\n",
      "Epoch 24/25\n",
      "149/149 [==============================] - 2s 11ms/step - loss: 1.6828e-04 - val_loss: 3.8300e-04\n",
      "Epoch 25/25\n",
      "149/149 [==============================] - 2s 12ms/step - loss: 1.6109e-04 - val_loss: 1.8965e-04\n"
     ]
    },
    {
     "output_type": "execute_result",
     "data": {
      "text/plain": [
       "<keras.callbacks.History at 0x215136fa2c8>"
      ]
     },
     "metadata": {},
     "execution_count": 153
    }
   ],
   "metadata": {}
  },
  {
   "cell_type": "code",
   "execution_count": 154,
   "source": [
    "# Prediction and Performance Metrics\r\n",
    "train_predict=model.predict(X_train)\r\n",
    "test_predict=model.predict(X_test)\r\n",
    "\r\n",
    "#Transformback to original form\r\n",
    "train_predict=scaler.inverse_transform(train_predict)\r\n",
    "test_predict=scaler.inverse_transform(test_predict)\r\n",
    "\r\n",
    "#Calculate RMSE performance metrics - Root Mean Square Error, this is for the data set comparison\r\n",
    "math.sqrt(mean_squared_error(y_train,train_predict))"
   ],
   "outputs": [
    {
     "output_type": "execute_result",
     "data": {
      "text/plain": [
       "750.8533185777454"
      ]
     },
     "metadata": {},
     "execution_count": 154
    }
   ],
   "metadata": {}
  },
  {
   "cell_type": "code",
   "execution_count": 155,
   "source": [
    "# Plotting \r\n",
    "# shift train predictions for plotting\r\n",
    "look_back= timesteps #this is your timesteps from earlier\r\n",
    "trainPredictPlot = np.empty_like(Testing_df)\r\n",
    "trainPredictPlot[:, :] = np.nan\r\n",
    "trainPredictPlot[look_back:len(train_predict)+look_back, :] = train_predict\r\n",
    "# shift test predictions for plotting\r\n",
    "testPredictPlot = np.empty_like(Testing_df)\r\n",
    "testPredictPlot[:, :] = np.nan\r\n",
    "testPredictPlot[len(train_predict)+(look_back*2)+1:len(Testing_df)-1, :] = test_predict\r\n",
    "# plot baseline and predictions\r\n",
    "plt.plot(scaler.inverse_transform(Testing_df))\r\n",
    "plt.plot(trainPredictPlot)\r\n",
    "plt.plot(testPredictPlot)\r\n",
    "plt.show()\r\n",
    "\r\n",
    "\r\n",
    "#orange is training\r\n",
    "#green is predicting the test data and verifying"
   ],
   "outputs": [
    {
     "output_type": "display_data",
     "data": {
      "image/png": "[encoded data removed]",
      "text/plain": [
       "<Figure size 432x288 with 1 Axes>"
      ]
     },
     "metadata": {
      "needs_background": "light"
     }
    }
   ],
   "metadata": {}
  },
  {
   "cell_type": "code",
   "execution_count": 156,
   "source": [
    "#converting the information to a list that has been scaled from 0 - 1 from earlier\r\n",
    "test_values = test_size - timesteps\r\n",
    "\r\n",
    "x_input=test_data[test_values:].reshape(1,-1)\r\n",
    "temp_input=list(x_input)\r\n",
    "temp_input=temp_input[0].tolist()"
   ],
   "outputs": [],
   "metadata": {}
  },
  {
   "cell_type": "code",
   "execution_count": 157,
   "source": [
    "# demonstrate prediction for next 3\r\n",
    "from numpy import array\r\n",
    "\r\n",
    "lst_output=[]\r\n",
    "n_steps=time_step\r\n",
    "i=0\r\n",
    "prediction_days = 3\r\n",
    "\r\n",
    "while(i<prediction_days): #this predicts the next 30 days\r\n",
    "    \r\n",
    "    if(len(temp_input)>timesteps): \r\n",
    "        #print(temp_input)\r\n",
    "        x_input=np.array(temp_input[1:])\r\n",
    "        print(\"{} price input {}\".format(i,x_input))\r\n",
    "        x_input=x_input.reshape(1,-1)\r\n",
    "        x_input = x_input.reshape((1, n_steps, 1))\r\n",
    "        #print(x_input)\r\n",
    "        yhat = model.predict(x_input, verbose=0)\r\n",
    "        print(\"{} price output {}\".format(i,yhat))\r\n",
    "        temp_input.extend(yhat[0].tolist())\r\n",
    "        temp_input=temp_input[1:]\r\n",
    "        #print(temp_input)\r\n",
    "        lst_output.extend(yhat.tolist())\r\n",
    "        i=i+1\r\n",
    "    else:\r\n",
    "        x_input = x_input.reshape((1, n_steps,1))\r\n",
    "        yhat = model.predict(x_input, verbose=0)\r\n",
    "        print(yhat[0])\r\n",
    "        temp_input.extend(yhat[0].tolist())\r\n",
    "        print(len(temp_input))\r\n",
    "        lst_output.extend(yhat.tolist())\r\n",
    "        i=i+1\r\n",
    "    \r\n",
    "\r\n",
    "print(lst_output)\r\n",
    "\r\n",
    "tick_new=np.arange(1,timesteps + 1)\r\n",
    "tick_pred=np.arange(timesteps + 1,timesteps + 1 + prediction_days)"
   ],
   "outputs": [
    {
     "output_type": "stream",
     "name": "stdout",
     "text": [
      "[0.74423]\n",
      "11\n",
      "1 price input [0.73764045 0.73876404 0.73898876 0.74044944 0.74213483 0.74191011\n",
      " 0.73977528 0.73988764 0.73764045 0.74422997]\n",
      "1 price output [[0.74435765]]\n",
      "2 price input [0.73876404 0.73898876 0.74044944 0.74213483 0.74191011 0.73977528\n",
      " 0.73988764 0.73764045 0.74422997 0.74435765]\n",
      "2 price output [[0.7448913]]\n",
      "[[0.7442299723625183], [0.7443576455116272], [0.7448912858963013]]\n"
     ]
    }
   ],
   "metadata": {}
  },
  {
   "cell_type": "code",
   "execution_count": 158,
   "source": [
    "#Plotting the informatino with the prediction\r\n",
    "tick_value = len(Testing_df) - timesteps\r\n",
    "\r\n",
    "plt.plot(tick_new,scaler.inverse_transform(Testing_df[tick_value:]))\r\n",
    "plt.plot(tick_pred,scaler.inverse_transform(lst_output)) #this is the predicted data / output (Orange Line)"
   ],
   "outputs": [
    {
     "output_type": "execute_result",
     "data": {
      "text/plain": [
       "[<matplotlib.lines.Line2D at 0x2151b1455c8>]"
      ]
     },
     "metadata": {},
     "execution_count": 158
    },
    {
     "output_type": "display_data",
     "data": {
      "image/png": "[encoded data removed]",
      "text/plain": [
       "<Figure size 432x288 with 1 Axes>"
      ]
     },
     "metadata": {
      "needs_background": "light"
     }
    }
   ],
   "metadata": {}
  },
  {
   "cell_type": "code",
   "execution_count": 159,
   "source": [
    "#Combining the information together for output\r\n",
    "prediction_df = Testing_df.tolist()\r\n",
    "prediction_df.extend(lst_output)\r\n",
    "plt.plot(prediction_df [tick_value:])"
   ],
   "outputs": [
    {
     "output_type": "execute_result",
     "data": {
      "text/plain": [
       "[<matplotlib.lines.Line2D at 0x2157c796148>]"
      ]
     },
     "metadata": {},
     "execution_count": 159
    },
    {
     "output_type": "display_data",
     "data": {
      "image/png": "[encoded data removed]",
      "text/plain": [
       "<Figure size 432x288 with 1 Axes>"
      ]
     },
     "metadata": {
      "needs_background": "light"
     }
    }
   ],
   "metadata": {}
  },
  {
   "cell_type": "code",
   "execution_count": 160,
   "source": [
    "#Inverting the scaler back for actual values, and plotting the information\r\n",
    "prediction_df = scaler.inverse_transform(prediction_df).tolist()\r\n",
    "plt.plot(prediction_df)\r\n"
   ],
   "outputs": [
    {
     "output_type": "execute_result",
     "data": {
      "text/plain": [
       "[<matplotlib.lines.Line2D at 0x2151d40fec8>]"
      ]
     },
     "metadata": {},
     "execution_count": 160
    },
    {
     "output_type": "display_data",
     "data": {
      "image/png": "[encoded data removed]",
      "text/plain": [
       "<Figure size 432x288 with 1 Axes>"
      ]
     },
     "metadata": {
      "needs_background": "light"
     }
    }
   ],
   "metadata": {}
  },
  {
   "cell_type": "code",
   "execution_count": null,
   "source": [],
   "outputs": [],
   "metadata": {}
  }
 ],
 "metadata": {
  "interpreter": {
   "hash": "52131790a8f53977581f04282f154ab32d8be0cf6d886476fa1f7e53b206c71b"
  },
  "kernelspec": {
   "name": "python3",
   "display_name": "Python 3.7.10 64-bit ('dev': conda)"
  },
  "language_info": {
   "codemirror_mode": {
    "name": "ipython",
    "version": 3
   },
   "file_extension": ".py",
   "mimetype": "text/x-python",
   "name": "python",
   "nbconvert_exporter": "python",
   "pygments_lexer": "ipython3",
   "version": "3.7.10"
  }
 },
 "nbformat": 4,
 "nbformat_minor": 4
}