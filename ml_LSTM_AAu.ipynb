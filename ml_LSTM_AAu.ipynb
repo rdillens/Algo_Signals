{
 "cells": [
  {
   "cell_type": "code",
   "execution_count": 87,
   "source": [
    "import sqlalchemy\r\n",
    "import pandas as pd\r\n"
   ],
   "outputs": [],
   "metadata": {}
  },
  {
   "cell_type": "code",
   "execution_count": 88,
   "source": [
    "db_connection_string = 'sqlite:///./Resources/product.db'\r\n",
    "engine  = sqlalchemy.create_engine(db_connection_string)\r\n",
    "\r\n",
    "inspector = sqlalchemy.inspect(engine)\r\n",
    "table_names = inspector.get_table_names()\r\n",
    "print(table_names)"
   ],
   "outputs": [
    {
     "output_type": "stream",
     "name": "stdout",
     "text": [
      "['TSLA_1_Day_Candles', 'TSLA_1_Min_Candles', 'TSLA_Indicators', 'TSLA_Info']\n"
     ]
    }
   ],
   "metadata": {}
  },
  {
   "cell_type": "code",
   "execution_count": 89,
   "source": [
    "ticker = 'TSLA'\r\n",
    "indicators_df = pd.read_sql_table(ticker + '_Indicators', con=engine, index_col='Datetime')"
   ],
   "outputs": [],
   "metadata": {}
  },
  {
   "cell_type": "code",
   "execution_count": 90,
   "source": [
    "print(indicators_df.head())"
   ],
   "outputs": [
    {
     "output_type": "stream",
     "name": "stdout",
     "text": [
      "                       Open    High     Low   Close  Volume  \\\n",
      "Datetime                                                      \n",
      "2021-09-07 07:25:00  738.78  738.80  738.70  738.73    2605   \n",
      "2021-09-07 07:26:00  738.62  738.62  738.62  738.62     843   \n",
      "2021-09-07 07:27:00  738.62  738.62  738.62  738.62     757   \n",
      "2021-09-07 07:28:00  738.62  738.62  738.15  738.43    3015   \n",
      "2021-09-07 07:29:00  738.15  738.15  738.12  738.13    2103   \n",
      "\n",
      "                     CDLCONCEALBABYSWALL  CDLDOJISTAR  CDLHAMMER  CDLHARAMI  \\\n",
      "Datetime                                                                      \n",
      "2021-09-07 07:25:00                    0            0          0          0   \n",
      "2021-09-07 07:26:00                    0            0          0          0   \n",
      "2021-09-07 07:27:00                    0            0          0          0   \n",
      "2021-09-07 07:28:00                    0            0          0          0   \n",
      "2021-09-07 07:29:00                    0            0          0          0   \n",
      "\n",
      "                     CDLHARAMICROSS  ...         EMA          MA        ADX  \\\n",
      "Datetime                             ...                                      \n",
      "2021-09-07 07:25:00               0  ...  737.794711  737.457333  27.976913   \n",
      "2021-09-07 07:26:00               0  ...  737.847955  737.544667  28.123711   \n",
      "2021-09-07 07:27:00               0  ...  737.897765  737.615333  28.260023   \n",
      "2021-09-07 07:28:00               0  ...  737.932102  737.679667  26.735844   \n",
      "2021-09-07 07:29:00               0  ...  737.944870  737.740667  25.228357   \n",
      "\n",
      "                        OBV       ATR  WCLPRICE      SINE  LEADSINE       VAR  \\\n",
      "Datetime                                                                        \n",
      "2021-09-07 07:25:00  2204.0  0.253416  738.7400 -0.126941 -0.791147  0.001824   \n",
      "2021-09-07 07:26:00  1361.0  0.243172  738.6200 -0.168810 -0.816325  0.007440   \n",
      "2021-09-07 07:27:00  1361.0  0.225802  738.6200 -0.213918 -0.842002  0.008016   \n",
      "2021-09-07 07:28:00 -1654.0  0.243245  738.4075 -0.264075 -0.868735  0.017064   \n",
      "2021-09-07 07:29:00 -3757.0  0.248013  738.1325 -0.361183 -0.914769  0.044664   \n",
      "\n",
      "                     Previous Day  \n",
      "Datetime                           \n",
      "2021-09-07 07:25:00    2021-09-03  \n",
      "2021-09-07 07:26:00    2021-09-03  \n",
      "2021-09-07 07:27:00    2021-09-03  \n",
      "2021-09-07 07:28:00    2021-09-03  \n",
      "2021-09-07 07:29:00    2021-09-03  \n",
      "\n",
      "[5 rows x 31 columns]\n"
     ]
    }
   ],
   "metadata": {}
  },
  {
   "cell_type": "code",
   "execution_count": 91,
   "source": [
    "#LSTM Modules to import\r\n",
    "from pathlib import Path\r\n",
    "import numpy as np\r\n",
    "import matplotlib.pyplot as plt\r\n",
    "from sklearn.preprocessing import MinMaxScaler\r\n",
    "from tensorflow.keras.models import Sequential\r\n",
    "from tensorflow.keras.layers import Dense\r\n",
    "from tensorflow.keras.layers import LSTM\r\n",
    "import tensorflow as tf\r\n",
    "import math\r\n",
    "from sklearn.metrics import mean_squared_error\r\n",
    "import matplotlib.pyplot as plt\r\n"
   ],
   "outputs": [],
   "metadata": {}
  },
  {
   "cell_type": "code",
   "execution_count": 92,
   "source": [
    "#Header of the Current Dataframe\r\n",
    "list(indicators_df.columns.values)"
   ],
   "outputs": [
    {
     "output_type": "execute_result",
     "data": {
      "text/plain": [
       "['Open',\n",
       " 'High',\n",
       " 'Low',\n",
       " 'Close',\n",
       " 'Volume',\n",
       " 'CDLCONCEALBABYSWALL',\n",
       " 'CDLDOJISTAR',\n",
       " 'CDLHAMMER',\n",
       " 'CDLHARAMI',\n",
       " 'CDLHARAMICROSS',\n",
       " 'CDLHIGHWAVE',\n",
       " 'CDLHOMINGPIGEON',\n",
       " 'CDLMATCHINGLOW',\n",
       " 'CDLRICKSHAWMAN',\n",
       " 'CDLSPINNINGTOP',\n",
       " 'CDLSTICKSANDWICH',\n",
       " 'CDLUNIQUE3RIVER',\n",
       " 'Trade Signal',\n",
       " 'Upper Band',\n",
       " 'Middle Band',\n",
       " 'Lower Band',\n",
       " 'EMA',\n",
       " 'MA',\n",
       " 'ADX',\n",
       " 'OBV',\n",
       " 'ATR',\n",
       " 'WCLPRICE',\n",
       " 'SINE',\n",
       " 'LEADSINE',\n",
       " 'VAR',\n",
       " 'Previous Day']"
      ]
     },
     "metadata": {},
     "execution_count": 92
    }
   ],
   "metadata": {}
  },
  {
   "cell_type": "code",
   "execution_count": 93,
   "source": [
    "#LSTM Dataframe creation for specified field for RNN\r\n",
    "LSTM_df_Open = indicators_df.reset_index()['Open']\r\n",
    "LSTM_df_High = indicators_df.reset_index()['High']\r\n",
    "LSTM_df_Low = indicators_df.reset_index()['Low']\r\n",
    "LSTM_df_Close = indicators_df.reset_index()['Close']\r\n",
    "LSTM_df_Volume = indicators_df.reset_index()['Volume']\r\n",
    "LSTM_df_Trade_Signal = indicators_df.reset_index()['Trade Signal']\r\n",
    "\r\n",
    "Testing_df = LSTM_df_Trade_Signal"
   ],
   "outputs": [],
   "metadata": {}
  },
  {
   "cell_type": "code",
   "execution_count": 94,
   "source": [
    "#Verify data in testing DF\r\n",
    "Testing_df.tail()"
   ],
   "outputs": [
    {
     "output_type": "execute_result",
     "data": {
      "text/plain": [
       "12351   -1.0\n",
       "12352    0.0\n",
       "12353    0.0\n",
       "12354    1.0\n",
       "12355    0.0\n",
       "Name: Trade Signal, dtype: float64"
      ]
     },
     "metadata": {},
     "execution_count": 94
    }
   ],
   "metadata": {}
  },
  {
   "cell_type": "code",
   "execution_count": 95,
   "source": [
    "#Plot Verification of DFs, based on selection\r\n",
    "plt.plot(Testing_df)\r\n"
   ],
   "outputs": [
    {
     "output_type": "execute_result",
     "data": {
      "text/plain": [
       "[<matplotlib.lines.Line2D at 0x23712b6ffc8>]"
      ]
     },
     "metadata": {},
     "execution_count": 95
    },
    {
     "output_type": "display_data",
     "data": {
      "image/png": "[encoded data removed]",
      "text/plain": [
       "<Figure size 432x288 with 1 Axes>"
      ]
     },
     "metadata": {
      "needs_background": "light"
     }
    }
   ],
   "metadata": {}
  },
  {
   "cell_type": "code",
   "execution_count": 96,
   "source": [
    "#Transform DF into a scalable form for the value to pull accurate predictions\r\n",
    "scaler=MinMaxScaler(feature_range=(0,1))\r\n",
    "Testing_df=scaler.fit_transform(np.array(Testing_df).reshape(-1,1))\r\n",
    "print(Testing_df)"
   ],
   "outputs": [
    {
     "output_type": "stream",
     "name": "stdout",
     "text": [
      "[[0.5]\n",
      " [0.5]\n",
      " [0.5]\n",
      " ...\n",
      " [0.5]\n",
      " [1. ]\n",
      " [0.5]]\n"
     ]
    }
   ],
   "metadata": {}
  },
  {
   "cell_type": "code",
   "execution_count": 97,
   "source": [
    "#Split the Dataset to training, and testing data, lets do 80/20 for now, but can be updated\r\n",
    "training_pct = 0.60\r\n",
    "\r\n",
    "training_size=int(len(Testing_df)*training_pct) \r\n",
    "test_size=len(Testing_df)-training_size \r\n",
    "train_data,test_data=Testing_df[0:training_size,:],Testing_df[training_size:len(Testing_df),:1]\r\n",
    "\r\n",
    "#verifying the split and calculation\r\n",
    "training_size,test_size"
   ],
   "outputs": [
    {
     "output_type": "execute_result",
     "data": {
      "text/plain": [
       "(7413, 4943)"
      ]
     },
     "metadata": {},
     "execution_count": 97
    }
   ],
   "metadata": {}
  },
  {
   "cell_type": "code",
   "execution_count": 98,
   "source": [
    "#Function create_dataset to set it as an array for LSTM\r\n",
    "def create_dataset(dataset, time_step=1):\r\n",
    "\tdataX, dataY = [], []\r\n",
    "\tfor i in range(len(dataset)-time_step-1):\r\n",
    "\t\ta = dataset[i:(i+time_step), 0]   ###i=0, 0,1,2,3-----99   100 \r\n",
    "\t\tdataX.append(a)\r\n",
    "\t\tdataY.append(dataset[i + time_step, 0])\r\n",
    "\treturn np.array(dataX), np.array(dataY)"
   ],
   "outputs": [],
   "metadata": {}
  },
  {
   "cell_type": "code",
   "execution_count": 99,
   "source": [
    "# Reshaping the training/testing data to properly match the dimensions of LSTM\r\n",
    "time_step = 10\r\n",
    "X_train, y_train = create_dataset(train_data, time_step)\r\n",
    "X_test, ytest = create_dataset(test_data, time_step)\r\n",
    "\r\n",
    "#verify the training data and features to calculate next value\r\n",
    "print(X_train.shape), print(y_train.shape)\r\n",
    "\r\n",
    "#verify the testing data and features to calculate next value\r\n",
    "print(X_test.shape), print(ytest.shape) "
   ],
   "outputs": [
    {
     "output_type": "stream",
     "name": "stdout",
     "text": [
      "(7402, 10)\n",
      "(7402,)\n",
      "(4932, 10)\n",
      "(4932,)\n"
     ]
    },
    {
     "output_type": "execute_result",
     "data": {
      "text/plain": [
       "(None, None)"
      ]
     },
     "metadata": {},
     "execution_count": 99
    }
   ],
   "metadata": {}
  },
  {
   "cell_type": "code",
   "execution_count": 100,
   "source": [
    "#Reshaping the data to pull in and match the dimensions of LSTM for Machine Learning\r\n",
    "X_train =X_train.reshape(X_train.shape[0],X_train.shape[1] , 1)\r\n",
    "X_test = X_test.reshape(X_test.shape[0],X_test.shape[1] , 1)\r\n",
    "\r\n",
    "#Stacked Model LSTM and processing with Layers\r\n",
    "\r\n",
    "#Defining layers and features for the ML model to process the information\r\n",
    "neurons = 50\r\n",
    "timesteps = time_step #referenced above in reshaping block (currently 100)\r\n",
    "data_dimension = 1\r\n",
    "dense_layer = 1\r\n",
    "\r\n",
    "#LSTM Model Call, and pull of different layers to run RNN\r\n",
    "model=Sequential()\r\n",
    "model.add(LSTM(neurons,input_shape=(timesteps, data_dimension),return_sequences=True))\r\n",
    "model.add(LSTM(neurons,return_sequences=True))\r\n",
    "model.add(LSTM(neurons))\r\n",
    "model.add(Dense(dense_layer))\r\n",
    "model.compile(loss='mean_squared_error',optimizer='adam')"
   ],
   "outputs": [],
   "metadata": {}
  },
  {
   "cell_type": "code",
   "execution_count": 101,
   "source": [
    "#Review of Layers\r\n",
    "model.summary()"
   ],
   "outputs": [
    {
     "output_type": "stream",
     "name": "stdout",
     "text": [
      "Model: \"sequential_3\"\n",
      "_________________________________________________________________\n",
      "Layer (type)                 Output Shape              Param #   \n",
      "=================================================================\n",
      "lstm_9 (LSTM)                (None, 10, 50)            10400     \n",
      "_________________________________________________________________\n",
      "lstm_10 (LSTM)               (None, 10, 50)            20200     \n",
      "_________________________________________________________________\n",
      "lstm_11 (LSTM)               (None, 50)                20200     \n",
      "_________________________________________________________________\n",
      "dense_3 (Dense)              (None, 1)                 51        \n",
      "=================================================================\n",
      "Total params: 50,851\n",
      "Trainable params: 50,851\n",
      "Non-trainable params: 0\n",
      "_________________________________________________________________\n"
     ]
    }
   ],
   "metadata": {}
  },
  {
   "cell_type": "code",
   "execution_count": 102,
   "source": [
    "#training the model, currently set to silent mode, this will take time to process\r\n",
    "model.fit(X_train,y_train,validation_data=(X_test,ytest),epochs=25,batch_size=64,verbose=1)"
   ],
   "outputs": [
    {
     "output_type": "stream",
     "name": "stdout",
     "text": [
      "Epoch 1/25\n",
      "116/116 [==============================] - 5s 18ms/step - loss: 0.0655 - val_loss: 0.0485\n",
      "Epoch 2/25\n",
      "116/116 [==============================] - 2s 14ms/step - loss: 0.0504 - val_loss: 0.0484\n",
      "Epoch 3/25\n",
      "116/116 [==============================] - 2s 13ms/step - loss: 0.0500 - val_loss: 0.0477\n",
      "Epoch 4/25\n",
      "116/116 [==============================] - 1s 13ms/step - loss: 0.0499 - val_loss: 0.0475\n",
      "Epoch 5/25\n",
      "116/116 [==============================] - 1s 13ms/step - loss: 0.0496 - val_loss: 0.0476\n",
      "Epoch 6/25\n",
      "116/116 [==============================] - 1s 13ms/step - loss: 0.0499 - val_loss: 0.0476\n",
      "Epoch 7/25\n",
      "116/116 [==============================] - 1s 13ms/step - loss: 0.0497 - val_loss: 0.0488\n",
      "Epoch 8/25\n",
      "116/116 [==============================] - 1s 13ms/step - loss: 0.0496 - val_loss: 0.0474\n",
      "Epoch 9/25\n",
      "116/116 [==============================] - 1s 13ms/step - loss: 0.0498 - val_loss: 0.0475\n",
      "Epoch 10/25\n",
      "116/116 [==============================] - 2s 13ms/step - loss: 0.0496 - val_loss: 0.0473\n",
      "Epoch 11/25\n",
      "116/116 [==============================] - 2s 13ms/step - loss: 0.0498 - val_loss: 0.0475\n",
      "Epoch 12/25\n",
      "116/116 [==============================] - 2s 13ms/step - loss: 0.0495 - val_loss: 0.0476\n",
      "Epoch 13/25\n",
      "116/116 [==============================] - 2s 13ms/step - loss: 0.0496 - val_loss: 0.0473\n",
      "Epoch 14/25\n",
      "116/116 [==============================] - 2s 14ms/step - loss: 0.0496 - val_loss: 0.0489\n",
      "Epoch 15/25\n",
      "116/116 [==============================] - 2s 13ms/step - loss: 0.0496 - val_loss: 0.0499\n",
      "Epoch 16/25\n",
      "116/116 [==============================] - 2s 13ms/step - loss: 0.0498 - val_loss: 0.0474\n",
      "Epoch 17/25\n",
      "116/116 [==============================] - 1s 13ms/step - loss: 0.0496 - val_loss: 0.0484\n",
      "Epoch 18/25\n",
      "116/116 [==============================] - 1s 13ms/step - loss: 0.0495 - val_loss: 0.0475\n",
      "Epoch 19/25\n",
      "116/116 [==============================] - 1s 13ms/step - loss: 0.0495 - val_loss: 0.0474\n",
      "Epoch 20/25\n",
      "116/116 [==============================] - 1s 13ms/step - loss: 0.0497 - val_loss: 0.0474\n",
      "Epoch 21/25\n",
      "116/116 [==============================] - 1s 13ms/step - loss: 0.0496 - val_loss: 0.0474\n",
      "Epoch 22/25\n",
      "116/116 [==============================] - 1s 13ms/step - loss: 0.0494 - val_loss: 0.0478\n",
      "Epoch 23/25\n",
      "116/116 [==============================] - 2s 13ms/step - loss: 0.0496 - val_loss: 0.0482\n",
      "Epoch 24/25\n",
      "116/116 [==============================] - 1s 13ms/step - loss: 0.0494 - val_loss: 0.0473\n",
      "Epoch 25/25\n",
      "116/116 [==============================] - 1s 13ms/step - loss: 0.0495 - val_loss: 0.0474\n"
     ]
    },
    {
     "output_type": "execute_result",
     "data": {
      "text/plain": [
       "<keras.callbacks.History at 0x23712878508>"
      ]
     },
     "metadata": {},
     "execution_count": 102
    }
   ],
   "metadata": {}
  },
  {
   "cell_type": "code",
   "execution_count": 103,
   "source": [
    "# Prediction and Performance Metrics\r\n",
    "train_predict=model.predict(X_train)\r\n",
    "test_predict=model.predict(X_test)\r\n",
    "\r\n",
    "#Transformback to original form\r\n",
    "train_predict=scaler.inverse_transform(train_predict)\r\n",
    "test_predict=scaler.inverse_transform(test_predict)\r\n",
    "\r\n",
    "#Calculate RMSE performance metrics - Root Mean Square Error, this is for the data set comparison\r\n",
    "math.sqrt(mean_squared_error(y_train,train_predict))"
   ],
   "outputs": [
    {
     "output_type": "execute_result",
     "data": {
      "text/plain": [
       "0.5348889306007458"
      ]
     },
     "metadata": {},
     "execution_count": 103
    }
   ],
   "metadata": {}
  },
  {
   "cell_type": "code",
   "execution_count": 104,
   "source": [
    "# Plotting \r\n",
    "# shift train predictions for plotting\r\n",
    "look_back= timesteps #this is your timesteps from earlier\r\n",
    "trainPredictPlot = np.empty_like(Testing_df)\r\n",
    "trainPredictPlot[:, :] = np.nan\r\n",
    "trainPredictPlot[look_back:len(train_predict)+look_back, :] = train_predict\r\n",
    "# shift test predictions for plotting\r\n",
    "testPredictPlot = np.empty_like(Testing_df)\r\n",
    "testPredictPlot[:, :] = np.nan\r\n",
    "testPredictPlot[len(train_predict)+(look_back*2)+1:len(Testing_df)-1, :] = test_predict\r\n",
    "# plot baseline and predictions\r\n",
    "plt.plot(scaler.inverse_transform(Testing_df))\r\n",
    "plt.plot(trainPredictPlot)\r\n",
    "plt.plot(testPredictPlot)\r\n",
    "plt.show()\r\n",
    "\r\n",
    "\r\n",
    "#orange is training\r\n",
    "#green is predicting the test data and verifying"
   ],
   "outputs": [
    {
     "output_type": "display_data",
     "data": {
      "image/png": "[encoded data removed]",
      "text/plain": [
       "<Figure size 432x288 with 1 Axes>"
      ]
     },
     "metadata": {
      "needs_background": "light"
     }
    }
   ],
   "metadata": {}
  },
  {
   "cell_type": "code",
   "execution_count": 105,
   "source": [
    "#converting the information to a list that has been scaled from 0 - 1 from earlier\r\n",
    "test_values = test_size - timesteps\r\n",
    "\r\n",
    "x_input=test_data[test_values:].reshape(1,-1)\r\n",
    "temp_input=list(x_input)\r\n",
    "temp_input=temp_input[0].tolist()"
   ],
   "outputs": [],
   "metadata": {}
  },
  {
   "cell_type": "code",
   "execution_count": 106,
   "source": [
    "# demonstrate prediction for next 3\r\n",
    "from numpy import array\r\n",
    "\r\n",
    "lst_output=[]\r\n",
    "n_steps=time_step\r\n",
    "i=0\r\n",
    "prediction_days = 3\r\n",
    "\r\n",
    "while(i<prediction_days): #this predicts the next 30 days\r\n",
    "    \r\n",
    "    if(len(temp_input)>timesteps): \r\n",
    "        #print(temp_input)\r\n",
    "        x_input=np.array(temp_input[1:])\r\n",
    "        print(\"{} price input {}\".format(i,x_input))\r\n",
    "        x_input=x_input.reshape(1,-1)\r\n",
    "        x_input = x_input.reshape((1, n_steps, 1))\r\n",
    "        #print(x_input)\r\n",
    "        yhat = model.predict(x_input, verbose=0)\r\n",
    "        print(\"{} price output {}\".format(i,yhat))\r\n",
    "        temp_input.extend(yhat[0].tolist())\r\n",
    "        temp_input=temp_input[1:]\r\n",
    "        #print(temp_input)\r\n",
    "        lst_output.extend(yhat.tolist())\r\n",
    "        i=i+1\r\n",
    "    else:\r\n",
    "        x_input = x_input.reshape((1, n_steps,1))\r\n",
    "        yhat = model.predict(x_input, verbose=0)\r\n",
    "        print(yhat[0])\r\n",
    "        temp_input.extend(yhat[0].tolist())\r\n",
    "        print(len(temp_input))\r\n",
    "        lst_output.extend(yhat.tolist())\r\n",
    "        i=i+1\r\n",
    "    \r\n",
    "\r\n",
    "print(lst_output)\r\n",
    "\r\n",
    "tick_new=np.arange(1,timesteps + 1)\r\n",
    "tick_pred=np.arange(timesteps + 1,timesteps + 1 + prediction_days)"
   ],
   "outputs": [
    {
     "output_type": "stream",
     "name": "stdout",
     "text": [
      "[0.520368]\n",
      "11\n",
      "1 price input [0.5        0.5        0.5        0.5        0.         0.5\n",
      " 0.5        1.         0.5        0.52036798]\n",
      "1 price output [[0.5203388]]\n",
      "2 price input [0.5        0.5        0.5        0.         0.5        0.5\n",
      " 1.         0.5        0.52036798 0.52033877]\n",
      "2 price output [[0.5201136]]\n",
      "[[0.5203679800033569], [0.520338773727417], [0.5201135873794556]]\n"
     ]
    }
   ],
   "metadata": {}
  },
  {
   "cell_type": "code",
   "execution_count": 107,
   "source": [
    "#Plotting the informatino with the prediction\r\n",
    "tick_value = len(Testing_df) - timesteps\r\n",
    "\r\n",
    "plt.plot(tick_new,scaler.inverse_transform(Testing_df[tick_value:]))\r\n",
    "plt.plot(tick_pred,scaler.inverse_transform(lst_output)) #this is the predicted data / output (Orange Line)"
   ],
   "outputs": [
    {
     "output_type": "execute_result",
     "data": {
      "text/plain": [
       "[<matplotlib.lines.Line2D at 0x23727dcf088>]"
      ]
     },
     "metadata": {},
     "execution_count": 107
    },
    {
     "output_type": "display_data",
     "data": {
      "image/png": "[encoded data removed]",
      "text/plain": [
       "<Figure size 432x288 with 1 Axes>"
      ]
     },
     "metadata": {
      "needs_background": "light"
     }
    }
   ],
   "metadata": {}
  },
  {
   "cell_type": "code",
   "execution_count": 108,
   "source": [
    "#Combining the information together for output\r\n",
    "prediction_df = Testing_df.tolist()\r\n",
    "prediction_df.extend(lst_output)\r\n",
    "plt.plot(prediction_df [tick_value:])"
   ],
   "outputs": [
    {
     "output_type": "execute_result",
     "data": {
      "text/plain": [
       "[<matplotlib.lines.Line2D at 0x2371367d208>]"
      ]
     },
     "metadata": {},
     "execution_count": 108
    },
    {
     "output_type": "display_data",
     "data": {
      "image/png": "[encoded data removed]",
      "text/plain": [
       "<Figure size 432x288 with 1 Axes>"
      ]
     },
     "metadata": {
      "needs_background": "light"
     }
    }
   ],
   "metadata": {}
  },
  {
   "cell_type": "code",
   "execution_count": 109,
   "source": [
    "#Inverting the scaler back for actual values, and plotting the information\r\n",
    "prediction_df = scaler.inverse_transform(prediction_df).tolist()\r\n",
    "plt.plot(prediction_df)\r\n"
   ],
   "outputs": [
    {
     "output_type": "execute_result",
     "data": {
      "text/plain": [
       "[<matplotlib.lines.Line2D at 0x237293bfd08>]"
      ]
     },
     "metadata": {},
     "execution_count": 109
    },
    {
     "output_type": "display_data",
     "data": {
      "image/png": "[encoded data removed]",
      "text/plain": [
       "<Figure size 432x288 with 1 Axes>"
      ]
     },
     "metadata": {
      "needs_background": "light"
     }
    }
   ],
   "metadata": {}
  },
  {
   "cell_type": "code",
   "execution_count": null,
   "source": [],
   "outputs": [],
   "metadata": {}
  }
 ],
 "metadata": {
  "interpreter": {
   "hash": "52131790a8f53977581f04282f154ab32d8be0cf6d886476fa1f7e53b206c71b"
  },
  "kernelspec": {
   "name": "python3",
   "display_name": "Python 3.7.10 64-bit ('dev': conda)"
  },
  "language_info": {
   "codemirror_mode": {
    "name": "ipython",
    "version": 3
   },
   "file_extension": ".py",
   "mimetype": "text/x-python",
   "name": "python",
   "nbconvert_exporter": "python",
   "pygments_lexer": "ipython3",
   "version": "3.7.10"
  }
 },
 "nbformat": 4,
 "nbformat_minor": 4
}