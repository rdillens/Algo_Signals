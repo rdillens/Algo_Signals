{
 "cells": [
  {
   "cell_type": "code",
   "execution_count": 11,
   "source": [
    "import sqlalchemy\r\n",
    "import pandas as pd\r\n"
   ],
   "outputs": [],
   "metadata": {}
  },
  {
   "cell_type": "code",
   "execution_count": 12,
   "source": [
    "db_connection_string = 'sqlite:///./Resources/product.db'\r\n",
    "engine  = sqlalchemy.create_engine(db_connection_string)\r\n",
    "\r\n",
    "inspector = sqlalchemy.inspect(engine)\r\n",
    "table_names = inspector.get_table_names()\r\n",
    "print(table_names)"
   ],
   "outputs": [
    {
     "output_type": "stream",
     "name": "stdout",
     "text": [
      "['TSLA_1_Day_Candles', 'TSLA_1_Min_Candles', 'TSLA_Indicators', 'TSLA_Info']\n"
     ]
    }
   ],
   "metadata": {}
  },
  {
   "cell_type": "code",
   "execution_count": 13,
   "source": [
    "ticker = 'TSLA'\r\n",
    "indicators_df = pd.read_sql_table(ticker + '_Indicators', con=engine, index_col='Datetime')"
   ],
   "outputs": [],
   "metadata": {}
  },
  {
   "cell_type": "code",
   "execution_count": 14,
   "source": [
    "print(indicators_df.head())"
   ],
   "outputs": [
    {
     "output_type": "stream",
     "name": "stdout",
     "text": [
      "                       Open    High     Low   Close  Volume  CDLDOJI  \\\n",
      "Datetime                                                               \n",
      "2021-09-07 05:46:00  735.31  735.31  735.31  735.31     570      100   \n",
      "2021-09-07 06:00:00  735.90  736.50  735.90  736.00    4465        0   \n",
      "2021-09-07 06:03:00  736.50  736.50  736.50  736.50     400      100   \n",
      "2021-09-07 06:06:00  736.50  736.50  736.50  736.50     271      100   \n",
      "2021-09-07 06:07:00  736.30  736.30  736.30  736.30     911      100   \n",
      "\n",
      "                     CDLHAMMER  Trade Signal      MACD  MACD_SIGNAL  \\\n",
      "Datetime                                                              \n",
      "2021-09-07 05:46:00          0           1.0 -0.551749    -0.480232   \n",
      "2021-09-07 06:00:00          0           0.0 -0.495670    -0.483320   \n",
      "2021-09-07 06:03:00          0           1.0 -0.406198    -0.467895   \n",
      "2021-09-07 06:06:00          0           1.0 -0.331470    -0.440610   \n",
      "2021-09-07 06:07:00          0           1.0 -0.285100    -0.409508   \n",
      "\n",
      "                     MACD_HIST        RSI     OBV Previous Day  \n",
      "Datetime                                                        \n",
      "2021-09-07 05:46:00  -0.071517  42.120459 -3765.0   2021-09-03  \n",
      "2021-09-07 06:00:00  -0.012350  48.208751   700.0   2021-09-03  \n",
      "2021-09-07 06:03:00   0.061697  52.137643  1100.0   2021-09-03  \n",
      "2021-09-07 06:06:00   0.109140  52.137643  1100.0   2021-09-03  \n",
      "2021-09-07 06:07:00   0.124408  50.365194   189.0   2021-09-03  \n"
     ]
    }
   ],
   "metadata": {}
  },
  {
   "cell_type": "code",
   "execution_count": 15,
   "source": [
    "#LSTM Modules to import\r\n",
    "from pathlib import Path\r\n",
    "import numpy as np\r\n",
    "import matplotlib.pyplot as plt\r\n",
    "from sklearn.preprocessing import MinMaxScaler\r\n",
    "from tensorflow.keras.models import Sequential\r\n",
    "from tensorflow.keras.layers import Dense\r\n",
    "from tensorflow.keras.layers import LSTM\r\n",
    "import tensorflow as tf\r\n",
    "import math\r\n",
    "from sklearn.metrics import mean_squared_error\r\n",
    "import matplotlib.pyplot as plt\r\n"
   ],
   "outputs": [],
   "metadata": {}
  },
  {
   "cell_type": "code",
   "execution_count": 16,
   "source": [
    "#Header of the Current Dataframe\r\n",
    "list(indicators_df.columns.values)"
   ],
   "outputs": [
    {
     "output_type": "execute_result",
     "data": {
      "text/plain": [
       "['Open',\n",
       " 'High',\n",
       " 'Low',\n",
       " 'Close',\n",
       " 'Volume',\n",
       " 'CDLDOJI',\n",
       " 'CDLHAMMER',\n",
       " 'Trade Signal',\n",
       " 'MACD',\n",
       " 'MACD_SIGNAL',\n",
       " 'MACD_HIST',\n",
       " 'RSI',\n",
       " 'OBV',\n",
       " 'Previous Day']"
      ]
     },
     "metadata": {},
     "execution_count": 16
    }
   ],
   "metadata": {}
  },
  {
   "cell_type": "code",
   "execution_count": 17,
   "source": [
    "#LSTM Dataframe creation for specified field for RNN\r\n",
    "LSTM_df_Open = indicators_df.reset_index()['Open']\r\n",
    "LSTM_df_High = indicators_df.reset_index()['High']\r\n",
    "LSTM_df_Low = indicators_df.reset_index()['Low']\r\n",
    "LSTM_df_Close = indicators_df.reset_index()['Close']\r\n",
    "LSTM_df_Volume = indicators_df.reset_index()['Volume']\r\n",
    "LSTM_df_CDLDOJI = indicators_df.reset_index()['CDLDOJI']\r\n",
    "LSTM_df_MACD_SIGNAL = indicators_df.reset_index()['MACD_SIGNAL']\r\n",
    "\r\n",
    "Testing_df = LSTM_df_MACD_SIGNAL"
   ],
   "outputs": [],
   "metadata": {}
  },
  {
   "cell_type": "code",
   "execution_count": 18,
   "source": [
    "#Verify data in testing DF\r\n",
    "Testing_df.tail()"
   ],
   "outputs": [
    {
     "output_type": "execute_result",
     "data": {
      "text/plain": [
       "12410   -0.009613\n",
       "12411   -0.005992\n",
       "12412   -0.001968\n",
       "12413    0.000507\n",
       "12414    0.000445\n",
       "Name: MACD_SIGNAL, dtype: float64"
      ]
     },
     "metadata": {},
     "execution_count": 18
    }
   ],
   "metadata": {}
  },
  {
   "cell_type": "code",
   "execution_count": 19,
   "source": [
    "#Plot Verification of DFs, based on selection\r\n",
    "plt.plot(Testing_df)\r\n"
   ],
   "outputs": [
    {
     "output_type": "execute_result",
     "data": {
      "text/plain": [
       "[<matplotlib.lines.Line2D at 0x236a629bdc8>]"
      ]
     },
     "metadata": {},
     "execution_count": 19
    },
    {
     "output_type": "display_data",
     "data": {
      "image/png": "[encoded data removed]",
      "text/plain": [
       "<Figure size 432x288 with 1 Axes>"
      ]
     },
     "metadata": {
      "needs_background": "light"
     }
    }
   ],
   "metadata": {}
  },
  {
   "cell_type": "code",
   "execution_count": 20,
   "source": [
    "#Transform DF into a scalable form for the value to pull accurate predictions\r\n",
    "scaler=MinMaxScaler(feature_range=(0,1))\r\n",
    "Testing_df=scaler.fit_transform(np.array(Testing_df).reshape(-1,1))\r\n",
    "print(Testing_df)"
   ],
   "outputs": [
    {
     "output_type": "stream",
     "name": "stdout",
     "text": [
      "[[0.51445185]\n",
      " [0.51402884]\n",
      " [0.51614209]\n",
      " ...\n",
      " [0.57997788]\n",
      " [0.58031702]\n",
      " [0.5803085 ]]\n"
     ]
    }
   ],
   "metadata": {}
  },
  {
   "cell_type": "code",
   "execution_count": 21,
   "source": [
    "#Split the Dataset to training, and testing data, lets do 80/20 for now, but can be updated\r\n",
    "training_pct = 0.80\r\n",
    "\r\n",
    "training_size=int(len(Testing_df)*training_pct) \r\n",
    "test_size=len(Testing_df)-training_size \r\n",
    "train_data,test_data=Testing_df[0:training_size,:],Testing_df[training_size:len(Testing_df),:1]\r\n",
    "\r\n",
    "#verifying the split and calculation\r\n",
    "training_size,test_size"
   ],
   "outputs": [
    {
     "output_type": "execute_result",
     "data": {
      "text/plain": [
       "(9932, 2483)"
      ]
     },
     "metadata": {},
     "execution_count": 21
    }
   ],
   "metadata": {}
  },
  {
   "cell_type": "code",
   "execution_count": 22,
   "source": [
    "#Function create_dataset to set it as an array for LSTM\r\n",
    "def create_dataset(dataset, time_step=1):\r\n",
    "\tdataX, dataY = [], []\r\n",
    "\tfor i in range(len(dataset)-time_step-1):\r\n",
    "\t\ta = dataset[i:(i+time_step), 0]   ###i=0, 0,1,2,3-----99   100 \r\n",
    "\t\tdataX.append(a)\r\n",
    "\t\tdataY.append(dataset[i + time_step, 0])\r\n",
    "\treturn np.array(dataX), np.array(dataY)"
   ],
   "outputs": [],
   "metadata": {}
  },
  {
   "cell_type": "code",
   "execution_count": 23,
   "source": [
    "# Reshaping the training/testing data to properly match the dimensions of LSTM\r\n",
    "time_step = 10\r\n",
    "X_train, y_train = create_dataset(train_data, time_step)\r\n",
    "X_test, ytest = create_dataset(test_data, time_step)\r\n",
    "\r\n",
    "#verify the training data and features to calculate next value\r\n",
    "print(X_train.shape), print(y_train.shape)\r\n",
    "\r\n",
    "#verify the testing data and features to calculate next value\r\n",
    "print(X_test.shape), print(ytest.shape) "
   ],
   "outputs": [
    {
     "output_type": "stream",
     "name": "stdout",
     "text": [
      "(9921, 10)\n",
      "(9921,)\n",
      "(2472, 10)\n",
      "(2472,)\n"
     ]
    },
    {
     "output_type": "execute_result",
     "data": {
      "text/plain": [
       "(None, None)"
      ]
     },
     "metadata": {},
     "execution_count": 23
    }
   ],
   "metadata": {}
  },
  {
   "cell_type": "code",
   "execution_count": 24,
   "source": [
    "#Reshaping the data to pull in and match the dimensions of LSTM for Machine Learning\r\n",
    "X_train =X_train.reshape(X_train.shape[0],X_train.shape[1] , 1)\r\n",
    "X_test = X_test.reshape(X_test.shape[0],X_test.shape[1] , 1)\r\n",
    "\r\n",
    "#Stacked Model LSTM and processing with Layers\r\n",
    "\r\n",
    "#Defining layers and features for the ML model to process the information\r\n",
    "neurons = 50\r\n",
    "timesteps = time_step #referenced above in reshaping block (currently 100)\r\n",
    "data_dimension = 1\r\n",
    "dense_layer = 1\r\n",
    "\r\n",
    "#LSTM Model Call, and pull of different layers to run RNN\r\n",
    "model=Sequential()\r\n",
    "model.add(LSTM(neurons,input_shape=(timesteps, data_dimension),return_sequences=True))\r\n",
    "model.add(LSTM(neurons,return_sequences=True))\r\n",
    "model.add(LSTM(neurons))\r\n",
    "model.add(Dense(dense_layer))\r\n",
    "model.compile(loss='mean_squared_error',optimizer='adam')"
   ],
   "outputs": [],
   "metadata": {}
  },
  {
   "cell_type": "code",
   "execution_count": 25,
   "source": [
    "#Review of Layers\r\n",
    "model.summary()"
   ],
   "outputs": [
    {
     "output_type": "stream",
     "name": "stdout",
     "text": [
      "Model: \"sequential\"\n",
      "_________________________________________________________________\n",
      "Layer (type)                 Output Shape              Param #   \n",
      "=================================================================\n",
      "lstm (LSTM)                  (None, 10, 50)            10400     \n",
      "_________________________________________________________________\n",
      "lstm_1 (LSTM)                (None, 10, 50)            20200     \n",
      "_________________________________________________________________\n",
      "lstm_2 (LSTM)                (None, 50)                20200     \n",
      "_________________________________________________________________\n",
      "dense (Dense)                (None, 1)                 51        \n",
      "=================================================================\n",
      "Total params: 50,851\n",
      "Trainable params: 50,851\n",
      "Non-trainable params: 0\n",
      "_________________________________________________________________\n"
     ]
    }
   ],
   "metadata": {}
  },
  {
   "cell_type": "code",
   "execution_count": 26,
   "source": [
    "#training the model, currently set to silent mode, this will take time to process\r\n",
    "model.fit(X_train,y_train,validation_data=(X_test,ytest),epochs=25,batch_size=64,verbose=1)"
   ],
   "outputs": [
    {
     "output_type": "stream",
     "name": "stdout",
     "text": [
      "Epoch 1/25\n",
      "156/156 [==============================] - 6s 17ms/step - loss: 0.0145 - val_loss: 0.0028\n",
      "Epoch 2/25\n",
      "156/156 [==============================] - 2s 12ms/step - loss: 0.0017 - val_loss: 0.0027\n",
      "Epoch 3/25\n",
      "156/156 [==============================] - 2s 12ms/step - loss: 0.0016 - val_loss: 0.0028\n",
      "Epoch 4/25\n",
      "156/156 [==============================] - 2s 12ms/step - loss: 0.0015 - val_loss: 0.0026\n",
      "Epoch 5/25\n",
      "156/156 [==============================] - 2s 12ms/step - loss: 0.0013 - val_loss: 0.0018\n",
      "Epoch 6/25\n",
      "156/156 [==============================] - 2s 12ms/step - loss: 9.2101e-04 - val_loss: 7.2521e-04\n",
      "Epoch 7/25\n",
      "156/156 [==============================] - 2s 13ms/step - loss: 5.2135e-04 - val_loss: 4.6797e-04\n",
      "Epoch 8/25\n",
      "156/156 [==============================] - 2s 12ms/step - loss: 3.5177e-04 - val_loss: 3.8412e-04\n",
      "Epoch 9/25\n",
      "156/156 [==============================] - 2s 12ms/step - loss: 3.1112e-04 - val_loss: 3.0889e-04\n",
      "Epoch 10/25\n",
      "156/156 [==============================] - 2s 13ms/step - loss: 2.9825e-04 - val_loss: 2.8913e-04\n",
      "Epoch 11/25\n",
      "156/156 [==============================] - 2s 12ms/step - loss: 2.4659e-04 - val_loss: 3.1622e-04\n",
      "Epoch 12/25\n",
      "156/156 [==============================] - 2s 13ms/step - loss: 2.3269e-04 - val_loss: 2.5569e-04\n",
      "Epoch 13/25\n",
      "156/156 [==============================] - 2s 12ms/step - loss: 2.4064e-04 - val_loss: 3.1094e-04\n",
      "Epoch 14/25\n",
      "156/156 [==============================] - 2s 12ms/step - loss: 2.0256e-04 - val_loss: 2.9896e-04\n",
      "Epoch 15/25\n",
      "156/156 [==============================] - 2s 12ms/step - loss: 1.9029e-04 - val_loss: 8.4420e-04\n",
      "Epoch 16/25\n",
      "156/156 [==============================] - 2s 12ms/step - loss: 2.0127e-04 - val_loss: 2.5256e-04\n",
      "Epoch 17/25\n",
      "156/156 [==============================] - 2s 12ms/step - loss: 1.6617e-04 - val_loss: 1.9987e-04\n",
      "Epoch 18/25\n",
      "156/156 [==============================] - 2s 12ms/step - loss: 1.5108e-04 - val_loss: 0.0013\n",
      "Epoch 19/25\n",
      "156/156 [==============================] - 2s 12ms/step - loss: 1.8695e-04 - val_loss: 2.8177e-04\n",
      "Epoch 20/25\n",
      "156/156 [==============================] - 2s 12ms/step - loss: 1.2759e-04 - val_loss: 2.5400e-04\n",
      "Epoch 21/25\n",
      "156/156 [==============================] - 2s 12ms/step - loss: 1.1441e-04 - val_loss: 3.5062e-04\n",
      "Epoch 22/25\n",
      "156/156 [==============================] - 2s 12ms/step - loss: 1.1779e-04 - val_loss: 1.2053e-04\n",
      "Epoch 23/25\n",
      "156/156 [==============================] - 2s 12ms/step - loss: 1.1211e-04 - val_loss: 3.1687e-04\n",
      "Epoch 24/25\n",
      "156/156 [==============================] - 2s 12ms/step - loss: 8.2824e-05 - val_loss: 2.9238e-04\n",
      "Epoch 25/25\n",
      "156/156 [==============================] - 2s 12ms/step - loss: 7.6998e-05 - val_loss: 1.4128e-04\n"
     ]
    },
    {
     "output_type": "execute_result",
     "data": {
      "text/plain": [
       "<keras.callbacks.History at 0x236a67061c8>"
      ]
     },
     "metadata": {},
     "execution_count": 26
    }
   ],
   "metadata": {}
  },
  {
   "cell_type": "code",
   "execution_count": 27,
   "source": [
    "# Prediction and Performance Metrics\r\n",
    "train_predict=model.predict(X_train)\r\n",
    "test_predict=model.predict(X_test)\r\n",
    "\r\n",
    "#Transformback to original form\r\n",
    "train_predict=scaler.inverse_transform(train_predict)\r\n",
    "test_predict=scaler.inverse_transform(test_predict)\r\n",
    "\r\n",
    "#Calculate RMSE performance metrics - Root Mean Square Error, this is for the data set comparison\r\n",
    "math.sqrt(mean_squared_error(y_train,train_predict))"
   ],
   "outputs": [
    {
     "output_type": "execute_result",
     "data": {
      "text/plain": [
       "0.8300796426144421"
      ]
     },
     "metadata": {},
     "execution_count": 27
    }
   ],
   "metadata": {}
  },
  {
   "cell_type": "code",
   "execution_count": 28,
   "source": [
    "# Plotting \r\n",
    "# shift train predictions for plotting\r\n",
    "look_back= timesteps #this is your timesteps from earlier\r\n",
    "trainPredictPlot = np.empty_like(Testing_df)\r\n",
    "trainPredictPlot[:, :] = np.nan\r\n",
    "trainPredictPlot[look_back:len(train_predict)+look_back, :] = train_predict\r\n",
    "# shift test predictions for plotting\r\n",
    "testPredictPlot = np.empty_like(Testing_df)\r\n",
    "testPredictPlot[:, :] = np.nan\r\n",
    "testPredictPlot[len(train_predict)+(look_back*2)+1:len(Testing_df)-1, :] = test_predict\r\n",
    "# plot baseline and predictions\r\n",
    "plt.plot(scaler.inverse_transform(Testing_df))\r\n",
    "plt.plot(trainPredictPlot)\r\n",
    "plt.plot(testPredictPlot)\r\n",
    "plt.show()\r\n",
    "\r\n",
    "\r\n",
    "#orange is training\r\n",
    "#green is predicting the test data and verifying"
   ],
   "outputs": [
    {
     "output_type": "display_data",
     "data": {
      "image/png": "[encoded data removed]",
      "text/plain": [
       "<Figure size 432x288 with 1 Axes>"
      ]
     },
     "metadata": {
      "needs_background": "light"
     }
    }
   ],
   "metadata": {}
  },
  {
   "cell_type": "code",
   "execution_count": 29,
   "source": [
    "#converting the information to a list that has been scaled from 0 - 1 from earlier\r\n",
    "test_values = test_size - timesteps\r\n",
    "\r\n",
    "x_input=test_data[test_values:].reshape(1,-1)\r\n",
    "temp_input=list(x_input)\r\n",
    "temp_input=temp_input[0].tolist()"
   ],
   "outputs": [],
   "metadata": {}
  },
  {
   "cell_type": "code",
   "execution_count": 30,
   "source": [
    "# demonstrate prediction for next 3\r\n",
    "from numpy import array\r\n",
    "\r\n",
    "lst_output=[]\r\n",
    "n_steps=time_step\r\n",
    "i=0\r\n",
    "prediction_days = 3\r\n",
    "\r\n",
    "while(i<prediction_days): #this predicts the next 30 days\r\n",
    "    \r\n",
    "    if(len(temp_input)>timesteps): \r\n",
    "        #print(temp_input)\r\n",
    "        x_input=np.array(temp_input[1:])\r\n",
    "        print(\"{} price input {}\".format(i,x_input))\r\n",
    "        x_input=x_input.reshape(1,-1)\r\n",
    "        x_input = x_input.reshape((1, n_steps, 1))\r\n",
    "        #print(x_input)\r\n",
    "        yhat = model.predict(x_input, verbose=0)\r\n",
    "        print(\"{} price output {}\".format(i,yhat))\r\n",
    "        temp_input.extend(yhat[0].tolist())\r\n",
    "        temp_input=temp_input[1:]\r\n",
    "        #print(temp_input)\r\n",
    "        lst_output.extend(yhat.tolist())\r\n",
    "        i=i+1\r\n",
    "    else:\r\n",
    "        x_input = x_input.reshape((1, n_steps,1))\r\n",
    "        yhat = model.predict(x_input, verbose=0)\r\n",
    "        print(yhat[0])\r\n",
    "        temp_input.extend(yhat[0].tolist())\r\n",
    "        print(len(temp_input))\r\n",
    "        lst_output.extend(yhat.tolist())\r\n",
    "        i=i+1\r\n",
    "    \r\n",
    "\r\n",
    "print(lst_output)\r\n",
    "\r\n",
    "tick_new=np.arange(1,timesteps + 1)\r\n",
    "tick_pred=np.arange(timesteps + 1,timesteps + 1 + prediction_days)"
   ],
   "outputs": [
    {
     "output_type": "stream",
     "name": "stdout",
     "text": [
      "[0.57230365]\n",
      "11\n",
      "1 price input [0.57818569 0.57813051 0.57819428 0.57859624 0.57893056 0.57942655\n",
      " 0.57997788 0.58031702 0.5803085  0.57230365]\n",
      "1 price output [[0.5681425]]\n",
      "2 price input [0.57813051 0.57819428 0.57859624 0.57893056 0.57942655 0.57997788\n",
      " 0.58031702 0.5803085  0.57230365 0.56814247]\n",
      "2 price output [[0.5616258]]\n",
      "[[0.5723036527633667], [0.5681424736976624], [0.5616257786750793]]\n"
     ]
    }
   ],
   "metadata": {}
  },
  {
   "cell_type": "code",
   "execution_count": 31,
   "source": [
    "#Plotting the informatino with the prediction\r\n",
    "tick_value = len(Testing_df) - timesteps\r\n",
    "\r\n",
    "plt.plot(tick_new,scaler.inverse_transform(Testing_df[tick_value:]))\r\n",
    "plt.plot(tick_pred,scaler.inverse_transform(lst_output)) #this is the predicted data / output (Orange Line)"
   ],
   "outputs": [
    {
     "output_type": "execute_result",
     "data": {
      "text/plain": [
       "[<matplotlib.lines.Line2D at 0x23706ee4148>]"
      ]
     },
     "metadata": {},
     "execution_count": 31
    },
    {
     "output_type": "display_data",
     "data": {
      "image/png": "[encoded data removed]",
      "text/plain": [
       "<Figure size 432x288 with 1 Axes>"
      ]
     },
     "metadata": {
      "needs_background": "light"
     }
    }
   ],
   "metadata": {}
  },
  {
   "cell_type": "code",
   "execution_count": 32,
   "source": [
    "#Combining the information together for output\r\n",
    "prediction_df = Testing_df.tolist()\r\n",
    "prediction_df.extend(lst_output)\r\n",
    "plt.plot(prediction_df [tick_value:])"
   ],
   "outputs": [
    {
     "output_type": "execute_result",
     "data": {
      "text/plain": [
       "[<matplotlib.lines.Line2D at 0x237070f6d48>]"
      ]
     },
     "metadata": {},
     "execution_count": 32
    },
    {
     "output_type": "display_data",
     "data": {
      "image/png": "[encoded data removed]",
      "text/plain": [
       "<Figure size 432x288 with 1 Axes>"
      ]
     },
     "metadata": {
      "needs_background": "light"
     }
    }
   ],
   "metadata": {}
  },
  {
   "cell_type": "code",
   "execution_count": 33,
   "source": [
    "#Inverting the scaler back for actual values, and plotting the information\r\n",
    "prediction_df = scaler.inverse_transform(prediction_df).tolist()\r\n",
    "plt.plot(prediction_df)\r\n"
   ],
   "outputs": [
    {
     "output_type": "execute_result",
     "data": {
      "text/plain": [
       "[<matplotlib.lines.Line2D at 0x236a647ea48>]"
      ]
     },
     "metadata": {},
     "execution_count": 33
    },
    {
     "output_type": "display_data",
     "data": {
      "image/png": "[encoded data removed]",
      "text/plain": [
       "<Figure size 432x288 with 1 Axes>"
      ]
     },
     "metadata": {
      "needs_background": "light"
     }
    }
   ],
   "metadata": {}
  },
  {
   "cell_type": "code",
   "execution_count": null,
   "source": [],
   "outputs": [],
   "metadata": {}
  }
 ],
 "metadata": {
  "interpreter": {
   "hash": "52131790a8f53977581f04282f154ab32d8be0cf6d886476fa1f7e53b206c71b"
  },
  "kernelspec": {
   "name": "python3",
   "display_name": "Python 3.7.10 64-bit ('dev': conda)"
  },
  "language_info": {
   "codemirror_mode": {
    "name": "ipython",
    "version": 3
   },
   "file_extension": ".py",
   "mimetype": "text/x-python",
   "name": "python",
   "nbconvert_exporter": "python",
   "pygments_lexer": "ipython3",
   "version": "3.7.10"
  }
 },
 "nbformat": 4,
 "nbformat_minor": 4
}