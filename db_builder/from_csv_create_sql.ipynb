{
 "cells": [
  {
   "cell_type": "code",
   "execution_count": 1,
   "metadata": {},
   "outputs": [],
   "source": [
    "import pandas as pd\r\n",
    "from pathlib import Path\r\n",
    "import sqlalchemy as sql"
   ]
  },
  {
   "cell_type": "code",
   "execution_count": 2,
   "metadata": {},
   "outputs": [
    {
     "data": {
      "text/plain": [
       "Engine(sqlite:///stock_industry_top5.db)"
      ]
     },
     "execution_count": 2,
     "metadata": {},
     "output_type": "execute_result"
    }
   ],
   "source": [
    "# Create a database connection string that links an in-memory database\r\n",
    "database_connection_string = 'sqlite:///stock_industry_top5.db'\r\n",
    "\r\n",
    "# Database connection object\r\n",
    "engine = sql.create_engine(database_connection_string)\r\n",
    "\r\n",
    "# Confirm the engine was created\r\n",
    "engine"
   ]
  },
  {
   "cell_type": "code",
   "execution_count": 3,
   "metadata": {},
   "outputs": [
    {
     "data": {
      "text/html": [
       "<div>\n",
       "<style scoped>\n",
       "    .dataframe tbody tr th:only-of-type {\n",
       "        vertical-align: middle;\n",
       "    }\n",
       "\n",
       "    .dataframe tbody tr th {\n",
       "        vertical-align: top;\n",
       "    }\n",
       "\n",
       "    .dataframe thead th {\n",
       "        text-align: right;\n",
       "    }\n",
       "</style>\n",
       "<table border=\"1\" class=\"dataframe\">\n",
       "  <thead>\n",
       "    <tr style=\"text-align: right;\">\n",
       "      <th></th>\n",
       "      <th>Symbol</th>\n",
       "      <th>GICS Sector</th>\n",
       "      <th>Market_Cap</th>\n",
       "    </tr>\n",
       "  </thead>\n",
       "  <tbody>\n",
       "    <tr>\n",
       "      <th>0</th>\n",
       "      <td>MMM</td>\n",
       "      <td>Industrials</td>\n",
       "      <td>1.042488e+11</td>\n",
       "    </tr>\n",
       "    <tr>\n",
       "      <th>1</th>\n",
       "      <td>ABT</td>\n",
       "      <td>Health Care</td>\n",
       "      <td>2.214806e+11</td>\n",
       "    </tr>\n",
       "    <tr>\n",
       "      <th>2</th>\n",
       "      <td>ABBV</td>\n",
       "      <td>Health Care</td>\n",
       "      <td>1.879435e+11</td>\n",
       "    </tr>\n",
       "    <tr>\n",
       "      <th>3</th>\n",
       "      <td>ABMD</td>\n",
       "      <td>Health Care</td>\n",
       "      <td>1.607624e+10</td>\n",
       "    </tr>\n",
       "    <tr>\n",
       "      <th>4</th>\n",
       "      <td>ACN</td>\n",
       "      <td>Information Technology</td>\n",
       "      <td>2.127256e+11</td>\n",
       "    </tr>\n",
       "  </tbody>\n",
       "</table>\n",
       "</div>"
      ],
      "text/plain": [
       "  Symbol             GICS Sector    Market_Cap\n",
       "0    MMM             Industrials  1.042488e+11\n",
       "1    ABT             Health Care  2.214806e+11\n",
       "2   ABBV             Health Care  1.879435e+11\n",
       "3   ABMD             Health Care  1.607624e+10\n",
       "4    ACN  Information Technology  2.127256e+11"
      ]
     },
     "execution_count": 3,
     "metadata": {},
     "output_type": "execute_result"
    }
   ],
   "source": [
    "stocks_df = pd.read_csv(\r\n",
    "    Path('stock_industry_marketcap.csv')\r\n",
    ")\r\n",
    "\r\n",
    "stocks_df.head()"
   ]
  },
  {
   "cell_type": "code",
   "execution_count": 4,
   "metadata": {},
   "outputs": [],
   "source": [
    "stocks_df.to_sql('stock_industry_marketcap', engine, index=False, if_exists='replace')"
   ]
  },
  {
   "cell_type": "code",
   "execution_count": 5,
   "metadata": {},
   "outputs": [
    {
     "name": "stderr",
     "output_type": "stream",
     "text": [
      "C:\\Users\\remyd\\.conda\\envs\\dev\\lib\\site-packages\\ipykernel_launcher.py:1: SADeprecationWarning: The Engine.table_names() method is deprecated and will be removed in a future release.  Please refer to Inspector.get_table_names(). (deprecated since: 1.4)\n",
      "  \"\"\"Entry point for launching an IPython kernel.\n"
     ]
    },
    {
     "data": {
      "text/plain": [
       "['stock_industry_marketcap']"
      ]
     },
     "execution_count": 5,
     "metadata": {},
     "output_type": "execute_result"
    }
   ],
   "source": [
    "engine.table_names()"
   ]
  },
  {
   "cell_type": "code",
   "execution_count": 6,
   "metadata": {},
   "outputs": [
    {
     "data": {
      "text/html": [
       "<div>\n",
       "<style scoped>\n",
       "    .dataframe tbody tr th:only-of-type {\n",
       "        vertical-align: middle;\n",
       "    }\n",
       "\n",
       "    .dataframe tbody tr th {\n",
       "        vertical-align: top;\n",
       "    }\n",
       "\n",
       "    .dataframe thead th {\n",
       "        text-align: right;\n",
       "    }\n",
       "</style>\n",
       "<table border=\"1\" class=\"dataframe\">\n",
       "  <thead>\n",
       "    <tr style=\"text-align: right;\">\n",
       "      <th></th>\n",
       "      <th>Symbol</th>\n",
       "      <th>GICS Sector</th>\n",
       "      <th>Market_Cap</th>\n",
       "    </tr>\n",
       "  </thead>\n",
       "  <tbody>\n",
       "    <tr>\n",
       "      <th>0</th>\n",
       "      <td>MMM</td>\n",
       "      <td>Industrials</td>\n",
       "      <td>1.042488e+11</td>\n",
       "    </tr>\n",
       "    <tr>\n",
       "      <th>1</th>\n",
       "      <td>ABT</td>\n",
       "      <td>Health Care</td>\n",
       "      <td>2.214806e+11</td>\n",
       "    </tr>\n",
       "    <tr>\n",
       "      <th>2</th>\n",
       "      <td>ABBV</td>\n",
       "      <td>Health Care</td>\n",
       "      <td>1.879435e+11</td>\n",
       "    </tr>\n",
       "    <tr>\n",
       "      <th>3</th>\n",
       "      <td>ABMD</td>\n",
       "      <td>Health Care</td>\n",
       "      <td>1.607624e+10</td>\n",
       "    </tr>\n",
       "    <tr>\n",
       "      <th>4</th>\n",
       "      <td>ACN</td>\n",
       "      <td>Information Technology</td>\n",
       "      <td>2.127256e+11</td>\n",
       "    </tr>\n",
       "  </tbody>\n",
       "</table>\n",
       "</div>"
      ],
      "text/plain": [
       "  Symbol             GICS Sector    Market_Cap\n",
       "0    MMM             Industrials  1.042488e+11\n",
       "1    ABT             Health Care  2.214806e+11\n",
       "2   ABBV             Health Care  1.879435e+11\n",
       "3   ABMD             Health Care  1.607624e+10\n",
       "4    ACN  Information Technology  2.127256e+11"
      ]
     },
     "execution_count": 6,
     "metadata": {},
     "output_type": "execute_result"
    }
   ],
   "source": [
    "sql_stock_df = pd.read_sql_table('stock_industry_marketcap', con=engine)\r\n",
    "\r\n",
    "sql_stock_df.head()"
   ]
  },
  {
   "cell_type": "code",
   "execution_count": 7,
   "metadata": {},
   "outputs": [],
   "source": [
    "top5 = \"\"\"\r\n",
    "SELECT Symbol\r\n",
    "FROM stock_industry_marketcap\r\n",
    "WHERE `GICS Sector` = 'Industrials'\r\n",
    "ORDER BY Market_Cap DESC\r\n",
    "LIMIT 5\r\n",
    "\"\"\"\r\n",
    "# UNION all\r\n",
    "# SELECT * FROM stock_industry_marketcap WHERE GICS Sector = 'Utilities' ORDER BY Market_Cap LIMIT 5\r\n",
    "# UNION all\r\n",
    "# SELECT * FROM stock_industry_marketcap WHERE GICS Sector = 'Real Estate' ORDER BY Market_Cap LIMIT 5\r\n",
    "# UNION all\r\n",
    "# SELECT * FROM stock_industry_marketcap WHERE GICS Sector = 'Materials' ORDER BY Market_Cap LIMIT 5\r\n",
    "# UNION all\r\n",
    "# SELECT * FROM stock_industry_marketcap WHERE GICS Sector = 'Information Technology' ORDER BY Market_Cap LIMIT 5\r\n",
    "# UNION all\r\n",
    "# SELECT * FROM stock_industry_marketcap WHERE GICS Sector = 'Health Care' ORDER BY Market_Cap LIMIT 5\r\n",
    "# UNION all\r\n",
    "# SELECT * FROM stock_industry_marketcap WHERE GICS Sector = 'Financials' ORDER BY Market_Cap LIMIT 5\r\n",
    "# UNION all\r\n",
    "# SELECT * FROM stock_industry_marketcap WHERE GICS Sector = 'Energy' ORDER BY Market_Cap LIMIT 5\r\n",
    "# UNION all\r\n",
    "# SELECT * FROM stock_industry_marketcap WHERE GICS Sector = 'Consumer Staples' ORDER BY Market_Cap LIMIT 5\r\n",
    "# UNION all\r\n",
    "# SELECT * FROM stock_industry_marketcap WHERE GICS Sector = 'Consumer Discretionary' ORDER BY Market_Cap LIMIT 5\r\n",
    "# UNION all\r\n",
    "# SELECT * FROM stock_industry_marketcap WHERE GICS Sector = 'Communication Services' ORDER BY Market_Cap LIMIT 5\r\n",
    "# UNION all\r\n",
    "\r\n"
   ]
  },
  {
   "cell_type": "code",
   "execution_count": 8,
   "metadata": {},
   "outputs": [],
   "source": [
    "results = engine.execute(top5)\r\n"
   ]
  },
  {
   "cell_type": "code",
   "execution_count": 9,
   "metadata": {},
   "outputs": [
    {
     "data": {
      "text/html": [
       "<div>\n",
       "<style scoped>\n",
       "    .dataframe tbody tr th:only-of-type {\n",
       "        vertical-align: middle;\n",
       "    }\n",
       "\n",
       "    .dataframe tbody tr th {\n",
       "        vertical-align: top;\n",
       "    }\n",
       "\n",
       "    .dataframe thead th {\n",
       "        text-align: right;\n",
       "    }\n",
       "</style>\n",
       "<table border=\"1\" class=\"dataframe\">\n",
       "  <thead>\n",
       "    <tr style=\"text-align: right;\">\n",
       "      <th></th>\n",
       "      <th>0</th>\n",
       "    </tr>\n",
       "  </thead>\n",
       "  <tbody>\n",
       "    <tr>\n",
       "      <th>0</th>\n",
       "      <td>GE</td>\n",
       "    </tr>\n",
       "    <tr>\n",
       "      <th>1</th>\n",
       "      <td>UPS</td>\n",
       "    </tr>\n",
       "    <tr>\n",
       "      <th>2</th>\n",
       "      <td>HON</td>\n",
       "    </tr>\n",
       "    <tr>\n",
       "      <th>3</th>\n",
       "      <td>UNP</td>\n",
       "    </tr>\n",
       "    <tr>\n",
       "      <th>4</th>\n",
       "      <td>RTX</td>\n",
       "    </tr>\n",
       "  </tbody>\n",
       "</table>\n",
       "</div>"
      ],
      "text/plain": [
       "     0\n",
       "0   GE\n",
       "1  UPS\n",
       "2  HON\n",
       "3  UNP\n",
       "4  RTX"
      ]
     },
     "execution_count": 9,
     "metadata": {},
     "output_type": "execute_result"
    }
   ],
   "source": [
    "data = pd.DataFrame(data=results)\r\n",
    "data"
   ]
  },
  {
   "cell_type": "code",
   "execution_count": 10,
   "metadata": {},
   "outputs": [],
   "source": [
    "ls1 = ['Industrials', 'Utilities', 'Materials']"
   ]
  },
  {
   "cell_type": "code",
   "execution_count": 11,
   "metadata": {},
   "outputs": [
    {
     "data": {
      "text/plain": [
       "'Industrials'"
      ]
     },
     "execution_count": 11,
     "metadata": {},
     "output_type": "execute_result"
    }
   ],
   "source": [
    "l1 = ls1[0]\r\n",
    "l1"
   ]
  },
  {
   "cell_type": "code",
   "execution_count": 12,
   "metadata": {},
   "outputs": [
    {
     "name": "stdout",
     "output_type": "stream",
     "text": [
      "['GE', 'UPS', 'HON', 'UNP', 'RTX', 'NEE', 'DUK', 'SO', 'D', 'EXC', 'LIN', 'SHW', 'ECL', 'APD', 'FCX']\n"
     ]
    }
   ],
   "source": [
    "def generate_tickers(ls1):\r\n",
    "    l1 = ls1[0]\r\n",
    "    top5_1 = f\"\"\"\r\n",
    "    SELECT Symbol\r\n",
    "    FROM stock_industry_marketcap\r\n",
    "    WHERE `GICS Sector` = '{l1}'\r\n",
    "    ORDER BY Market_Cap DESC\r\n",
    "    LIMIT 5\r\n",
    "    \"\"\"\r\n",
    "    results_1 = engine.execute(top5_1)\r\n",
    "    data_1 = pd.DataFrame(results_1)\r\n",
    "\r\n",
    "    l2 = ls1[1]\r\n",
    "    top5_2 = f\"\"\"\r\n",
    "    SELECT Symbol\r\n",
    "    FROM stock_industry_marketcap\r\n",
    "    WHERE `GICS Sector` = '{l2}'\r\n",
    "    ORDER BY Market_Cap DESC\r\n",
    "    LIMIT 5\r\n",
    "    \"\"\"\r\n",
    "    results_2 = engine.execute(top5_2)\r\n",
    "    data_2 = pd.DataFrame(results_2)\r\n",
    "\r\n",
    "    l3 = ls1[2]\r\n",
    "    top5_3 = f\"\"\"\r\n",
    "    SELECT Symbol\r\n",
    "    FROM stock_industry_marketcap\r\n",
    "    WHERE `GICS Sector` = '{l3}'\r\n",
    "    ORDER BY Market_Cap DESC\r\n",
    "    LIMIT 5\r\n",
    "    \"\"\"\r\n",
    "    results_3 = engine.execute(top5_3)\r\n",
    "    data_3 = pd.DataFrame(results_3)\r\n",
    "\r\n",
    "    clean_symbols = pd.concat([data_1, data_2, data_3], axis=\"rows\", join=\"inner\")\r\n",
    "    symbols = clean_symbols[0].tolist()\r\n",
    "    return print(symbols)\r\n",
    "    \r\n",
    "    \r\n",
    "\r\n",
    "generate_tickers(ls1)\r\n",
    "\r\n"
   ]
  },
  {
   "cell_type": "code",
   "execution_count": null,
   "metadata": {},
   "outputs": [],
   "source": []
  }
 ],
 "metadata": {
  "interpreter": {
   "hash": "0bc772866a3affdc5803be489598f529b0192fa171585f2d09392617c9a5b224"
  },
  "kernelspec": {
   "display_name": "Python 3",
   "language": "python",
   "name": "python3"
  },
  "language_info": {
   "codemirror_mode": {
    "name": "ipython",
    "version": 3
   },
   "file_extension": ".py",
   "mimetype": "text/x-python",
   "name": "python",
   "nbconvert_exporter": "python",
   "pygments_lexer": "ipython3",
   "version": "3.7.10"
  }
 },
 "nbformat": 4,
 "nbformat_minor": 4
}
