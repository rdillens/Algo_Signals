{
 "cells": [
  {
   "cell_type": "code",
   "execution_count": 1,
   "source": [
    "import pandas as pd\r\n",
    "import yfinance as yf\r\n",
    "from pathlib import Path\r\n",
    "import concurrent.futures"
   ],
   "outputs": [],
   "metadata": {}
  },
  {
   "cell_type": "code",
   "execution_count": 2,
   "source": [
    "# Pulling S&P Data from wiki and outputing HTML\r\n",
    "# Sepecify URL\r\n",
    "url = 'https://en.wikipedia.org/wiki/List_of_S%26P_500_companies'\r\n",
    "\r\n",
    "# Read html\r\n",
    "sp500_html = pd.read_html(url)\r\n",
    "\r\n",
    "# Obtain first table\r\n",
    "sp500_html = sp500_html[0]\r\n",
    "\r\n",
    "# Create dataframe\r\n",
    "sp500_df = pd.DataFrame(sp500_html)\r\n",
    "sp500_df.head()"
   ],
   "outputs": [
    {
     "output_type": "execute_result",
     "data": {
      "text/html": [
       "<div>\n",
       "<style scoped>\n",
       "    .dataframe tbody tr th:only-of-type {\n",
       "        vertical-align: middle;\n",
       "    }\n",
       "\n",
       "    .dataframe tbody tr th {\n",
       "        vertical-align: top;\n",
       "    }\n",
       "\n",
       "    .dataframe thead th {\n",
       "        text-align: right;\n",
       "    }\n",
       "</style>\n",
       "<table border=\"1\" class=\"dataframe\">\n",
       "  <thead>\n",
       "    <tr style=\"text-align: right;\">\n",
       "      <th></th>\n",
       "      <th>Symbol</th>\n",
       "      <th>Security</th>\n",
       "      <th>SEC filings</th>\n",
       "      <th>GICS Sector</th>\n",
       "      <th>GICS Sub-Industry</th>\n",
       "      <th>Headquarters Location</th>\n",
       "      <th>Date first added</th>\n",
       "      <th>CIK</th>\n",
       "      <th>Founded</th>\n",
       "    </tr>\n",
       "  </thead>\n",
       "  <tbody>\n",
       "    <tr>\n",
       "      <th>0</th>\n",
       "      <td>MMM</td>\n",
       "      <td>3M</td>\n",
       "      <td>reports</td>\n",
       "      <td>Industrials</td>\n",
       "      <td>Industrial Conglomerates</td>\n",
       "      <td>Saint Paul, Minnesota</td>\n",
       "      <td>1976-08-09</td>\n",
       "      <td>66740</td>\n",
       "      <td>1902</td>\n",
       "    </tr>\n",
       "    <tr>\n",
       "      <th>1</th>\n",
       "      <td>ABT</td>\n",
       "      <td>Abbott Laboratories</td>\n",
       "      <td>reports</td>\n",
       "      <td>Health Care</td>\n",
       "      <td>Health Care Equipment</td>\n",
       "      <td>North Chicago, Illinois</td>\n",
       "      <td>1964-03-31</td>\n",
       "      <td>1800</td>\n",
       "      <td>1888</td>\n",
       "    </tr>\n",
       "    <tr>\n",
       "      <th>2</th>\n",
       "      <td>ABBV</td>\n",
       "      <td>AbbVie</td>\n",
       "      <td>reports</td>\n",
       "      <td>Health Care</td>\n",
       "      <td>Pharmaceuticals</td>\n",
       "      <td>North Chicago, Illinois</td>\n",
       "      <td>2012-12-31</td>\n",
       "      <td>1551152</td>\n",
       "      <td>2013 (1888)</td>\n",
       "    </tr>\n",
       "    <tr>\n",
       "      <th>3</th>\n",
       "      <td>ABMD</td>\n",
       "      <td>Abiomed</td>\n",
       "      <td>reports</td>\n",
       "      <td>Health Care</td>\n",
       "      <td>Health Care Equipment</td>\n",
       "      <td>Danvers, Massachusetts</td>\n",
       "      <td>2018-05-31</td>\n",
       "      <td>815094</td>\n",
       "      <td>1981</td>\n",
       "    </tr>\n",
       "    <tr>\n",
       "      <th>4</th>\n",
       "      <td>ACN</td>\n",
       "      <td>Accenture</td>\n",
       "      <td>reports</td>\n",
       "      <td>Information Technology</td>\n",
       "      <td>IT Consulting &amp; Other Services</td>\n",
       "      <td>Dublin, Ireland</td>\n",
       "      <td>2011-07-06</td>\n",
       "      <td>1467373</td>\n",
       "      <td>1989</td>\n",
       "    </tr>\n",
       "  </tbody>\n",
       "</table>\n",
       "</div>"
      ],
      "text/plain": [
       "  Symbol             Security SEC filings             GICS Sector  \\\n",
       "0    MMM                   3M     reports             Industrials   \n",
       "1    ABT  Abbott Laboratories     reports             Health Care   \n",
       "2   ABBV               AbbVie     reports             Health Care   \n",
       "3   ABMD              Abiomed     reports             Health Care   \n",
       "4    ACN            Accenture     reports  Information Technology   \n",
       "\n",
       "                GICS Sub-Industry    Headquarters Location Date first added  \\\n",
       "0        Industrial Conglomerates    Saint Paul, Minnesota       1976-08-09   \n",
       "1           Health Care Equipment  North Chicago, Illinois       1964-03-31   \n",
       "2                 Pharmaceuticals  North Chicago, Illinois       2012-12-31   \n",
       "3           Health Care Equipment   Danvers, Massachusetts       2018-05-31   \n",
       "4  IT Consulting & Other Services          Dublin, Ireland       2011-07-06   \n",
       "\n",
       "       CIK      Founded  \n",
       "0    66740         1902  \n",
       "1     1800         1888  \n",
       "2  1551152  2013 (1888)  \n",
       "3   815094         1981  \n",
       "4  1467373         1989  "
      ]
     },
     "metadata": {},
     "execution_count": 2
    }
   ],
   "metadata": {}
  },
  {
   "cell_type": "code",
   "execution_count": 3,
   "source": [
    "sp500_all_sectors_df = pd.DataFrame(\r\n",
    "    columns=['GICS Sector', 'Symbol'],\r\n",
    "    data=sp500_df,\r\n",
    "    )\r\n",
    "\r\n",
    "sp500_df_wo_index = sp500_all_sectors_df.set_index(\"Symbol\")\r\n",
    "\r\n",
    "# isolate symbols in order to pass list to yfinance to get market cap info\r\n",
    "sp500_all_symbols = sp500_all_sectors_df['Symbol'].values.tolist()\r\n",
    "\r\n",
    "# Wikipedia symbols with a \".\" instead of a \"-\"\r\n",
    "# Yfinance needs the \"-\" to pull data\r\n",
    "stocks = []\r\n",
    "\r\n",
    "for stock_ticker in sp500_all_symbols:\r\n",
    "    ticker = stock_ticker.replace(\".\",\"-\")\r\n",
    "    stocks.append(ticker)\r\n"
   ],
   "outputs": [],
   "metadata": {}
  },
  {
   "cell_type": "code",
   "execution_count": null,
   "source": [
    "market_cap_dict = {}\r\n",
    "exception_count = 0\r\n",
    "cap_count = 0\r\n",
    "exception_list = []\r\n",
    "key_error_list = []\r\n",
    "\r\n",
    "def get_stock_market_cap(stock):\r\n",
    "#     print(f'\\rGetting {stock} ticker...', end='')\r\n",
    "    ticker = yf.Ticker(stock)\r\n",
    "    return ticker.info['marketCap']\r\n",
    "      \r\n",
    "# with concurrent.futures.ThreadPoolExecutor(max_workers=5) as executor:\r\n",
    "with concurrent.futures.ThreadPoolExecutor() as executor:\r\n",
    "    future_to_mkt_cap = {executor.submit(get_stock_market_cap, stock): stock for stock in stocks}\r\n",
    "    for future in concurrent.futures.as_completed(future_to_mkt_cap):\r\n",
    "        stock = future_to_mkt_cap[future]\r\n",
    "#         print(stock, future.result())\r\n",
    "        try:\r\n",
    "            market_cap_dict[stock] = future.result()\r\n",
    "            cap_count += 1\r\n",
    "        except KeyError:\r\n",
    "            key_error_list.append(stock)\r\n",
    "        except Exception as exc:\r\n",
    "            exception_count += 1\r\n",
    "            exception_list.append(stock)\r\n",
    "            print(f'\\n{stock} generated a {type(exc)} exception: {exc}', end='\\n')\r\n",
    "        else:\r\n",
    "            print(f'\\r{stock}: {market_cap_dict[stock]}', end='')\r\n",
    "    print(f'\\rDone! {cap_count} stocks, {len(key_error_list)} key errors, {exception_count} unhandled exceptions.')\r\n",
    "    print(f'Tickers with no market cap data:\\n{key_error_list}')\r\n"
   ],
   "outputs": [
    {
     "output_type": "stream",
     "name": "stdout",
     "text": [
      "URI: 250355834886800"
     ]
    }
   ],
   "metadata": {}
  },
  {
   "cell_type": "code",
   "execution_count": null,
   "source": [
    "# Return a sorted Pandas DataFrame based on market cap\r\n",
    "# The columns will originally be the ticker, use \".T\" to transpose the table\r\n",
    "# Use .sort_values to sort by column [0] in decending order\r\n",
    "market_cap_df = pd.DataFrame(\r\n",
    "    market_cap_dict, \r\n",
    "    index=[0],\r\n",
    ").T.sort_values(\r\n",
    "    by=[0], \r\n",
    "    ascending=False,\r\n",
    ")\r\n",
    "\r\n",
    "# Rename the column and index to be merged\r\n",
    "market_cap_df.columns = ['Market_Cap']\r\n",
    "market_cap_df.index.names = ['Symbol']\r\n",
    "display(market_cap_df.head())"
   ],
   "outputs": [],
   "metadata": {}
  },
  {
   "cell_type": "code",
   "execution_count": null,
   "source": [
    "# merge sp500_df_wo_index and market_cap_df to create 1 complete data frame \r\n",
    "# to be sliced for analysis\r\n",
    "stock_industry_marketcap = pd.merge(\r\n",
    "    sp500_df_wo_index, \r\n",
    "    market_cap_df, \r\n",
    "    left_index=True, \r\n",
    "    right_index=True\r\n",
    ")\r\n",
    "\r\n",
    "stock_industry_marketcap.head()"
   ],
   "outputs": [],
   "metadata": {}
  },
  {
   "cell_type": "code",
   "execution_count": null,
   "source": [
    "stock_industry_marketcap.sort_values(by=['GICS Sector', 'Market_Cap'], ascending=False)"
   ],
   "outputs": [],
   "metadata": {}
  },
  {
   "cell_type": "code",
   "execution_count": null,
   "source": [
    "stock_industry_marketcap.head()"
   ],
   "outputs": [],
   "metadata": {}
  },
  {
   "cell_type": "code",
   "execution_count": null,
   "source": [
    "# save new dataframe to csv to be used in other code\r\n",
    "stock_industry_marketcap.to_csv(\"stock_industry_marketcap.csv\")"
   ],
   "outputs": [],
   "metadata": {}
  },
  {
   "cell_type": "code",
   "execution_count": null,
   "source": [],
   "outputs": [],
   "metadata": {}
  }
 ],
 "metadata": {
  "interpreter": {
   "hash": "495ccf4d1983483e4ef5ecb604ad059e9e63ef3705f6ce6119008c8aa5b25d48"
  },
  "kernelspec": {
   "name": "python3",
   "display_name": "Python 3.7.10 64-bit ('dev': conda)"
  },
  "language_info": {
   "codemirror_mode": {
    "name": "ipython",
    "version": 3
   },
   "file_extension": ".py",
   "mimetype": "text/x-python",
   "name": "python",
   "nbconvert_exporter": "python",
   "pygments_lexer": "ipython3",
   "version": "3.7.9"
  }
 },
 "nbformat": 4,
 "nbformat_minor": 4
}