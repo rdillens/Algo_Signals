{
 "cells": [
  {
   "cell_type": "code",
   "execution_count": 6,
   "source": [
    "import finnhub\r\n",
    "import pandas as pd\r\n",
    "import os\r\n",
    "from dotenv import load_dotenv\r\n",
    "import json\r\n"
   ],
   "outputs": [],
   "metadata": {}
  },
  {
   "cell_type": "code",
   "execution_count": 9,
   "source": [
    "load_dotenv()\r\n",
    "finnhub_api_key = os.getenv(\"FINNHUB_API_KEY\")\r\n",
    "if type(finnhub_api_key) == str:\r\n",
    "    print('API OK')\r\n",
    "else:\r\n",
    "    print('API NOT OK', type(finnhub_api_key))\r\n",
    "    print('Check your .env file for the FINNHUB_API_KEY value.')\r\n",
    "    print('Sign-up and get an API key at https://finnhub.io/')\r\n",
    "\r\n",
    "# Setup client\r\n",
    "finnhub_client = finnhub.Client(api_key=finnhub_api_key)\r\n"
   ],
   "outputs": [
    {
     "output_type": "stream",
     "name": "stderr",
     "text": [
      "Python-dotenv could not parse statement starting at line 2\n"
     ]
    },
    {
     "output_type": "stream",
     "name": "stdout",
     "text": [
      "API OK\n"
     ]
    }
   ],
   "metadata": {}
  },
  {
   "cell_type": "code",
   "execution_count": 10,
   "source": [
    "# # Crypto Exchange\r\n",
    "print(finnhub_client.crypto_exchanges())\r\n",
    "crypto_exchange_list = finnhub_client.crypto_exchanges()"
   ],
   "outputs": [
    {
     "output_type": "stream",
     "name": "stdout",
     "text": [
      "['BITTREX', 'BITFINEX', 'BITMEX', 'HUOBI', 'OKEX', 'COINBASE', 'FXPIG', 'POLONIEX', 'BINANCE', 'GEMINI', 'KUCOIN', 'ZB', 'HITBTC', 'KRAKEN']\n"
     ]
    }
   ],
   "metadata": {}
  },
  {
   "cell_type": "code",
   "execution_count": null,
   "source": [],
   "outputs": [],
   "metadata": {}
  }
 ],
 "metadata": {
  "orig_nbformat": 4,
  "language_info": {
   "name": "python",
   "version": "3.7.10",
   "mimetype": "text/x-python",
   "codemirror_mode": {
    "name": "ipython",
    "version": 3
   },
   "pygments_lexer": "ipython3",
   "nbconvert_exporter": "python",
   "file_extension": ".py"
  },
  "kernelspec": {
   "name": "python3",
   "display_name": "Python 3.7.10 64-bit ('dev': conda)"
  },
  "interpreter": {
   "hash": "0bc772866a3affdc5803be489598f529b0192fa171585f2d09392617c9a5b224"
  }
 },
 "nbformat": 4,
 "nbformat_minor": 2
}