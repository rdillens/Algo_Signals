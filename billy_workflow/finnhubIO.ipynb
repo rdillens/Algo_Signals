{
 "cells": [
  {
   "cell_type": "code",
   "execution_count": 53,
   "source": [
    "import finnhub\r\n",
    "import pandas as pd\r\n",
    "import os\r\n",
    "from dotenv import load_dotenv\r\n",
    "import json\r\n",
    "import datetime\r\n"
   ],
   "outputs": [],
   "metadata": {}
  },
  {
   "cell_type": "code",
   "execution_count": 54,
   "source": [
    "load_dotenv()\r\n",
    "finnhub_api_key = os.getenv(\"FINNHUB_API_KEY\")\r\n",
    "if type(finnhub_api_key) == str:\r\n",
    "    print('API OK')\r\n",
    "else:\r\n",
    "    print('API NOT OK', type(finnhub_api_key))\r\n",
    "    print('Check your .env file for the FINNHUB_API_KEY value.')\r\n",
    "    print('Sign-up and get an API key at https://finnhub.io/')\r\n",
    "\r\n",
    "# Setup client\r\n",
    "finnhub_client = finnhub.Client(api_key=finnhub_api_key)\r\n"
   ],
   "outputs": [
    {
     "output_type": "stream",
     "name": "stderr",
     "text": [
      "Python-dotenv could not parse statement starting at line 2\n"
     ]
    },
    {
     "output_type": "stream",
     "name": "stdout",
     "text": [
      "API OK\n"
     ]
    }
   ],
   "metadata": {}
  },
  {
   "cell_type": "code",
   "execution_count": 55,
   "source": [
    "# Print stock symbols into dataframe\r\n",
    "res = pd.DataFrame(\r\n",
    "    finnhub_client.stock_symbols('US'),\r\n",
    ")\r\n",
    "\r\n",
    "res = res[\"symbol\"]\r\n",
    "res"
   ],
   "outputs": [
    {
     "output_type": "execute_result",
     "data": {
      "text/plain": [
       "0        NPNGY\n",
       "1         GSTC\n",
       "2         JERT\n",
       "3        THDDY\n",
       "4         ZLAB\n",
       "         ...  \n",
       "27834    XTRSF\n",
       "27835    ERCLY\n",
       "27836     SCYX\n",
       "27837    JCICW\n",
       "27838    ASCBQ\n",
       "Name: symbol, Length: 27839, dtype: object"
      ]
     },
     "metadata": {},
     "execution_count": 55
    }
   ],
   "metadata": {}
  },
  {
   "cell_type": "code",
   "execution_count": 56,
   "source": [
    "def us_stock_symbols_df(finnhub_api_key):\r\n",
    "    finnhub_client = finnhub.Client(api_key=finnhub_api_key)\r\n",
    "    load_dotenv()\r\n",
    "    finnhub_api_key = os.getenv(\"FINNHUB_API_KEY\")\r\n",
    "    res = pd.DataFrame(\r\n",
    "    finnhub_client.stock_symbols('US'),\r\n",
    "    )\r\n",
    "    res = res[\"symbol\"]\r\n",
    "    return res\r\n",
    "\r\n",
    "if __name__ == \"__main__\":\r\n",
    "    print(res)"
   ],
   "outputs": [
    {
     "output_type": "stream",
     "name": "stdout",
     "text": [
      "0        NPNGY\n",
      "1         GSTC\n",
      "2         JERT\n",
      "3        THDDY\n",
      "4         ZLAB\n",
      "         ...  \n",
      "27834    XTRSF\n",
      "27835    ERCLY\n",
      "27836     SCYX\n",
      "27837    JCICW\n",
      "27838    ASCBQ\n",
      "Name: symbol, Length: 27839, dtype: object\n"
     ]
    }
   ],
   "metadata": {}
  },
  {
   "cell_type": "code",
   "execution_count": 162,
   "source": [
    "# import time to utix time\r\n",
    "import time\r\n",
    "\r\n",
    "# Calculating the 10 days of minutes in UTIX time as required by Finnhub API\r\n",
    "# 10 days = 864,000 seconds\r\n",
    "beg_period = int(time.time()) - 864000\r\n",
    "end_period = int(time.time())\r\n",
    "res = pd.DataFrame(finnhub_client.stock_candles('MSFT', '1', beg_period, end_period))\r\n",
    "res"
   ],
   "outputs": [
    {
     "output_type": "execute_result",
     "data": {
      "text/html": [
       "<div>\n",
       "<style scoped>\n",
       "    .dataframe tbody tr th:only-of-type {\n",
       "        vertical-align: middle;\n",
       "    }\n",
       "\n",
       "    .dataframe tbody tr th {\n",
       "        vertical-align: top;\n",
       "    }\n",
       "\n",
       "    .dataframe thead th {\n",
       "        text-align: right;\n",
       "    }\n",
       "</style>\n",
       "<table border=\"1\" class=\"dataframe\">\n",
       "  <thead>\n",
       "    <tr style=\"text-align: right;\">\n",
       "      <th></th>\n",
       "      <th>c</th>\n",
       "      <th>h</th>\n",
       "      <th>l</th>\n",
       "      <th>o</th>\n",
       "      <th>s</th>\n",
       "      <th>t</th>\n",
       "      <th>v</th>\n",
       "    </tr>\n",
       "  </thead>\n",
       "  <tbody>\n",
       "    <tr>\n",
       "      <th>0</th>\n",
       "      <td>296.95</td>\n",
       "      <td>297.96</td>\n",
       "      <td>296.88</td>\n",
       "      <td>297.96</td>\n",
       "      <td>ok</td>\n",
       "      <td>1632124800</td>\n",
       "      <td>1951</td>\n",
       "    </tr>\n",
       "    <tr>\n",
       "      <th>1</th>\n",
       "      <td>296.50</td>\n",
       "      <td>296.56</td>\n",
       "      <td>296.50</td>\n",
       "      <td>296.56</td>\n",
       "      <td>ok</td>\n",
       "      <td>1632124860</td>\n",
       "      <td>616</td>\n",
       "    </tr>\n",
       "    <tr>\n",
       "      <th>2</th>\n",
       "      <td>296.45</td>\n",
       "      <td>296.45</td>\n",
       "      <td>296.45</td>\n",
       "      <td>296.45</td>\n",
       "      <td>ok</td>\n",
       "      <td>1632124920</td>\n",
       "      <td>1197</td>\n",
       "    </tr>\n",
       "    <tr>\n",
       "      <th>3</th>\n",
       "      <td>296.30</td>\n",
       "      <td>296.30</td>\n",
       "      <td>296.30</td>\n",
       "      <td>296.30</td>\n",
       "      <td>ok</td>\n",
       "      <td>1632124980</td>\n",
       "      <td>1135</td>\n",
       "    </tr>\n",
       "    <tr>\n",
       "      <th>4</th>\n",
       "      <td>296.41</td>\n",
       "      <td>296.41</td>\n",
       "      <td>296.13</td>\n",
       "      <td>296.13</td>\n",
       "      <td>ok</td>\n",
       "      <td>1632125040</td>\n",
       "      <td>1254</td>\n",
       "    </tr>\n",
       "    <tr>\n",
       "      <th>...</th>\n",
       "      <td>...</td>\n",
       "      <td>...</td>\n",
       "      <td>...</td>\n",
       "      <td>...</td>\n",
       "      <td>...</td>\n",
       "      <td>...</td>\n",
       "      <td>...</td>\n",
       "    </tr>\n",
       "    <tr>\n",
       "      <th>4127</th>\n",
       "      <td>284.22</td>\n",
       "      <td>284.24</td>\n",
       "      <td>283.99</td>\n",
       "      <td>283.99</td>\n",
       "      <td>ok</td>\n",
       "      <td>1632873300</td>\n",
       "      <td>1687</td>\n",
       "    </tr>\n",
       "    <tr>\n",
       "      <th>4128</th>\n",
       "      <td>284.25</td>\n",
       "      <td>284.25</td>\n",
       "      <td>284.22</td>\n",
       "      <td>284.22</td>\n",
       "      <td>ok</td>\n",
       "      <td>1632873360</td>\n",
       "      <td>751</td>\n",
       "    </tr>\n",
       "    <tr>\n",
       "      <th>4129</th>\n",
       "      <td>284.00</td>\n",
       "      <td>284.00</td>\n",
       "      <td>284.00</td>\n",
       "      <td>284.00</td>\n",
       "      <td>ok</td>\n",
       "      <td>1632873420</td>\n",
       "      <td>648</td>\n",
       "    </tr>\n",
       "    <tr>\n",
       "      <th>4130</th>\n",
       "      <td>284.05</td>\n",
       "      <td>284.14</td>\n",
       "      <td>284.05</td>\n",
       "      <td>284.14</td>\n",
       "      <td>ok</td>\n",
       "      <td>1632873480</td>\n",
       "      <td>2053</td>\n",
       "    </tr>\n",
       "    <tr>\n",
       "      <th>4131</th>\n",
       "      <td>284.05</td>\n",
       "      <td>284.55</td>\n",
       "      <td>284.05</td>\n",
       "      <td>284.25</td>\n",
       "      <td>ok</td>\n",
       "      <td>1632873540</td>\n",
       "      <td>2871</td>\n",
       "    </tr>\n",
       "  </tbody>\n",
       "</table>\n",
       "<p>4132 rows × 7 columns</p>\n",
       "</div>"
      ],
      "text/plain": [
       "           c       h       l       o   s           t     v\n",
       "0     296.95  297.96  296.88  297.96  ok  1632124800  1951\n",
       "1     296.50  296.56  296.50  296.56  ok  1632124860   616\n",
       "2     296.45  296.45  296.45  296.45  ok  1632124920  1197\n",
       "3     296.30  296.30  296.30  296.30  ok  1632124980  1135\n",
       "4     296.41  296.41  296.13  296.13  ok  1632125040  1254\n",
       "...      ...     ...     ...     ...  ..         ...   ...\n",
       "4127  284.22  284.24  283.99  283.99  ok  1632873300  1687\n",
       "4128  284.25  284.25  284.22  284.22  ok  1632873360   751\n",
       "4129  284.00  284.00  284.00  284.00  ok  1632873420   648\n",
       "4130  284.05  284.14  284.05  284.14  ok  1632873480  2053\n",
       "4131  284.05  284.55  284.05  284.25  ok  1632873540  2871\n",
       "\n",
       "[4132 rows x 7 columns]"
      ]
     },
     "metadata": {},
     "execution_count": 162
    }
   ],
   "metadata": {}
  },
  {
   "cell_type": "code",
   "execution_count": 166,
   "source": [
    "current_time = int(round(datetime.datetime.now().timestamp(),0))\r\n",
    "print(current_time)\r\n",
    "max_offset = 86400 * 10 * 365\r\n",
    "# dt_end = 1591852249\r\n",
    "dt_end = current_time\r\n",
    "dt_start = dt_end - max_offset\r\n",
    "candles = fh.get_stock_candles(\r\n",
    "    ticker, \r\n",
    "    dt_start=dt_start, \r\n",
    "    dt_end=dt_end, \r\n",
    "    resolution='D'\r\n",
    "    )\r\n",
    "candle_df = pd.DataFrame(candles)\r\n",
    "print(candle_df)"
   ],
   "outputs": [
    {
     "output_type": "error",
     "ename": "AttributeError",
     "evalue": "type object 'datetime.datetime' has no attribute 'datetime'",
     "traceback": [
      "\u001b[1;31m---------------------------------------------------------------------------\u001b[0m",
      "\u001b[1;31mAttributeError\u001b[0m                            Traceback (most recent call last)",
      "\u001b[1;32m<ipython-input-166-eb73b3c98e28>\u001b[0m in \u001b[0;36m<module>\u001b[1;34m\u001b[0m\n\u001b[1;32m----> 1\u001b[1;33m \u001b[0mcurrent_time\u001b[0m \u001b[1;33m=\u001b[0m \u001b[0mint\u001b[0m\u001b[1;33m(\u001b[0m\u001b[0mround\u001b[0m\u001b[1;33m(\u001b[0m\u001b[0mdatetime\u001b[0m\u001b[1;33m.\u001b[0m\u001b[0mdatetime\u001b[0m\u001b[1;33m.\u001b[0m\u001b[0mnow\u001b[0m\u001b[1;33m(\u001b[0m\u001b[1;33m)\u001b[0m\u001b[1;33m.\u001b[0m\u001b[0mtimestamp\u001b[0m\u001b[1;33m(\u001b[0m\u001b[1;33m)\u001b[0m\u001b[1;33m,\u001b[0m\u001b[1;36m0\u001b[0m\u001b[1;33m)\u001b[0m\u001b[1;33m)\u001b[0m\u001b[1;33m\u001b[0m\u001b[1;33m\u001b[0m\u001b[0m\n\u001b[0m\u001b[0;32m      2\u001b[0m \u001b[0mprint\u001b[0m\u001b[1;33m(\u001b[0m\u001b[0mcurrent_time\u001b[0m\u001b[1;33m)\u001b[0m\u001b[1;33m\u001b[0m\u001b[1;33m\u001b[0m\u001b[0m\n\u001b[0;32m      3\u001b[0m \u001b[0mmax_offset\u001b[0m \u001b[1;33m=\u001b[0m \u001b[1;36m86400\u001b[0m \u001b[1;33m*\u001b[0m \u001b[1;36m10\u001b[0m \u001b[1;33m*\u001b[0m \u001b[1;36m365\u001b[0m\u001b[1;33m\u001b[0m\u001b[1;33m\u001b[0m\u001b[0m\n\u001b[0;32m      4\u001b[0m \u001b[1;31m# dt_end = 1591852249\u001b[0m\u001b[1;33m\u001b[0m\u001b[1;33m\u001b[0m\u001b[1;33m\u001b[0m\u001b[0m\n\u001b[0;32m      5\u001b[0m \u001b[0mdt_end\u001b[0m \u001b[1;33m=\u001b[0m \u001b[0mcurrent_time\u001b[0m\u001b[1;33m\u001b[0m\u001b[1;33m\u001b[0m\u001b[0m\n",
      "\u001b[1;31mAttributeError\u001b[0m: type object 'datetime.datetime' has no attribute 'datetime'"
     ]
    }
   ],
   "metadata": {}
  },
  {
   "cell_type": "code",
   "execution_count": null,
   "source": [],
   "outputs": [],
   "metadata": {}
  }
 ],
 "metadata": {
  "orig_nbformat": 4,
  "language_info": {
   "name": "python",
   "version": "3.7.10",
   "mimetype": "text/x-python",
   "codemirror_mode": {
    "name": "ipython",
    "version": 3
   },
   "pygments_lexer": "ipython3",
   "nbconvert_exporter": "python",
   "file_extension": ".py"
  },
  "kernelspec": {
   "name": "python3",
   "display_name": "Python 3.7.10 64-bit ('dev': conda)"
  },
  "interpreter": {
   "hash": "0bc772866a3affdc5803be489598f529b0192fa171585f2d09392617c9a5b224"
  }
 },
 "nbformat": 4,
 "nbformat_minor": 2
}