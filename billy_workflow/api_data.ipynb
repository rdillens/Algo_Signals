{
 "cells": [
  {
   "cell_type": "code",
   "execution_count": 11,
   "source": [
    "import pandas as pd\r\n",
    "import requests\r\n",
    "import json\r\n",
    "import os\r\n",
    "from dotenv import load_dotenv\r\n",
    "from polygon import RESTClient\r\n",
    "import datetime"
   ],
   "outputs": [],
   "metadata": {}
  },
  {
   "cell_type": "code",
   "execution_count": 12,
   "source": [
    "load_dotenv()\r\n",
    "POLYGON_IO_API_KEY = 'Vhm0c0qAqUWsfilMC5pSpFZZU604nd1H'\r\n",
    "polygon_api_key = os.getenv(POLYGON_IO_API_KEY)"
   ],
   "outputs": [],
   "metadata": {}
  },
  {
   "cell_type": "code",
   "execution_count": 13,
   "source": [
    "polygon = RESTClient(\r\n",
    "    polygon_api_key\r\n",
    ")"
   ],
   "outputs": [],
   "metadata": {}
  },
  {
   "cell_type": "code",
   "execution_count": 19,
   "source": [
    "start_date = pd.Timestamp(\"2016-10-01\")\r\n",
    "end_date = pd.Timestamp.today()\r\n",
    "display(start_date, end_date)"
   ],
   "outputs": [
    {
     "output_type": "display_data",
     "data": {
      "text/plain": [
       "Timestamp('2016-10-01 00:00:00')"
      ]
     },
     "metadata": {}
    },
    {
     "output_type": "display_data",
     "data": {
      "text/plain": [
       "Timestamp('2021-09-26 17:48:23.960714')"
      ]
     },
     "metadata": {}
    }
   ],
   "metadata": {}
  },
  {
   "cell_type": "code",
   "execution_count": 6,
   "source": [
    "POLYGON_IO_API_KEY = 'Vhm0c0qAqUWsfilMC5pSpFZZU604nd1H'\r\n",
    "request_url = 'https://api.polygon.io/v2/aggs/ticker/AAPL/range/1/day/2020-10-14/2020-10-14?adjusted=true&sort=asc&limit=120&apiKey='\r\n",
    "polygon_request_url = request_url + POLYGON_IO_API_KEY\r\n",
    "response = requests.get(polygon_request_url).json()\r\n",
    "print(json.dumps(response, indent=4, sort_keys=True))"
   ],
   "outputs": [
    {
     "output_type": "stream",
     "name": "stdout",
     "text": [
      "{\n",
      "    \"adjusted\": true,\n",
      "    \"count\": 13,\n",
      "    \"queryCount\": 13,\n",
      "    \"request_id\": \"dc639a38530d685abe395c95503572f6\",\n",
      "    \"results\": [\n",
      "        {\n",
      "            \"c\": 80.4625,\n",
      "            \"h\": 80.5875,\n",
      "            \"l\": 79.3025,\n",
      "            \"n\": 231707,\n",
      "            \"o\": 79.4375,\n",
      "            \"t\": 1590984000000,\n",
      "            \"v\": 81000752.0,\n",
      "            \"vw\": 80.2125\n",
      "        },\n",
      "        {\n",
      "            \"c\": 80.835,\n",
      "            \"h\": 80.86,\n",
      "            \"l\": 79.7325,\n",
      "            \"n\": 226248,\n",
      "            \"o\": 80.1863,\n",
      "            \"t\": 1591070400000,\n",
      "            \"v\": 87642632.0,\n",
      "            \"vw\": 80.3801\n",
      "        },\n",
      "        {\n",
      "            \"c\": 81.28,\n",
      "            \"h\": 81.55,\n",
      "            \"l\": 80.575,\n",
      "            \"n\": 258867,\n",
      "            \"o\": 81.165,\n",
      "            \"t\": 1591156800000,\n",
      "            \"v\": 104490584.0,\n",
      "            \"vw\": 81.084\n",
      "        },\n",
      "        {\n",
      "            \"c\": 80.58,\n",
      "            \"h\": 81.405,\n",
      "            \"l\": 80.195,\n",
      "            \"n\": 237171,\n",
      "            \"o\": 81.0975,\n",
      "            \"t\": 1591243200000,\n",
      "            \"v\": 87560364.0,\n",
      "            \"vw\": 80.8328\n",
      "        },\n",
      "        {\n",
      "            \"c\": 82.875,\n",
      "            \"h\": 82.9375,\n",
      "            \"l\": 80.8075,\n",
      "            \"n\": 351615,\n",
      "            \"o\": 80.8375,\n",
      "            \"t\": 1591329600000,\n",
      "            \"v\": 137248048.0,\n",
      "            \"vw\": 82.2786\n",
      "        },\n",
      "        {\n",
      "            \"c\": 83.365,\n",
      "            \"h\": 83.4,\n",
      "            \"l\": 81.83,\n",
      "            \"n\": 261203,\n",
      "            \"o\": 82.5625,\n",
      "            \"t\": 1591588800000,\n",
      "            \"v\": 95650900.0,\n",
      "            \"vw\": 82.7662\n",
      "        },\n",
      "        {\n",
      "            \"c\": 85.9975,\n",
      "            \"h\": 86.4025,\n",
      "            \"l\": 83.0025,\n",
      "            \"n\": 402768,\n",
      "            \"o\": 83.035,\n",
      "            \"t\": 1591675200000,\n",
      "            \"v\": 147712228.0,\n",
      "            \"vw\": 85.3634\n",
      "        },\n",
      "        {\n",
      "            \"c\": 88.21,\n",
      "            \"h\": 88.6925,\n",
      "            \"l\": 86.5225,\n",
      "            \"n\": 449782,\n",
      "            \"o\": 86.975,\n",
      "            \"t\": 1591761600000,\n",
      "            \"v\": 166646980.0,\n",
      "            \"vw\": 87.8736\n",
      "        },\n",
      "        {\n",
      "            \"c\": 83.975,\n",
      "            \"h\": 87.765,\n",
      "            \"l\": 83.87,\n",
      "            \"n\": 577299,\n",
      "            \"o\": 87.3275,\n",
      "            \"t\": 1591848000000,\n",
      "            \"v\": 201659684.0,\n",
      "            \"vw\": 85.7741\n",
      "        },\n",
      "        {\n",
      "            \"c\": 84.7,\n",
      "            \"h\": 86.95,\n",
      "            \"l\": 83.5558,\n",
      "            \"n\": 514308,\n",
      "            \"o\": 86.18,\n",
      "            \"t\": 1591934400000,\n",
      "            \"v\": 200145124.0,\n",
      "            \"vw\": 85.0132\n",
      "        },\n",
      "        {\n",
      "            \"c\": 85.7475,\n",
      "            \"h\": 86.42,\n",
      "            \"l\": 83.145,\n",
      "            \"n\": 368615,\n",
      "            \"o\": 83.3125,\n",
      "            \"t\": 1592193600000,\n",
      "            \"v\": 138808720.0,\n",
      "            \"vw\": 84.8782\n",
      "        },\n",
      "        {\n",
      "            \"c\": 88.02,\n",
      "            \"h\": 88.3,\n",
      "            \"l\": 86.18,\n",
      "            \"n\": 446656,\n",
      "            \"o\": 87.865,\n",
      "            \"t\": 1592280000000,\n",
      "            \"v\": 165428728.0,\n",
      "            \"vw\": 87.7181\n",
      "        },\n",
      "        {\n",
      "            \"c\": 87.8975,\n",
      "            \"h\": 88.85,\n",
      "            \"l\": 87.7725,\n",
      "            \"n\": 321829,\n",
      "            \"o\": 88.7875,\n",
      "            \"t\": 1592366400000,\n",
      "            \"v\": 114388504.0,\n",
      "            \"vw\": 88.4283\n",
      "        }\n",
      "    ],\n",
      "    \"resultsCount\": 13,\n",
      "    \"status\": \"OK\",\n",
      "    \"ticker\": \"AAPL\"\n",
      "}\n"
     ]
    }
   ],
   "metadata": {}
  },
  {
   "cell_type": "code",
   "execution_count": null,
   "source": [],
   "outputs": [],
   "metadata": {}
  }
 ],
 "metadata": {
  "orig_nbformat": 4,
  "language_info": {
   "name": "python",
   "version": "3.7.10",
   "mimetype": "text/x-python",
   "codemirror_mode": {
    "name": "ipython",
    "version": 3
   },
   "pygments_lexer": "ipython3",
   "nbconvert_exporter": "python",
   "file_extension": ".py"
  },
  "kernelspec": {
   "name": "python3",
   "display_name": "Python 3.7.10 64-bit ('dev': conda)"
  },
  "interpreter": {
   "hash": "0bc772866a3affdc5803be489598f529b0192fa171585f2d09392617c9a5b224"
  }
 },
 "nbformat": 4,
 "nbformat_minor": 2
}