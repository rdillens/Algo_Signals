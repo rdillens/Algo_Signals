{
 "cells": [
  {
   "cell_type": "code",
   "execution_count": 93,
   "source": [
    "import pandas as pd\r\n",
    "from pathlib import Path\r\n",
    "import tensorflow as tf\r\n",
    "from tensorflow.keras.layers import Dense\r\n",
    "from tensorflow.keras.models import Sequential\r\n",
    "from sklearn.model_selection import train_test_split\r\n",
    "from sklearn.preprocessing import StandardScaler,OneHotEncoder\r\n",
    "import sqlalchemy\r\n",
    "import h5py"
   ],
   "outputs": [],
   "metadata": {}
  },
  {
   "cell_type": "code",
   "execution_count": 94,
   "source": [
    "db_connection_string = 'sqlite:///./Resources/product.db'\r\n",
    "engine  = sqlalchemy.create_engine(db_connection_string)\r\n",
    "\r\n",
    "inspector = sqlalchemy.inspect(engine)\r\n",
    "table_names = inspector.get_table_names()\r\n",
    "print(table_names)"
   ],
   "outputs": [
    {
     "output_type": "stream",
     "name": "stdout",
     "text": [
      "['AAPL_1_Day_Candles', 'AAPL_1_Min_Candles', 'AAPL_Indicators', 'AAPL_Info', 'MSFT_1_Day_Candles', 'MSFT_1_Min_Candles', 'MSFT_Indicators', 'MSFT_Info']\n"
     ]
    }
   ],
   "metadata": {}
  },
  {
   "cell_type": "code",
   "execution_count": 95,
   "source": [
    "ticker = 'MSFT'\r\n",
    "indicators_df = pd.read_sql_table(ticker + '_Indicators', con=engine, index_col='Datetime')"
   ],
   "outputs": [],
   "metadata": {}
  },
  {
   "cell_type": "markdown",
   "source": [
    "---\n",
    "\n",
    "## Prepare the data to be used on a neural network model"
   ],
   "metadata": {}
  },
  {
   "cell_type": "code",
   "execution_count": 96,
   "source": [
    "print(indicators_df.head())"
   ],
   "outputs": [
    {
     "output_type": "stream",
     "name": "stdout",
     "text": [
      "                       Open    High     Low   Close  Volume  CDL2CROWS  \\\n",
      "Datetime                                                                 \n",
      "2021-09-07 06:42:00  300.71  300.71  300.61  300.61    1352          0   \n",
      "2021-09-07 06:54:00  300.72  300.72  300.70  300.70    1376          0   \n",
      "2021-09-07 06:56:00  300.70  300.70  300.70  300.70     512          0   \n",
      "2021-09-07 06:58:00  300.70  300.70  300.70  300.70    1195          0   \n",
      "2021-09-07 06:59:00  300.65  300.65  300.65  300.65     460          0   \n",
      "\n",
      "                     CDL3BLACKCROWS  CDL3INSIDE  CDL3LINESTRIKE  CDL3OUTSIDE  \\\n",
      "Datetime                                                                       \n",
      "2021-09-07 06:42:00               0           0               0            0   \n",
      "2021-09-07 06:54:00               0           0               0            0   \n",
      "2021-09-07 06:56:00               0           0               0            0   \n",
      "2021-09-07 06:58:00               0           0               0            0   \n",
      "2021-09-07 06:59:00               0           0               0            0   \n",
      "\n",
      "                     CDL3STARSINSOUTH  Trade Signal  Upper Band  Middle Band  \\\n",
      "Datetime                                                                       \n",
      "2021-09-07 06:42:00                 0           0.0  300.899851      300.632   \n",
      "2021-09-07 06:54:00                 0           0.0  300.840200      300.690   \n",
      "2021-09-07 06:56:00                 0           0.0  300.763833      300.668   \n",
      "2021-09-07 06:58:00                 0           0.0  300.763563      300.686   \n",
      "2021-09-07 06:59:00                 0           0.0  300.745103      300.672   \n",
      "\n",
      "                     Lower Band        DEMA         EMA  HT_TRENDLINE  \\\n",
      "Datetime                                                                \n",
      "2021-09-07 06:42:00  300.364149  300.505521  300.643410    300.608905   \n",
      "2021-09-07 06:54:00  300.539800  300.521484  300.647061    300.611291   \n",
      "2021-09-07 06:56:00  300.572167  300.536196  300.650477    300.614092   \n",
      "2021-09-07 06:58:00  300.608437  300.549753  300.653672    300.617068   \n",
      "2021-09-07 06:59:00  300.598897  300.555999  300.653435    300.619475   \n",
      "\n",
      "                           KAMA  \n",
      "Datetime                         \n",
      "2021-09-07 06:42:00  300.611546  \n",
      "2021-09-07 06:54:00  300.612119  \n",
      "2021-09-07 06:56:00  300.612950  \n",
      "2021-09-07 06:58:00  300.613833  \n",
      "2021-09-07 06:59:00  300.614086  \n"
     ]
    }
   ],
   "metadata": {}
  },
  {
   "cell_type": "code",
   "execution_count": 97,
   "source": [
    "# Review the data types associated with the columns\r\n",
    "indicators_df.dtypes"
   ],
   "outputs": [
    {
     "output_type": "execute_result",
     "data": {
      "text/plain": [
       "Open                float64\n",
       "High                float64\n",
       "Low                 float64\n",
       "Close               float64\n",
       "Volume                int64\n",
       "CDL2CROWS             int64\n",
       "CDL3BLACKCROWS        int64\n",
       "CDL3INSIDE            int64\n",
       "CDL3LINESTRIKE        int64\n",
       "CDL3OUTSIDE           int64\n",
       "CDL3STARSINSOUTH      int64\n",
       "Trade Signal        float64\n",
       "Upper Band          float64\n",
       "Middle Band         float64\n",
       "Lower Band          float64\n",
       "DEMA                float64\n",
       "EMA                 float64\n",
       "HT_TRENDLINE        float64\n",
       "KAMA                float64\n",
       "dtype: object"
      ]
     },
     "metadata": {},
     "execution_count": 97
    }
   ],
   "metadata": {}
  },
  {
   "cell_type": "code",
   "execution_count": 98,
   "source": [
    "display(indicators_df['Trade Signal'].value_counts())"
   ],
   "outputs": [
    {
     "output_type": "display_data",
     "data": {
      "text/plain": [
       " 0.0    10225\n",
       "-1.0      251\n",
       " 1.0      211\n",
       "Name: Trade Signal, dtype: int64"
      ]
     },
     "metadata": {}
    }
   ],
   "metadata": {}
  },
  {
   "cell_type": "markdown",
   "source": [
    "### Step 5: Using the preprocessed data, create the features (`X`) and target (`y`) datasets. The target dataset should be defined by the preprocessed DataFrame column “IS_SUCCESSFUL”. The remaining columns should define the features dataset. \n",
    "\n"
   ],
   "metadata": {}
  },
  {
   "cell_type": "markdown",
   "source": [
    "### Step 3: Encode the dataset’s categorical variables using `OneHotEncoder`, and then place the encoded variables into a new DataFrame."
   ],
   "metadata": {}
  },
  {
   "cell_type": "code",
   "execution_count": 99,
   "source": [
    "# Create a list of categorical variables \r\n",
    "categorical_variables = ['Trade Signal']\r\n",
    "\r\n",
    "# Display the categorical variables list\r\n",
    "display(categorical_variables)"
   ],
   "outputs": [
    {
     "output_type": "display_data",
     "data": {
      "text/plain": [
       "['Trade Signal']"
      ]
     },
     "metadata": {}
    }
   ],
   "metadata": {}
  },
  {
   "cell_type": "code",
   "execution_count": 100,
   "source": [
    "# Create a OneHotEncoder instance\r\n",
    "enc = OneHotEncoder(sparse=False)\r\n"
   ],
   "outputs": [],
   "metadata": {}
  },
  {
   "cell_type": "code",
   "execution_count": 101,
   "source": [
    "# Encode the categorcal variables using OneHotEncoder\r\n",
    "encoded_data = enc.fit_transform(indicators_df[categorical_variables])\r\n"
   ],
   "outputs": [],
   "metadata": {}
  },
  {
   "cell_type": "code",
   "execution_count": 102,
   "source": [
    "# Create a DataFrame with the encoded variables\r\n",
    "encoded_df = pd.DataFrame(\r\n",
    "    encoded_data,\r\n",
    "    columns = enc.get_feature_names(categorical_variables)\r\n",
    ")\r\n",
    "# Review the DataFrame\r\n",
    "display(encoded_df.head(10))"
   ],
   "outputs": [
    {
     "output_type": "display_data",
     "data": {
      "text/html": [
       "<div>\n",
       "<style scoped>\n",
       "    .dataframe tbody tr th:only-of-type {\n",
       "        vertical-align: middle;\n",
       "    }\n",
       "\n",
       "    .dataframe tbody tr th {\n",
       "        vertical-align: top;\n",
       "    }\n",
       "\n",
       "    .dataframe thead th {\n",
       "        text-align: right;\n",
       "    }\n",
       "</style>\n",
       "<table border=\"1\" class=\"dataframe\">\n",
       "  <thead>\n",
       "    <tr style=\"text-align: right;\">\n",
       "      <th></th>\n",
       "      <th>Trade Signal_-1.0</th>\n",
       "      <th>Trade Signal_0.0</th>\n",
       "      <th>Trade Signal_1.0</th>\n",
       "    </tr>\n",
       "  </thead>\n",
       "  <tbody>\n",
       "    <tr>\n",
       "      <th>0</th>\n",
       "      <td>0.0</td>\n",
       "      <td>1.0</td>\n",
       "      <td>0.0</td>\n",
       "    </tr>\n",
       "    <tr>\n",
       "      <th>1</th>\n",
       "      <td>0.0</td>\n",
       "      <td>1.0</td>\n",
       "      <td>0.0</td>\n",
       "    </tr>\n",
       "    <tr>\n",
       "      <th>2</th>\n",
       "      <td>0.0</td>\n",
       "      <td>1.0</td>\n",
       "      <td>0.0</td>\n",
       "    </tr>\n",
       "    <tr>\n",
       "      <th>3</th>\n",
       "      <td>0.0</td>\n",
       "      <td>1.0</td>\n",
       "      <td>0.0</td>\n",
       "    </tr>\n",
       "    <tr>\n",
       "      <th>4</th>\n",
       "      <td>0.0</td>\n",
       "      <td>1.0</td>\n",
       "      <td>0.0</td>\n",
       "    </tr>\n",
       "    <tr>\n",
       "      <th>5</th>\n",
       "      <td>0.0</td>\n",
       "      <td>1.0</td>\n",
       "      <td>0.0</td>\n",
       "    </tr>\n",
       "    <tr>\n",
       "      <th>6</th>\n",
       "      <td>0.0</td>\n",
       "      <td>1.0</td>\n",
       "      <td>0.0</td>\n",
       "    </tr>\n",
       "    <tr>\n",
       "      <th>7</th>\n",
       "      <td>0.0</td>\n",
       "      <td>1.0</td>\n",
       "      <td>0.0</td>\n",
       "    </tr>\n",
       "    <tr>\n",
       "      <th>8</th>\n",
       "      <td>0.0</td>\n",
       "      <td>1.0</td>\n",
       "      <td>0.0</td>\n",
       "    </tr>\n",
       "    <tr>\n",
       "      <th>9</th>\n",
       "      <td>0.0</td>\n",
       "      <td>1.0</td>\n",
       "      <td>0.0</td>\n",
       "    </tr>\n",
       "  </tbody>\n",
       "</table>\n",
       "</div>"
      ],
      "text/plain": [
       "   Trade Signal_-1.0  Trade Signal_0.0  Trade Signal_1.0\n",
       "0                0.0               1.0               0.0\n",
       "1                0.0               1.0               0.0\n",
       "2                0.0               1.0               0.0\n",
       "3                0.0               1.0               0.0\n",
       "4                0.0               1.0               0.0\n",
       "5                0.0               1.0               0.0\n",
       "6                0.0               1.0               0.0\n",
       "7                0.0               1.0               0.0\n",
       "8                0.0               1.0               0.0\n",
       "9                0.0               1.0               0.0"
      ]
     },
     "metadata": {}
    }
   ],
   "metadata": {}
  },
  {
   "cell_type": "code",
   "execution_count": 103,
   "source": [
    "encoded_df.rename(columns={'Trade Signal_-1.0': 'Bearish', 'Trade Signal_0.0': 'None', 'Trade Signal_1.0':'Bullsih'}, inplace=True)\r\n",
    "encoded_df.drop(columns='None', inplace=True)\r\n",
    "print(encoded_df.head())"
   ],
   "outputs": [
    {
     "output_type": "stream",
     "name": "stdout",
     "text": [
      "   Bearish  Bullsih\n",
      "0      0.0      0.0\n",
      "1      0.0      0.0\n",
      "2      0.0      0.0\n",
      "3      0.0      0.0\n",
      "4      0.0      0.0\n"
     ]
    }
   ],
   "metadata": {}
  },
  {
   "cell_type": "markdown",
   "source": [
    "### Step 4: Add the original DataFrame’s numerical variables to the DataFrame containing the encoded variables.\n",
    "\n",
    "> **Note** To complete this step, you will employ the Pandas `concat()` function that was introduced earlier in this course. "
   ],
   "metadata": {}
  },
  {
   "cell_type": "code",
   "execution_count": 104,
   "source": [
    "# Define the target set y using the IS_SUCCESSFUL column\r\n",
    "y = encoded_df.copy()\r\n",
    "\r\n",
    "# Display a sample of y\r\n",
    "display(y.head())"
   ],
   "outputs": [
    {
     "output_type": "display_data",
     "data": {
      "text/html": [
       "<div>\n",
       "<style scoped>\n",
       "    .dataframe tbody tr th:only-of-type {\n",
       "        vertical-align: middle;\n",
       "    }\n",
       "\n",
       "    .dataframe tbody tr th {\n",
       "        vertical-align: top;\n",
       "    }\n",
       "\n",
       "    .dataframe thead th {\n",
       "        text-align: right;\n",
       "    }\n",
       "</style>\n",
       "<table border=\"1\" class=\"dataframe\">\n",
       "  <thead>\n",
       "    <tr style=\"text-align: right;\">\n",
       "      <th></th>\n",
       "      <th>Bearish</th>\n",
       "      <th>Bullsih</th>\n",
       "    </tr>\n",
       "  </thead>\n",
       "  <tbody>\n",
       "    <tr>\n",
       "      <th>0</th>\n",
       "      <td>0.0</td>\n",
       "      <td>0.0</td>\n",
       "    </tr>\n",
       "    <tr>\n",
       "      <th>1</th>\n",
       "      <td>0.0</td>\n",
       "      <td>0.0</td>\n",
       "    </tr>\n",
       "    <tr>\n",
       "      <th>2</th>\n",
       "      <td>0.0</td>\n",
       "      <td>0.0</td>\n",
       "    </tr>\n",
       "    <tr>\n",
       "      <th>3</th>\n",
       "      <td>0.0</td>\n",
       "      <td>0.0</td>\n",
       "    </tr>\n",
       "    <tr>\n",
       "      <th>4</th>\n",
       "      <td>0.0</td>\n",
       "      <td>0.0</td>\n",
       "    </tr>\n",
       "  </tbody>\n",
       "</table>\n",
       "</div>"
      ],
      "text/plain": [
       "   Bearish  Bullsih\n",
       "0      0.0      0.0\n",
       "1      0.0      0.0\n",
       "2      0.0      0.0\n",
       "3      0.0      0.0\n",
       "4      0.0      0.0"
      ]
     },
     "metadata": {}
    }
   ],
   "metadata": {}
  },
  {
   "cell_type": "code",
   "execution_count": 105,
   "source": [
    "# Define features set X by selecting all columns but IS_SUCCESSFUL\r\n",
    "X = indicators_df.drop(columns=['Trade Signal'])\r\n",
    "\r\n",
    "# Review the features DataFrame\r\n",
    "display(X.head())"
   ],
   "outputs": [
    {
     "output_type": "display_data",
     "data": {
      "text/html": [
       "<div>\n",
       "<style scoped>\n",
       "    .dataframe tbody tr th:only-of-type {\n",
       "        vertical-align: middle;\n",
       "    }\n",
       "\n",
       "    .dataframe tbody tr th {\n",
       "        vertical-align: top;\n",
       "    }\n",
       "\n",
       "    .dataframe thead th {\n",
       "        text-align: right;\n",
       "    }\n",
       "</style>\n",
       "<table border=\"1\" class=\"dataframe\">\n",
       "  <thead>\n",
       "    <tr style=\"text-align: right;\">\n",
       "      <th></th>\n",
       "      <th>Open</th>\n",
       "      <th>High</th>\n",
       "      <th>Low</th>\n",
       "      <th>Close</th>\n",
       "      <th>Volume</th>\n",
       "      <th>CDL2CROWS</th>\n",
       "      <th>CDL3BLACKCROWS</th>\n",
       "      <th>CDL3INSIDE</th>\n",
       "      <th>CDL3LINESTRIKE</th>\n",
       "      <th>CDL3OUTSIDE</th>\n",
       "      <th>CDL3STARSINSOUTH</th>\n",
       "      <th>Upper Band</th>\n",
       "      <th>Middle Band</th>\n",
       "      <th>Lower Band</th>\n",
       "      <th>DEMA</th>\n",
       "      <th>EMA</th>\n",
       "      <th>HT_TRENDLINE</th>\n",
       "      <th>KAMA</th>\n",
       "    </tr>\n",
       "    <tr>\n",
       "      <th>Datetime</th>\n",
       "      <th></th>\n",
       "      <th></th>\n",
       "      <th></th>\n",
       "      <th></th>\n",
       "      <th></th>\n",
       "      <th></th>\n",
       "      <th></th>\n",
       "      <th></th>\n",
       "      <th></th>\n",
       "      <th></th>\n",
       "      <th></th>\n",
       "      <th></th>\n",
       "      <th></th>\n",
       "      <th></th>\n",
       "      <th></th>\n",
       "      <th></th>\n",
       "      <th></th>\n",
       "      <th></th>\n",
       "    </tr>\n",
       "  </thead>\n",
       "  <tbody>\n",
       "    <tr>\n",
       "      <th>2021-09-07 06:42:00</th>\n",
       "      <td>300.71</td>\n",
       "      <td>300.71</td>\n",
       "      <td>300.61</td>\n",
       "      <td>300.61</td>\n",
       "      <td>1352</td>\n",
       "      <td>0</td>\n",
       "      <td>0</td>\n",
       "      <td>0</td>\n",
       "      <td>0</td>\n",
       "      <td>0</td>\n",
       "      <td>0</td>\n",
       "      <td>300.899851</td>\n",
       "      <td>300.632</td>\n",
       "      <td>300.364149</td>\n",
       "      <td>300.505521</td>\n",
       "      <td>300.643410</td>\n",
       "      <td>300.608905</td>\n",
       "      <td>300.611546</td>\n",
       "    </tr>\n",
       "    <tr>\n",
       "      <th>2021-09-07 06:54:00</th>\n",
       "      <td>300.72</td>\n",
       "      <td>300.72</td>\n",
       "      <td>300.70</td>\n",
       "      <td>300.70</td>\n",
       "      <td>1376</td>\n",
       "      <td>0</td>\n",
       "      <td>0</td>\n",
       "      <td>0</td>\n",
       "      <td>0</td>\n",
       "      <td>0</td>\n",
       "      <td>0</td>\n",
       "      <td>300.840200</td>\n",
       "      <td>300.690</td>\n",
       "      <td>300.539800</td>\n",
       "      <td>300.521484</td>\n",
       "      <td>300.647061</td>\n",
       "      <td>300.611291</td>\n",
       "      <td>300.612119</td>\n",
       "    </tr>\n",
       "    <tr>\n",
       "      <th>2021-09-07 06:56:00</th>\n",
       "      <td>300.70</td>\n",
       "      <td>300.70</td>\n",
       "      <td>300.70</td>\n",
       "      <td>300.70</td>\n",
       "      <td>512</td>\n",
       "      <td>0</td>\n",
       "      <td>0</td>\n",
       "      <td>0</td>\n",
       "      <td>0</td>\n",
       "      <td>0</td>\n",
       "      <td>0</td>\n",
       "      <td>300.763833</td>\n",
       "      <td>300.668</td>\n",
       "      <td>300.572167</td>\n",
       "      <td>300.536196</td>\n",
       "      <td>300.650477</td>\n",
       "      <td>300.614092</td>\n",
       "      <td>300.612950</td>\n",
       "    </tr>\n",
       "    <tr>\n",
       "      <th>2021-09-07 06:58:00</th>\n",
       "      <td>300.70</td>\n",
       "      <td>300.70</td>\n",
       "      <td>300.70</td>\n",
       "      <td>300.70</td>\n",
       "      <td>1195</td>\n",
       "      <td>0</td>\n",
       "      <td>0</td>\n",
       "      <td>0</td>\n",
       "      <td>0</td>\n",
       "      <td>0</td>\n",
       "      <td>0</td>\n",
       "      <td>300.763563</td>\n",
       "      <td>300.686</td>\n",
       "      <td>300.608437</td>\n",
       "      <td>300.549753</td>\n",
       "      <td>300.653672</td>\n",
       "      <td>300.617068</td>\n",
       "      <td>300.613833</td>\n",
       "    </tr>\n",
       "    <tr>\n",
       "      <th>2021-09-07 06:59:00</th>\n",
       "      <td>300.65</td>\n",
       "      <td>300.65</td>\n",
       "      <td>300.65</td>\n",
       "      <td>300.65</td>\n",
       "      <td>460</td>\n",
       "      <td>0</td>\n",
       "      <td>0</td>\n",
       "      <td>0</td>\n",
       "      <td>0</td>\n",
       "      <td>0</td>\n",
       "      <td>0</td>\n",
       "      <td>300.745103</td>\n",
       "      <td>300.672</td>\n",
       "      <td>300.598897</td>\n",
       "      <td>300.555999</td>\n",
       "      <td>300.653435</td>\n",
       "      <td>300.619475</td>\n",
       "      <td>300.614086</td>\n",
       "    </tr>\n",
       "  </tbody>\n",
       "</table>\n",
       "</div>"
      ],
      "text/plain": [
       "                       Open    High     Low   Close  Volume  CDL2CROWS  \\\n",
       "Datetime                                                                 \n",
       "2021-09-07 06:42:00  300.71  300.71  300.61  300.61    1352          0   \n",
       "2021-09-07 06:54:00  300.72  300.72  300.70  300.70    1376          0   \n",
       "2021-09-07 06:56:00  300.70  300.70  300.70  300.70     512          0   \n",
       "2021-09-07 06:58:00  300.70  300.70  300.70  300.70    1195          0   \n",
       "2021-09-07 06:59:00  300.65  300.65  300.65  300.65     460          0   \n",
       "\n",
       "                     CDL3BLACKCROWS  CDL3INSIDE  CDL3LINESTRIKE  CDL3OUTSIDE  \\\n",
       "Datetime                                                                       \n",
       "2021-09-07 06:42:00               0           0               0            0   \n",
       "2021-09-07 06:54:00               0           0               0            0   \n",
       "2021-09-07 06:56:00               0           0               0            0   \n",
       "2021-09-07 06:58:00               0           0               0            0   \n",
       "2021-09-07 06:59:00               0           0               0            0   \n",
       "\n",
       "                     CDL3STARSINSOUTH  Upper Band  Middle Band  Lower Band  \\\n",
       "Datetime                                                                     \n",
       "2021-09-07 06:42:00                 0  300.899851      300.632  300.364149   \n",
       "2021-09-07 06:54:00                 0  300.840200      300.690  300.539800   \n",
       "2021-09-07 06:56:00                 0  300.763833      300.668  300.572167   \n",
       "2021-09-07 06:58:00                 0  300.763563      300.686  300.608437   \n",
       "2021-09-07 06:59:00                 0  300.745103      300.672  300.598897   \n",
       "\n",
       "                           DEMA         EMA  HT_TRENDLINE        KAMA  \n",
       "Datetime                                                               \n",
       "2021-09-07 06:42:00  300.505521  300.643410    300.608905  300.611546  \n",
       "2021-09-07 06:54:00  300.521484  300.647061    300.611291  300.612119  \n",
       "2021-09-07 06:56:00  300.536196  300.650477    300.614092  300.612950  \n",
       "2021-09-07 06:58:00  300.549753  300.653672    300.617068  300.613833  \n",
       "2021-09-07 06:59:00  300.555999  300.653435    300.619475  300.614086  "
      ]
     },
     "metadata": {}
    }
   ],
   "metadata": {}
  },
  {
   "cell_type": "markdown",
   "source": [
    "### Step 6: Split the features and target sets into training and testing datasets.\n"
   ],
   "metadata": {}
  },
  {
   "cell_type": "code",
   "execution_count": 106,
   "source": [
    "# Split the preprocessed data into a training and testing dataset\r\n",
    "# Assign the function a random_state equal to 1\r\n",
    "X_train, X_test, y_train, y_test = train_test_split(X, y, random_state=1)"
   ],
   "outputs": [],
   "metadata": {}
  },
  {
   "cell_type": "markdown",
   "source": [
    "### Step 7: Use scikit-learn's `StandardScaler` to scale the features data."
   ],
   "metadata": {}
  },
  {
   "cell_type": "code",
   "execution_count": 107,
   "source": [
    "# Create a StandardScaler instance\r\n",
    "scaler = StandardScaler()\r\n",
    "\r\n",
    "# Fit the scaler to the features training dataset\r\n",
    "X_scaler = scaler.fit(X_train)\r\n",
    "\r\n",
    "# Fit the scaler to the features training dataset\r\n",
    "X_train_scaled = X_scaler.transform(X_train)\r\n",
    "X_test_scaled = X_scaler.transform(X_test)\r\n"
   ],
   "outputs": [],
   "metadata": {}
  },
  {
   "cell_type": "markdown",
   "source": [
    "---\n",
    "\n",
    "## Compile and Evaluate a Binary Classification Model Using a Neural Network"
   ],
   "metadata": {}
  },
  {
   "cell_type": "markdown",
   "source": [
    "### Step 1: Create a deep neural network by assigning the number of input features, the number of layers, and the number of neurons on each layer using Tensorflow’s Keras.\n",
    "\n",
    "> **Hint** You can start with a two-layer deep neural network model that uses the `relu` activation function for both layers.\n"
   ],
   "metadata": {}
  },
  {
   "cell_type": "code",
   "execution_count": 108,
   "source": [
    "# Define the the number of inputs (features) to the model\r\n",
    "number_input_features = len(list(X.columns))\r\n",
    "# Review the number of features\r\n",
    "number_input_features\r\n"
   ],
   "outputs": [
    {
     "output_type": "execute_result",
     "data": {
      "text/plain": [
       "18"
      ]
     },
     "metadata": {},
     "execution_count": 108
    }
   ],
   "metadata": {}
  },
  {
   "cell_type": "code",
   "execution_count": 109,
   "source": [
    "# Define the number of neurons in the output layer\r\n",
    "number_output_neurons = 2"
   ],
   "outputs": [],
   "metadata": {}
  },
  {
   "cell_type": "code",
   "execution_count": 110,
   "source": [
    "# Define the number of hidden nodes for the first hidden layer\r\n",
    "hidden_nodes_layer1 =  int(round((number_input_features + number_output_neurons)/2, 0))\r\n",
    "# Review the number hidden nodes in the first layer\r\n",
    "hidden_nodes_layer1\r\n"
   ],
   "outputs": [
    {
     "output_type": "execute_result",
     "data": {
      "text/plain": [
       "10"
      ]
     },
     "metadata": {},
     "execution_count": 110
    }
   ],
   "metadata": {}
  },
  {
   "cell_type": "code",
   "execution_count": 111,
   "source": [
    "# Define the number of hidden nodes for the second hidden layer\r\n",
    "hidden_nodes_layer2 =  int(round((hidden_nodes_layer1 + number_output_neurons)/2, 0))\r\n",
    "\r\n",
    "# Review the number hidden nodes in the second layer\r\n",
    "hidden_nodes_layer2\r\n"
   ],
   "outputs": [
    {
     "output_type": "execute_result",
     "data": {
      "text/plain": [
       "6"
      ]
     },
     "metadata": {},
     "execution_count": 111
    }
   ],
   "metadata": {}
  },
  {
   "cell_type": "code",
   "execution_count": 112,
   "source": [
    "# Create the Sequential model instance\r\n",
    "nn = Sequential()\r\n"
   ],
   "outputs": [],
   "metadata": {}
  },
  {
   "cell_type": "code",
   "execution_count": 113,
   "source": [
    "# Add the first hidden layer\r\n",
    "nn.add(Dense(units=hidden_nodes_layer1, activation=\"relu\", input_dim=number_input_features))\r\n"
   ],
   "outputs": [],
   "metadata": {}
  },
  {
   "cell_type": "code",
   "execution_count": 114,
   "source": [
    "# Add the second hidden layer\r\n",
    "nn.add(Dense(units=hidden_nodes_layer2, activation=\"relu\"))\r\n"
   ],
   "outputs": [],
   "metadata": {}
  },
  {
   "cell_type": "code",
   "execution_count": 115,
   "source": [
    "# Add the output layer to the model specifying the number of output neurons and activation function\r\n",
    "nn.add(Dense(units=number_output_neurons, activation=\"sigmoid\"))\r\n"
   ],
   "outputs": [],
   "metadata": {}
  },
  {
   "cell_type": "code",
   "execution_count": 116,
   "source": [
    "# Display the Sequential model summary\r\n",
    "nn.summary()"
   ],
   "outputs": [
    {
     "output_type": "stream",
     "name": "stdout",
     "text": [
      "Model: \"sequential_4\"\n",
      "_________________________________________________________________\n",
      "Layer (type)                 Output Shape              Param #   \n",
      "=================================================================\n",
      "dense_16 (Dense)             (None, 10)                190       \n",
      "_________________________________________________________________\n",
      "dense_17 (Dense)             (None, 6)                 66        \n",
      "_________________________________________________________________\n",
      "dense_18 (Dense)             (None, 2)                 14        \n",
      "=================================================================\n",
      "Total params: 270\n",
      "Trainable params: 270\n",
      "Non-trainable params: 0\n",
      "_________________________________________________________________\n"
     ]
    }
   ],
   "metadata": {}
  },
  {
   "cell_type": "markdown",
   "source": [
    "### Step 2: Compile and fit the model using the `binary_crossentropy` loss function, the `adam` optimizer, and the `accuracy` evaluation metric.\n"
   ],
   "metadata": {}
  },
  {
   "cell_type": "code",
   "execution_count": 117,
   "source": [
    "# Compile the Sequential model\r\n",
    "nn.compile(loss=\"binary_crossentropy\", optimizer=\"adam\", metrics=[\"accuracy\"])\r\n"
   ],
   "outputs": [],
   "metadata": {}
  },
  {
   "cell_type": "code",
   "execution_count": 118,
   "source": [
    "# Fit the model using 50 epochs and the training data\r\n",
    "model = nn.fit(X_train_scaled, y_train, epochs=50, verbose=0)\r\n"
   ],
   "outputs": [],
   "metadata": {}
  },
  {
   "cell_type": "markdown",
   "source": [
    "### Step 3: Evaluate the model using the test data to determine the model’s loss and accuracy.\n"
   ],
   "metadata": {}
  },
  {
   "cell_type": "code",
   "execution_count": 119,
   "source": [
    "# Evaluate the model loss and accuracy metrics using the evaluate method and the test data\r\n",
    "model_loss, model_accuracy = nn.evaluate(X_test_scaled, y_test, verbose=True)\r\n",
    "\r\n",
    "# Display the model loss and accuracy results\r\n",
    "print(f\"Loss: {model_loss}, Accuracy: {model_accuracy}\")"
   ],
   "outputs": [
    {
     "output_type": "stream",
     "name": "stdout",
     "text": [
      "84/84 [==============================] - 0s 373us/step - loss: 6.5129e-07 - accuracy: 0.2055\n",
      "Loss: 6.512850632134359e-07, Accuracy: 0.20546406507492065\n"
     ]
    }
   ],
   "metadata": {}
  },
  {
   "cell_type": "markdown",
   "source": [
    "### Step 4: Save and export your model to an HDF5 file"
   ],
   "metadata": {}
  },
  {
   "cell_type": "code",
   "execution_count": 120,
   "source": [
    "# Set the model's file path\r\n",
    "filename = \"DLNN_model_1\"\r\n",
    "file_path = Path('Resources/' + filename + '.h5')\r\n",
    "\r\n",
    "# Export your model to a HDF5 file\r\n",
    "nn.save(file_path)\r\n"
   ],
   "outputs": [],
   "metadata": {}
  },
  {
   "cell_type": "markdown",
   "source": [
    "---\n",
    "\n",
    "## Optimize the neural network model\n"
   ],
   "metadata": {}
  },
  {
   "cell_type": "markdown",
   "source": [
    "### Step 1: Define at least three new deep neural network models (resulting in the original plus 3 optimization attempts). With each, try to improve on your first model’s predictive accuracy.\n",
    "\n",
    "> **Rewind** Recall that perfect accuracy has a value of 1, so accuracy improves as its value moves closer to 1. To optimize your model for a predictive accuracy as close to 1 as possible, you can use any or all of the following techniques:\n",
    ">\n",
    "> * Adjust the input data by dropping different features columns to ensure that no variables or outliers confuse the model.\n",
    ">\n",
    "> * Add more neurons (nodes) to a hidden layer.\n",
    ">\n",
    "> * Add more hidden layers.\n",
    ">\n",
    "> * Use different activation functions for the hidden layers.\n",
    ">\n",
    "> * Add to or reduce the number of epochs in the training regimen.\n"
   ],
   "metadata": {}
  },
  {
   "cell_type": "markdown",
   "source": [
    "### Alternative Model 1 - Deep learning model with 2 hidden layers"
   ],
   "metadata": {}
  },
  {
   "cell_type": "code",
   "execution_count": 121,
   "source": [
    "# Define the the number of inputs (features) to the model\r\n",
    "number_input_features = len(X_train.iloc[0])\r\n",
    "print(number_input_features)\r\n"
   ],
   "outputs": [
    {
     "output_type": "stream",
     "name": "stdout",
     "text": [
      "18\n"
     ]
    }
   ],
   "metadata": {}
  },
  {
   "cell_type": "code",
   "execution_count": 122,
   "source": [
    "# Review the number of features\r\n",
    "number_input_features"
   ],
   "outputs": [
    {
     "output_type": "execute_result",
     "data": {
      "text/plain": [
       "18"
      ]
     },
     "metadata": {},
     "execution_count": 122
    }
   ],
   "metadata": {}
  },
  {
   "cell_type": "code",
   "execution_count": 123,
   "source": [
    "# Define the number of neurons in the output layer\r\n",
    "number_output_neurons_A1 = 2"
   ],
   "outputs": [],
   "metadata": {}
  },
  {
   "cell_type": "code",
   "execution_count": 124,
   "source": [
    "# Define the number of hidden nodes for the first hidden layer\r\n",
    "hidden_nodes_layer1_A1 =  int(round((number_input_features + number_output_neurons_A1)/2, 0))\r\n",
    "# Review the number hidden nodes in the first layer\r\n",
    "hidden_nodes_layer1_A1\r\n"
   ],
   "outputs": [
    {
     "output_type": "execute_result",
     "data": {
      "text/plain": [
       "10"
      ]
     },
     "metadata": {},
     "execution_count": 124
    }
   ],
   "metadata": {}
  },
  {
   "cell_type": "code",
   "execution_count": 125,
   "source": [
    "# Define the number of hidden nodes for the second hidden layer\r\n",
    "hidden_nodes_layer2_A1 =  int(round((hidden_nodes_layer1_A1 + number_output_neurons_A1)/2, 0))\r\n",
    "\r\n",
    "# Review the number hidden nodes in the second layer\r\n",
    "hidden_nodes_layer2_A1\r\n"
   ],
   "outputs": [
    {
     "output_type": "execute_result",
     "data": {
      "text/plain": [
       "6"
      ]
     },
     "metadata": {},
     "execution_count": 125
    }
   ],
   "metadata": {}
  },
  {
   "cell_type": "code",
   "execution_count": 126,
   "source": [
    "# Define the number of hidden nodes for the second hidden layer\r\n",
    "hidden_nodes_layer3_A1 =  int(round((hidden_nodes_layer2_A1 + number_output_neurons_A1)/2, 0))\r\n",
    "\r\n",
    "# Review the number hidden nodes in the second layer\r\n",
    "hidden_nodes_layer3_A1\r\n"
   ],
   "outputs": [
    {
     "output_type": "execute_result",
     "data": {
      "text/plain": [
       "4"
      ]
     },
     "metadata": {},
     "execution_count": 126
    }
   ],
   "metadata": {}
  },
  {
   "cell_type": "code",
   "execution_count": 127,
   "source": [
    "# Create the Sequential model instance\r\n",
    "nn_A1 = Sequential()"
   ],
   "outputs": [],
   "metadata": {}
  },
  {
   "cell_type": "code",
   "execution_count": 128,
   "source": [
    "# Add the first hidden layer\r\n",
    "nn_A1.add(Dense(units=hidden_nodes_layer1_A1, activation=\"relu\", input_dim=number_input_features))\r\n"
   ],
   "outputs": [],
   "metadata": {}
  },
  {
   "cell_type": "code",
   "execution_count": 129,
   "source": [
    "# Add the second hidden layer\r\n",
    "nn_A1.add(Dense(units=hidden_nodes_layer2_A1, activation=\"relu\"))\r\n"
   ],
   "outputs": [],
   "metadata": {}
  },
  {
   "cell_type": "code",
   "execution_count": 130,
   "source": [
    "# Add the second hidden layer\r\n",
    "nn_A1.add(Dense(units=hidden_nodes_layer3_A1, activation=\"relu\"))\r\n"
   ],
   "outputs": [],
   "metadata": {}
  },
  {
   "cell_type": "code",
   "execution_count": 131,
   "source": [
    "# Add the output layer to the model specifying the number of output neurons and activation function\r\n",
    "nn_A1.add(Dense(units=number_output_neurons_A1, activation=\"sigmoid\"))\r\n"
   ],
   "outputs": [],
   "metadata": {}
  },
  {
   "cell_type": "code",
   "execution_count": 132,
   "source": [
    "# Display the Sequential model summary\r\n",
    "nn_A1.summary()"
   ],
   "outputs": [
    {
     "output_type": "stream",
     "name": "stdout",
     "text": [
      "Model: \"sequential_5\"\n",
      "_________________________________________________________________\n",
      "Layer (type)                 Output Shape              Param #   \n",
      "=================================================================\n",
      "dense_19 (Dense)             (None, 10)                190       \n",
      "_________________________________________________________________\n",
      "dense_20 (Dense)             (None, 6)                 66        \n",
      "_________________________________________________________________\n",
      "dense_21 (Dense)             (None, 4)                 28        \n",
      "_________________________________________________________________\n",
      "dense_22 (Dense)             (None, 2)                 10        \n",
      "=================================================================\n",
      "Total params: 294\n",
      "Trainable params: 294\n",
      "Non-trainable params: 0\n",
      "_________________________________________________________________\n"
     ]
    }
   ],
   "metadata": {}
  },
  {
   "cell_type": "code",
   "execution_count": 133,
   "source": [
    "# Compile the Sequential model\r\n",
    "nn_A1.compile(loss=\"binary_crossentropy\", optimizer=\"adam\", metrics=[\"accuracy\"])\r\n"
   ],
   "outputs": [],
   "metadata": {}
  },
  {
   "cell_type": "code",
   "execution_count": 134,
   "source": [
    "# Fit the model using 50 epochs and the training data\r\n",
    "model_A1 = nn_A1.fit(X_train_scaled, y_train, epochs=50, verbose=0)\r\n"
   ],
   "outputs": [],
   "metadata": {}
  },
  {
   "cell_type": "markdown",
   "source": [
    "### Alternative Model 2 - Deep learning model with 3 hidden layers"
   ],
   "metadata": {}
  },
  {
   "cell_type": "code",
   "execution_count": 135,
   "source": [
    "# Define the the number of inputs (features) to the model\r\n",
    "number_input_features = len(X_train.iloc[0])\r\n",
    "print(number_input_features)\r\n"
   ],
   "outputs": [
    {
     "output_type": "stream",
     "name": "stdout",
     "text": [
      "18\n"
     ]
    }
   ],
   "metadata": {}
  },
  {
   "cell_type": "code",
   "execution_count": 136,
   "source": [
    "# Review the number of features\r\n",
    "number_input_features"
   ],
   "outputs": [
    {
     "output_type": "execute_result",
     "data": {
      "text/plain": [
       "18"
      ]
     },
     "metadata": {},
     "execution_count": 136
    }
   ],
   "metadata": {}
  },
  {
   "cell_type": "code",
   "execution_count": 137,
   "source": [
    "# Define the number of neurons in the output layer\r\n",
    "number_output_neurons_A2 = 2"
   ],
   "outputs": [],
   "metadata": {}
  },
  {
   "cell_type": "code",
   "execution_count": 138,
   "source": [
    "# Define the number of hidden nodes for the first hidden layer\r\n",
    "hidden_nodes_layer1_A2 =  int(round((number_input_features + number_output_neurons_A2)/2, 0))\r\n",
    "# Review the number hidden nodes in the first layer\r\n",
    "hidden_nodes_layer1_A2\r\n"
   ],
   "outputs": [
    {
     "output_type": "execute_result",
     "data": {
      "text/plain": [
       "10"
      ]
     },
     "metadata": {},
     "execution_count": 138
    }
   ],
   "metadata": {}
  },
  {
   "cell_type": "code",
   "execution_count": 139,
   "source": [
    "# Define the number of hidden nodes for the second hidden layer\r\n",
    "hidden_nodes_layer2_A2 =  int(round((hidden_nodes_layer1_A2 + number_output_neurons_A2)/2, 0))\r\n",
    "\r\n",
    "# Review the number hidden nodes in the second layer\r\n",
    "hidden_nodes_layer2_A2\r\n"
   ],
   "outputs": [
    {
     "output_type": "execute_result",
     "data": {
      "text/plain": [
       "6"
      ]
     },
     "metadata": {},
     "execution_count": 139
    }
   ],
   "metadata": {}
  },
  {
   "cell_type": "code",
   "execution_count": 140,
   "source": [
    "# Define the number of hidden nodes for the second hidden layer\r\n",
    "hidden_nodes_layer3_A2 =  int(round((hidden_nodes_layer2_A1 + number_output_neurons_A2)/2, 0))\r\n",
    "\r\n",
    "# Review the number hidden nodes in the second layer\r\n",
    "hidden_nodes_layer3_A2\r\n"
   ],
   "outputs": [
    {
     "output_type": "execute_result",
     "data": {
      "text/plain": [
       "4"
      ]
     },
     "metadata": {},
     "execution_count": 140
    }
   ],
   "metadata": {}
  },
  {
   "cell_type": "code",
   "execution_count": 141,
   "source": [
    "# Define the number of hidden nodes for the second hidden layer\r\n",
    "hidden_nodes_layer4_A2 =  int(round((hidden_nodes_layer3_A1 + number_output_neurons_A2)/2, 0))\r\n",
    "\r\n",
    "# Review the number hidden nodes in the second layer\r\n",
    "hidden_nodes_layer4_A2\r\n"
   ],
   "outputs": [
    {
     "output_type": "execute_result",
     "data": {
      "text/plain": [
       "3"
      ]
     },
     "metadata": {},
     "execution_count": 141
    }
   ],
   "metadata": {}
  },
  {
   "cell_type": "code",
   "execution_count": 142,
   "source": [
    "# Create the Sequential model instance\r\n",
    "nn_A2 = Sequential()"
   ],
   "outputs": [],
   "metadata": {}
  },
  {
   "cell_type": "code",
   "execution_count": 143,
   "source": [
    "# Add the first hidden layer\r\n",
    "nn_A2.add(Dense(units=hidden_nodes_layer1_A2, activation=\"relu\", input_dim=number_input_features))\r\n"
   ],
   "outputs": [],
   "metadata": {}
  },
  {
   "cell_type": "code",
   "execution_count": 144,
   "source": [
    "# Add the second hidden layer\r\n",
    "nn_A2.add(Dense(units=hidden_nodes_layer2_A2, activation=\"relu\"))\r\n"
   ],
   "outputs": [],
   "metadata": {}
  },
  {
   "cell_type": "code",
   "execution_count": 145,
   "source": [
    "# Add the second hidden layer\r\n",
    "nn_A2.add(Dense(units=hidden_nodes_layer3_A2, activation=\"relu\"))\r\n"
   ],
   "outputs": [],
   "metadata": {}
  },
  {
   "cell_type": "code",
   "execution_count": 146,
   "source": [
    "# Add the second hidden layer\r\n",
    "nn_A2.add(Dense(units=hidden_nodes_layer4_A2, activation=\"relu\"))\r\n"
   ],
   "outputs": [],
   "metadata": {}
  },
  {
   "cell_type": "code",
   "execution_count": 147,
   "source": [
    "# Add the output layer to the model specifying the number of output neurons and activation function\r\n",
    "nn_A2.add(Dense(units=number_output_neurons_A2, activation=\"sigmoid\"))\r\n"
   ],
   "outputs": [],
   "metadata": {}
  },
  {
   "cell_type": "code",
   "execution_count": 148,
   "source": [
    "# Display the Sequential model summary\r\n",
    "nn_A2.summary()"
   ],
   "outputs": [
    {
     "output_type": "stream",
     "name": "stdout",
     "text": [
      "Model: \"sequential_6\"\n",
      "_________________________________________________________________\n",
      "Layer (type)                 Output Shape              Param #   \n",
      "=================================================================\n",
      "dense_23 (Dense)             (None, 10)                190       \n",
      "_________________________________________________________________\n",
      "dense_24 (Dense)             (None, 6)                 66        \n",
      "_________________________________________________________________\n",
      "dense_25 (Dense)             (None, 4)                 28        \n",
      "_________________________________________________________________\n",
      "dense_26 (Dense)             (None, 3)                 15        \n",
      "_________________________________________________________________\n",
      "dense_27 (Dense)             (None, 2)                 8         \n",
      "=================================================================\n",
      "Total params: 307\n",
      "Trainable params: 307\n",
      "Non-trainable params: 0\n",
      "_________________________________________________________________\n"
     ]
    }
   ],
   "metadata": {}
  },
  {
   "cell_type": "code",
   "execution_count": 149,
   "source": [
    "# Compile the Sequential model\r\n",
    "nn_A2.compile(loss=\"binary_crossentropy\", optimizer=\"adam\", metrics=[\"accuracy\"])\r\n"
   ],
   "outputs": [],
   "metadata": {}
  },
  {
   "cell_type": "code",
   "execution_count": 150,
   "source": [
    "# Fit the model using 50 epochs and the training data\r\n",
    "model_A2 = nn_A2.fit(X_train_scaled, y_train, epochs=50, verbose=0)\r\n"
   ],
   "outputs": [],
   "metadata": {}
  },
  {
   "cell_type": "markdown",
   "source": [
    "#### Alternative Model 3 - Principal Component Analysis"
   ],
   "metadata": {}
  },
  {
   "cell_type": "code",
   "execution_count": 151,
   "source": [
    "from sklearn.decomposition import PCA\r\n"
   ],
   "outputs": [],
   "metadata": {}
  },
  {
   "cell_type": "code",
   "execution_count": 152,
   "source": [
    "# Create a StandardScaler instance\r\n",
    "pca_scaler = StandardScaler()\r\n",
    "\r\n",
    "# Fit the scaler to the features\r\n",
    "X_pca_scaler = pca_scaler.fit(X)\r\n",
    "\r\n",
    "# Fit the scaler to the features\r\n",
    "X_pca_scaled = X_pca_scaler.transform(X)\r\n"
   ],
   "outputs": [],
   "metadata": {}
  },
  {
   "cell_type": "code",
   "execution_count": 179,
   "source": [
    "# for n in range(2, number_input_features):\r\n",
    "n = number_input_features\r\n",
    "best_n = n\r\n",
    "total_exp_var = 100.0\r\n",
    "while total_exp_var > 99.999:\r\n",
    "# for n in range(number_input_features, 2, -1):\r\n",
    "    pca = PCA(n_components=n, random_state=1)\r\n",
    "    X_pca = pca.fit_transform(X_pca_scaled)\r\n",
    "    exp_var = pca.explained_variance_ratio_\r\n",
    "#     print(f'{exp_var}')\r\n",
    "    total_exp_var = 100*exp_var.sum()\r\n",
    "    print(f'N = {n:3}: Total explained variance: {total_exp_var:.4f}%')\r\n",
    "\r\n",
    "    if total_exp_var > 99.999:\r\n",
    "        best_n = n\r\n",
    "    n -= 1"
   ],
   "outputs": [
    {
     "output_type": "stream",
     "name": "stdout",
     "text": [
      "N =  18: Total explained variance: 100.0000%\n",
      "[6.86794810e-01 6.29082829e-02 6.25265665e-02 6.24989296e-02\n",
      " 6.24708183e-02 6.20470866e-02 4.67382148e-04 1.19356004e-04\n",
      " 6.15629832e-05 4.47669701e-05 2.50777523e-05 1.38510625e-05\n",
      " 1.27873698e-05 6.84584658e-06 1.87569912e-06 1.14566254e-32\n",
      " 3.22164849e-34 1.78511298e-38] 18 18\n",
      "N =  17: Total explained variance: 100.0000%\n",
      "[6.86794810e-01 6.29082829e-02 6.25265665e-02 6.24989296e-02\n",
      " 6.24708183e-02 6.20470866e-02 4.67382148e-04 1.19356004e-04\n",
      " 6.15629832e-05 4.47669701e-05 2.50777523e-05 1.38510625e-05\n",
      " 1.27873698e-05 6.84584658e-06 1.87569912e-06 1.14566254e-32\n",
      " 3.22164849e-34] 17 18\n",
      "N =  16: Total explained variance: 100.0000%\n",
      "[6.86794810e-01 6.29082829e-02 6.25265665e-02 6.24989296e-02\n",
      " 6.24708183e-02 6.20470866e-02 4.67382148e-04 1.19356004e-04\n",
      " 6.15629832e-05 4.47669701e-05 2.50777523e-05 1.38510625e-05\n",
      " 1.27873698e-05 6.84584658e-06 1.87569912e-06 1.14566254e-32] 16 17\n",
      "N =  15: Total explained variance: 100.0000%\n",
      "[6.86794810e-01 6.29082829e-02 6.25265665e-02 6.24989296e-02\n",
      " 6.24708183e-02 6.20470866e-02 4.67382148e-04 1.19356004e-04\n",
      " 6.15629832e-05 4.47669701e-05 2.50777523e-05 1.38510625e-05\n",
      " 1.27873698e-05 6.84584658e-06 1.87569912e-06] 15 16\n",
      "N =  14: Total explained variance: 99.9998%\n",
      "[6.86794810e-01 6.29082829e-02 6.25265665e-02 6.24989296e-02\n",
      " 6.24708183e-02 6.20470866e-02 4.67382148e-04 1.19356004e-04\n",
      " 6.15629832e-05 4.47669701e-05 2.50777523e-05 1.38510625e-05\n",
      " 1.27873698e-05 6.84584658e-06] 14 15\n",
      "N =  13: Total explained variance: 99.9991%\n",
      "[6.86794810e-01 6.29082829e-02 6.25265665e-02 6.24989296e-02\n",
      " 6.24708183e-02 6.20470866e-02 4.67382148e-04 1.19356004e-04\n",
      " 6.15629832e-05 4.47669701e-05 2.50777523e-05 1.38510625e-05\n",
      " 1.27873698e-05] 13 14\n",
      "N =  12: Total explained variance: 99.9978%\n"
     ]
    }
   ],
   "metadata": {
    "collapsed": true,
    "jupyter": {
     "outputs_hidden": true
    }
   }
  },
  {
   "cell_type": "code",
   "execution_count": 181,
   "source": [
    "print(best_n)\r\n",
    "pca = PCA(n_components=best_n, random_state=1)\r\n",
    "X_pca = pca.fit_transform(X_pca_scaled)\r\n",
    "exp_var = pca.explained_variance_ratio_\r\n",
    "print(f'N = {best_n:3}: Total explained variance: {100*exp_var.sum():.4f}%')\r\n"
   ],
   "outputs": [
    {
     "output_type": "stream",
     "name": "stdout",
     "text": [
      "13\n",
      "N =  13: Total explained variance: 99.9991%\n"
     ]
    }
   ],
   "metadata": {}
  },
  {
   "cell_type": "code",
   "execution_count": 182,
   "source": [
    "X_pca_train, X_pca_test, y_pca_train, y_pca_test = train_test_split(X_pca, y, random_state=1)"
   ],
   "outputs": [],
   "metadata": {}
  },
  {
   "cell_type": "code",
   "execution_count": 183,
   "source": [
    "# Define the the number of inputs (features) to the model\r\n",
    "number_input_features = best_n\r\n",
    "print(number_input_features)\r\n"
   ],
   "outputs": [
    {
     "output_type": "stream",
     "name": "stdout",
     "text": [
      "13\n"
     ]
    }
   ],
   "metadata": {}
  },
  {
   "cell_type": "code",
   "execution_count": 184,
   "source": [
    "# Define the number of neurons in the output layer\r\n",
    "number_output_neurons_A3 = 2"
   ],
   "outputs": [],
   "metadata": {}
  },
  {
   "cell_type": "code",
   "execution_count": 185,
   "source": [
    "# Define the number of hidden nodes for the first hidden layer\r\n",
    "hidden_nodes_layer1_A3 =  int(round((number_input_features + number_output_neurons_A3)/2, 0))\r\n",
    "# Review the number hidden nodes in the first layer\r\n",
    "hidden_nodes_layer1_A3\r\n"
   ],
   "outputs": [
    {
     "output_type": "execute_result",
     "data": {
      "text/plain": [
       "8"
      ]
     },
     "metadata": {},
     "execution_count": 185
    }
   ],
   "metadata": {}
  },
  {
   "cell_type": "code",
   "execution_count": 186,
   "source": [
    "# Define the number of hidden nodes for the second hidden layer\r\n",
    "hidden_nodes_layer2_A3 =  int(round((hidden_nodes_layer1_A3 + number_output_neurons_A3)/2, 0))\r\n",
    "\r\n",
    "# Review the number hidden nodes in the second layer\r\n",
    "hidden_nodes_layer2_A3\r\n"
   ],
   "outputs": [
    {
     "output_type": "execute_result",
     "data": {
      "text/plain": [
       "5"
      ]
     },
     "metadata": {},
     "execution_count": 186
    }
   ],
   "metadata": {}
  },
  {
   "cell_type": "code",
   "execution_count": 187,
   "source": [
    "# Define the number of hidden nodes for the third hidden layer\r\n",
    "hidden_nodes_layer3_A3 =  int(round((hidden_nodes_layer2_A3 + number_output_neurons_A3)/2, 0))\r\n",
    "\r\n",
    "# Review the number hidden nodes in the third layer\r\n",
    "hidden_nodes_layer3_A3\r\n"
   ],
   "outputs": [
    {
     "output_type": "execute_result",
     "data": {
      "text/plain": [
       "4"
      ]
     },
     "metadata": {},
     "execution_count": 187
    }
   ],
   "metadata": {}
  },
  {
   "cell_type": "code",
   "execution_count": 188,
   "source": [
    "# Create the Sequential model instance\r\n",
    "nn_A3 = Sequential()"
   ],
   "outputs": [],
   "metadata": {}
  },
  {
   "cell_type": "code",
   "execution_count": 189,
   "source": [
    "# Add the first hidden layer\r\n",
    "nn_A3.add(Dense(units=hidden_nodes_layer1_A3, activation=\"relu\", input_dim=number_input_features))\r\n"
   ],
   "outputs": [],
   "metadata": {}
  },
  {
   "cell_type": "code",
   "execution_count": 190,
   "source": [
    "# Add the second hidden layer\r\n",
    "nn_A3.add(Dense(units=hidden_nodes_layer2_A3, activation=\"relu\"))\r\n"
   ],
   "outputs": [],
   "metadata": {}
  },
  {
   "cell_type": "code",
   "execution_count": 191,
   "source": [
    "# Add the third hidden layer\r\n",
    "nn_A3.add(Dense(units=hidden_nodes_layer3_A3, activation=\"relu\"))\r\n"
   ],
   "outputs": [],
   "metadata": {}
  },
  {
   "cell_type": "code",
   "execution_count": 192,
   "source": [
    "# Add the output layer to the model specifying the number of output neurons and activation function\r\n",
    "nn_A3.add(Dense(units=number_output_neurons_A3, activation=\"sigmoid\"))\r\n"
   ],
   "outputs": [],
   "metadata": {}
  },
  {
   "cell_type": "code",
   "execution_count": 193,
   "source": [
    "# Display the Sequential model summary\r\n",
    "nn_A3.summary()"
   ],
   "outputs": [
    {
     "output_type": "stream",
     "name": "stdout",
     "text": [
      "Model: \"sequential_8\"\n",
      "_________________________________________________________________\n",
      "Layer (type)                 Output Shape              Param #   \n",
      "=================================================================\n",
      "dense_32 (Dense)             (None, 8)                 112       \n",
      "_________________________________________________________________\n",
      "dense_33 (Dense)             (None, 5)                 45        \n",
      "_________________________________________________________________\n",
      "dense_34 (Dense)             (None, 4)                 24        \n",
      "_________________________________________________________________\n",
      "dense_35 (Dense)             (None, 2)                 10        \n",
      "=================================================================\n",
      "Total params: 191\n",
      "Trainable params: 191\n",
      "Non-trainable params: 0\n",
      "_________________________________________________________________\n"
     ]
    }
   ],
   "metadata": {}
  },
  {
   "cell_type": "code",
   "execution_count": 194,
   "source": [
    "# Compile the Sequential model\r\n",
    "nn_A3.compile(loss=\"binary_crossentropy\", optimizer=\"adam\", metrics=[\"accuracy\"])\r\n"
   ],
   "outputs": [],
   "metadata": {}
  },
  {
   "cell_type": "code",
   "execution_count": 195,
   "source": [
    "# Fit the model using 50 epochs and the training data\r\n",
    "model_A3 = nn_A3.fit(X_pca_train, y_pca_train, epochs=50, verbose=1)\r\n"
   ],
   "outputs": [
    {
     "output_type": "stream",
     "name": "stdout",
     "text": [
      "Epoch 1/50\n",
      "251/251 [==============================] - 0s 492us/step - loss: 0.5812 - accuracy: 0.6519\n",
      "Epoch 2/50\n",
      "251/251 [==============================] - 0s 490us/step - loss: 0.1209 - accuracy: 0.9988\n",
      "Epoch 3/50\n",
      "251/251 [==============================] - 0s 483us/step - loss: 0.0568 - accuracy: 0.9990\n",
      "Epoch 4/50\n",
      "251/251 [==============================] - 0s 471us/step - loss: 0.0407 - accuracy: 0.9994\n",
      "Epoch 5/50\n",
      "251/251 [==============================] - 0s 475us/step - loss: 0.0307 - accuracy: 0.9994\n",
      "Epoch 6/50\n",
      "251/251 [==============================] - 0s 479us/step - loss: 0.0221 - accuracy: 0.9994\n",
      "Epoch 7/50\n",
      "251/251 [==============================] - 0s 479us/step - loss: 0.0171 - accuracy: 0.9994\n",
      "Epoch 8/50\n",
      "251/251 [==============================] - 0s 479us/step - loss: 0.0141 - accuracy: 0.9994\n",
      "Epoch 9/50\n",
      "251/251 [==============================] - 0s 479us/step - loss: 0.0113 - accuracy: 0.9999\n",
      "Epoch 10/50\n",
      "251/251 [==============================] - 0s 483us/step - loss: 0.0078 - accuracy: 1.0000\n",
      "Epoch 11/50\n",
      "251/251 [==============================] - 0s 475us/step - loss: 0.0044 - accuracy: 1.0000\n",
      "Epoch 12/50\n",
      "251/251 [==============================] - 0s 471us/step - loss: 0.0020 - accuracy: 1.0000\n",
      "Epoch 13/50\n",
      "251/251 [==============================] - 0s 471us/step - loss: 8.8164e-04 - accuracy: 1.0000\n",
      "Epoch 14/50\n",
      "251/251 [==============================] - 0s 455us/step - loss: 4.7184e-04 - accuracy: 1.0000\n",
      "Epoch 15/50\n",
      "251/251 [==============================] - 0s 463us/step - loss: 2.8515e-04 - accuracy: 1.0000\n",
      "Epoch 16/50\n",
      "251/251 [==============================] - 0s 459us/step - loss: 1.8804e-04 - accuracy: 1.0000\n",
      "Epoch 17/50\n",
      "251/251 [==============================] - 0s 461us/step - loss: 1.3208e-04 - accuracy: 1.0000\n",
      "Epoch 18/50\n",
      "251/251 [==============================] - 0s 463us/step - loss: 9.7070e-05 - accuracy: 1.0000\n",
      "Epoch 19/50\n",
      "251/251 [==============================] - 0s 443us/step - loss: 7.3485e-05 - accuracy: 1.0000\n",
      "Epoch 20/50\n",
      "251/251 [==============================] - 0s 469us/step - loss: 5.7135e-05 - accuracy: 1.0000\n",
      "Epoch 21/50\n",
      "251/251 [==============================] - 0s 455us/step - loss: 4.5276e-05 - accuracy: 1.0000\n",
      "Epoch 22/50\n",
      "251/251 [==============================] - 0s 455us/step - loss: 3.6377e-05 - accuracy: 1.0000\n",
      "Epoch 23/50\n",
      "251/251 [==============================] - 0s 452us/step - loss: 2.9542e-05 - accuracy: 1.0000\n",
      "Epoch 24/50\n",
      "251/251 [==============================] - 0s 471us/step - loss: 2.4183e-05 - accuracy: 1.0000\n",
      "Epoch 25/50\n",
      "251/251 [==============================] - 0s 479us/step - loss: 1.9980e-05 - accuracy: 1.0000\n",
      "Epoch 26/50\n",
      "251/251 [==============================] - 0s 495us/step - loss: 1.6592e-05 - accuracy: 1.0000\n",
      "Epoch 27/50\n",
      "251/251 [==============================] - 0s 471us/step - loss: 1.3862e-05 - accuracy: 1.0000\n",
      "Epoch 28/50\n",
      "251/251 [==============================] - 0s 483us/step - loss: 1.1633e-05 - accuracy: 1.0000\n",
      "Epoch 29/50\n",
      "251/251 [==============================] - 0s 491us/step - loss: 9.7959e-06 - accuracy: 1.0000\n",
      "Epoch 30/50\n",
      "251/251 [==============================] - 0s 473us/step - loss: 8.2817e-06 - accuracy: 1.0000\n",
      "Epoch 31/50\n",
      "251/251 [==============================] - 0s 472us/step - loss: 7.0239e-06 - accuracy: 0.9999\n",
      "Epoch 32/50\n",
      "251/251 [==============================] - 0s 464us/step - loss: 5.9744e-06 - accuracy: 0.9999\n",
      "Epoch 33/50\n",
      "251/251 [==============================] - 0s 463us/step - loss: 5.0924e-06 - accuracy: 0.9999\n",
      "Epoch 34/50\n",
      "251/251 [==============================] - 0s 469us/step - loss: 4.3484e-06 - accuracy: 0.9999\n",
      "Epoch 35/50\n",
      "251/251 [==============================] - 0s 466us/step - loss: 3.7218e-06 - accuracy: 0.9998\n",
      "Epoch 36/50\n",
      "251/251 [==============================] - 0s 459us/step - loss: 3.1886e-06 - accuracy: 0.9998\n",
      "Epoch 37/50\n",
      "251/251 [==============================] - 0s 452us/step - loss: 2.7358e-06 - accuracy: 0.9998\n",
      "Epoch 38/50\n",
      "251/251 [==============================] - 0s 455us/step - loss: 2.3495e-06 - accuracy: 0.9996\n",
      "Epoch 39/50\n",
      "251/251 [==============================] - 0s 495us/step - loss: 2.0204e-06 - accuracy: 0.9993\n",
      "Epoch 40/50\n",
      "251/251 [==============================] - 0s 499us/step - loss: 1.7393e-06 - accuracy: 0.9988\n",
      "Epoch 41/50\n",
      "251/251 [==============================] - 0s 503us/step - loss: 1.5019e-06 - accuracy: 0.9984\n",
      "Epoch 42/50\n",
      "251/251 [==============================] - 0s 455us/step - loss: 1.2979e-06 - accuracy: 0.9975\n",
      "Epoch 43/50\n",
      "251/251 [==============================] - 0s 467us/step - loss: 1.1227e-06 - accuracy: 0.9949\n",
      "Epoch 44/50\n",
      "251/251 [==============================] - 0s 479us/step - loss: 9.7168e-07 - accuracy: 0.9827\n",
      "Epoch 45/50\n",
      "251/251 [==============================] - 0s 479us/step - loss: 8.4110e-07 - accuracy: 0.9706\n",
      "Epoch 46/50\n",
      "251/251 [==============================] - 0s 483us/step - loss: 7.2850e-07 - accuracy: 0.9567\n",
      "Epoch 47/50\n",
      "251/251 [==============================] - 0s 507us/step - loss: 6.3120e-07 - accuracy: 0.9518\n",
      "Epoch 48/50\n",
      "251/251 [==============================] - 0s 507us/step - loss: 5.4725e-07 - accuracy: 0.9391\n",
      "Epoch 49/50\n",
      "251/251 [==============================] - 0s 495us/step - loss: 4.7456e-07 - accuracy: 0.9281\n",
      "Epoch 50/50\n",
      "251/251 [==============================] - 0s 491us/step - loss: 4.1173e-07 - accuracy: 0.9199\n"
     ]
    }
   ],
   "metadata": {}
  },
  {
   "cell_type": "markdown",
   "source": [
    "### Step 2: After finishing your models, display the accuracy scores achieved by each model, and compare the results."
   ],
   "metadata": {}
  },
  {
   "cell_type": "code",
   "execution_count": 196,
   "source": [
    "print(\"Original Model Results\")\r\n",
    "\r\n",
    "# Evaluate the model loss and accuracy metrics using the evaluate method and the test data\r\n",
    "model_loss, model_accuracy = nn.evaluate(X_test_scaled, y_test, verbose=True)\r\n",
    "\r\n",
    "# Display the model loss and accuracy results\r\n",
    "print(f\"Loss: {model_loss}, Accuracy: {model_accuracy}\")"
   ],
   "outputs": [
    {
     "output_type": "stream",
     "name": "stdout",
     "text": [
      "Original Model Results\n",
      "84/84 [==============================] - 0s 420us/step - loss: 6.5129e-07 - accuracy: 0.2055\n",
      "Loss: 6.512850632134359e-07, Accuracy: 0.20546406507492065\n"
     ]
    }
   ],
   "metadata": {}
  },
  {
   "cell_type": "code",
   "execution_count": 197,
   "source": [
    "print(\"Alternative Model 1 Results\")\r\n",
    "\r\n",
    "# Evaluate the model loss and accuracy metrics using the evaluate method and the test data\r\n",
    "model_loss, model_accuracy = nn_A1.evaluate(X_test_scaled, y_test, verbose=True)\r\n",
    "\r\n",
    "# Display the model loss and accuracy results\r\n",
    "print(f\"Loss: {model_loss}, Accuracy: {model_accuracy}\")"
   ],
   "outputs": [
    {
     "output_type": "stream",
     "name": "stdout",
     "text": [
      "Alternative Model 1 Results\n",
      "84/84 [==============================] - 0s 421us/step - loss: 7.7542e-07 - accuracy: 1.0000\n",
      "Loss: 7.754246098556905e-07, Accuracy: 1.0\n"
     ]
    }
   ],
   "metadata": {}
  },
  {
   "cell_type": "code",
   "execution_count": 198,
   "source": [
    "print(\"Alternative Model 2 Results\")\r\n",
    "\r\n",
    "# Evaluate the model loss and accuracy metrics using the evaluate method and the test data\r\n",
    "model_loss, model_accuracy = nn_A2.evaluate(X_test_scaled, y_test, verbose=True)\r\n",
    "\r\n",
    "# Display the model loss and accuracy results\r\n",
    "print(f\"Loss: {model_loss}, Accuracy: {model_accuracy}\")"
   ],
   "outputs": [
    {
     "output_type": "stream",
     "name": "stdout",
     "text": [
      "Alternative Model 2 Results\n",
      "84/84 [==============================] - 0s 433us/step - loss: 5.1365e-05 - accuracy: 0.0449\n",
      "Loss: 5.1365284889470786e-05, Accuracy: 0.04491018131375313\n"
     ]
    }
   ],
   "metadata": {}
  },
  {
   "cell_type": "code",
   "execution_count": 199,
   "source": [
    "print(\"Alternative Model 3 Results\")\r\n",
    "\r\n",
    "# Evaluate the model loss and accuracy metrics using the evaluate method and the test data\r\n",
    "model_loss, model_accuracy = nn_A3.evaluate(X_pca_test, y_pca_test, verbose=True)\r\n",
    "\r\n",
    "# Display the model loss and accuracy results\r\n",
    "print(f\"Loss: {model_loss}, Accuracy: {model_accuracy}\")"
   ],
   "outputs": [
    {
     "output_type": "stream",
     "name": "stdout",
     "text": [
      "Alternative Model 3 Results\n",
      "84/84 [==============================] - 0s 409us/step - loss: 3.6888e-07 - accuracy: 0.9263\n",
      "Loss: 3.6888212662233855e-07, Accuracy: 0.926272451877594\n"
     ]
    }
   ],
   "metadata": {}
  },
  {
   "cell_type": "markdown",
   "source": [
    "### Run different numbers of epochs on best model"
   ],
   "metadata": {}
  },
  {
   "cell_type": "code",
   "execution_count": 200,
   "source": [
    "# Fit the model using the training data with different numbers of epochs\r\n",
    "model_list = []\r\n",
    "for n in range(50, 151, 20):\r\n",
    "    print(f'Fitting model, epochs: {n}')\r\n",
    "    model_list.append(nn_A1.fit(X_train_scaled, y_train, epochs=50, verbose=False))\r\n",
    "#     model_A1 = nn_A1.fit(X_train_scaled, y_train, epochs=50, verbose=False)\r\n",
    "\r\n",
    "    # Evaluate the model loss and accuracy metrics using the evaluate method and the test data\r\n",
    "    model_loss, model_accuracy = nn_A1.evaluate(X_test_scaled, y_test, verbose=True)\r\n",
    "    # Display the model loss and accuracy results\r\n",
    "    print(f\"Loss: {model_loss}, Accuracy: {model_accuracy}\")    "
   ],
   "outputs": [
    {
     "output_type": "stream",
     "name": "stdout",
     "text": [
      "Fitting model, epochs: 50\n",
      "84/84 [==============================] - 0s 409us/step - loss: 1.7584e-07 - accuracy: 1.0000\n",
      "Loss: 1.7584271461146272e-07, Accuracy: 1.0\n",
      "Fitting model, epochs: 70\n",
      "84/84 [==============================] - 0s 409us/step - loss: 4.5019e-08 - accuracy: 1.0000\n",
      "Loss: 4.501921679889165e-08, Accuracy: 1.0\n",
      "Fitting model, epochs: 90\n",
      "84/84 [==============================] - 0s 421us/step - loss: 1.4962e-08 - accuracy: 1.0000\n",
      "Loss: 1.4961877070618357e-08, Accuracy: 1.0\n",
      "Fitting model, epochs: 110\n",
      "84/84 [==============================] - 0s 426us/step - loss: 7.0936e-09 - accuracy: 1.0000\n",
      "Loss: 7.0935604057353885e-09, Accuracy: 1.0\n",
      "Fitting model, epochs: 130\n",
      "84/84 [==============================] - 0s 397us/step - loss: 4.3638e-09 - accuracy: 1.0000\n",
      "Loss: 4.36381464297142e-09, Accuracy: 1.0\n",
      "Fitting model, epochs: 150\n",
      "84/84 [==============================] - 0s 399us/step - loss: 3.1043e-09 - accuracy: 1.0000\n",
      "Loss: 3.104312806812004e-09, Accuracy: 1.0\n"
     ]
    }
   ],
   "metadata": {}
  },
  {
   "cell_type": "code",
   "execution_count": 201,
   "source": [
    "# for model in model_list:\r\n",
    "#     pass\r\n",
    "#     print(model.history)\r\n",
    "    # Evaluate the model loss and accuracy metrics using the evaluate method and the test data\r\n",
    "#     model_loss, model_accuracy = nn.evaluate(X_test_scaled, y_test, verbose=True)\r\n",
    "    # Display the model loss and accuracy results\r\n",
    "#     print(f\"Loss: {model_loss}, Accuracy: {model_accuracy}\")    "
   ],
   "outputs": [],
   "metadata": {}
  },
  {
   "cell_type": "markdown",
   "source": [
    "### Step 3: Save each of your alternative models as an HDF5 file.\n"
   ],
   "metadata": {}
  },
  {
   "cell_type": "code",
   "execution_count": 202,
   "source": [
    "# Set the file path for the first alternative model\r\n",
    "filename = \"DLNN_model_A1\"\r\n",
    "file_path_A1 = Path('Resources/' + filename + '.h5')\r\n",
    "\r\n",
    "# Export your model to a HDF5 file\r\n",
    "nn_A1.save(file_path_A1)\r\n"
   ],
   "outputs": [],
   "metadata": {}
  },
  {
   "cell_type": "code",
   "execution_count": 203,
   "source": [
    "# Set the file path for the second alternative model\r\n",
    "filename = \"DLNN_model_A2\"\r\n",
    "file_path_A2 = Path('Resources/' + filename + '.h5')\r\n",
    "\r\n",
    "# Export your model to a HDF5 file\r\n",
    "nn_A2.save(file_path_A2)\r\n"
   ],
   "outputs": [],
   "metadata": {}
  },
  {
   "cell_type": "code",
   "execution_count": 204,
   "source": [
    "# # Set the file path for the third alternative model\r\n",
    "filename = \"DLNN_model_A3\"\r\n",
    "file_path_A3 = Path('Resources/' + filename + '.h5')\r\n",
    "\r\n",
    "# # Export your model to a HDF5 file\r\n",
    "nn_A3.save(file_path_A3)\r\n"
   ],
   "outputs": [],
   "metadata": {}
  }
 ],
 "metadata": {
  "orig_nbformat": 4,
  "language_info": {
   "name": "python",
   "version": "3.7.10",
   "mimetype": "text/x-python",
   "codemirror_mode": {
    "name": "ipython",
    "version": 3
   },
   "pygments_lexer": "ipython3",
   "nbconvert_exporter": "python",
   "file_extension": ".py"
  },
  "kernelspec": {
   "name": "python3",
   "display_name": "Python 3.7.10 64-bit ('algo': conda)"
  },
  "interpreter": {
   "hash": "d4156aaab05991101c6a751683038476f3e64298aad0394e408e9e53044404ee"
  }
 },
 "nbformat": 4,
 "nbformat_minor": 2
}