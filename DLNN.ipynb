{
 "cells": [
  {
   "cell_type": "code",
   "execution_count": 1,
   "source": [
    "import pandas as pd\r\n",
    "from pathlib import Path\r\n",
    "import tensorflow as tf\r\n",
    "from tensorflow.keras.layers import Dense\r\n",
    "from tensorflow.keras.models import Sequential\r\n",
    "from sklearn.model_selection import train_test_split\r\n",
    "from sklearn.preprocessing import StandardScaler,OneHotEncoder\r\n",
    "import sqlalchemy\r\n",
    "import h5py"
   ],
   "outputs": [],
   "metadata": {}
  },
  {
   "cell_type": "code",
   "execution_count": 2,
   "source": [
    "db_connection_string = 'sqlite:///./Resources/product.db'\r\n",
    "engine  = sqlalchemy.create_engine(db_connection_string)\r\n",
    "\r\n",
    "inspector = sqlalchemy.inspect(engine)\r\n",
    "table_names = inspector.get_table_names()\r\n",
    "print(table_names)"
   ],
   "outputs": [
    {
     "output_type": "stream",
     "name": "stdout",
     "text": [
      "['AAPL_1_Day_Candles', 'AAPL_1_Min_Candles', 'AAPL_Indicators', 'AAPL_Info', 'MSFT_1_Day_Candles', 'MSFT_1_Min_Candles', 'MSFT_Indicators', 'MSFT_Info']\n"
     ]
    }
   ],
   "metadata": {}
  },
  {
   "cell_type": "code",
   "execution_count": 3,
   "source": [
    "ticker = 'MSFT'\r\n",
    "indicators_df = pd.read_sql_table(ticker + '_Indicators', con=engine, index_col='Datetime')"
   ],
   "outputs": [],
   "metadata": {}
  },
  {
   "cell_type": "markdown",
   "source": [
    "---\n",
    "\n",
    "## Prepare the data to be used on a neural network model"
   ],
   "metadata": {}
  },
  {
   "cell_type": "code",
   "execution_count": 4,
   "source": [
    "print(indicators_df.head())"
   ],
   "outputs": [
    {
     "output_type": "stream",
     "name": "stdout",
     "text": [
      "                       Open    High     Low   Close  Volume  CDLDOJI  \\\n",
      "Datetime                                                               \n",
      "2021-09-07 05:42:00  300.65  300.65  300.60  300.60    1730        0   \n",
      "2021-09-07 05:43:00  300.65  300.65  300.59  300.59    3386        0   \n",
      "2021-09-07 05:46:00  300.61  300.61  300.59  300.59     415        0   \n",
      "2021-09-07 05:53:00  300.60  300.60  300.60  300.60     185      100   \n",
      "2021-09-07 05:54:00  300.61  300.61  300.61  300.61     295      100   \n",
      "\n",
      "                     CDLHOMINGPIGEON  CDLSPINNINGTOP  Trade Signal  \\\n",
      "Datetime                                                             \n",
      "2021-09-07 05:42:00                0               0           0.0   \n",
      "2021-09-07 05:43:00                0               0           0.0   \n",
      "2021-09-07 05:46:00                0               0           0.0   \n",
      "2021-09-07 05:53:00                0               0           1.0   \n",
      "2021-09-07 05:54:00                0               0           1.0   \n",
      "\n",
      "                     Upper Band  ...            AD        ADOSC      OBV  \\\n",
      "Datetime                         ...                                       \n",
      "2021-09-07 05:42:00  300.668990  ... -22837.976744 -1725.622336 -10037.0   \n",
      "2021-09-07 05:43:00  300.670764  ... -26223.976744 -2805.550909 -13423.0   \n",
      "2021-09-07 05:46:00  300.672000  ... -26638.976744 -3124.335243 -13423.0   \n",
      "2021-09-07 05:53:00  300.650900  ... -26638.976744 -2970.716539 -13238.0   \n",
      "2021-09-07 05:54:00  300.612967  ... -26638.976744 -2637.807384 -12943.0   \n",
      "\n",
      "                          ATR      NATR  TRANGE  WCLPRICE  HT_DCPERIOD  \\\n",
      "Datetime                                                                 \n",
      "2021-09-07 05:42:00  0.170864  0.056841    0.05  300.6125    17.211765   \n",
      "2021-09-07 05:43:00  0.162945  0.054208    0.06  300.6050    18.893411   \n",
      "2021-09-07 05:46:00  0.152735  0.050812    0.02  300.5950    20.539088   \n",
      "2021-09-07 05:53:00  0.142539  0.047418    0.01  300.6000    22.069379   \n",
      "2021-09-07 05:54:00  0.133072  0.044267    0.01  300.6100    23.446923   \n",
      "\n",
      "                      LINEARREG       VAR  \n",
      "Datetime                                   \n",
      "2021-09-07 05:42:00  300.714857  0.000600  \n",
      "2021-09-07 05:43:00  300.644857  0.000696  \n",
      "2021-09-07 05:46:00  300.630857  0.000784  \n",
      "2021-09-07 05:53:00  300.622571  0.000504  \n",
      "2021-09-07 05:54:00  300.619143  0.000056  \n",
      "\n",
      "[5 rows x 26 columns]\n"
     ]
    }
   ],
   "metadata": {}
  },
  {
   "cell_type": "code",
   "execution_count": 5,
   "source": [
    "# Review the data types associated with the columns\r\n",
    "indicators_df.dtypes"
   ],
   "outputs": [
    {
     "output_type": "execute_result",
     "data": {
      "text/plain": [
       "Open               float64\n",
       "High               float64\n",
       "Low                float64\n",
       "Close              float64\n",
       "Volume               int64\n",
       "CDLDOJI              int64\n",
       "CDLHOMINGPIGEON      int64\n",
       "CDLSPINNINGTOP       int64\n",
       "Trade Signal       float64\n",
       "Upper Band         float64\n",
       "Middle Band        float64\n",
       "Lower Band         float64\n",
       "EMA                float64\n",
       "MACD               float64\n",
       "MACD_SIGNAL        float64\n",
       "MACD_HIST          float64\n",
       "AD                 float64\n",
       "ADOSC              float64\n",
       "OBV                float64\n",
       "ATR                float64\n",
       "NATR               float64\n",
       "TRANGE             float64\n",
       "WCLPRICE           float64\n",
       "HT_DCPERIOD        float64\n",
       "LINEARREG          float64\n",
       "VAR                float64\n",
       "dtype: object"
      ]
     },
     "metadata": {},
     "execution_count": 5
    }
   ],
   "metadata": {}
  },
  {
   "cell_type": "code",
   "execution_count": 6,
   "source": [
    "display(indicators_df['Trade Signal'].value_counts())"
   ],
   "outputs": [
    {
     "output_type": "display_data",
     "data": {
      "text/plain": [
       " 0.0    7745\n",
       " 1.0    2772\n",
       "-1.0     198\n",
       "Name: Trade Signal, dtype: int64"
      ]
     },
     "metadata": {}
    }
   ],
   "metadata": {}
  },
  {
   "cell_type": "markdown",
   "source": [
    "### Step 5: Using the preprocessed data, create the features (`X`) and target (`y`) datasets. The target dataset should be defined by the preprocessed DataFrame column “IS_SUCCESSFUL”. The remaining columns should define the features dataset. \n",
    "\n"
   ],
   "metadata": {}
  },
  {
   "cell_type": "markdown",
   "source": [
    "### Step 3: Encode the dataset’s categorical variables using `OneHotEncoder`, and then place the encoded variables into a new DataFrame."
   ],
   "metadata": {}
  },
  {
   "cell_type": "code",
   "execution_count": 7,
   "source": [
    "# Create a list of categorical variables \r\n",
    "categorical_variables = ['Trade Signal']\r\n",
    "\r\n",
    "# Display the categorical variables list\r\n",
    "display(categorical_variables)"
   ],
   "outputs": [
    {
     "output_type": "display_data",
     "data": {
      "text/plain": [
       "['Trade Signal']"
      ]
     },
     "metadata": {}
    }
   ],
   "metadata": {}
  },
  {
   "cell_type": "code",
   "execution_count": 8,
   "source": [
    "# Create a OneHotEncoder instance\r\n",
    "enc = OneHotEncoder(sparse=False)\r\n"
   ],
   "outputs": [],
   "metadata": {}
  },
  {
   "cell_type": "code",
   "execution_count": 9,
   "source": [
    "# Encode the categorcal variables using OneHotEncoder\r\n",
    "encoded_data = enc.fit_transform(indicators_df[categorical_variables])\r\n"
   ],
   "outputs": [],
   "metadata": {}
  },
  {
   "cell_type": "code",
   "execution_count": 10,
   "source": [
    "# Create a DataFrame with the encoded variables\r\n",
    "encoded_df = pd.DataFrame(\r\n",
    "    encoded_data,\r\n",
    "    columns = enc.get_feature_names(categorical_variables)\r\n",
    ")\r\n",
    "# Review the DataFrame\r\n",
    "display(encoded_df.head(10))"
   ],
   "outputs": [
    {
     "output_type": "display_data",
     "data": {
      "text/html": [
       "<div>\n",
       "<style scoped>\n",
       "    .dataframe tbody tr th:only-of-type {\n",
       "        vertical-align: middle;\n",
       "    }\n",
       "\n",
       "    .dataframe tbody tr th {\n",
       "        vertical-align: top;\n",
       "    }\n",
       "\n",
       "    .dataframe thead th {\n",
       "        text-align: right;\n",
       "    }\n",
       "</style>\n",
       "<table border=\"1\" class=\"dataframe\">\n",
       "  <thead>\n",
       "    <tr style=\"text-align: right;\">\n",
       "      <th></th>\n",
       "      <th>Trade Signal_-1.0</th>\n",
       "      <th>Trade Signal_0.0</th>\n",
       "      <th>Trade Signal_1.0</th>\n",
       "    </tr>\n",
       "  </thead>\n",
       "  <tbody>\n",
       "    <tr>\n",
       "      <th>0</th>\n",
       "      <td>0.0</td>\n",
       "      <td>1.0</td>\n",
       "      <td>0.0</td>\n",
       "    </tr>\n",
       "    <tr>\n",
       "      <th>1</th>\n",
       "      <td>0.0</td>\n",
       "      <td>1.0</td>\n",
       "      <td>0.0</td>\n",
       "    </tr>\n",
       "    <tr>\n",
       "      <th>2</th>\n",
       "      <td>0.0</td>\n",
       "      <td>1.0</td>\n",
       "      <td>0.0</td>\n",
       "    </tr>\n",
       "    <tr>\n",
       "      <th>3</th>\n",
       "      <td>0.0</td>\n",
       "      <td>0.0</td>\n",
       "      <td>1.0</td>\n",
       "    </tr>\n",
       "    <tr>\n",
       "      <th>4</th>\n",
       "      <td>0.0</td>\n",
       "      <td>0.0</td>\n",
       "      <td>1.0</td>\n",
       "    </tr>\n",
       "    <tr>\n",
       "      <th>5</th>\n",
       "      <td>0.0</td>\n",
       "      <td>0.0</td>\n",
       "      <td>1.0</td>\n",
       "    </tr>\n",
       "    <tr>\n",
       "      <th>6</th>\n",
       "      <td>0.0</td>\n",
       "      <td>0.0</td>\n",
       "      <td>1.0</td>\n",
       "    </tr>\n",
       "    <tr>\n",
       "      <th>7</th>\n",
       "      <td>0.0</td>\n",
       "      <td>0.0</td>\n",
       "      <td>1.0</td>\n",
       "    </tr>\n",
       "    <tr>\n",
       "      <th>8</th>\n",
       "      <td>0.0</td>\n",
       "      <td>0.0</td>\n",
       "      <td>1.0</td>\n",
       "    </tr>\n",
       "    <tr>\n",
       "      <th>9</th>\n",
       "      <td>0.0</td>\n",
       "      <td>0.0</td>\n",
       "      <td>1.0</td>\n",
       "    </tr>\n",
       "  </tbody>\n",
       "</table>\n",
       "</div>"
      ],
      "text/plain": [
       "   Trade Signal_-1.0  Trade Signal_0.0  Trade Signal_1.0\n",
       "0                0.0               1.0               0.0\n",
       "1                0.0               1.0               0.0\n",
       "2                0.0               1.0               0.0\n",
       "3                0.0               0.0               1.0\n",
       "4                0.0               0.0               1.0\n",
       "5                0.0               0.0               1.0\n",
       "6                0.0               0.0               1.0\n",
       "7                0.0               0.0               1.0\n",
       "8                0.0               0.0               1.0\n",
       "9                0.0               0.0               1.0"
      ]
     },
     "metadata": {}
    }
   ],
   "metadata": {}
  },
  {
   "cell_type": "code",
   "execution_count": 11,
   "source": [
    "encoded_df.rename(columns={'Trade Signal_-1.0': 'Bearish', 'Trade Signal_0.0': 'None', 'Trade Signal_1.0':'Bullsih'}, inplace=True)\r\n",
    "encoded_df.drop(columns='None', inplace=True)\r\n",
    "print(encoded_df.head())"
   ],
   "outputs": [
    {
     "output_type": "stream",
     "name": "stdout",
     "text": [
      "   Bearish  Bullsih\n",
      "0      0.0      0.0\n",
      "1      0.0      0.0\n",
      "2      0.0      0.0\n",
      "3      0.0      1.0\n",
      "4      0.0      1.0\n"
     ]
    }
   ],
   "metadata": {}
  },
  {
   "cell_type": "markdown",
   "source": [
    "### Step 4: Add the original DataFrame’s numerical variables to the DataFrame containing the encoded variables.\n",
    "\n",
    "> **Note** To complete this step, you will employ the Pandas `concat()` function that was introduced earlier in this course. "
   ],
   "metadata": {}
  },
  {
   "cell_type": "code",
   "execution_count": 12,
   "source": [
    "# Define the target set y using the IS_SUCCESSFUL column\r\n",
    "y = encoded_df.copy()\r\n",
    "\r\n",
    "# Display a sample of y\r\n",
    "display(y.head())"
   ],
   "outputs": [
    {
     "output_type": "display_data",
     "data": {
      "text/html": [
       "<div>\n",
       "<style scoped>\n",
       "    .dataframe tbody tr th:only-of-type {\n",
       "        vertical-align: middle;\n",
       "    }\n",
       "\n",
       "    .dataframe tbody tr th {\n",
       "        vertical-align: top;\n",
       "    }\n",
       "\n",
       "    .dataframe thead th {\n",
       "        text-align: right;\n",
       "    }\n",
       "</style>\n",
       "<table border=\"1\" class=\"dataframe\">\n",
       "  <thead>\n",
       "    <tr style=\"text-align: right;\">\n",
       "      <th></th>\n",
       "      <th>Bearish</th>\n",
       "      <th>Bullsih</th>\n",
       "    </tr>\n",
       "  </thead>\n",
       "  <tbody>\n",
       "    <tr>\n",
       "      <th>0</th>\n",
       "      <td>0.0</td>\n",
       "      <td>0.0</td>\n",
       "    </tr>\n",
       "    <tr>\n",
       "      <th>1</th>\n",
       "      <td>0.0</td>\n",
       "      <td>0.0</td>\n",
       "    </tr>\n",
       "    <tr>\n",
       "      <th>2</th>\n",
       "      <td>0.0</td>\n",
       "      <td>0.0</td>\n",
       "    </tr>\n",
       "    <tr>\n",
       "      <th>3</th>\n",
       "      <td>0.0</td>\n",
       "      <td>1.0</td>\n",
       "    </tr>\n",
       "    <tr>\n",
       "      <th>4</th>\n",
       "      <td>0.0</td>\n",
       "      <td>1.0</td>\n",
       "    </tr>\n",
       "  </tbody>\n",
       "</table>\n",
       "</div>"
      ],
      "text/plain": [
       "   Bearish  Bullsih\n",
       "0      0.0      0.0\n",
       "1      0.0      0.0\n",
       "2      0.0      0.0\n",
       "3      0.0      1.0\n",
       "4      0.0      1.0"
      ]
     },
     "metadata": {}
    }
   ],
   "metadata": {}
  },
  {
   "cell_type": "code",
   "execution_count": 13,
   "source": [
    "# Define features set X by selecting all columns but IS_SUCCESSFUL\r\n",
    "X = indicators_df.drop(columns=['Trade Signal'])\r\n",
    "\r\n",
    "# Review the features DataFrame\r\n",
    "display(X.head())"
   ],
   "outputs": [
    {
     "output_type": "display_data",
     "data": {
      "text/html": [
       "<div>\n",
       "<style scoped>\n",
       "    .dataframe tbody tr th:only-of-type {\n",
       "        vertical-align: middle;\n",
       "    }\n",
       "\n",
       "    .dataframe tbody tr th {\n",
       "        vertical-align: top;\n",
       "    }\n",
       "\n",
       "    .dataframe thead th {\n",
       "        text-align: right;\n",
       "    }\n",
       "</style>\n",
       "<table border=\"1\" class=\"dataframe\">\n",
       "  <thead>\n",
       "    <tr style=\"text-align: right;\">\n",
       "      <th></th>\n",
       "      <th>Open</th>\n",
       "      <th>High</th>\n",
       "      <th>Low</th>\n",
       "      <th>Close</th>\n",
       "      <th>Volume</th>\n",
       "      <th>CDLDOJI</th>\n",
       "      <th>CDLHOMINGPIGEON</th>\n",
       "      <th>CDLSPINNINGTOP</th>\n",
       "      <th>Upper Band</th>\n",
       "      <th>Middle Band</th>\n",
       "      <th>...</th>\n",
       "      <th>AD</th>\n",
       "      <th>ADOSC</th>\n",
       "      <th>OBV</th>\n",
       "      <th>ATR</th>\n",
       "      <th>NATR</th>\n",
       "      <th>TRANGE</th>\n",
       "      <th>WCLPRICE</th>\n",
       "      <th>HT_DCPERIOD</th>\n",
       "      <th>LINEARREG</th>\n",
       "      <th>VAR</th>\n",
       "    </tr>\n",
       "    <tr>\n",
       "      <th>Datetime</th>\n",
       "      <th></th>\n",
       "      <th></th>\n",
       "      <th></th>\n",
       "      <th></th>\n",
       "      <th></th>\n",
       "      <th></th>\n",
       "      <th></th>\n",
       "      <th></th>\n",
       "      <th></th>\n",
       "      <th></th>\n",
       "      <th></th>\n",
       "      <th></th>\n",
       "      <th></th>\n",
       "      <th></th>\n",
       "      <th></th>\n",
       "      <th></th>\n",
       "      <th></th>\n",
       "      <th></th>\n",
       "      <th></th>\n",
       "      <th></th>\n",
       "      <th></th>\n",
       "    </tr>\n",
       "  </thead>\n",
       "  <tbody>\n",
       "    <tr>\n",
       "      <th>2021-09-07 05:42:00</th>\n",
       "      <td>300.65</td>\n",
       "      <td>300.65</td>\n",
       "      <td>300.60</td>\n",
       "      <td>300.60</td>\n",
       "      <td>1730</td>\n",
       "      <td>0</td>\n",
       "      <td>0</td>\n",
       "      <td>0</td>\n",
       "      <td>300.668990</td>\n",
       "      <td>300.620</td>\n",
       "      <td>...</td>\n",
       "      <td>-22837.976744</td>\n",
       "      <td>-1725.622336</td>\n",
       "      <td>-10037.0</td>\n",
       "      <td>0.170864</td>\n",
       "      <td>0.056841</td>\n",
       "      <td>0.05</td>\n",
       "      <td>300.6125</td>\n",
       "      <td>17.211765</td>\n",
       "      <td>300.714857</td>\n",
       "      <td>0.000600</td>\n",
       "    </tr>\n",
       "    <tr>\n",
       "      <th>2021-09-07 05:43:00</th>\n",
       "      <td>300.65</td>\n",
       "      <td>300.65</td>\n",
       "      <td>300.59</td>\n",
       "      <td>300.59</td>\n",
       "      <td>3386</td>\n",
       "      <td>0</td>\n",
       "      <td>0</td>\n",
       "      <td>0</td>\n",
       "      <td>300.670764</td>\n",
       "      <td>300.618</td>\n",
       "      <td>...</td>\n",
       "      <td>-26223.976744</td>\n",
       "      <td>-2805.550909</td>\n",
       "      <td>-13423.0</td>\n",
       "      <td>0.162945</td>\n",
       "      <td>0.054208</td>\n",
       "      <td>0.06</td>\n",
       "      <td>300.6050</td>\n",
       "      <td>18.893411</td>\n",
       "      <td>300.644857</td>\n",
       "      <td>0.000696</td>\n",
       "    </tr>\n",
       "    <tr>\n",
       "      <th>2021-09-07 05:46:00</th>\n",
       "      <td>300.61</td>\n",
       "      <td>300.61</td>\n",
       "      <td>300.59</td>\n",
       "      <td>300.59</td>\n",
       "      <td>415</td>\n",
       "      <td>0</td>\n",
       "      <td>0</td>\n",
       "      <td>0</td>\n",
       "      <td>300.672000</td>\n",
       "      <td>300.616</td>\n",
       "      <td>...</td>\n",
       "      <td>-26638.976744</td>\n",
       "      <td>-3124.335243</td>\n",
       "      <td>-13423.0</td>\n",
       "      <td>0.152735</td>\n",
       "      <td>0.050812</td>\n",
       "      <td>0.02</td>\n",
       "      <td>300.5950</td>\n",
       "      <td>20.539088</td>\n",
       "      <td>300.630857</td>\n",
       "      <td>0.000784</td>\n",
       "    </tr>\n",
       "    <tr>\n",
       "      <th>2021-09-07 05:53:00</th>\n",
       "      <td>300.60</td>\n",
       "      <td>300.60</td>\n",
       "      <td>300.60</td>\n",
       "      <td>300.60</td>\n",
       "      <td>185</td>\n",
       "      <td>100</td>\n",
       "      <td>0</td>\n",
       "      <td>0</td>\n",
       "      <td>300.650900</td>\n",
       "      <td>300.606</td>\n",
       "      <td>...</td>\n",
       "      <td>-26638.976744</td>\n",
       "      <td>-2970.716539</td>\n",
       "      <td>-13238.0</td>\n",
       "      <td>0.142539</td>\n",
       "      <td>0.047418</td>\n",
       "      <td>0.01</td>\n",
       "      <td>300.6000</td>\n",
       "      <td>22.069379</td>\n",
       "      <td>300.622571</td>\n",
       "      <td>0.000504</td>\n",
       "    </tr>\n",
       "    <tr>\n",
       "      <th>2021-09-07 05:54:00</th>\n",
       "      <td>300.61</td>\n",
       "      <td>300.61</td>\n",
       "      <td>300.61</td>\n",
       "      <td>300.61</td>\n",
       "      <td>295</td>\n",
       "      <td>100</td>\n",
       "      <td>0</td>\n",
       "      <td>0</td>\n",
       "      <td>300.612967</td>\n",
       "      <td>300.598</td>\n",
       "      <td>...</td>\n",
       "      <td>-26638.976744</td>\n",
       "      <td>-2637.807384</td>\n",
       "      <td>-12943.0</td>\n",
       "      <td>0.133072</td>\n",
       "      <td>0.044267</td>\n",
       "      <td>0.01</td>\n",
       "      <td>300.6100</td>\n",
       "      <td>23.446923</td>\n",
       "      <td>300.619143</td>\n",
       "      <td>0.000056</td>\n",
       "    </tr>\n",
       "  </tbody>\n",
       "</table>\n",
       "<p>5 rows × 25 columns</p>\n",
       "</div>"
      ],
      "text/plain": [
       "                       Open    High     Low   Close  Volume  CDLDOJI  \\\n",
       "Datetime                                                               \n",
       "2021-09-07 05:42:00  300.65  300.65  300.60  300.60    1730        0   \n",
       "2021-09-07 05:43:00  300.65  300.65  300.59  300.59    3386        0   \n",
       "2021-09-07 05:46:00  300.61  300.61  300.59  300.59     415        0   \n",
       "2021-09-07 05:53:00  300.60  300.60  300.60  300.60     185      100   \n",
       "2021-09-07 05:54:00  300.61  300.61  300.61  300.61     295      100   \n",
       "\n",
       "                     CDLHOMINGPIGEON  CDLSPINNINGTOP  Upper Band  Middle Band  \\\n",
       "Datetime                                                                        \n",
       "2021-09-07 05:42:00                0               0  300.668990      300.620   \n",
       "2021-09-07 05:43:00                0               0  300.670764      300.618   \n",
       "2021-09-07 05:46:00                0               0  300.672000      300.616   \n",
       "2021-09-07 05:53:00                0               0  300.650900      300.606   \n",
       "2021-09-07 05:54:00                0               0  300.612967      300.598   \n",
       "\n",
       "                     ...            AD        ADOSC      OBV       ATR  \\\n",
       "Datetime             ...                                                 \n",
       "2021-09-07 05:42:00  ... -22837.976744 -1725.622336 -10037.0  0.170864   \n",
       "2021-09-07 05:43:00  ... -26223.976744 -2805.550909 -13423.0  0.162945   \n",
       "2021-09-07 05:46:00  ... -26638.976744 -3124.335243 -13423.0  0.152735   \n",
       "2021-09-07 05:53:00  ... -26638.976744 -2970.716539 -13238.0  0.142539   \n",
       "2021-09-07 05:54:00  ... -26638.976744 -2637.807384 -12943.0  0.133072   \n",
       "\n",
       "                         NATR  TRANGE  WCLPRICE  HT_DCPERIOD   LINEARREG  \\\n",
       "Datetime                                                                   \n",
       "2021-09-07 05:42:00  0.056841    0.05  300.6125    17.211765  300.714857   \n",
       "2021-09-07 05:43:00  0.054208    0.06  300.6050    18.893411  300.644857   \n",
       "2021-09-07 05:46:00  0.050812    0.02  300.5950    20.539088  300.630857   \n",
       "2021-09-07 05:53:00  0.047418    0.01  300.6000    22.069379  300.622571   \n",
       "2021-09-07 05:54:00  0.044267    0.01  300.6100    23.446923  300.619143   \n",
       "\n",
       "                          VAR  \n",
       "Datetime                       \n",
       "2021-09-07 05:42:00  0.000600  \n",
       "2021-09-07 05:43:00  0.000696  \n",
       "2021-09-07 05:46:00  0.000784  \n",
       "2021-09-07 05:53:00  0.000504  \n",
       "2021-09-07 05:54:00  0.000056  \n",
       "\n",
       "[5 rows x 25 columns]"
      ]
     },
     "metadata": {}
    }
   ],
   "metadata": {}
  },
  {
   "cell_type": "markdown",
   "source": [
    "### Step 6: Split the features and target sets into training and testing datasets.\n"
   ],
   "metadata": {}
  },
  {
   "cell_type": "code",
   "execution_count": 14,
   "source": [
    "# Split the preprocessed data into a training and testing dataset\r\n",
    "# Assign the function a random_state equal to 1\r\n",
    "X_train, X_test, y_train, y_test = train_test_split(X, y, random_state=1)"
   ],
   "outputs": [],
   "metadata": {}
  },
  {
   "cell_type": "markdown",
   "source": [
    "### Step 7: Use scikit-learn's `StandardScaler` to scale the features data."
   ],
   "metadata": {}
  },
  {
   "cell_type": "code",
   "execution_count": 15,
   "source": [
    "# Create a StandardScaler instance\r\n",
    "scaler = StandardScaler()\r\n",
    "\r\n",
    "# Fit the scaler to the features training dataset\r\n",
    "X_scaler = scaler.fit(X_train)\r\n",
    "\r\n",
    "# Fit the scaler to the features training dataset\r\n",
    "X_train_scaled = X_scaler.transform(X_train)\r\n",
    "X_test_scaled = X_scaler.transform(X_test)\r\n"
   ],
   "outputs": [],
   "metadata": {}
  },
  {
   "cell_type": "markdown",
   "source": [
    "---\n",
    "\n",
    "## Compile and Evaluate a Binary Classification Model Using a Neural Network"
   ],
   "metadata": {}
  },
  {
   "cell_type": "markdown",
   "source": [
    "### Step 1: Create a deep neural network by assigning the number of input features, the number of layers, and the number of neurons on each layer using Tensorflow’s Keras.\n",
    "\n",
    "> **Hint** You can start with a two-layer deep neural network model that uses the `relu` activation function for both layers.\n"
   ],
   "metadata": {}
  },
  {
   "cell_type": "code",
   "execution_count": 16,
   "source": [
    "# Define the the number of inputs (features) to the model\r\n",
    "number_input_features = len(list(X.columns))\r\n",
    "# Review the number of features\r\n",
    "number_input_features\r\n"
   ],
   "outputs": [
    {
     "output_type": "execute_result",
     "data": {
      "text/plain": [
       "25"
      ]
     },
     "metadata": {},
     "execution_count": 16
    }
   ],
   "metadata": {}
  },
  {
   "cell_type": "code",
   "execution_count": 17,
   "source": [
    "# Define the number of neurons in the output layer\r\n",
    "number_output_neurons = 2"
   ],
   "outputs": [],
   "metadata": {}
  },
  {
   "cell_type": "code",
   "execution_count": 18,
   "source": [
    "# Define the number of hidden nodes for the first hidden layer\r\n",
    "hidden_nodes_layer1 =  int(round((number_input_features + number_output_neurons)/2, 0))\r\n",
    "# Review the number hidden nodes in the first layer\r\n",
    "hidden_nodes_layer1\r\n"
   ],
   "outputs": [
    {
     "output_type": "execute_result",
     "data": {
      "text/plain": [
       "14"
      ]
     },
     "metadata": {},
     "execution_count": 18
    }
   ],
   "metadata": {}
  },
  {
   "cell_type": "code",
   "execution_count": 19,
   "source": [
    "# Define the number of hidden nodes for the second hidden layer\r\n",
    "hidden_nodes_layer2 =  int(round((hidden_nodes_layer1 + number_output_neurons)/2, 0))\r\n",
    "\r\n",
    "# Review the number hidden nodes in the second layer\r\n",
    "hidden_nodes_layer2\r\n"
   ],
   "outputs": [
    {
     "output_type": "execute_result",
     "data": {
      "text/plain": [
       "8"
      ]
     },
     "metadata": {},
     "execution_count": 19
    }
   ],
   "metadata": {}
  },
  {
   "cell_type": "code",
   "execution_count": 20,
   "source": [
    "# Create the Sequential model instance\r\n",
    "nn = Sequential()\r\n"
   ],
   "outputs": [],
   "metadata": {}
  },
  {
   "cell_type": "code",
   "execution_count": 21,
   "source": [
    "# Add the first hidden layer\r\n",
    "nn.add(Dense(units=hidden_nodes_layer1, activation=\"relu\", input_dim=number_input_features))\r\n"
   ],
   "outputs": [],
   "metadata": {}
  },
  {
   "cell_type": "code",
   "execution_count": 22,
   "source": [
    "# Add the second hidden layer\r\n",
    "nn.add(Dense(units=hidden_nodes_layer2, activation=\"relu\"))\r\n"
   ],
   "outputs": [],
   "metadata": {}
  },
  {
   "cell_type": "code",
   "execution_count": 23,
   "source": [
    "# Add the output layer to the model specifying the number of output neurons and activation function\r\n",
    "nn.add(Dense(units=number_output_neurons, activation=\"sigmoid\"))\r\n"
   ],
   "outputs": [],
   "metadata": {}
  },
  {
   "cell_type": "code",
   "execution_count": 24,
   "source": [
    "# Display the Sequential model summary\r\n",
    "nn.summary()"
   ],
   "outputs": [
    {
     "output_type": "stream",
     "name": "stdout",
     "text": [
      "Model: \"sequential\"\n",
      "_________________________________________________________________\n",
      "Layer (type)                 Output Shape              Param #   \n",
      "=================================================================\n",
      "dense (Dense)                (None, 14)                364       \n",
      "_________________________________________________________________\n",
      "dense_1 (Dense)              (None, 8)                 120       \n",
      "_________________________________________________________________\n",
      "dense_2 (Dense)              (None, 2)                 18        \n",
      "=================================================================\n",
      "Total params: 502\n",
      "Trainable params: 502\n",
      "Non-trainable params: 0\n",
      "_________________________________________________________________\n"
     ]
    }
   ],
   "metadata": {}
  },
  {
   "cell_type": "markdown",
   "source": [
    "### Step 2: Compile and fit the model using the `binary_crossentropy` loss function, the `adam` optimizer, and the `accuracy` evaluation metric.\n"
   ],
   "metadata": {}
  },
  {
   "cell_type": "code",
   "execution_count": 25,
   "source": [
    "# Compile the Sequential model\r\n",
    "nn.compile(loss=\"binary_crossentropy\", optimizer=\"adam\", metrics=[\"accuracy\"])\r\n"
   ],
   "outputs": [],
   "metadata": {}
  },
  {
   "cell_type": "code",
   "execution_count": 26,
   "source": [
    "# Fit the model using 50 epochs and the training data\r\n",
    "model = nn.fit(X_train_scaled, y_train, epochs=50, verbose=0)\r\n"
   ],
   "outputs": [],
   "metadata": {}
  },
  {
   "cell_type": "markdown",
   "source": [
    "### Step 3: Evaluate the model using the test data to determine the model’s loss and accuracy.\n"
   ],
   "metadata": {}
  },
  {
   "cell_type": "code",
   "execution_count": 27,
   "source": [
    "# Evaluate the model loss and accuracy metrics using the evaluate method and the test data\r\n",
    "model_loss, model_accuracy = nn.evaluate(X_test_scaled, y_test, verbose=True)\r\n",
    "\r\n",
    "# Display the model loss and accuracy results\r\n",
    "print(f\"Loss: {model_loss}, Accuracy: {model_accuracy}\")"
   ],
   "outputs": [
    {
     "output_type": "stream",
     "name": "stdout",
     "text": [
      "84/84 [==============================] - 0s 421us/step - loss: 7.0634e-04 - accuracy: 0.4602\n",
      "Loss: 0.0007063411176204681, Accuracy: 0.46024635434150696\n"
     ]
    }
   ],
   "metadata": {}
  },
  {
   "cell_type": "markdown",
   "source": [
    "### Step 4: Save and export your model to an HDF5 file"
   ],
   "metadata": {}
  },
  {
   "cell_type": "code",
   "execution_count": 28,
   "source": [
    "# Set the model's file path\r\n",
    "filename = \"DLNN_model_1\"\r\n",
    "file_path = Path('Resources/' + filename + '.h5')\r\n",
    "\r\n",
    "# Export your model to a HDF5 file\r\n",
    "nn.save(file_path)\r\n"
   ],
   "outputs": [],
   "metadata": {}
  },
  {
   "cell_type": "markdown",
   "source": [
    "---\n",
    "\n",
    "## Optimize the neural network model\n"
   ],
   "metadata": {}
  },
  {
   "cell_type": "markdown",
   "source": [
    "### Step 1: Define at least three new deep neural network models (resulting in the original plus 3 optimization attempts). With each, try to improve on your first model’s predictive accuracy.\n",
    "\n",
    "> **Rewind** Recall that perfect accuracy has a value of 1, so accuracy improves as its value moves closer to 1. To optimize your model for a predictive accuracy as close to 1 as possible, you can use any or all of the following techniques:\n",
    ">\n",
    "> * Adjust the input data by dropping different features columns to ensure that no variables or outliers confuse the model.\n",
    ">\n",
    "> * Add more neurons (nodes) to a hidden layer.\n",
    ">\n",
    "> * Add more hidden layers.\n",
    ">\n",
    "> * Use different activation functions for the hidden layers.\n",
    ">\n",
    "> * Add to or reduce the number of epochs in the training regimen.\n"
   ],
   "metadata": {}
  },
  {
   "cell_type": "markdown",
   "source": [
    "### Alternative Model 1 - Deep learning model with 2 hidden layers"
   ],
   "metadata": {}
  },
  {
   "cell_type": "code",
   "execution_count": 29,
   "source": [
    "# Define the the number of inputs (features) to the model\r\n",
    "number_input_features = len(X_train.iloc[0])\r\n",
    "print(number_input_features)\r\n"
   ],
   "outputs": [
    {
     "output_type": "stream",
     "name": "stdout",
     "text": [
      "25\n"
     ]
    }
   ],
   "metadata": {}
  },
  {
   "cell_type": "code",
   "execution_count": 30,
   "source": [
    "# Review the number of features\r\n",
    "number_input_features"
   ],
   "outputs": [
    {
     "output_type": "execute_result",
     "data": {
      "text/plain": [
       "25"
      ]
     },
     "metadata": {},
     "execution_count": 30
    }
   ],
   "metadata": {}
  },
  {
   "cell_type": "code",
   "execution_count": 31,
   "source": [
    "# Define the number of neurons in the output layer\r\n",
    "number_output_neurons_A1 = 2"
   ],
   "outputs": [],
   "metadata": {}
  },
  {
   "cell_type": "code",
   "execution_count": 32,
   "source": [
    "# Define the number of hidden nodes for the first hidden layer\r\n",
    "hidden_nodes_layer1_A1 =  int(round((number_input_features + number_output_neurons_A1)/2, 0))\r\n",
    "# Review the number hidden nodes in the first layer\r\n",
    "hidden_nodes_layer1_A1\r\n"
   ],
   "outputs": [
    {
     "output_type": "execute_result",
     "data": {
      "text/plain": [
       "14"
      ]
     },
     "metadata": {},
     "execution_count": 32
    }
   ],
   "metadata": {}
  },
  {
   "cell_type": "code",
   "execution_count": 33,
   "source": [
    "# Define the number of hidden nodes for the second hidden layer\r\n",
    "hidden_nodes_layer2_A1 =  int(round((hidden_nodes_layer1_A1 + number_output_neurons_A1)/2, 0))\r\n",
    "\r\n",
    "# Review the number hidden nodes in the second layer\r\n",
    "hidden_nodes_layer2_A1\r\n"
   ],
   "outputs": [
    {
     "output_type": "execute_result",
     "data": {
      "text/plain": [
       "8"
      ]
     },
     "metadata": {},
     "execution_count": 33
    }
   ],
   "metadata": {}
  },
  {
   "cell_type": "code",
   "execution_count": 34,
   "source": [
    "# Define the number of hidden nodes for the second hidden layer\r\n",
    "hidden_nodes_layer3_A1 =  int(round((hidden_nodes_layer2_A1 + number_output_neurons_A1)/2, 0))\r\n",
    "\r\n",
    "# Review the number hidden nodes in the second layer\r\n",
    "hidden_nodes_layer3_A1\r\n"
   ],
   "outputs": [
    {
     "output_type": "execute_result",
     "data": {
      "text/plain": [
       "5"
      ]
     },
     "metadata": {},
     "execution_count": 34
    }
   ],
   "metadata": {}
  },
  {
   "cell_type": "code",
   "execution_count": 35,
   "source": [
    "# Create the Sequential model instance\r\n",
    "nn_A1 = Sequential()"
   ],
   "outputs": [],
   "metadata": {}
  },
  {
   "cell_type": "code",
   "execution_count": 36,
   "source": [
    "# Add the first hidden layer\r\n",
    "nn_A1.add(Dense(units=hidden_nodes_layer1_A1, activation=\"relu\", input_dim=number_input_features))\r\n"
   ],
   "outputs": [],
   "metadata": {}
  },
  {
   "cell_type": "code",
   "execution_count": 37,
   "source": [
    "# Add the second hidden layer\r\n",
    "nn_A1.add(Dense(units=hidden_nodes_layer2_A1, activation=\"relu\"))\r\n"
   ],
   "outputs": [],
   "metadata": {}
  },
  {
   "cell_type": "code",
   "execution_count": 38,
   "source": [
    "# Add the second hidden layer\r\n",
    "nn_A1.add(Dense(units=hidden_nodes_layer3_A1, activation=\"relu\"))\r\n"
   ],
   "outputs": [],
   "metadata": {}
  },
  {
   "cell_type": "code",
   "execution_count": 39,
   "source": [
    "# Add the output layer to the model specifying the number of output neurons and activation function\r\n",
    "nn_A1.add(Dense(units=number_output_neurons_A1, activation=\"sigmoid\"))\r\n"
   ],
   "outputs": [],
   "metadata": {}
  },
  {
   "cell_type": "code",
   "execution_count": 40,
   "source": [
    "# Display the Sequential model summary\r\n",
    "nn_A1.summary()"
   ],
   "outputs": [
    {
     "output_type": "stream",
     "name": "stdout",
     "text": [
      "Model: \"sequential_1\"\n",
      "_________________________________________________________________\n",
      "Layer (type)                 Output Shape              Param #   \n",
      "=================================================================\n",
      "dense_3 (Dense)              (None, 14)                364       \n",
      "_________________________________________________________________\n",
      "dense_4 (Dense)              (None, 8)                 120       \n",
      "_________________________________________________________________\n",
      "dense_5 (Dense)              (None, 5)                 45        \n",
      "_________________________________________________________________\n",
      "dense_6 (Dense)              (None, 2)                 12        \n",
      "=================================================================\n",
      "Total params: 541\n",
      "Trainable params: 541\n",
      "Non-trainable params: 0\n",
      "_________________________________________________________________\n"
     ]
    }
   ],
   "metadata": {}
  },
  {
   "cell_type": "code",
   "execution_count": 41,
   "source": [
    "# Compile the Sequential model\r\n",
    "nn_A1.compile(loss=\"binary_crossentropy\", optimizer=\"adam\", metrics=[\"accuracy\"])\r\n"
   ],
   "outputs": [],
   "metadata": {}
  },
  {
   "cell_type": "code",
   "execution_count": 42,
   "source": [
    "# Fit the model using 50 epochs and the training data\r\n",
    "model_A1 = nn_A1.fit(X_train_scaled, y_train, epochs=50, verbose=0)\r\n"
   ],
   "outputs": [],
   "metadata": {}
  },
  {
   "cell_type": "markdown",
   "source": [
    "### Alternative Model 2 - Deep learning model with 3 hidden layers"
   ],
   "metadata": {}
  },
  {
   "cell_type": "code",
   "execution_count": 43,
   "source": [
    "# Define the the number of inputs (features) to the model\r\n",
    "number_input_features = len(X_train.iloc[0])\r\n",
    "print(number_input_features)\r\n"
   ],
   "outputs": [
    {
     "output_type": "stream",
     "name": "stdout",
     "text": [
      "25\n"
     ]
    }
   ],
   "metadata": {}
  },
  {
   "cell_type": "code",
   "execution_count": 44,
   "source": [
    "# Review the number of features\r\n",
    "number_input_features"
   ],
   "outputs": [
    {
     "output_type": "execute_result",
     "data": {
      "text/plain": [
       "25"
      ]
     },
     "metadata": {},
     "execution_count": 44
    }
   ],
   "metadata": {}
  },
  {
   "cell_type": "code",
   "execution_count": 45,
   "source": [
    "# Define the number of neurons in the output layer\r\n",
    "number_output_neurons_A2 = 2"
   ],
   "outputs": [],
   "metadata": {}
  },
  {
   "cell_type": "code",
   "execution_count": 46,
   "source": [
    "# Define the number of hidden nodes for the first hidden layer\r\n",
    "hidden_nodes_layer1_A2 =  int(round((number_input_features + number_output_neurons_A2)/2, 0))\r\n",
    "# Review the number hidden nodes in the first layer\r\n",
    "hidden_nodes_layer1_A2\r\n"
   ],
   "outputs": [
    {
     "output_type": "execute_result",
     "data": {
      "text/plain": [
       "14"
      ]
     },
     "metadata": {},
     "execution_count": 46
    }
   ],
   "metadata": {}
  },
  {
   "cell_type": "code",
   "execution_count": 47,
   "source": [
    "# Define the number of hidden nodes for the second hidden layer\r\n",
    "hidden_nodes_layer2_A2 =  int(round((hidden_nodes_layer1_A2 + number_output_neurons_A2)/2, 0))\r\n",
    "\r\n",
    "# Review the number hidden nodes in the second layer\r\n",
    "hidden_nodes_layer2_A2\r\n"
   ],
   "outputs": [
    {
     "output_type": "execute_result",
     "data": {
      "text/plain": [
       "8"
      ]
     },
     "metadata": {},
     "execution_count": 47
    }
   ],
   "metadata": {}
  },
  {
   "cell_type": "code",
   "execution_count": 48,
   "source": [
    "# Define the number of hidden nodes for the second hidden layer\r\n",
    "hidden_nodes_layer3_A2 =  int(round((hidden_nodes_layer2_A1 + number_output_neurons_A2)/2, 0))\r\n",
    "\r\n",
    "# Review the number hidden nodes in the second layer\r\n",
    "hidden_nodes_layer3_A2\r\n"
   ],
   "outputs": [
    {
     "output_type": "execute_result",
     "data": {
      "text/plain": [
       "5"
      ]
     },
     "metadata": {},
     "execution_count": 48
    }
   ],
   "metadata": {}
  },
  {
   "cell_type": "code",
   "execution_count": 49,
   "source": [
    "# Define the number of hidden nodes for the second hidden layer\r\n",
    "hidden_nodes_layer4_A2 =  int(round((hidden_nodes_layer3_A1 + number_output_neurons_A2)/2, 0))\r\n",
    "\r\n",
    "# Review the number hidden nodes in the second layer\r\n",
    "hidden_nodes_layer4_A2\r\n"
   ],
   "outputs": [
    {
     "output_type": "execute_result",
     "data": {
      "text/plain": [
       "4"
      ]
     },
     "metadata": {},
     "execution_count": 49
    }
   ],
   "metadata": {}
  },
  {
   "cell_type": "code",
   "execution_count": 50,
   "source": [
    "# Create the Sequential model instance\r\n",
    "nn_A2 = Sequential()"
   ],
   "outputs": [],
   "metadata": {}
  },
  {
   "cell_type": "code",
   "execution_count": 51,
   "source": [
    "# Add the first hidden layer\r\n",
    "nn_A2.add(Dense(units=hidden_nodes_layer1_A2, activation=\"relu\", input_dim=number_input_features))\r\n"
   ],
   "outputs": [],
   "metadata": {}
  },
  {
   "cell_type": "code",
   "execution_count": 52,
   "source": [
    "# Add the second hidden layer\r\n",
    "nn_A2.add(Dense(units=hidden_nodes_layer2_A2, activation=\"relu\"))\r\n"
   ],
   "outputs": [],
   "metadata": {}
  },
  {
   "cell_type": "code",
   "execution_count": 53,
   "source": [
    "# Add the second hidden layer\r\n",
    "nn_A2.add(Dense(units=hidden_nodes_layer3_A2, activation=\"relu\"))\r\n"
   ],
   "outputs": [],
   "metadata": {}
  },
  {
   "cell_type": "code",
   "execution_count": 54,
   "source": [
    "# Add the second hidden layer\r\n",
    "nn_A2.add(Dense(units=hidden_nodes_layer4_A2, activation=\"relu\"))\r\n"
   ],
   "outputs": [],
   "metadata": {}
  },
  {
   "cell_type": "code",
   "execution_count": 55,
   "source": [
    "# Add the output layer to the model specifying the number of output neurons and activation function\r\n",
    "nn_A2.add(Dense(units=number_output_neurons_A2, activation=\"sigmoid\"))\r\n"
   ],
   "outputs": [],
   "metadata": {}
  },
  {
   "cell_type": "code",
   "execution_count": 56,
   "source": [
    "# Display the Sequential model summary\r\n",
    "nn_A2.summary()"
   ],
   "outputs": [
    {
     "output_type": "stream",
     "name": "stdout",
     "text": [
      "Model: \"sequential_2\"\n",
      "_________________________________________________________________\n",
      "Layer (type)                 Output Shape              Param #   \n",
      "=================================================================\n",
      "dense_7 (Dense)              (None, 14)                364       \n",
      "_________________________________________________________________\n",
      "dense_8 (Dense)              (None, 8)                 120       \n",
      "_________________________________________________________________\n",
      "dense_9 (Dense)              (None, 5)                 45        \n",
      "_________________________________________________________________\n",
      "dense_10 (Dense)             (None, 4)                 24        \n",
      "_________________________________________________________________\n",
      "dense_11 (Dense)             (None, 2)                 10        \n",
      "=================================================================\n",
      "Total params: 563\n",
      "Trainable params: 563\n",
      "Non-trainable params: 0\n",
      "_________________________________________________________________\n"
     ]
    }
   ],
   "metadata": {}
  },
  {
   "cell_type": "code",
   "execution_count": 57,
   "source": [
    "# Compile the Sequential model\r\n",
    "nn_A2.compile(loss=\"binary_crossentropy\", optimizer=\"adam\", metrics=[\"accuracy\"])\r\n"
   ],
   "outputs": [],
   "metadata": {}
  },
  {
   "cell_type": "code",
   "execution_count": 58,
   "source": [
    "# Fit the model using 50 epochs and the training data\r\n",
    "model_A2 = nn_A2.fit(X_train_scaled, y_train, epochs=50, verbose=0)\r\n"
   ],
   "outputs": [],
   "metadata": {}
  },
  {
   "cell_type": "markdown",
   "source": [
    "#### Alternative Model 3 - Principal Component Analysis"
   ],
   "metadata": {}
  },
  {
   "cell_type": "code",
   "execution_count": 59,
   "source": [
    "from sklearn.decomposition import PCA\r\n"
   ],
   "outputs": [],
   "metadata": {}
  },
  {
   "cell_type": "code",
   "execution_count": 60,
   "source": [
    "# Create a StandardScaler instance\r\n",
    "pca_scaler = StandardScaler()\r\n",
    "\r\n",
    "# Fit the scaler to the features\r\n",
    "X_pca_scaler = pca_scaler.fit(X)\r\n",
    "\r\n",
    "# Fit the scaler to the features\r\n",
    "X_pca_scaled = X_pca_scaler.transform(X)\r\n"
   ],
   "outputs": [],
   "metadata": {}
  },
  {
   "cell_type": "code",
   "execution_count": 61,
   "source": [
    "# for n in range(2, number_input_features):\r\n",
    "n = number_input_features\r\n",
    "best_n = n\r\n",
    "total_exp_var = 100.0\r\n",
    "while total_exp_var > 99.999:\r\n",
    "# for n in range(number_input_features, 2, -1):\r\n",
    "    pca = PCA(n_components=n, random_state=1)\r\n",
    "    X_pca = pca.fit_transform(X_pca_scaled)\r\n",
    "    exp_var = pca.explained_variance_ratio_\r\n",
    "#     print(f'{exp_var}')\r\n",
    "    total_exp_var = 100*exp_var.sum()\r\n",
    "    print(f'N = {n:3}: Total explained variance: {total_exp_var:.4f}%')\r\n",
    "\r\n",
    "    if total_exp_var > 99.999:\r\n",
    "        best_n = n\r\n",
    "    n -= 1"
   ],
   "outputs": [
    {
     "output_type": "stream",
     "name": "stdout",
     "text": [
      "N =  25: Total explained variance: 100.0000%\n",
      "N =  24: Total explained variance: 100.0000%\n",
      "N =  23: Total explained variance: 100.0000%\n",
      "N =  22: Total explained variance: 100.0000%\n",
      "N =  21: Total explained variance: 99.9999%\n",
      "N =  20: Total explained variance: 99.9998%\n",
      "N =  19: Total explained variance: 99.9996%\n",
      "N =  18: Total explained variance: 99.9993%\n",
      "N =  17: Total explained variance: 99.9984%\n"
     ]
    }
   ],
   "metadata": {
    "collapsed": true,
    "jupyter": {
     "outputs_hidden": true
    }
   }
  },
  {
   "cell_type": "code",
   "execution_count": 62,
   "source": [
    "print(best_n)\r\n",
    "pca = PCA(n_components=best_n, random_state=1)\r\n",
    "X_pca = pca.fit_transform(X_pca_scaled)\r\n",
    "exp_var = pca.explained_variance_ratio_\r\n",
    "print(f'N = {best_n:3}: Total explained variance: {100*exp_var.sum():.4f}%')\r\n"
   ],
   "outputs": [
    {
     "output_type": "stream",
     "name": "stdout",
     "text": [
      "18\n",
      "N =  18: Total explained variance: 99.9993%\n"
     ]
    }
   ],
   "metadata": {}
  },
  {
   "cell_type": "code",
   "execution_count": 63,
   "source": [
    "X_pca_train, X_pca_test, y_pca_train, y_pca_test = train_test_split(X_pca, y, random_state=1)"
   ],
   "outputs": [],
   "metadata": {}
  },
  {
   "cell_type": "code",
   "execution_count": 64,
   "source": [
    "# Define the the number of inputs (features) to the model\r\n",
    "number_input_features = best_n\r\n",
    "print(number_input_features)\r\n"
   ],
   "outputs": [
    {
     "output_type": "stream",
     "name": "stdout",
     "text": [
      "18\n"
     ]
    }
   ],
   "metadata": {}
  },
  {
   "cell_type": "code",
   "execution_count": 65,
   "source": [
    "# Define the number of neurons in the output layer\r\n",
    "number_output_neurons_A3 = 2"
   ],
   "outputs": [],
   "metadata": {}
  },
  {
   "cell_type": "code",
   "execution_count": 66,
   "source": [
    "# Define the number of hidden nodes for the first hidden layer\r\n",
    "hidden_nodes_layer1_A3 =  int(round((number_input_features + number_output_neurons_A3)/2, 0))\r\n",
    "# Review the number hidden nodes in the first layer\r\n",
    "hidden_nodes_layer1_A3\r\n"
   ],
   "outputs": [
    {
     "output_type": "execute_result",
     "data": {
      "text/plain": [
       "10"
      ]
     },
     "metadata": {},
     "execution_count": 66
    }
   ],
   "metadata": {}
  },
  {
   "cell_type": "code",
   "execution_count": 67,
   "source": [
    "# Define the number of hidden nodes for the second hidden layer\r\n",
    "hidden_nodes_layer2_A3 =  int(round((hidden_nodes_layer1_A3 + number_output_neurons_A3)/2, 0))\r\n",
    "\r\n",
    "# Review the number hidden nodes in the second layer\r\n",
    "hidden_nodes_layer2_A3\r\n"
   ],
   "outputs": [
    {
     "output_type": "execute_result",
     "data": {
      "text/plain": [
       "6"
      ]
     },
     "metadata": {},
     "execution_count": 67
    }
   ],
   "metadata": {}
  },
  {
   "cell_type": "code",
   "execution_count": 68,
   "source": [
    "# Define the number of hidden nodes for the third hidden layer\r\n",
    "hidden_nodes_layer3_A3 =  int(round((hidden_nodes_layer2_A3 + number_output_neurons_A3)/2, 0))\r\n",
    "\r\n",
    "# Review the number hidden nodes in the third layer\r\n",
    "hidden_nodes_layer3_A3\r\n"
   ],
   "outputs": [
    {
     "output_type": "execute_result",
     "data": {
      "text/plain": [
       "4"
      ]
     },
     "metadata": {},
     "execution_count": 68
    }
   ],
   "metadata": {}
  },
  {
   "cell_type": "code",
   "execution_count": 69,
   "source": [
    "# Create the Sequential model instance\r\n",
    "nn_A3 = Sequential()"
   ],
   "outputs": [],
   "metadata": {}
  },
  {
   "cell_type": "code",
   "execution_count": 70,
   "source": [
    "# Add the first hidden layer\r\n",
    "nn_A3.add(Dense(units=hidden_nodes_layer1_A3, activation=\"relu\", input_dim=number_input_features))\r\n"
   ],
   "outputs": [],
   "metadata": {}
  },
  {
   "cell_type": "code",
   "execution_count": 71,
   "source": [
    "# Add the second hidden layer\r\n",
    "nn_A3.add(Dense(units=hidden_nodes_layer2_A3, activation=\"relu\"))\r\n"
   ],
   "outputs": [],
   "metadata": {}
  },
  {
   "cell_type": "code",
   "execution_count": 72,
   "source": [
    "# Add the third hidden layer\r\n",
    "nn_A3.add(Dense(units=hidden_nodes_layer3_A3, activation=\"relu\"))\r\n"
   ],
   "outputs": [],
   "metadata": {}
  },
  {
   "cell_type": "code",
   "execution_count": 73,
   "source": [
    "# Add the output layer to the model specifying the number of output neurons and activation function\r\n",
    "nn_A3.add(Dense(units=number_output_neurons_A3, activation=\"sigmoid\"))\r\n"
   ],
   "outputs": [],
   "metadata": {}
  },
  {
   "cell_type": "code",
   "execution_count": 74,
   "source": [
    "# Display the Sequential model summary\r\n",
    "nn_A3.summary()"
   ],
   "outputs": [
    {
     "output_type": "stream",
     "name": "stdout",
     "text": [
      "Model: \"sequential_3\"\n",
      "_________________________________________________________________\n",
      "Layer (type)                 Output Shape              Param #   \n",
      "=================================================================\n",
      "dense_12 (Dense)             (None, 10)                190       \n",
      "_________________________________________________________________\n",
      "dense_13 (Dense)             (None, 6)                 66        \n",
      "_________________________________________________________________\n",
      "dense_14 (Dense)             (None, 4)                 28        \n",
      "_________________________________________________________________\n",
      "dense_15 (Dense)             (None, 2)                 10        \n",
      "=================================================================\n",
      "Total params: 294\n",
      "Trainable params: 294\n",
      "Non-trainable params: 0\n",
      "_________________________________________________________________\n"
     ]
    }
   ],
   "metadata": {}
  },
  {
   "cell_type": "code",
   "execution_count": 75,
   "source": [
    "# Compile the Sequential model\r\n",
    "nn_A3.compile(loss=\"binary_crossentropy\", optimizer=\"adam\", metrics=[\"accuracy\"])\r\n"
   ],
   "outputs": [],
   "metadata": {}
  },
  {
   "cell_type": "code",
   "execution_count": 76,
   "source": [
    "# Fit the model using 50 epochs and the training data\r\n",
    "model_A3 = nn_A3.fit(X_pca_train, y_pca_train, epochs=50, verbose=1)\r\n"
   ],
   "outputs": [
    {
     "output_type": "stream",
     "name": "stdout",
     "text": [
      "Epoch 1/50\n",
      "252/252 [==============================] - 0s 501us/step - loss: 0.3876 - accuracy: 0.2611\n",
      "Epoch 2/50\n",
      "252/252 [==============================] - 0s 517us/step - loss: 0.1657 - accuracy: 0.2611\n",
      "Epoch 3/50\n",
      "252/252 [==============================] - 0s 493us/step - loss: 0.0708 - accuracy: 0.2611\n",
      "Epoch 4/50\n",
      "252/252 [==============================] - 0s 513us/step - loss: 0.0448 - accuracy: 0.2825\n",
      "Epoch 5/50\n",
      "252/252 [==============================] - 0s 528us/step - loss: 0.0347 - accuracy: 0.6519\n",
      "Epoch 6/50\n",
      "252/252 [==============================] - 0s 513us/step - loss: 0.0287 - accuracy: 0.6730\n",
      "Epoch 7/50\n",
      "252/252 [==============================] - 0s 513us/step - loss: 0.0241 - accuracy: 0.6355\n",
      "Epoch 8/50\n",
      "252/252 [==============================] - 0s 509us/step - loss: 0.0208 - accuracy: 0.5813\n",
      "Epoch 9/50\n",
      "252/252 [==============================] - 0s 548us/step - loss: 0.0172 - accuracy: 0.5246\n",
      "Epoch 10/50\n",
      "252/252 [==============================] - 0s 511us/step - loss: 0.0145 - accuracy: 0.4755\n",
      "Epoch 11/50\n",
      "252/252 [==============================] - 0s 501us/step - loss: 0.0123 - accuracy: 0.4701\n",
      "Epoch 12/50\n",
      "252/252 [==============================] - 0s 485us/step - loss: 0.0102 - accuracy: 0.4450\n",
      "Epoch 13/50\n",
      "252/252 [==============================] - 0s 469us/step - loss: 0.0088 - accuracy: 0.4492\n",
      "Epoch 14/50\n",
      "252/252 [==============================] - 0s 465us/step - loss: 0.0076 - accuracy: 0.4571\n",
      "Epoch 15/50\n",
      "252/252 [==============================] - 0s 461us/step - loss: 0.0066 - accuracy: 0.4747\n",
      "Epoch 16/50\n",
      "252/252 [==============================] - 0s 462us/step - loss: 0.0056 - accuracy: 0.4897\n",
      "Epoch 17/50\n",
      "252/252 [==============================] - 0s 473us/step - loss: 0.0046 - accuracy: 0.5367\n",
      "Epoch 18/50\n",
      "252/252 [==============================] - 0s 493us/step - loss: 0.0034 - accuracy: 0.6231\n",
      "Epoch 19/50\n",
      "252/252 [==============================] - 0s 481us/step - loss: 0.0021 - accuracy: 0.6887\n",
      "Epoch 20/50\n",
      "252/252 [==============================] - 0s 477us/step - loss: 0.0012 - accuracy: 0.6211\n",
      "Epoch 21/50\n",
      "252/252 [==============================] - 0s 485us/step - loss: 6.9412e-04 - accuracy: 0.5862\n",
      "Epoch 22/50\n",
      "252/252 [==============================] - 0s 489us/step - loss: 4.0388e-04 - accuracy: 0.5436\n",
      "Epoch 23/50\n",
      "252/252 [==============================] - 0s 485us/step - loss: 2.5242e-04 - accuracy: 0.5194\n",
      "Epoch 24/50\n",
      "252/252 [==============================] - 0s 481us/step - loss: 1.7033e-04 - accuracy: 0.5098\n",
      "Epoch 25/50\n",
      "252/252 [==============================] - 0s 485us/step - loss: 1.1818e-04 - accuracy: 0.4820\n",
      "Epoch 26/50\n",
      "252/252 [==============================] - 0s 481us/step - loss: 8.4844e-05 - accuracy: 0.4842\n",
      "Epoch 27/50\n",
      "252/252 [==============================] - 0s 485us/step - loss: 6.0810e-05 - accuracy: 0.4873\n",
      "Epoch 28/50\n",
      "252/252 [==============================] - 0s 487us/step - loss: 4.5558e-05 - accuracy: 0.4782\n",
      "Epoch 29/50\n",
      "252/252 [==============================] - 0s 485us/step - loss: 3.4715e-05 - accuracy: 0.4676\n",
      "Epoch 30/50\n",
      "252/252 [==============================] - 0s 481us/step - loss: 2.7060e-05 - accuracy: 0.4690\n",
      "Epoch 31/50\n",
      "252/252 [==============================] - 0s 477us/step - loss: 2.0800e-05 - accuracy: 0.4592\n",
      "Epoch 32/50\n",
      "252/252 [==============================] - 0s 473us/step - loss: 1.6566e-05 - accuracy: 0.4584\n",
      "Epoch 33/50\n",
      "252/252 [==============================] - 0s 477us/step - loss: 1.3229e-05 - accuracy: 0.4492\n",
      "Epoch 34/50\n",
      "252/252 [==============================] - 0s 477us/step - loss: 1.0711e-05 - accuracy: 0.4502\n",
      "Epoch 35/50\n",
      "252/252 [==============================] - 0s 485us/step - loss: 8.7819e-06 - accuracy: 0.4436\n",
      "Epoch 36/50\n",
      "252/252 [==============================] - 0s 481us/step - loss: 7.2046e-06 - accuracy: 0.4450\n",
      "Epoch 37/50\n",
      "252/252 [==============================] - 0s 481us/step - loss: 5.9597e-06 - accuracy: 0.4440\n",
      "Epoch 38/50\n",
      "252/252 [==============================] - 0s 481us/step - loss: 4.9422e-06 - accuracy: 0.4395\n",
      "Epoch 39/50\n",
      "252/252 [==============================] - 0s 497us/step - loss: 4.1083e-06 - accuracy: 0.4342\n",
      "Epoch 40/50\n",
      "252/252 [==============================] - 0s 469us/step - loss: 3.4583e-06 - accuracy: 0.4368\n",
      "Epoch 41/50\n",
      "252/252 [==============================] - 0s 493us/step - loss: 2.8936e-06 - accuracy: 0.4297\n",
      "Epoch 42/50\n",
      "252/252 [==============================] - 0s 465us/step - loss: 2.4327e-06 - accuracy: 0.4323\n",
      "Epoch 43/50\n",
      "252/252 [==============================] - 0s 461us/step - loss: 2.0831e-06 - accuracy: 0.4303\n",
      "Epoch 44/50\n",
      "252/252 [==============================] - 0s 465us/step - loss: 1.7521e-06 - accuracy: 0.4200\n",
      "Epoch 45/50\n",
      "252/252 [==============================] - 0s 469us/step - loss: 1.4849e-06 - accuracy: 0.4268\n",
      "Epoch 46/50\n",
      "252/252 [==============================] - 0s 461us/step - loss: 1.2827e-06 - accuracy: 0.4231\n",
      "Epoch 47/50\n",
      "252/252 [==============================] - 0s 471us/step - loss: 1.0870e-06 - accuracy: 0.4230\n",
      "Epoch 48/50\n",
      "252/252 [==============================] - 0s 453us/step - loss: 9.2611e-07 - accuracy: 0.4226\n",
      "Epoch 49/50\n",
      "252/252 [==============================] - 0s 461us/step - loss: 8.0329e-07 - accuracy: 0.4237\n",
      "Epoch 50/50\n",
      "252/252 [==============================] - 0s 473us/step - loss: 6.8795e-07 - accuracy: 0.4231\n"
     ]
    }
   ],
   "metadata": {}
  },
  {
   "cell_type": "markdown",
   "source": [
    "### Step 2: After finishing your models, display the accuracy scores achieved by each model, and compare the results."
   ],
   "metadata": {}
  },
  {
   "cell_type": "code",
   "execution_count": 77,
   "source": [
    "print(\"Original Model Results\")\r\n",
    "\r\n",
    "# Evaluate the model loss and accuracy metrics using the evaluate method and the test data\r\n",
    "model_loss, model_accuracy = nn.evaluate(X_test_scaled, y_test, verbose=True)\r\n",
    "\r\n",
    "# Display the model loss and accuracy results\r\n",
    "print(f\"Loss: {model_loss}, Accuracy: {model_accuracy}\")"
   ],
   "outputs": [
    {
     "output_type": "stream",
     "name": "stdout",
     "text": [
      "Original Model Results\n",
      "84/84 [==============================] - 0s 378us/step - loss: 7.0634e-04 - accuracy: 0.4602\n",
      "Loss: 0.0007063411176204681, Accuracy: 0.46024635434150696\n"
     ]
    }
   ],
   "metadata": {}
  },
  {
   "cell_type": "code",
   "execution_count": 78,
   "source": [
    "print(\"Alternative Model 1 Results\")\r\n",
    "\r\n",
    "# Evaluate the model loss and accuracy metrics using the evaluate method and the test data\r\n",
    "model_loss, model_accuracy = nn_A1.evaluate(X_test_scaled, y_test, verbose=True)\r\n",
    "\r\n",
    "# Display the model loss and accuracy results\r\n",
    "print(f\"Loss: {model_loss}, Accuracy: {model_accuracy}\")"
   ],
   "outputs": [
    {
     "output_type": "stream",
     "name": "stdout",
     "text": [
      "Alternative Model 1 Results\n",
      "84/84 [==============================] - 0s 389us/step - loss: 6.1215e-04 - accuracy: 0.6794\n",
      "Loss: 0.0006121503538452089, Accuracy: 0.6793579459190369\n"
     ]
    }
   ],
   "metadata": {}
  },
  {
   "cell_type": "code",
   "execution_count": 79,
   "source": [
    "print(\"Alternative Model 2 Results\")\r\n",
    "\r\n",
    "# Evaluate the model loss and accuracy metrics using the evaluate method and the test data\r\n",
    "model_loss, model_accuracy = nn_A2.evaluate(X_test_scaled, y_test, verbose=True)\r\n",
    "\r\n",
    "# Display the model loss and accuracy results\r\n",
    "print(f\"Loss: {model_loss}, Accuracy: {model_accuracy}\")"
   ],
   "outputs": [
    {
     "output_type": "stream",
     "name": "stdout",
     "text": [
      "Alternative Model 2 Results\n",
      "84/84 [==============================] - 0s 385us/step - loss: 1.4719e-05 - accuracy: 0.8335\n",
      "Loss: 1.4718576494487934e-05, Accuracy: 0.8335199952125549\n"
     ]
    }
   ],
   "metadata": {}
  },
  {
   "cell_type": "code",
   "execution_count": 80,
   "source": [
    "print(\"Alternative Model 3 Results\")\r\n",
    "\r\n",
    "# Evaluate the model loss and accuracy metrics using the evaluate method and the test data\r\n",
    "model_loss, model_accuracy = nn_A3.evaluate(X_pca_test, y_pca_test, verbose=True)\r\n",
    "\r\n",
    "# Display the model loss and accuracy results\r\n",
    "print(f\"Loss: {model_loss}, Accuracy: {model_accuracy}\")"
   ],
   "outputs": [
    {
     "output_type": "stream",
     "name": "stdout",
     "text": [
      "Alternative Model 3 Results\n",
      "84/84 [==============================] - 0s 389us/step - loss: 7.2803e-07 - accuracy: 0.4117\n",
      "Loss: 7.280316935975861e-07, Accuracy: 0.41172078251838684\n"
     ]
    }
   ],
   "metadata": {}
  },
  {
   "cell_type": "markdown",
   "source": [
    "### Run different numbers of epochs on best model"
   ],
   "metadata": {}
  },
  {
   "cell_type": "code",
   "execution_count": 81,
   "source": [
    "# Fit the model using the training data with different numbers of epochs\r\n",
    "model_list = []\r\n",
    "for n in range(50, 151, 20):\r\n",
    "    print(f'Fitting model, epochs: {n}')\r\n",
    "    model_list.append(nn_A1.fit(X_train_scaled, y_train, epochs=50, verbose=False))\r\n",
    "#     model_A1 = nn_A1.fit(X_train_scaled, y_train, epochs=50, verbose=False)\r\n",
    "\r\n",
    "    # Evaluate the model loss and accuracy metrics using the evaluate method and the test data\r\n",
    "    model_loss, model_accuracy = nn_A1.evaluate(X_test_scaled, y_test, verbose=True)\r\n",
    "    # Display the model loss and accuracy results\r\n",
    "    print(f\"Loss: {model_loss}, Accuracy: {model_accuracy}\")    "
   ],
   "outputs": [
    {
     "output_type": "stream",
     "name": "stdout",
     "text": [
      "Fitting model, epochs: 50\n",
      "84/84 [==============================] - 0s 395us/step - loss: 4.4309e-04 - accuracy: 0.6487\n",
      "Loss: 0.00044309100485406816, Accuracy: 0.6487495303153992\n",
      "Fitting model, epochs: 70\n",
      "84/84 [==============================] - 0s 395us/step - loss: 3.6810e-04 - accuracy: 0.6443\n",
      "Loss: 0.0003680962836369872, Accuracy: 0.6442702412605286\n",
      "Fitting model, epochs: 90\n",
      "84/84 [==============================] - 0s 405us/step - loss: 3.0105e-04 - accuracy: 0.6603\n",
      "Loss: 0.0003010539512615651, Accuracy: 0.6603209972381592\n",
      "Fitting model, epochs: 110\n",
      "84/84 [==============================] - 0s 421us/step - loss: 2.5653e-04 - accuracy: 0.6592\n",
      "Loss: 0.00025652869953773916, Accuracy: 0.6592012047767639\n",
      "Fitting model, epochs: 130\n",
      "84/84 [==============================] - 0s 418us/step - loss: 2.2682e-04 - accuracy: 0.6644\n",
      "Loss: 0.00022681888367515057, Accuracy: 0.6644270420074463\n",
      "Fitting model, epochs: 150\n",
      "84/84 [==============================] - 0s 461us/step - loss: 2.0914e-04 - accuracy: 0.6536\n",
      "Loss: 0.0002091377682518214, Accuracy: 0.6536020636558533\n"
     ]
    }
   ],
   "metadata": {}
  },
  {
   "cell_type": "code",
   "execution_count": 82,
   "source": [
    "# for model in model_list:\r\n",
    "#     pass\r\n",
    "#     print(model.history)\r\n",
    "    # Evaluate the model loss and accuracy metrics using the evaluate method and the test data\r\n",
    "#     model_loss, model_accuracy = nn.evaluate(X_test_scaled, y_test, verbose=True)\r\n",
    "    # Display the model loss and accuracy results\r\n",
    "#     print(f\"Loss: {model_loss}, Accuracy: {model_accuracy}\")    "
   ],
   "outputs": [],
   "metadata": {}
  },
  {
   "cell_type": "markdown",
   "source": [
    "### Step 3: Save each of your alternative models as an HDF5 file.\n"
   ],
   "metadata": {}
  },
  {
   "cell_type": "code",
   "execution_count": 83,
   "source": [
    "# Set the file path for the first alternative model\r\n",
    "filename = \"DLNN_model_A1\"\r\n",
    "file_path_A1 = Path('Resources/' + filename + '.h5')\r\n",
    "\r\n",
    "# Export your model to a HDF5 file\r\n",
    "nn_A1.save(file_path_A1)\r\n"
   ],
   "outputs": [],
   "metadata": {}
  },
  {
   "cell_type": "code",
   "execution_count": 84,
   "source": [
    "# Set the file path for the second alternative model\r\n",
    "filename = \"DLNN_model_A2\"\r\n",
    "file_path_A2 = Path('Resources/' + filename + '.h5')\r\n",
    "\r\n",
    "# Export your model to a HDF5 file\r\n",
    "nn_A2.save(file_path_A2)\r\n"
   ],
   "outputs": [],
   "metadata": {}
  },
  {
   "cell_type": "code",
   "execution_count": 85,
   "source": [
    "# # Set the file path for the third alternative model\r\n",
    "filename = \"DLNN_model_A3\"\r\n",
    "file_path_A3 = Path('Resources/' + filename + '.h5')\r\n",
    "\r\n",
    "# # Export your model to a HDF5 file\r\n",
    "nn_A3.save(file_path_A3)\r\n"
   ],
   "outputs": [],
   "metadata": {}
  }
 ],
 "metadata": {
  "orig_nbformat": 4,
  "language_info": {
   "name": "python",
   "version": "3.7.10",
   "mimetype": "text/x-python",
   "codemirror_mode": {
    "name": "ipython",
    "version": 3
   },
   "pygments_lexer": "ipython3",
   "nbconvert_exporter": "python",
   "file_extension": ".py"
  },
  "kernelspec": {
   "name": "python3",
   "display_name": "Python 3.7.10 64-bit ('algo': conda)"
  },
  "interpreter": {
   "hash": "d4156aaab05991101c6a751683038476f3e64298aad0394e408e9e53044404ee"
  }
 },
 "nbformat": 4,
 "nbformat_minor": 2
}