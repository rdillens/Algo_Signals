{
 "cells": [
  {
   "cell_type": "code",
   "execution_count": 29,
   "source": [
    "import pandas as pd\r\n",
    "from pathlib import Path\r\n",
    "import tensorflow as tf\r\n",
    "from tensorflow.keras.layers import Dense\r\n",
    "from tensorflow.keras.models import Sequential\r\n",
    "from sklearn.model_selection import train_test_split\r\n",
    "from sklearn.preprocessing import StandardScaler,OneHotEncoder\r\n",
    "import sqlalchemy\r\n",
    "# import h5py"
   ],
   "outputs": [],
   "metadata": {}
  },
  {
   "cell_type": "code",
   "execution_count": 30,
   "source": [
    "db_connection_string = 'sqlite:///./Resources/products.db'\r\n",
    "engine  = sqlalchemy.create_engine(db_connection_string)\r\n",
    "\r\n",
    "inspector = sqlalchemy.inspect(engine)\r\n",
    "table_names = inspector.get_table_names()\r\n",
    "print(table_names)"
   ],
   "outputs": [
    {
     "output_type": "stream",
     "name": "stdout",
     "text": [
      "['HSFT_1_Day_Candles', 'HSFT_Info', 'Indicators', 'MSFT_1_Day_Candles', 'MSFT_1_Min_Candles', 'MSFT_Info', 'TSLA_1_Day_Candles', 'TSLA_1_Min_Candles', 'TSLA_Info']\n"
     ]
    }
   ],
   "metadata": {}
  },
  {
   "cell_type": "code",
   "execution_count": 31,
   "source": [
    "indicators_df = pd.read_sql_table('Indicators', con=engine, index_col='Datetime')"
   ],
   "outputs": [],
   "metadata": {}
  },
  {
   "cell_type": "markdown",
   "source": [
    "---\n",
    "\n",
    "## Prepare the data to be used on a neural network model"
   ],
   "metadata": {}
  },
  {
   "cell_type": "code",
   "execution_count": 32,
   "source": [
    "print(indicators_df.head())"
   ],
   "outputs": [
    {
     "output_type": "stream",
     "name": "stdout",
     "text": [
      "                       Open    High      Low   Close  Volume  CDLDOJI  \\\n",
      "Datetime                                                                \n",
      "2021-09-02 12:56:00  733.89  734.31  733.750  734.21   28796        0   \n",
      "2021-09-02 12:57:00  734.29  734.64  734.219  734.41   34903        0   \n",
      "2021-09-02 12:58:00  734.35  734.63  734.260  734.50   19890        0   \n",
      "2021-09-02 12:59:00  734.60  734.77  734.510  734.56    9812      100   \n",
      "2021-09-02 13:00:00  734.35  734.66  734.290  734.50   23069        0   \n",
      "\n",
      "                     Trailing Stop  Trade Signal  Pct Change   Stop Loss  \\\n",
      "Datetime                                                                   \n",
      "2021-09-02 12:56:00     732.988571           1.0    0.000463  732.988571   \n",
      "2021-09-02 12:57:00     733.199031           1.0    0.000272  733.199031   \n",
      "2021-09-02 12:58:00     733.309457           1.0    0.000123  733.309457   \n",
      "2021-09-02 12:59:00     733.406281           1.0    0.000082  733.406281   \n",
      "2021-09-02 13:00:00     733.362619           1.0   -0.000082  733.406281   \n",
      "\n",
      "                     CDL3WHITESOLDIERS  CDLABANDONEDBABY  CDLADVANCEBLOCK  \\\n",
      "Datetime                                                                    \n",
      "2021-09-02 12:56:00                  0                 0                0   \n",
      "2021-09-02 12:57:00                  0                 0                0   \n",
      "2021-09-02 12:58:00                  0                 0                0   \n",
      "2021-09-02 12:59:00                  0                 0                0   \n",
      "2021-09-02 13:00:00                  0                 0                0   \n",
      "\n",
      "                     CDLBELTHOLD  CDLBREAKAWAY  CDLCLOSINGMARUBOZU  \\\n",
      "Datetime                                                             \n",
      "2021-09-02 12:56:00            0             0                   0   \n",
      "2021-09-02 12:57:00            0             0                   0   \n",
      "2021-09-02 12:58:00            0             0                   0   \n",
      "2021-09-02 12:59:00            0             0                   0   \n",
      "2021-09-02 13:00:00            0             0                   0   \n",
      "\n",
      "                     CDLCONCEALBABYSWALL  CDLCOUNTERATTACK  CDLDARKCLOUDCOVER  \n",
      "Datetime                                                                       \n",
      "2021-09-02 12:56:00                    0                 0                  0  \n",
      "2021-09-02 12:57:00                    0                 0                  0  \n",
      "2021-09-02 12:58:00                    0                 0                  0  \n",
      "2021-09-02 12:59:00                    0                 0                  0  \n",
      "2021-09-02 13:00:00                    0                 0                  0  \n"
     ]
    }
   ],
   "metadata": {}
  },
  {
   "cell_type": "code",
   "execution_count": 33,
   "source": [
    "# Review the data types associated with the columns\r\n",
    "indicators_df.dtypes"
   ],
   "outputs": [
    {
     "output_type": "execute_result",
     "data": {
      "text/plain": [
       "Open                   float64\n",
       "High                   float64\n",
       "Low                    float64\n",
       "Close                  float64\n",
       "Volume                   int64\n",
       "CDLDOJI                  int64\n",
       "Trailing Stop          float64\n",
       "Trade Signal           float64\n",
       "Pct Change             float64\n",
       "Stop Loss              float64\n",
       "CDL3WHITESOLDIERS        int64\n",
       "CDLABANDONEDBABY         int64\n",
       "CDLADVANCEBLOCK          int64\n",
       "CDLBELTHOLD              int64\n",
       "CDLBREAKAWAY             int64\n",
       "CDLCLOSINGMARUBOZU       int64\n",
       "CDLCONCEALBABYSWALL      int64\n",
       "CDLCOUNTERATTACK         int64\n",
       "CDLDARKCLOUDCOVER        int64\n",
       "dtype: object"
      ]
     },
     "metadata": {},
     "execution_count": 33
    }
   ],
   "metadata": {}
  },
  {
   "cell_type": "code",
   "execution_count": 34,
   "source": [
    "display(indicators_df['Trade Signal'].value_counts())"
   ],
   "outputs": [
    {
     "output_type": "display_data",
     "data": {
      "text/plain": [
       " 1.0    11282\n",
       " 0.0      843\n",
       "-1.0      350\n",
       "Name: Trade Signal, dtype: int64"
      ]
     },
     "metadata": {}
    }
   ],
   "metadata": {}
  },
  {
   "cell_type": "markdown",
   "source": [
    "### Step 5: Using the preprocessed data, create the features (`X`) and target (`y`) datasets. The target dataset should be defined by the preprocessed DataFrame column “IS_SUCCESSFUL”. The remaining columns should define the features dataset. \n",
    "\n"
   ],
   "metadata": {}
  },
  {
   "cell_type": "markdown",
   "source": [
    "### Step 3: Encode the dataset’s categorical variables using `OneHotEncoder`, and then place the encoded variables into a new DataFrame."
   ],
   "metadata": {}
  },
  {
   "cell_type": "code",
   "execution_count": 35,
   "source": [
    "# Create a list of categorical variables \r\n",
    "categorical_variables = ['Trade Signal']\r\n",
    "\r\n",
    "# Display the categorical variables list\r\n",
    "display(categorical_variables)"
   ],
   "outputs": [
    {
     "output_type": "display_data",
     "data": {
      "text/plain": [
       "['Trade Signal']"
      ]
     },
     "metadata": {}
    }
   ],
   "metadata": {}
  },
  {
   "cell_type": "code",
   "execution_count": 36,
   "source": [
    "# Create a OneHotEncoder instance\r\n",
    "enc = OneHotEncoder(sparse=False)\r\n"
   ],
   "outputs": [],
   "metadata": {}
  },
  {
   "cell_type": "code",
   "execution_count": 37,
   "source": [
    "# Encode the categorcal variables using OneHotEncoder\r\n",
    "encoded_data = enc.fit_transform(indicators_df[categorical_variables])\r\n"
   ],
   "outputs": [],
   "metadata": {}
  },
  {
   "cell_type": "code",
   "execution_count": 38,
   "source": [
    "# Create a DataFrame with the encoded variables\r\n",
    "encoded_df = pd.DataFrame(\r\n",
    "    encoded_data,\r\n",
    "    columns = enc.get_feature_names(categorical_variables)\r\n",
    ")\r\n",
    "# Review the DataFrame\r\n",
    "display(encoded_df.head(10))"
   ],
   "outputs": [
    {
     "output_type": "display_data",
     "data": {
      "text/html": [
       "<div>\n",
       "<style scoped>\n",
       "    .dataframe tbody tr th:only-of-type {\n",
       "        vertical-align: middle;\n",
       "    }\n",
       "\n",
       "    .dataframe tbody tr th {\n",
       "        vertical-align: top;\n",
       "    }\n",
       "\n",
       "    .dataframe thead th {\n",
       "        text-align: right;\n",
       "    }\n",
       "</style>\n",
       "<table border=\"1\" class=\"dataframe\">\n",
       "  <thead>\n",
       "    <tr style=\"text-align: right;\">\n",
       "      <th></th>\n",
       "      <th>Trade Signal_-1.0</th>\n",
       "      <th>Trade Signal_0.0</th>\n",
       "      <th>Trade Signal_1.0</th>\n",
       "    </tr>\n",
       "  </thead>\n",
       "  <tbody>\n",
       "    <tr>\n",
       "      <th>0</th>\n",
       "      <td>0.0</td>\n",
       "      <td>0.0</td>\n",
       "      <td>1.0</td>\n",
       "    </tr>\n",
       "    <tr>\n",
       "      <th>1</th>\n",
       "      <td>0.0</td>\n",
       "      <td>0.0</td>\n",
       "      <td>1.0</td>\n",
       "    </tr>\n",
       "    <tr>\n",
       "      <th>2</th>\n",
       "      <td>0.0</td>\n",
       "      <td>0.0</td>\n",
       "      <td>1.0</td>\n",
       "    </tr>\n",
       "    <tr>\n",
       "      <th>3</th>\n",
       "      <td>0.0</td>\n",
       "      <td>0.0</td>\n",
       "      <td>1.0</td>\n",
       "    </tr>\n",
       "    <tr>\n",
       "      <th>4</th>\n",
       "      <td>0.0</td>\n",
       "      <td>0.0</td>\n",
       "      <td>1.0</td>\n",
       "    </tr>\n",
       "    <tr>\n",
       "      <th>5</th>\n",
       "      <td>0.0</td>\n",
       "      <td>0.0</td>\n",
       "      <td>1.0</td>\n",
       "    </tr>\n",
       "    <tr>\n",
       "      <th>6</th>\n",
       "      <td>0.0</td>\n",
       "      <td>0.0</td>\n",
       "      <td>1.0</td>\n",
       "    </tr>\n",
       "    <tr>\n",
       "      <th>7</th>\n",
       "      <td>0.0</td>\n",
       "      <td>1.0</td>\n",
       "      <td>0.0</td>\n",
       "    </tr>\n",
       "    <tr>\n",
       "      <th>8</th>\n",
       "      <td>0.0</td>\n",
       "      <td>1.0</td>\n",
       "      <td>0.0</td>\n",
       "    </tr>\n",
       "    <tr>\n",
       "      <th>9</th>\n",
       "      <td>0.0</td>\n",
       "      <td>1.0</td>\n",
       "      <td>0.0</td>\n",
       "    </tr>\n",
       "  </tbody>\n",
       "</table>\n",
       "</div>"
      ],
      "text/plain": [
       "   Trade Signal_-1.0  Trade Signal_0.0  Trade Signal_1.0\n",
       "0                0.0               0.0               1.0\n",
       "1                0.0               0.0               1.0\n",
       "2                0.0               0.0               1.0\n",
       "3                0.0               0.0               1.0\n",
       "4                0.0               0.0               1.0\n",
       "5                0.0               0.0               1.0\n",
       "6                0.0               0.0               1.0\n",
       "7                0.0               1.0               0.0\n",
       "8                0.0               1.0               0.0\n",
       "9                0.0               1.0               0.0"
      ]
     },
     "metadata": {}
    }
   ],
   "metadata": {}
  },
  {
   "cell_type": "code",
   "execution_count": 39,
   "source": [
    "encoded_df.rename(columns={'Trade Signal_-1.0': 'Bearish', 'Trade Signal_0.0': 'None', 'Trade Signal_1.0':'Bullsih'}, inplace=True)\r\n",
    "encoded_df.drop(columns='None', inplace=True)\r\n",
    "print(encoded_df.head())"
   ],
   "outputs": [
    {
     "output_type": "stream",
     "name": "stdout",
     "text": [
      "   Bearish  Bullsih\n",
      "0      0.0      1.0\n",
      "1      0.0      1.0\n",
      "2      0.0      1.0\n",
      "3      0.0      1.0\n",
      "4      0.0      1.0\n"
     ]
    }
   ],
   "metadata": {}
  },
  {
   "cell_type": "markdown",
   "source": [
    "### Step 4: Add the original DataFrame’s numerical variables to the DataFrame containing the encoded variables.\n",
    "\n",
    "> **Note** To complete this step, you will employ the Pandas `concat()` function that was introduced earlier in this course. "
   ],
   "metadata": {}
  },
  {
   "cell_type": "code",
   "execution_count": 40,
   "source": [
    "# Define the target set y using the IS_SUCCESSFUL column\r\n",
    "y = encoded_df.copy()\r\n",
    "\r\n",
    "# Display a sample of y\r\n",
    "display(y.head())"
   ],
   "outputs": [
    {
     "output_type": "display_data",
     "data": {
      "text/html": [
       "<div>\n",
       "<style scoped>\n",
       "    .dataframe tbody tr th:only-of-type {\n",
       "        vertical-align: middle;\n",
       "    }\n",
       "\n",
       "    .dataframe tbody tr th {\n",
       "        vertical-align: top;\n",
       "    }\n",
       "\n",
       "    .dataframe thead th {\n",
       "        text-align: right;\n",
       "    }\n",
       "</style>\n",
       "<table border=\"1\" class=\"dataframe\">\n",
       "  <thead>\n",
       "    <tr style=\"text-align: right;\">\n",
       "      <th></th>\n",
       "      <th>Bearish</th>\n",
       "      <th>Bullsih</th>\n",
       "    </tr>\n",
       "  </thead>\n",
       "  <tbody>\n",
       "    <tr>\n",
       "      <th>0</th>\n",
       "      <td>0.0</td>\n",
       "      <td>1.0</td>\n",
       "    </tr>\n",
       "    <tr>\n",
       "      <th>1</th>\n",
       "      <td>0.0</td>\n",
       "      <td>1.0</td>\n",
       "    </tr>\n",
       "    <tr>\n",
       "      <th>2</th>\n",
       "      <td>0.0</td>\n",
       "      <td>1.0</td>\n",
       "    </tr>\n",
       "    <tr>\n",
       "      <th>3</th>\n",
       "      <td>0.0</td>\n",
       "      <td>1.0</td>\n",
       "    </tr>\n",
       "    <tr>\n",
       "      <th>4</th>\n",
       "      <td>0.0</td>\n",
       "      <td>1.0</td>\n",
       "    </tr>\n",
       "  </tbody>\n",
       "</table>\n",
       "</div>"
      ],
      "text/plain": [
       "   Bearish  Bullsih\n",
       "0      0.0      1.0\n",
       "1      0.0      1.0\n",
       "2      0.0      1.0\n",
       "3      0.0      1.0\n",
       "4      0.0      1.0"
      ]
     },
     "metadata": {}
    }
   ],
   "metadata": {}
  },
  {
   "cell_type": "code",
   "execution_count": 41,
   "source": [
    "# Define features set X by selecting all columns but IS_SUCCESSFUL\r\n",
    "X = indicators_df.drop(columns=['Trade Signal'])\r\n",
    "\r\n",
    "# Review the features DataFrame\r\n",
    "display(X.head())"
   ],
   "outputs": [
    {
     "output_type": "display_data",
     "data": {
      "text/html": [
       "<div>\n",
       "<style scoped>\n",
       "    .dataframe tbody tr th:only-of-type {\n",
       "        vertical-align: middle;\n",
       "    }\n",
       "\n",
       "    .dataframe tbody tr th {\n",
       "        vertical-align: top;\n",
       "    }\n",
       "\n",
       "    .dataframe thead th {\n",
       "        text-align: right;\n",
       "    }\n",
       "</style>\n",
       "<table border=\"1\" class=\"dataframe\">\n",
       "  <thead>\n",
       "    <tr style=\"text-align: right;\">\n",
       "      <th></th>\n",
       "      <th>Open</th>\n",
       "      <th>High</th>\n",
       "      <th>Low</th>\n",
       "      <th>Close</th>\n",
       "      <th>Volume</th>\n",
       "      <th>CDLDOJI</th>\n",
       "      <th>Trailing Stop</th>\n",
       "      <th>Pct Change</th>\n",
       "      <th>Stop Loss</th>\n",
       "      <th>CDL3WHITESOLDIERS</th>\n",
       "      <th>CDLABANDONEDBABY</th>\n",
       "      <th>CDLADVANCEBLOCK</th>\n",
       "      <th>CDLBELTHOLD</th>\n",
       "      <th>CDLBREAKAWAY</th>\n",
       "      <th>CDLCLOSINGMARUBOZU</th>\n",
       "      <th>CDLCONCEALBABYSWALL</th>\n",
       "      <th>CDLCOUNTERATTACK</th>\n",
       "      <th>CDLDARKCLOUDCOVER</th>\n",
       "    </tr>\n",
       "    <tr>\n",
       "      <th>Datetime</th>\n",
       "      <th></th>\n",
       "      <th></th>\n",
       "      <th></th>\n",
       "      <th></th>\n",
       "      <th></th>\n",
       "      <th></th>\n",
       "      <th></th>\n",
       "      <th></th>\n",
       "      <th></th>\n",
       "      <th></th>\n",
       "      <th></th>\n",
       "      <th></th>\n",
       "      <th></th>\n",
       "      <th></th>\n",
       "      <th></th>\n",
       "      <th></th>\n",
       "      <th></th>\n",
       "      <th></th>\n",
       "    </tr>\n",
       "  </thead>\n",
       "  <tbody>\n",
       "    <tr>\n",
       "      <th>2021-09-02 12:56:00</th>\n",
       "      <td>733.89</td>\n",
       "      <td>734.31</td>\n",
       "      <td>733.750</td>\n",
       "      <td>734.21</td>\n",
       "      <td>28796</td>\n",
       "      <td>0</td>\n",
       "      <td>732.988571</td>\n",
       "      <td>0.000463</td>\n",
       "      <td>732.988571</td>\n",
       "      <td>0</td>\n",
       "      <td>0</td>\n",
       "      <td>0</td>\n",
       "      <td>0</td>\n",
       "      <td>0</td>\n",
       "      <td>0</td>\n",
       "      <td>0</td>\n",
       "      <td>0</td>\n",
       "      <td>0</td>\n",
       "    </tr>\n",
       "    <tr>\n",
       "      <th>2021-09-02 12:57:00</th>\n",
       "      <td>734.29</td>\n",
       "      <td>734.64</td>\n",
       "      <td>734.219</td>\n",
       "      <td>734.41</td>\n",
       "      <td>34903</td>\n",
       "      <td>0</td>\n",
       "      <td>733.199031</td>\n",
       "      <td>0.000272</td>\n",
       "      <td>733.199031</td>\n",
       "      <td>0</td>\n",
       "      <td>0</td>\n",
       "      <td>0</td>\n",
       "      <td>0</td>\n",
       "      <td>0</td>\n",
       "      <td>0</td>\n",
       "      <td>0</td>\n",
       "      <td>0</td>\n",
       "      <td>0</td>\n",
       "    </tr>\n",
       "    <tr>\n",
       "      <th>2021-09-02 12:58:00</th>\n",
       "      <td>734.35</td>\n",
       "      <td>734.63</td>\n",
       "      <td>734.260</td>\n",
       "      <td>734.50</td>\n",
       "      <td>19890</td>\n",
       "      <td>0</td>\n",
       "      <td>733.309457</td>\n",
       "      <td>0.000123</td>\n",
       "      <td>733.309457</td>\n",
       "      <td>0</td>\n",
       "      <td>0</td>\n",
       "      <td>0</td>\n",
       "      <td>0</td>\n",
       "      <td>0</td>\n",
       "      <td>0</td>\n",
       "      <td>0</td>\n",
       "      <td>0</td>\n",
       "      <td>0</td>\n",
       "    </tr>\n",
       "    <tr>\n",
       "      <th>2021-09-02 12:59:00</th>\n",
       "      <td>734.60</td>\n",
       "      <td>734.77</td>\n",
       "      <td>734.510</td>\n",
       "      <td>734.56</td>\n",
       "      <td>9812</td>\n",
       "      <td>100</td>\n",
       "      <td>733.406281</td>\n",
       "      <td>0.000082</td>\n",
       "      <td>733.406281</td>\n",
       "      <td>0</td>\n",
       "      <td>0</td>\n",
       "      <td>0</td>\n",
       "      <td>0</td>\n",
       "      <td>0</td>\n",
       "      <td>0</td>\n",
       "      <td>0</td>\n",
       "      <td>0</td>\n",
       "      <td>0</td>\n",
       "    </tr>\n",
       "    <tr>\n",
       "      <th>2021-09-02 13:00:00</th>\n",
       "      <td>734.35</td>\n",
       "      <td>734.66</td>\n",
       "      <td>734.290</td>\n",
       "      <td>734.50</td>\n",
       "      <td>23069</td>\n",
       "      <td>0</td>\n",
       "      <td>733.362619</td>\n",
       "      <td>-0.000082</td>\n",
       "      <td>733.406281</td>\n",
       "      <td>0</td>\n",
       "      <td>0</td>\n",
       "      <td>0</td>\n",
       "      <td>0</td>\n",
       "      <td>0</td>\n",
       "      <td>0</td>\n",
       "      <td>0</td>\n",
       "      <td>0</td>\n",
       "      <td>0</td>\n",
       "    </tr>\n",
       "  </tbody>\n",
       "</table>\n",
       "</div>"
      ],
      "text/plain": [
       "                       Open    High      Low   Close  Volume  CDLDOJI  \\\n",
       "Datetime                                                                \n",
       "2021-09-02 12:56:00  733.89  734.31  733.750  734.21   28796        0   \n",
       "2021-09-02 12:57:00  734.29  734.64  734.219  734.41   34903        0   \n",
       "2021-09-02 12:58:00  734.35  734.63  734.260  734.50   19890        0   \n",
       "2021-09-02 12:59:00  734.60  734.77  734.510  734.56    9812      100   \n",
       "2021-09-02 13:00:00  734.35  734.66  734.290  734.50   23069        0   \n",
       "\n",
       "                     Trailing Stop  Pct Change   Stop Loss  CDL3WHITESOLDIERS  \\\n",
       "Datetime                                                                        \n",
       "2021-09-02 12:56:00     732.988571    0.000463  732.988571                  0   \n",
       "2021-09-02 12:57:00     733.199031    0.000272  733.199031                  0   \n",
       "2021-09-02 12:58:00     733.309457    0.000123  733.309457                  0   \n",
       "2021-09-02 12:59:00     733.406281    0.000082  733.406281                  0   \n",
       "2021-09-02 13:00:00     733.362619   -0.000082  733.406281                  0   \n",
       "\n",
       "                     CDLABANDONEDBABY  CDLADVANCEBLOCK  CDLBELTHOLD  \\\n",
       "Datetime                                                              \n",
       "2021-09-02 12:56:00                 0                0            0   \n",
       "2021-09-02 12:57:00                 0                0            0   \n",
       "2021-09-02 12:58:00                 0                0            0   \n",
       "2021-09-02 12:59:00                 0                0            0   \n",
       "2021-09-02 13:00:00                 0                0            0   \n",
       "\n",
       "                     CDLBREAKAWAY  CDLCLOSINGMARUBOZU  CDLCONCEALBABYSWALL  \\\n",
       "Datetime                                                                     \n",
       "2021-09-02 12:56:00             0                   0                    0   \n",
       "2021-09-02 12:57:00             0                   0                    0   \n",
       "2021-09-02 12:58:00             0                   0                    0   \n",
       "2021-09-02 12:59:00             0                   0                    0   \n",
       "2021-09-02 13:00:00             0                   0                    0   \n",
       "\n",
       "                     CDLCOUNTERATTACK  CDLDARKCLOUDCOVER  \n",
       "Datetime                                                  \n",
       "2021-09-02 12:56:00                 0                  0  \n",
       "2021-09-02 12:57:00                 0                  0  \n",
       "2021-09-02 12:58:00                 0                  0  \n",
       "2021-09-02 12:59:00                 0                  0  \n",
       "2021-09-02 13:00:00                 0                  0  "
      ]
     },
     "metadata": {}
    }
   ],
   "metadata": {}
  },
  {
   "cell_type": "markdown",
   "source": [
    "### Step 6: Split the features and target sets into training and testing datasets.\n"
   ],
   "metadata": {}
  },
  {
   "cell_type": "code",
   "execution_count": 42,
   "source": [
    "# Split the preprocessed data into a training and testing dataset\r\n",
    "# Assign the function a random_state equal to 1\r\n",
    "X_train, X_test, y_train, y_test = train_test_split(X, y, random_state=1)"
   ],
   "outputs": [],
   "metadata": {}
  },
  {
   "cell_type": "markdown",
   "source": [
    "### Step 7: Use scikit-learn's `StandardScaler` to scale the features data."
   ],
   "metadata": {}
  },
  {
   "cell_type": "code",
   "execution_count": 43,
   "source": [
    "# Create a StandardScaler instance\r\n",
    "scaler = StandardScaler()\r\n",
    "\r\n",
    "# Fit the scaler to the features training dataset\r\n",
    "X_scaler = scaler.fit(X_train)\r\n",
    "\r\n",
    "# Fit the scaler to the features training dataset\r\n",
    "X_train_scaled = X_scaler.transform(X_train)\r\n",
    "X_test_scaled = X_scaler.transform(X_test)\r\n"
   ],
   "outputs": [],
   "metadata": {}
  },
  {
   "cell_type": "markdown",
   "source": [
    "---\n",
    "\n",
    "## Compile and Evaluate a Binary Classification Model Using a Neural Network"
   ],
   "metadata": {}
  },
  {
   "cell_type": "markdown",
   "source": [
    "### Step 1: Create a deep neural network by assigning the number of input features, the number of layers, and the number of neurons on each layer using Tensorflow’s Keras.\n",
    "\n",
    "> **Hint** You can start with a two-layer deep neural network model that uses the `relu` activation function for both layers.\n"
   ],
   "metadata": {}
  },
  {
   "cell_type": "code",
   "execution_count": 44,
   "source": [
    "# Define the the number of inputs (features) to the model\r\n",
    "number_input_features = len(list(X.columns))\r\n",
    "# Review the number of features\r\n",
    "number_input_features\r\n"
   ],
   "outputs": [
    {
     "output_type": "execute_result",
     "data": {
      "text/plain": [
       "18"
      ]
     },
     "metadata": {},
     "execution_count": 44
    }
   ],
   "metadata": {}
  },
  {
   "cell_type": "code",
   "execution_count": 45,
   "source": [
    "# Define the number of neurons in the output layer\r\n",
    "number_output_neurons = 2"
   ],
   "outputs": [],
   "metadata": {}
  },
  {
   "cell_type": "code",
   "execution_count": 46,
   "source": [
    "# Define the number of hidden nodes for the first hidden layer\r\n",
    "hidden_nodes_layer1 =  int(round((number_input_features + number_output_neurons)/2, 0))\r\n",
    "# Review the number hidden nodes in the first layer\r\n",
    "hidden_nodes_layer1\r\n"
   ],
   "outputs": [
    {
     "output_type": "execute_result",
     "data": {
      "text/plain": [
       "10"
      ]
     },
     "metadata": {},
     "execution_count": 46
    }
   ],
   "metadata": {}
  },
  {
   "cell_type": "code",
   "execution_count": 47,
   "source": [
    "# Define the number of hidden nodes for the second hidden layer\r\n",
    "hidden_nodes_layer2 =  int(round((hidden_nodes_layer1 + number_output_neurons)/2, 0))\r\n",
    "\r\n",
    "# Review the number hidden nodes in the second layer\r\n",
    "hidden_nodes_layer2\r\n"
   ],
   "outputs": [
    {
     "output_type": "execute_result",
     "data": {
      "text/plain": [
       "6"
      ]
     },
     "metadata": {},
     "execution_count": 47
    }
   ],
   "metadata": {}
  },
  {
   "cell_type": "code",
   "execution_count": 48,
   "source": [
    "# Create the Sequential model instance\r\n",
    "nn = Sequential()\r\n"
   ],
   "outputs": [],
   "metadata": {}
  },
  {
   "cell_type": "code",
   "execution_count": 49,
   "source": [
    "# Add the first hidden layer\r\n",
    "nn.add(Dense(units=hidden_nodes_layer1, activation=\"relu\", input_dim=number_input_features))\r\n"
   ],
   "outputs": [],
   "metadata": {}
  },
  {
   "cell_type": "code",
   "execution_count": 50,
   "source": [
    "# Add the second hidden layer\r\n",
    "nn.add(Dense(units=hidden_nodes_layer2, activation=\"relu\"))\r\n"
   ],
   "outputs": [],
   "metadata": {}
  },
  {
   "cell_type": "code",
   "execution_count": 51,
   "source": [
    "# Add the output layer to the model specifying the number of output neurons and activation function\r\n",
    "nn.add(Dense(units=number_output_neurons, activation=\"sigmoid\"))\r\n"
   ],
   "outputs": [],
   "metadata": {}
  },
  {
   "cell_type": "code",
   "execution_count": 52,
   "source": [
    "# Display the Sequential model summary\r\n",
    "nn.summary()"
   ],
   "outputs": [
    {
     "output_type": "stream",
     "name": "stdout",
     "text": [
      "Model: \"sequential\"\n",
      "_________________________________________________________________\n",
      "Layer (type)                 Output Shape              Param #   \n",
      "=================================================================\n",
      "dense (Dense)                (None, 10)                190       \n",
      "_________________________________________________________________\n",
      "dense_1 (Dense)              (None, 6)                 66        \n",
      "_________________________________________________________________\n",
      "dense_2 (Dense)              (None, 2)                 14        \n",
      "=================================================================\n",
      "Total params: 270\n",
      "Trainable params: 270\n",
      "Non-trainable params: 0\n",
      "_________________________________________________________________\n"
     ]
    }
   ],
   "metadata": {}
  },
  {
   "cell_type": "markdown",
   "source": [
    "### Step 2: Compile and fit the model using the `binary_crossentropy` loss function, the `adam` optimizer, and the `accuracy` evaluation metric.\n"
   ],
   "metadata": {}
  },
  {
   "cell_type": "code",
   "execution_count": 53,
   "source": [
    "# Compile the Sequential model\r\n",
    "nn.compile(loss=\"binary_crossentropy\", optimizer=\"adam\", metrics=[\"accuracy\"])\r\n"
   ],
   "outputs": [],
   "metadata": {}
  },
  {
   "cell_type": "code",
   "execution_count": 54,
   "source": [
    "# Fit the model using 50 epochs and the training data\r\n",
    "model = nn.fit(X_train_scaled, y_train, epochs=50, verbose=0)\r\n"
   ],
   "outputs": [],
   "metadata": {}
  },
  {
   "cell_type": "markdown",
   "source": [
    "### Step 3: Evaluate the model using the test data to determine the model’s loss and accuracy.\n"
   ],
   "metadata": {}
  },
  {
   "cell_type": "code",
   "execution_count": 55,
   "source": [
    "# Evaluate the model loss and accuracy metrics using the evaluate method and the test data\r\n",
    "model_loss, model_accuracy = nn.evaluate(X_test_scaled, y_test, verbose=True)\r\n",
    "\r\n",
    "# Display the model loss and accuracy results\r\n",
    "print(f\"Loss: {model_loss}, Accuracy: {model_accuracy}\")"
   ],
   "outputs": [
    {
     "output_type": "stream",
     "name": "stdout",
     "text": [
      "98/98 [==============================] - 0s 453us/step - loss: 0.1345 - accuracy: 0.9093\n",
      "Loss: 0.13447873294353485, Accuracy: 0.9092658162117004\n"
     ]
    }
   ],
   "metadata": {}
  },
  {
   "cell_type": "markdown",
   "source": [
    "### Step 4: Save and export your model to an HDF5 file, and name the file `AlphabetSoup.h5`. \n"
   ],
   "metadata": {}
  },
  {
   "cell_type": "code",
   "execution_count": 56,
   "source": [
    "# Set the model's file path\r\n",
    "file_path = Path('Resources/AlphabetSoup.h5')\r\n",
    "\r\n",
    "# Export your model to a HDF5 file\r\n",
    "# nn.save(file_path)\r\n"
   ],
   "outputs": [],
   "metadata": {}
  },
  {
   "cell_type": "markdown",
   "source": [
    "---\n",
    "\n",
    "## Optimize the neural network model\n"
   ],
   "metadata": {}
  },
  {
   "cell_type": "markdown",
   "source": [
    "### Step 1: Define at least three new deep neural network models (resulting in the original plus 3 optimization attempts). With each, try to improve on your first model’s predictive accuracy.\n",
    "\n",
    "> **Rewind** Recall that perfect accuracy has a value of 1, so accuracy improves as its value moves closer to 1. To optimize your model for a predictive accuracy as close to 1 as possible, you can use any or all of the following techniques:\n",
    ">\n",
    "> * Adjust the input data by dropping different features columns to ensure that no variables or outliers confuse the model.\n",
    ">\n",
    "> * Add more neurons (nodes) to a hidden layer.\n",
    ">\n",
    "> * Add more hidden layers.\n",
    ">\n",
    "> * Use different activation functions for the hidden layers.\n",
    ">\n",
    "> * Add to or reduce the number of epochs in the training regimen.\n"
   ],
   "metadata": {}
  },
  {
   "cell_type": "markdown",
   "source": [
    "### Alternative Model 1 - Deep learning model with 2 hidden layers"
   ],
   "metadata": {}
  },
  {
   "cell_type": "code",
   "execution_count": 57,
   "source": [
    "# Define the the number of inputs (features) to the model\r\n",
    "number_input_features = len(X_train.iloc[0])\r\n",
    "print(number_input_features)\r\n"
   ],
   "outputs": [
    {
     "output_type": "stream",
     "name": "stdout",
     "text": [
      "18\n"
     ]
    }
   ],
   "metadata": {}
  },
  {
   "cell_type": "code",
   "execution_count": 58,
   "source": [
    "# Review the number of features\r\n",
    "number_input_features"
   ],
   "outputs": [
    {
     "output_type": "execute_result",
     "data": {
      "text/plain": [
       "18"
      ]
     },
     "metadata": {},
     "execution_count": 58
    }
   ],
   "metadata": {}
  },
  {
   "cell_type": "code",
   "execution_count": 71,
   "source": [
    "# Define the number of neurons in the output layer\r\n",
    "number_output_neurons_A1 = 2"
   ],
   "outputs": [],
   "metadata": {}
  },
  {
   "cell_type": "code",
   "execution_count": 72,
   "source": [
    "# Define the number of hidden nodes for the first hidden layer\r\n",
    "hidden_nodes_layer1_A1 =  int(round((number_input_features + number_output_neurons_A1)/2, 0))\r\n",
    "# Review the number hidden nodes in the first layer\r\n",
    "hidden_nodes_layer1_A1\r\n"
   ],
   "outputs": [
    {
     "output_type": "execute_result",
     "data": {
      "text/plain": [
       "10"
      ]
     },
     "metadata": {},
     "execution_count": 72
    }
   ],
   "metadata": {}
  },
  {
   "cell_type": "code",
   "execution_count": 73,
   "source": [
    "# Define the number of hidden nodes for the second hidden layer\r\n",
    "hidden_nodes_layer2_A1 =  int(round((hidden_nodes_layer1_A1 + number_output_neurons_A1)/2, 0))\r\n",
    "\r\n",
    "# Review the number hidden nodes in the second layer\r\n",
    "hidden_nodes_layer2_A1\r\n"
   ],
   "outputs": [
    {
     "output_type": "execute_result",
     "data": {
      "text/plain": [
       "6"
      ]
     },
     "metadata": {},
     "execution_count": 73
    }
   ],
   "metadata": {}
  },
  {
   "cell_type": "code",
   "execution_count": 74,
   "source": [
    "# Define the number of hidden nodes for the second hidden layer\r\n",
    "hidden_nodes_layer3_A1 =  int(round((hidden_nodes_layer2_A1 + number_output_neurons_A1)/2, 0))\r\n",
    "\r\n",
    "# Review the number hidden nodes in the second layer\r\n",
    "hidden_nodes_layer3_A1\r\n"
   ],
   "outputs": [
    {
     "output_type": "execute_result",
     "data": {
      "text/plain": [
       "4"
      ]
     },
     "metadata": {},
     "execution_count": 74
    }
   ],
   "metadata": {}
  },
  {
   "cell_type": "code",
   "execution_count": 75,
   "source": [
    "# Create the Sequential model instance\r\n",
    "nn_A1 = Sequential()"
   ],
   "outputs": [],
   "metadata": {}
  },
  {
   "cell_type": "code",
   "execution_count": 76,
   "source": [
    "# Add the first hidden layer\r\n",
    "nn_A1.add(Dense(units=hidden_nodes_layer1_A1, activation=\"relu\", input_dim=number_input_features))\r\n"
   ],
   "outputs": [],
   "metadata": {}
  },
  {
   "cell_type": "code",
   "execution_count": 77,
   "source": [
    "# Add the second hidden layer\r\n",
    "nn_A1.add(Dense(units=hidden_nodes_layer2_A1, activation=\"relu\"))\r\n"
   ],
   "outputs": [],
   "metadata": {}
  },
  {
   "cell_type": "code",
   "execution_count": 78,
   "source": [
    "# Add the second hidden layer\r\n",
    "nn_A1.add(Dense(units=hidden_nodes_layer3_A1, activation=\"relu\"))\r\n"
   ],
   "outputs": [],
   "metadata": {}
  },
  {
   "cell_type": "code",
   "execution_count": 79,
   "source": [
    "# Add the output layer to the model specifying the number of output neurons and activation function\r\n",
    "nn_A1.add(Dense(units=number_output_neurons_A1, activation=\"sigmoid\"))\r\n"
   ],
   "outputs": [],
   "metadata": {}
  },
  {
   "cell_type": "code",
   "execution_count": 80,
   "source": [
    "# Display the Sequential model summary\r\n",
    "nn_A1.summary()"
   ],
   "outputs": [
    {
     "output_type": "stream",
     "name": "stdout",
     "text": [
      "Model: \"sequential_2\"\n",
      "_________________________________________________________________\n",
      "Layer (type)                 Output Shape              Param #   \n",
      "=================================================================\n",
      "dense_7 (Dense)              (None, 10)                190       \n",
      "_________________________________________________________________\n",
      "dense_8 (Dense)              (None, 6)                 66        \n",
      "_________________________________________________________________\n",
      "dense_9 (Dense)              (None, 4)                 28        \n",
      "_________________________________________________________________\n",
      "dense_10 (Dense)             (None, 2)                 10        \n",
      "=================================================================\n",
      "Total params: 294\n",
      "Trainable params: 294\n",
      "Non-trainable params: 0\n",
      "_________________________________________________________________\n"
     ]
    }
   ],
   "metadata": {}
  },
  {
   "cell_type": "code",
   "execution_count": 81,
   "source": [
    "# Compile the Sequential model\r\n",
    "nn_A1.compile(loss=\"binary_crossentropy\", optimizer=\"adam\", metrics=[\"accuracy\"])\r\n"
   ],
   "outputs": [],
   "metadata": {}
  },
  {
   "cell_type": "code",
   "execution_count": 82,
   "source": [
    "# Fit the model using 50 epochs and the training data\r\n",
    "model_A1 = nn_A1.fit(X_train_scaled, y_train, epochs=50, verbose=0)\r\n"
   ],
   "outputs": [],
   "metadata": {}
  },
  {
   "cell_type": "markdown",
   "source": [
    "### Alternative Model 2 - Deep learning model with 3 hidden layers"
   ],
   "metadata": {}
  },
  {
   "cell_type": "code",
   "execution_count": 83,
   "source": [
    "# Define the the number of inputs (features) to the model\r\n",
    "number_input_features = len(X_train.iloc[0])\r\n",
    "print(number_input_features)\r\n"
   ],
   "outputs": [
    {
     "output_type": "stream",
     "name": "stdout",
     "text": [
      "18\n"
     ]
    }
   ],
   "metadata": {}
  },
  {
   "cell_type": "code",
   "execution_count": 84,
   "source": [
    "# Review the number of features\r\n",
    "number_input_features"
   ],
   "outputs": [
    {
     "output_type": "execute_result",
     "data": {
      "text/plain": [
       "18"
      ]
     },
     "metadata": {},
     "execution_count": 84
    }
   ],
   "metadata": {}
  },
  {
   "cell_type": "code",
   "execution_count": 99,
   "source": [
    "# Define the number of neurons in the output layer\r\n",
    "number_output_neurons_A2 = 2"
   ],
   "outputs": [],
   "metadata": {}
  },
  {
   "cell_type": "code",
   "execution_count": 100,
   "source": [
    "# Define the number of hidden nodes for the first hidden layer\r\n",
    "hidden_nodes_layer1_A2 =  int(round((number_input_features + number_output_neurons_A2)/2, 0))\r\n",
    "# Review the number hidden nodes in the first layer\r\n",
    "hidden_nodes_layer1_A2\r\n"
   ],
   "outputs": [
    {
     "output_type": "execute_result",
     "data": {
      "text/plain": [
       "10"
      ]
     },
     "metadata": {},
     "execution_count": 100
    }
   ],
   "metadata": {}
  },
  {
   "cell_type": "code",
   "execution_count": 101,
   "source": [
    "# Define the number of hidden nodes for the second hidden layer\r\n",
    "hidden_nodes_layer2_A2 =  int(round((hidden_nodes_layer1_A2 + number_output_neurons_A2)/2, 0))\r\n",
    "\r\n",
    "# Review the number hidden nodes in the second layer\r\n",
    "hidden_nodes_layer2_A2\r\n"
   ],
   "outputs": [
    {
     "output_type": "execute_result",
     "data": {
      "text/plain": [
       "6"
      ]
     },
     "metadata": {},
     "execution_count": 101
    }
   ],
   "metadata": {}
  },
  {
   "cell_type": "code",
   "execution_count": 102,
   "source": [
    "# Define the number of hidden nodes for the second hidden layer\r\n",
    "hidden_nodes_layer3_A2 =  int(round((hidden_nodes_layer2_A1 + number_output_neurons_A2)/2, 0))\r\n",
    "\r\n",
    "# Review the number hidden nodes in the second layer\r\n",
    "hidden_nodes_layer3_A2\r\n"
   ],
   "outputs": [
    {
     "output_type": "execute_result",
     "data": {
      "text/plain": [
       "4"
      ]
     },
     "metadata": {},
     "execution_count": 102
    }
   ],
   "metadata": {}
  },
  {
   "cell_type": "code",
   "execution_count": 103,
   "source": [
    "# Define the number of hidden nodes for the second hidden layer\r\n",
    "hidden_nodes_layer4_A2 =  int(round((hidden_nodes_layer3_A1 + number_output_neurons_A2)/2, 0))\r\n",
    "\r\n",
    "# Review the number hidden nodes in the second layer\r\n",
    "hidden_nodes_layer4_A2\r\n"
   ],
   "outputs": [
    {
     "output_type": "execute_result",
     "data": {
      "text/plain": [
       "3"
      ]
     },
     "metadata": {},
     "execution_count": 103
    }
   ],
   "metadata": {}
  },
  {
   "cell_type": "code",
   "execution_count": 104,
   "source": [
    "# Create the Sequential model instance\r\n",
    "nn_A2 = Sequential()"
   ],
   "outputs": [],
   "metadata": {}
  },
  {
   "cell_type": "code",
   "execution_count": 105,
   "source": [
    "# Add the first hidden layer\r\n",
    "nn_A2.add(Dense(units=hidden_nodes_layer1_A2, activation=\"relu\", input_dim=number_input_features))\r\n"
   ],
   "outputs": [],
   "metadata": {}
  },
  {
   "cell_type": "code",
   "execution_count": 106,
   "source": [
    "# Add the second hidden layer\r\n",
    "nn_A2.add(Dense(units=hidden_nodes_layer2_A2, activation=\"relu\"))\r\n"
   ],
   "outputs": [],
   "metadata": {}
  },
  {
   "cell_type": "code",
   "execution_count": 107,
   "source": [
    "# Add the second hidden layer\r\n",
    "nn_A2.add(Dense(units=hidden_nodes_layer3_A2, activation=\"relu\"))\r\n"
   ],
   "outputs": [],
   "metadata": {}
  },
  {
   "cell_type": "code",
   "execution_count": 108,
   "source": [
    "# Add the second hidden layer\r\n",
    "nn_A2.add(Dense(units=hidden_nodes_layer4_A2, activation=\"relu\"))\r\n"
   ],
   "outputs": [],
   "metadata": {}
  },
  {
   "cell_type": "code",
   "execution_count": 109,
   "source": [
    "# Add the output layer to the model specifying the number of output neurons and activation function\r\n",
    "nn_A2.add(Dense(units=number_output_neurons_A2, activation=\"sigmoid\"))\r\n"
   ],
   "outputs": [],
   "metadata": {}
  },
  {
   "cell_type": "code",
   "execution_count": 110,
   "source": [
    "# Display the Sequential model summary\r\n",
    "nn_A2.summary()"
   ],
   "outputs": [
    {
     "output_type": "stream",
     "name": "stdout",
     "text": [
      "Model: \"sequential_4\"\n",
      "_________________________________________________________________\n",
      "Layer (type)                 Output Shape              Param #   \n",
      "=================================================================\n",
      "dense_16 (Dense)             (None, 10)                190       \n",
      "_________________________________________________________________\n",
      "dense_17 (Dense)             (None, 6)                 66        \n",
      "_________________________________________________________________\n",
      "dense_18 (Dense)             (None, 4)                 28        \n",
      "_________________________________________________________________\n",
      "dense_19 (Dense)             (None, 3)                 15        \n",
      "_________________________________________________________________\n",
      "dense_20 (Dense)             (None, 2)                 8         \n",
      "=================================================================\n",
      "Total params: 307\n",
      "Trainable params: 307\n",
      "Non-trainable params: 0\n",
      "_________________________________________________________________\n"
     ]
    }
   ],
   "metadata": {}
  },
  {
   "cell_type": "code",
   "execution_count": 111,
   "source": [
    "# Compile the Sequential model\r\n",
    "nn_A2.compile(loss=\"binary_crossentropy\", optimizer=\"adam\", metrics=[\"accuracy\"])\r\n"
   ],
   "outputs": [],
   "metadata": {}
  },
  {
   "cell_type": "code",
   "execution_count": 112,
   "source": [
    "# Fit the model using 50 epochs and the training data\r\n",
    "model_A2 = nn_A2.fit(X_train_scaled, y_train, epochs=50, verbose=0)\r\n"
   ],
   "outputs": [],
   "metadata": {}
  },
  {
   "cell_type": "markdown",
   "source": [
    "#### Alternative Model 3 - Principal Component Analysis"
   ],
   "metadata": {}
  },
  {
   "cell_type": "code",
   "execution_count": 113,
   "source": [
    "from sklearn.decomposition import PCA\r\n"
   ],
   "outputs": [],
   "metadata": {}
  },
  {
   "cell_type": "code",
   "execution_count": 114,
   "source": [
    "# Create a StandardScaler instance\r\n",
    "pca_scaler = StandardScaler()\r\n",
    "\r\n",
    "# Fit the scaler to the features\r\n",
    "X_pca_scaler = pca_scaler.fit(X)\r\n",
    "\r\n",
    "# Fit the scaler to the features\r\n",
    "X_pca_scaled = X_pca_scaler.transform(X)\r\n"
   ],
   "outputs": [],
   "metadata": {}
  },
  {
   "cell_type": "code",
   "execution_count": 115,
   "source": [
    "for n in range(2, number_input_features):\r\n",
    "    pca = PCA(n_components=n, random_state=1)\r\n",
    "    X_pca = pca.fit_transform(X_pca_scaled)\r\n",
    "    exp_var = pca.explained_variance_ratio_\r\n",
    "#     print(f'{exp_var}')\r\n",
    "    print(f'N = {n:3}: Total explained variance: {100*exp_var.sum():.4f}%')"
   ],
   "outputs": [
    {
     "output_type": "stream",
     "name": "stdout",
     "text": [
      "N =   2: Total explained variance: 41.8793%\n",
      "N =   3: Total explained variance: 49.4176%\n",
      "N =   4: Total explained variance: 56.1540%\n",
      "N =   5: Total explained variance: 62.2239%\n",
      "N =   6: Total explained variance: 68.1662%\n",
      "N =   7: Total explained variance: 74.0366%\n",
      "N =   8: Total explained variance: 79.8494%\n",
      "N =   9: Total explained variance: 85.1969%\n",
      "N =  10: Total explained variance: 90.2461%\n",
      "N =  11: Total explained variance: 94.4264%\n",
      "N =  12: Total explained variance: 97.7982%\n",
      "N =  13: Total explained variance: 99.9872%\n",
      "N =  14: Total explained variance: 99.9980%\n",
      "N =  15: Total explained variance: 99.9992%\n",
      "N =  16: Total explained variance: 99.9998%\n",
      "N =  17: Total explained variance: 100.0000%\n"
     ]
    }
   ],
   "metadata": {
    "collapsed": true,
    "jupyter": {
     "outputs_hidden": true
    }
   }
  },
  {
   "cell_type": "code",
   "execution_count": 116,
   "source": [
    "best_n = 13\r\n",
    "pca = PCA(n_components=best_n, random_state=1)\r\n",
    "X_pca = pca.fit_transform(X_pca_scaled)\r\n",
    "exp_var = pca.explained_variance_ratio_\r\n",
    "print(f'N = {best_n:3}: Total explained variance: {100*exp_var.sum():.4f}%')\r\n"
   ],
   "outputs": [
    {
     "output_type": "stream",
     "name": "stdout",
     "text": [
      "N =  13: Total explained variance: 99.9872%\n"
     ]
    }
   ],
   "metadata": {}
  },
  {
   "cell_type": "code",
   "execution_count": 117,
   "source": [
    "X_pca_train, X_pca_test, y_pca_train, y_pca_test = train_test_split(X_pca, y, random_state=1)"
   ],
   "outputs": [],
   "metadata": {}
  },
  {
   "cell_type": "code",
   "execution_count": 118,
   "source": [
    "# Define the the number of inputs (features) to the model\r\n",
    "number_input_features = best_n\r\n",
    "print(number_input_features)\r\n"
   ],
   "outputs": [
    {
     "output_type": "stream",
     "name": "stdout",
     "text": [
      "13\n"
     ]
    }
   ],
   "metadata": {}
  },
  {
   "cell_type": "code",
   "execution_count": 131,
   "source": [
    "# Define the number of neurons in the output layer\r\n",
    "number_output_neurons_A3 = 2"
   ],
   "outputs": [],
   "metadata": {}
  },
  {
   "cell_type": "code",
   "execution_count": 132,
   "source": [
    "# Define the number of hidden nodes for the first hidden layer\r\n",
    "hidden_nodes_layer1_A3 =  int(round((number_input_features + number_output_neurons_A3)/2, 0))\r\n",
    "# Review the number hidden nodes in the first layer\r\n",
    "hidden_nodes_layer1_A3\r\n"
   ],
   "outputs": [
    {
     "output_type": "execute_result",
     "data": {
      "text/plain": [
       "8"
      ]
     },
     "metadata": {},
     "execution_count": 132
    }
   ],
   "metadata": {}
  },
  {
   "cell_type": "code",
   "execution_count": 133,
   "source": [
    "# Define the number of hidden nodes for the second hidden layer\r\n",
    "hidden_nodes_layer2_A3 =  int(round((hidden_nodes_layer1_A3 + number_output_neurons_A3)/2, 0))\r\n",
    "\r\n",
    "# Review the number hidden nodes in the second layer\r\n",
    "hidden_nodes_layer2_A3\r\n"
   ],
   "outputs": [
    {
     "output_type": "execute_result",
     "data": {
      "text/plain": [
       "5"
      ]
     },
     "metadata": {},
     "execution_count": 133
    }
   ],
   "metadata": {}
  },
  {
   "cell_type": "code",
   "execution_count": 134,
   "source": [
    "# Define the number of hidden nodes for the third hidden layer\r\n",
    "hidden_nodes_layer3_A3 =  int(round((hidden_nodes_layer2_A3 + number_output_neurons_A3)/2, 0))\r\n",
    "\r\n",
    "# Review the number hidden nodes in the third layer\r\n",
    "hidden_nodes_layer3_A3\r\n"
   ],
   "outputs": [
    {
     "output_type": "execute_result",
     "data": {
      "text/plain": [
       "4"
      ]
     },
     "metadata": {},
     "execution_count": 134
    }
   ],
   "metadata": {}
  },
  {
   "cell_type": "code",
   "execution_count": 135,
   "source": [
    "# Create the Sequential model instance\r\n",
    "nn_A3 = Sequential()"
   ],
   "outputs": [],
   "metadata": {}
  },
  {
   "cell_type": "code",
   "execution_count": 136,
   "source": [
    "# Add the first hidden layer\r\n",
    "nn_A3.add(Dense(units=hidden_nodes_layer1_A3, activation=\"relu\", input_dim=number_input_features))\r\n"
   ],
   "outputs": [],
   "metadata": {}
  },
  {
   "cell_type": "code",
   "execution_count": 137,
   "source": [
    "# Add the second hidden layer\r\n",
    "nn_A3.add(Dense(units=hidden_nodes_layer2_A3, activation=\"relu\"))\r\n"
   ],
   "outputs": [],
   "metadata": {}
  },
  {
   "cell_type": "code",
   "execution_count": 138,
   "source": [
    "# Add the third hidden layer\r\n",
    "nn_A3.add(Dense(units=hidden_nodes_layer3_A3, activation=\"relu\"))\r\n"
   ],
   "outputs": [],
   "metadata": {}
  },
  {
   "cell_type": "code",
   "execution_count": 139,
   "source": [
    "# Add the output layer to the model specifying the number of output neurons and activation function\r\n",
    "nn_A3.add(Dense(units=number_output_neurons_A3, activation=\"sigmoid\"))\r\n"
   ],
   "outputs": [],
   "metadata": {}
  },
  {
   "cell_type": "code",
   "execution_count": 140,
   "source": [
    "# Display the Sequential model summary\r\n",
    "nn_A3.summary()"
   ],
   "outputs": [
    {
     "output_type": "stream",
     "name": "stdout",
     "text": [
      "Model: \"sequential_6\"\n",
      "_________________________________________________________________\n",
      "Layer (type)                 Output Shape              Param #   \n",
      "=================================================================\n",
      "dense_25 (Dense)             (None, 8)                 112       \n",
      "_________________________________________________________________\n",
      "dense_26 (Dense)             (None, 5)                 45        \n",
      "_________________________________________________________________\n",
      "dense_27 (Dense)             (None, 4)                 24        \n",
      "_________________________________________________________________\n",
      "dense_28 (Dense)             (None, 2)                 10        \n",
      "=================================================================\n",
      "Total params: 191\n",
      "Trainable params: 191\n",
      "Non-trainable params: 0\n",
      "_________________________________________________________________\n"
     ]
    }
   ],
   "metadata": {}
  },
  {
   "cell_type": "code",
   "execution_count": 141,
   "source": [
    "# Compile the Sequential model\r\n",
    "nn_A3.compile(loss=\"binary_crossentropy\", optimizer=\"adam\", metrics=[\"accuracy\"])\r\n"
   ],
   "outputs": [],
   "metadata": {}
  },
  {
   "cell_type": "code",
   "execution_count": 142,
   "source": [
    "# Fit the model using 50 epochs and the training data\r\n",
    "model_A3 = nn_A3.fit(X_pca_train, y_pca_train, epochs=50, verbose=1)\r\n"
   ],
   "outputs": [
    {
     "output_type": "stream",
     "name": "stdout",
     "text": [
      "Epoch 1/50\n",
      "293/293 [==============================] - 0s 492us/step - loss: 0.4666 - accuracy: 0.9029\n",
      "Epoch 2/50\n",
      "293/293 [==============================] - 0s 534us/step - loss: 0.1889 - accuracy: 0.9044\n",
      "Epoch 3/50\n",
      "293/293 [==============================] - 0s 506us/step - loss: 0.1700 - accuracy: 0.9044\n",
      "Epoch 4/50\n",
      "293/293 [==============================] - 0s 506us/step - loss: 0.1655 - accuracy: 0.9044\n",
      "Epoch 5/50\n",
      "293/293 [==============================] - 0s 492us/step - loss: 0.1625 - accuracy: 0.9044\n",
      "Epoch 6/50\n",
      "293/293 [==============================] - 0s 492us/step - loss: 0.1594 - accuracy: 0.9044\n",
      "Epoch 7/50\n",
      "293/293 [==============================] - 0s 492us/step - loss: 0.1564 - accuracy: 0.9044\n",
      "Epoch 8/50\n",
      "293/293 [==============================] - 0s 506us/step - loss: 0.1533 - accuracy: 0.9044\n",
      "Epoch 9/50\n",
      "293/293 [==============================] - 0s 506us/step - loss: 0.1506 - accuracy: 0.9044\n",
      "Epoch 10/50\n",
      "293/293 [==============================] - 0s 506us/step - loss: 0.1483 - accuracy: 0.9044\n",
      "Epoch 11/50\n",
      "293/293 [==============================] - 0s 506us/step - loss: 0.1461 - accuracy: 0.9044\n",
      "Epoch 12/50\n",
      "293/293 [==============================] - 0s 506us/step - loss: 0.1446 - accuracy: 0.9044\n",
      "Epoch 13/50\n",
      "293/293 [==============================] - 0s 492us/step - loss: 0.1429 - accuracy: 0.9057\n",
      "Epoch 14/50\n",
      "293/293 [==============================] - 0s 506us/step - loss: 0.1419 - accuracy: 0.9120\n",
      "Epoch 15/50\n",
      "293/293 [==============================] - 0s 492us/step - loss: 0.1411 - accuracy: 0.9119\n",
      "Epoch 16/50\n",
      "293/293 [==============================] - 0s 479us/step - loss: 0.1401 - accuracy: 0.9122\n",
      "Epoch 17/50\n",
      "293/293 [==============================] - 0s 520us/step - loss: 0.1394 - accuracy: 0.9124\n",
      "Epoch 18/50\n",
      "293/293 [==============================] - 0s 506us/step - loss: 0.1389 - accuracy: 0.9124\n",
      "Epoch 19/50\n",
      "293/293 [==============================] - 0s 492us/step - loss: 0.1379 - accuracy: 0.9125\n",
      "Epoch 20/50\n",
      "293/293 [==============================] - 0s 547us/step - loss: 0.1376 - accuracy: 0.9125\n",
      "Epoch 21/50\n",
      "293/293 [==============================] - 0s 506us/step - loss: 0.1370 - accuracy: 0.9125\n",
      "Epoch 22/50\n",
      "293/293 [==============================] - 0s 465us/step - loss: 0.1368 - accuracy: 0.9125\n",
      "Epoch 23/50\n",
      "293/293 [==============================] - 0s 479us/step - loss: 0.1364 - accuracy: 0.9125\n",
      "Epoch 24/50\n",
      "293/293 [==============================] - 0s 492us/step - loss: 0.1358 - accuracy: 0.9125\n",
      "Epoch 25/50\n",
      "293/293 [==============================] - 0s 547us/step - loss: 0.1357 - accuracy: 0.9125\n",
      "Epoch 26/50\n",
      "293/293 [==============================] - 0s 506us/step - loss: 0.1353 - accuracy: 0.9125\n",
      "Epoch 27/50\n",
      "293/293 [==============================] - 0s 492us/step - loss: 0.1350 - accuracy: 0.9125\n",
      "Epoch 28/50\n",
      "293/293 [==============================] - 0s 506us/step - loss: 0.1346 - accuracy: 0.9125\n",
      "Epoch 29/50\n",
      "293/293 [==============================] - 0s 520us/step - loss: 0.1347 - accuracy: 0.9124\n",
      "Epoch 30/50\n",
      "293/293 [==============================] - 0s 479us/step - loss: 0.1342 - accuracy: 0.9126\n",
      "Epoch 31/50\n",
      "293/293 [==============================] - 0s 506us/step - loss: 0.1340 - accuracy: 0.9126\n",
      "Epoch 32/50\n",
      "293/293 [==============================] - 0s 547us/step - loss: 0.1336 - accuracy: 0.9125\n",
      "Epoch 33/50\n",
      "293/293 [==============================] - 0s 506us/step - loss: 0.1336 - accuracy: 0.9126\n",
      "Epoch 34/50\n",
      "293/293 [==============================] - 0s 520us/step - loss: 0.1334 - accuracy: 0.9126\n",
      "Epoch 35/50\n",
      "293/293 [==============================] - 0s 533us/step - loss: 0.1330 - accuracy: 0.9126\n",
      "Epoch 36/50\n",
      "293/293 [==============================] - 0s 506us/step - loss: 0.1327 - accuracy: 0.9126\n",
      "Epoch 37/50\n",
      "293/293 [==============================] - 0s 534us/step - loss: 0.1324 - accuracy: 0.9126\n",
      "Epoch 38/50\n",
      "293/293 [==============================] - 0s 520us/step - loss: 0.1324 - accuracy: 0.9126\n",
      "Epoch 39/50\n",
      "293/293 [==============================] - 0s 506us/step - loss: 0.1323 - accuracy: 0.9126\n",
      "Epoch 40/50\n",
      "293/293 [==============================] - 0s 492us/step - loss: 0.1323 - accuracy: 0.9126\n",
      "Epoch 41/50\n",
      "293/293 [==============================] - 0s 534us/step - loss: 0.1319 - accuracy: 0.9126\n",
      "Epoch 42/50\n",
      "293/293 [==============================] - 0s 534us/step - loss: 0.1318 - accuracy: 0.9126\n",
      "Epoch 43/50\n",
      "293/293 [==============================] - 0s 506us/step - loss: 0.1316 - accuracy: 0.9126\n",
      "Epoch 44/50\n",
      "293/293 [==============================] - 0s 520us/step - loss: 0.1316 - accuracy: 0.9126\n",
      "Epoch 45/50\n",
      "293/293 [==============================] - 0s 547us/step - loss: 0.1314 - accuracy: 0.9126\n",
      "Epoch 46/50\n",
      "293/293 [==============================] - 0s 493us/step - loss: 0.1312 - accuracy: 0.9126\n",
      "Epoch 47/50\n",
      "293/293 [==============================] - 0s 506us/step - loss: 0.1311 - accuracy: 0.9126\n",
      "Epoch 48/50\n",
      "293/293 [==============================] - 0s 520us/step - loss: 0.1309 - accuracy: 0.9126\n",
      "Epoch 49/50\n",
      "293/293 [==============================] - 0s 547us/step - loss: 0.1311 - accuracy: 0.9126\n",
      "Epoch 50/50\n",
      "293/293 [==============================] - 0s 547us/step - loss: 0.1309 - accuracy: 0.9126\n"
     ]
    }
   ],
   "metadata": {}
  },
  {
   "cell_type": "markdown",
   "source": [
    "### Step 2: After finishing your models, display the accuracy scores achieved by each model, and compare the results."
   ],
   "metadata": {}
  },
  {
   "cell_type": "code",
   "execution_count": 143,
   "source": [
    "print(\"Original Model Results\")\r\n",
    "\r\n",
    "# Evaluate the model loss and accuracy metrics using the evaluate method and the test data\r\n",
    "model_loss, model_accuracy = nn.evaluate(X_test_scaled, y_test, verbose=True)\r\n",
    "\r\n",
    "# Display the model loss and accuracy results\r\n",
    "print(f\"Loss: {model_loss}, Accuracy: {model_accuracy}\")"
   ],
   "outputs": [
    {
     "output_type": "stream",
     "name": "stdout",
     "text": [
      "Original Model Results\n",
      "98/98 [==============================] - 0s 453us/step - loss: 0.1345 - accuracy: 0.9093\n",
      "Loss: 0.13447873294353485, Accuracy: 0.9092658162117004\n"
     ]
    }
   ],
   "metadata": {}
  },
  {
   "cell_type": "code",
   "execution_count": 144,
   "source": [
    "print(\"Alternative Model 1 Results\")\r\n",
    "\r\n",
    "# Evaluate the model loss and accuracy metrics using the evaluate method and the test data\r\n",
    "model_loss, model_accuracy = nn_A1.evaluate(X_test_scaled, y_test, verbose=True)\r\n",
    "\r\n",
    "# Display the model loss and accuracy results\r\n",
    "print(f\"Loss: {model_loss}, Accuracy: {model_accuracy}\")"
   ],
   "outputs": [
    {
     "output_type": "stream",
     "name": "stdout",
     "text": [
      "Alternative Model 1 Results\n",
      "98/98 [==============================] - 0s 453us/step - loss: 0.1360 - accuracy: 0.9093\n",
      "Loss: 0.13600440323352814, Accuracy: 0.9092658162117004\n"
     ]
    }
   ],
   "metadata": {}
  },
  {
   "cell_type": "code",
   "execution_count": 145,
   "source": [
    "print(\"Alternative Model 2 Results\")\r\n",
    "\r\n",
    "# Evaluate the model loss and accuracy metrics using the evaluate method and the test data\r\n",
    "model_loss, model_accuracy = nn_A2.evaluate(X_test_scaled, y_test, verbose=True)\r\n",
    "\r\n",
    "# Display the model loss and accuracy results\r\n",
    "print(f\"Loss: {model_loss}, Accuracy: {model_accuracy}\")"
   ],
   "outputs": [
    {
     "output_type": "stream",
     "name": "stdout",
     "text": [
      "Alternative Model 2 Results\n",
      "98/98 [==============================] - 0s 454us/step - loss: 0.1478 - accuracy: 0.9208\n",
      "Loss: 0.14776276051998138, Accuracy: 0.920807957649231\n"
     ]
    }
   ],
   "metadata": {}
  },
  {
   "cell_type": "code",
   "execution_count": 146,
   "source": [
    "print(\"Alternative Model 3 Results\")\r\n",
    "\r\n",
    "# Evaluate the model loss and accuracy metrics using the evaluate method and the test data\r\n",
    "model_loss, model_accuracy = nn_A3.evaluate(X_pca_test, y_pca_test, verbose=True)\r\n",
    "\r\n",
    "# Display the model loss and accuracy results\r\n",
    "print(f\"Loss: {model_loss}, Accuracy: {model_accuracy}\")"
   ],
   "outputs": [
    {
     "output_type": "stream",
     "name": "stdout",
     "text": [
      "Alternative Model 3 Results\n",
      "98/98 [==============================] - 0s 453us/step - loss: 0.1371 - accuracy: 0.9093\n",
      "Loss: 0.1371040642261505, Accuracy: 0.9092658162117004\n"
     ]
    }
   ],
   "metadata": {}
  },
  {
   "cell_type": "markdown",
   "source": [
    "### Run different numbers of epochs on best model"
   ],
   "metadata": {}
  },
  {
   "cell_type": "code",
   "execution_count": 147,
   "source": [
    "# Fit the model using the training data with different numbers of epochs\r\n",
    "model_list = []\r\n",
    "for n in range(50, 151, 20):\r\n",
    "    print(f'Fitting model, epochs: {n}')\r\n",
    "    model_list.append(nn_A1.fit(X_train_scaled, y_train, epochs=50, verbose=False))\r\n",
    "#     model_A1 = nn_A1.fit(X_train_scaled, y_train, epochs=50, verbose=False)\r\n",
    "\r\n",
    "    # Evaluate the model loss and accuracy metrics using the evaluate method and the test data\r\n",
    "    model_loss, model_accuracy = nn_A1.evaluate(X_test_scaled, y_test, verbose=True)\r\n",
    "    # Display the model loss and accuracy results\r\n",
    "    print(f\"Loss: {model_loss}, Accuracy: {model_accuracy}\")    "
   ],
   "outputs": [
    {
     "output_type": "stream",
     "name": "stdout",
     "text": [
      "Fitting model, epochs: 50\n",
      "98/98 [==============================] - 0s 577us/step - loss: 0.1376 - accuracy: 0.9089\n",
      "Loss: 0.1375582218170166, Accuracy: 0.9089452028274536\n",
      "Fitting model, epochs: 70\n",
      "98/98 [==============================] - 0s 536us/step - loss: 0.1373 - accuracy: 0.9089\n",
      "Loss: 0.13726970553398132, Accuracy: 0.9089452028274536\n",
      "Fitting model, epochs: 90\n",
      "98/98 [==============================] - 0s 412us/step - loss: 0.1378 - accuracy: 0.9093\n",
      "Loss: 0.13777804374694824, Accuracy: 0.9092658162117004\n",
      "Fitting model, epochs: 110\n",
      "98/98 [==============================] - 0s 494us/step - loss: 0.1367 - accuracy: 0.9089\n",
      "Loss: 0.1366748958826065, Accuracy: 0.9089452028274536\n",
      "Fitting model, epochs: 130\n",
      "98/98 [==============================] - 0s 496us/step - loss: 0.1379 - accuracy: 0.9089\n",
      "Loss: 0.13788405060768127, Accuracy: 0.9089452028274536\n",
      "Fitting model, epochs: 150\n",
      "98/98 [==============================] - 0s 454us/step - loss: 0.1384 - accuracy: 0.9093\n",
      "Loss: 0.13837414979934692, Accuracy: 0.9092658162117004\n"
     ]
    }
   ],
   "metadata": {}
  },
  {
   "cell_type": "code",
   "execution_count": 148,
   "source": [
    "# for model in model_list:\r\n",
    "#     pass\r\n",
    "#     print(model.history)\r\n",
    "    # Evaluate the model loss and accuracy metrics using the evaluate method and the test data\r\n",
    "#     model_loss, model_accuracy = nn.evaluate(X_test_scaled, y_test, verbose=True)\r\n",
    "    # Display the model loss and accuracy results\r\n",
    "#     print(f\"Loss: {model_loss}, Accuracy: {model_accuracy}\")    "
   ],
   "outputs": [],
   "metadata": {}
  },
  {
   "cell_type": "markdown",
   "source": [
    "### Step 3: Save each of your alternative models as an HDF5 file.\n"
   ],
   "metadata": {}
  },
  {
   "cell_type": "code",
   "execution_count": 149,
   "source": [
    "# Set the file path for the first alternative model\r\n",
    "file_path_A1 = Path('Resources/AlphabetSoup_A1.h5')\r\n",
    "\r\n",
    "# Export your model to a HDF5 file\r\n",
    "# nn_A1.save(file_path_A1)\r\n"
   ],
   "outputs": [],
   "metadata": {}
  },
  {
   "cell_type": "code",
   "execution_count": 150,
   "source": [
    "# Set the file path for the second alternative model\r\n",
    "file_path_A2 = Path('Resources/AlphabetSoup_A2.h5')\r\n",
    "\r\n",
    "# Export your model to a HDF5 file\r\n",
    "# nn_A2.save(file_path_A2)\r\n"
   ],
   "outputs": [],
   "metadata": {}
  },
  {
   "cell_type": "code",
   "execution_count": 151,
   "source": [
    "# # Set the file path for the third alternative model\r\n",
    "file_path_A3 = Path('Resources/AlphabetSoup_A3.h5')\r\n",
    "\r\n",
    "# # Export your model to a HDF5 file\r\n",
    "# nn_A3.save(file_path_A3)\r\n"
   ],
   "outputs": [],
   "metadata": {}
  }
 ],
 "metadata": {
  "orig_nbformat": 4,
  "language_info": {
   "name": "python",
   "version": "3.7.10",
   "mimetype": "text/x-python",
   "codemirror_mode": {
    "name": "ipython",
    "version": 3
   },
   "pygments_lexer": "ipython3",
   "nbconvert_exporter": "python",
   "file_extension": ".py"
  },
  "kernelspec": {
   "name": "python3",
   "display_name": "Python 3.7.10 64-bit ('algo': conda)"
  },
  "interpreter": {
   "hash": "d4156aaab05991101c6a751683038476f3e64298aad0394e408e9e53044404ee"
  }
 },
 "nbformat": 4,
 "nbformat_minor": 2
}