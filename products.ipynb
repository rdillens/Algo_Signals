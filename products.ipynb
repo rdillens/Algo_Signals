{
 "cells": [
  {
   "cell_type": "code",
   "execution_count": 6,
   "source": [
    "import sqlalchemy\r\n",
    "import pandas as pd"
   ],
   "outputs": [],
   "metadata": {}
  },
  {
   "cell_type": "code",
   "execution_count": 7,
   "source": [
    "db_connection_string = 'sqlite:///./Resources/products.db'\r\n",
    "engine  = sqlalchemy.create_engine(db_connection_string)\r\n",
    "\r\n",
    "inspector = sqlalchemy.inspect(engine)\r\n",
    "table_names = inspector.get_table_names()\r\n",
    "print(table_names)"
   ],
   "outputs": [
    {
     "output_type": "stream",
     "name": "stdout",
     "text": [
      "['MSFT_1_Day_Candles', 'MSFT_1_Min_Candles', 'MSFT_Info', 'Stock_Company_Info']\n"
     ]
    }
   ],
   "metadata": {}
  },
  {
   "cell_type": "code",
   "execution_count": 8,
   "source": [
    "# Update table names by looking at the list created above\r\n",
    "# MSFT was used to create the example, replace it with the symbol you used\r\n",
    "daily_df = pd.read_sql_table(\r\n",
    "    'MSFT_1_Day_Candles', \r\n",
    "    con=engine, \r\n",
    "    index_col='Datetime',\r\n",
    "    )\r\n",
    "minutely_df = pd.read_sql_table('MSFT_1_Min_Candles', con=engine, index_col='Datetime')"
   ],
   "outputs": [],
   "metadata": {}
  },
  {
   "cell_type": "code",
   "execution_count": 9,
   "source": [
    "print(daily_df.tail())"
   ],
   "outputs": [
    {
     "output_type": "stream",
     "name": "stdout",
     "text": [
      "                  Open        High         Low       Close    Volume\n",
      "Datetime                                                            \n",
      "2021-09-27  296.140015  296.470001  292.940002  294.170013  23571700\n",
      "2021-09-28  289.799988  290.779999  282.750000  283.519989  43186200\n",
      "2021-09-29  285.100006  286.769989  283.010010  284.000000  26353700\n",
      "2021-09-30  285.709991  287.829987  281.619995  281.920013  32325800\n",
      "2021-10-01  282.122009  287.470001  281.309998  287.073608  15904620\n"
     ]
    }
   ],
   "metadata": {}
  },
  {
   "cell_type": "code",
   "execution_count": 10,
   "source": [
    "print(minutely_df.tail())"
   ],
   "outputs": [
    {
     "output_type": "stream",
     "name": "stdout",
     "text": [
      "                        Open    High       Low     Close  Volume\n",
      "Datetime                                                        \n",
      "2021-10-01 12:57:00  287.170  287.18  287.0651  287.1300   19638\n",
      "2021-10-01 12:58:00  287.125  287.22  287.0400  287.1000   28076\n",
      "2021-10-01 12:59:00  287.095  287.14  287.0001  287.0621   21452\n",
      "2021-10-01 13:00:00  287.080  287.18  287.0800  287.1250   36937\n",
      "2021-10-01 13:01:00  287.110  287.14  287.0100  287.0850   50255\n"
     ]
    }
   ],
   "metadata": {}
  }
 ],
 "metadata": {
  "orig_nbformat": 4,
  "language_info": {
   "name": "python",
   "version": "3.7.10",
   "mimetype": "text/x-python",
   "codemirror_mode": {
    "name": "ipython",
    "version": 3
   },
   "pygments_lexer": "ipython3",
   "nbconvert_exporter": "python",
   "file_extension": ".py"
  },
  "kernelspec": {
   "name": "python3",
   "display_name": "Python 3.7.10 64-bit ('algo': conda)"
  },
  "interpreter": {
   "hash": "d4156aaab05991101c6a751683038476f3e64298aad0394e408e9e53044404ee"
  }
 },
 "nbformat": 4,
 "nbformat_minor": 2
}