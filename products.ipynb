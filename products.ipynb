{
 "cells": [
  {
   "cell_type": "code",
   "execution_count": 7,
   "source": [
    "import sqlalchemy\r\n",
    "import pandas as pd\r\n",
    "\r\n"
   ],
   "outputs": [],
   "metadata": {}
  },
  {
   "cell_type": "code",
   "execution_count": 8,
   "source": [
    "db_connection_string = 'sqlite:///./Resources/products.db'\r\n",
    "engine  = sqlalchemy.create_engine(db_connection_string)\r\n",
    "\r\n",
    "inspector = sqlalchemy.inspect(engine)\r\n",
    "table_names = inspector.get_table_names()\r\n",
    "print(table_names)"
   ],
   "outputs": [
    {
     "output_type": "stream",
     "name": "stdout",
     "text": [
      "['Stock_Company_Info']\n"
     ]
    }
   ],
   "metadata": {}
  },
  {
   "cell_type": "code",
   "execution_count": 10,
   "source": [
    "df = pd.read_sql_table(table_names[0], con=engine)"
   ],
   "outputs": [],
   "metadata": {}
  },
  {
   "cell_type": "code",
   "execution_count": 11,
   "source": [
    "print(df.head())"
   ],
   "outputs": [
    {
     "output_type": "stream",
     "name": "stdout",
     "text": [
      "   index symbol         zip              sector  fullTimeEmployees  \\\n",
      "0      0      A       95051          Healthcare            16400.0   \n",
      "1      1     AA  15212-5858     Basic Materials            12900.0   \n",
      "2      2  AAALF       65189                                 2998.0   \n",
      "3      3   AABB  89169-2930     Basic Materials               42.0   \n",
      "4      4  AABVF     M5H 2M5  Financial Services                1.0   \n",
      "\n",
      "                                 longBusinessSummary         city  \\\n",
      "0  Agilent Technologies, Inc. provides applicatio...  Santa Clara   \n",
      "1  Alcoa Corporation, together with its subsidiar...   Pittsburgh   \n",
      "2  Aareal Bank AG, together with its subsidiaries...    Wiesbaden   \n",
      "3  Asia Broadband, Inc., through its subsidiary, ...    Las Vegas   \n",
      "4  Aberdeen International Inc., together with its...      Toronto   \n",
      "\n",
      "          phone state        country  ... fiftyTwoWeekLow     bid  tradeable  \\\n",
      "0  800 227 9770    CA  United States  ...       99.810000  156.12      False   \n",
      "1  412-315-2900    PA  United States  ...       10.980000    48.5      False   \n",
      "2  49 611 348 0  None        Germany  ...       13.510500    None      False   \n",
      "3  702 866 9054    NV  United States  ...        0.002543       0      False   \n",
      "4  416 861 5882    ON         Canada  ...        0.020000       0      False   \n",
      "\n",
      "  dividendYield bidSize  dayHigh regularMarketPrice  \\\n",
      "0        0.0045  1200.0  162.480            157.530   \n",
      "1           NaN   900.0   50.470             48.940   \n",
      "2           NaN     NaN   24.500             24.500   \n",
      "3           NaN     0.0    0.114              0.113   \n",
      "4           NaN     0.0    0.123              0.123   \n",
      "\n",
      "                                            logo_url              fax  \\\n",
      "0              https://logo.clearbit.com/agilent.com     866 497 1134   \n",
      "1                https://logo.clearbit.com/alcoa.com             None   \n",
      "2          https://logo.clearbit.com/aareal-bank.com  49 611 348 2549   \n",
      "3     https://logo.clearbit.com/asiabroadbandinc.com             None   \n",
      "4  https://logo.clearbit.com/aberdeeninternationa...     416 861 8165   \n",
      "\n",
      "   trailingPE  \n",
      "0   60.658455  \n",
      "1         NaN  \n",
      "2         NaN  \n",
      "3         NaN  \n",
      "4    4.392857  \n",
      "\n",
      "[5 rows x 155 columns]\n"
     ]
    }
   ],
   "metadata": {}
  }
 ],
 "metadata": {
  "orig_nbformat": 4,
  "language_info": {
   "name": "python",
   "version": "3.7.10",
   "mimetype": "text/x-python",
   "codemirror_mode": {
    "name": "ipython",
    "version": 3
   },
   "pygments_lexer": "ipython3",
   "nbconvert_exporter": "python",
   "file_extension": ".py"
  },
  "kernelspec": {
   "name": "python3",
   "display_name": "Python 3.7.10 64-bit ('algo': conda)"
  },
  "interpreter": {
   "hash": "d4156aaab05991101c6a751683038476f3e64298aad0394e408e9e53044404ee"
  }
 },
 "nbformat": 4,
 "nbformat_minor": 2
}